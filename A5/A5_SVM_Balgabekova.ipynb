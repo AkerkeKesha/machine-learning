{
 "cells": [
  {
   "cell_type": "markdown",
   "metadata": {},
   "source": [
    "Построение SVM и выбор оптимального ядра.\n",
    "Цель: Цель данного ДЗ - \"потрогать\" алгоритм SVM на практике. Возьмите один из двух датасетов (или выберете свой) и попробуйте получить на нем максимальные метрики качества, используя алгоритм SVM. Проведите сравнение с Логистической регрессией. Используйте техники Feature Preprocessing, изученные ранее. \n",
    "Два датасета: \n",
    "1) https://archive.ics.uci.edu/ml/datasets/IDA2016Challenge \n",
    "2) https://www.kaggle.com/c/bnp-paribas-cardif-claims-management/overview \n",
    "С обоими датасетами вы уже знакомы - один был в ДЗб другой на лекции про Feature Preprocessing.\n"
   ]
  },
  {
   "cell_type": "markdown",
   "metadata": {},
   "source": [
    "1) Возьмите датасет, выполните предобработку\n"
   ]
  },
  {
   "cell_type": "markdown",
   "metadata": {},
   "source": [
    "## EDA"
   ]
  },
  {
   "cell_type": "code",
   "execution_count": 2,
   "metadata": {},
   "outputs": [],
   "source": [
    "import pandas as pd\n",
    "import numpy as np\n",
    "import seaborn as sns\n",
    "import matplotlib.pyplot as plt\n",
    "\n",
    "from sklearn.linear_model import LogisticRegression\n",
    "from sklearn.neighbors import KNeighborsClassifier\n",
    "from sklearn import svm\n",
    "\n",
    "plt.style.use('ggplot')\n",
    "%matplotlib inline\n",
    "\n",
    "import warnings\n",
    "warnings.filterwarnings(\"ignore\")"
   ]
  },
  {
   "cell_type": "code",
   "execution_count": 3,
   "metadata": {},
   "outputs": [],
   "source": [
    "data = pd.read_csv('./data/train.csv')"
   ]
  },
  {
   "cell_type": "code",
   "execution_count": 3,
   "metadata": {},
   "outputs": [
    {
     "data": {
      "text/plain": [
       "(114321, 133)"
      ]
     },
     "execution_count": 3,
     "metadata": {},
     "output_type": "execute_result"
    }
   ],
   "source": [
    "data.shape"
   ]
  },
  {
   "cell_type": "code",
   "execution_count": 4,
   "metadata": {},
   "outputs": [
    {
     "data": {
      "text/html": [
       "<div>\n",
       "<style scoped>\n",
       "    .dataframe tbody tr th:only-of-type {\n",
       "        vertical-align: middle;\n",
       "    }\n",
       "\n",
       "    .dataframe tbody tr th {\n",
       "        vertical-align: top;\n",
       "    }\n",
       "\n",
       "    .dataframe thead th {\n",
       "        text-align: right;\n",
       "    }\n",
       "</style>\n",
       "<table border=\"1\" class=\"dataframe\">\n",
       "  <thead>\n",
       "    <tr style=\"text-align: right;\">\n",
       "      <th></th>\n",
       "      <th>ID</th>\n",
       "      <th>target</th>\n",
       "      <th>v1</th>\n",
       "      <th>v2</th>\n",
       "      <th>v3</th>\n",
       "      <th>v4</th>\n",
       "      <th>v5</th>\n",
       "      <th>v6</th>\n",
       "      <th>v7</th>\n",
       "      <th>v8</th>\n",
       "      <th>...</th>\n",
       "      <th>v122</th>\n",
       "      <th>v123</th>\n",
       "      <th>v124</th>\n",
       "      <th>v125</th>\n",
       "      <th>v126</th>\n",
       "      <th>v127</th>\n",
       "      <th>v128</th>\n",
       "      <th>v129</th>\n",
       "      <th>v130</th>\n",
       "      <th>v131</th>\n",
       "    </tr>\n",
       "  </thead>\n",
       "  <tbody>\n",
       "    <tr>\n",
       "      <th>0</th>\n",
       "      <td>3</td>\n",
       "      <td>1</td>\n",
       "      <td>1.335739</td>\n",
       "      <td>8.727474</td>\n",
       "      <td>C</td>\n",
       "      <td>3.921026</td>\n",
       "      <td>7.915266</td>\n",
       "      <td>2.599278</td>\n",
       "      <td>3.176895</td>\n",
       "      <td>0.012941</td>\n",
       "      <td>...</td>\n",
       "      <td>8.000000</td>\n",
       "      <td>1.989780</td>\n",
       "      <td>0.035754</td>\n",
       "      <td>AU</td>\n",
       "      <td>1.804126</td>\n",
       "      <td>3.113719</td>\n",
       "      <td>2.024285</td>\n",
       "      <td>0</td>\n",
       "      <td>0.636365</td>\n",
       "      <td>2.857144</td>\n",
       "    </tr>\n",
       "    <tr>\n",
       "      <th>1</th>\n",
       "      <td>4</td>\n",
       "      <td>1</td>\n",
       "      <td>NaN</td>\n",
       "      <td>NaN</td>\n",
       "      <td>C</td>\n",
       "      <td>NaN</td>\n",
       "      <td>9.191265</td>\n",
       "      <td>NaN</td>\n",
       "      <td>NaN</td>\n",
       "      <td>2.301630</td>\n",
       "      <td>...</td>\n",
       "      <td>NaN</td>\n",
       "      <td>NaN</td>\n",
       "      <td>0.598896</td>\n",
       "      <td>AF</td>\n",
       "      <td>NaN</td>\n",
       "      <td>NaN</td>\n",
       "      <td>1.957825</td>\n",
       "      <td>0</td>\n",
       "      <td>NaN</td>\n",
       "      <td>NaN</td>\n",
       "    </tr>\n",
       "    <tr>\n",
       "      <th>2</th>\n",
       "      <td>5</td>\n",
       "      <td>1</td>\n",
       "      <td>0.943877</td>\n",
       "      <td>5.310079</td>\n",
       "      <td>C</td>\n",
       "      <td>4.410969</td>\n",
       "      <td>5.326159</td>\n",
       "      <td>3.979592</td>\n",
       "      <td>3.928571</td>\n",
       "      <td>0.019645</td>\n",
       "      <td>...</td>\n",
       "      <td>9.333333</td>\n",
       "      <td>2.477596</td>\n",
       "      <td>0.013452</td>\n",
       "      <td>AE</td>\n",
       "      <td>1.773709</td>\n",
       "      <td>3.922193</td>\n",
       "      <td>1.120468</td>\n",
       "      <td>2</td>\n",
       "      <td>0.883118</td>\n",
       "      <td>1.176472</td>\n",
       "    </tr>\n",
       "    <tr>\n",
       "      <th>3</th>\n",
       "      <td>6</td>\n",
       "      <td>1</td>\n",
       "      <td>0.797415</td>\n",
       "      <td>8.304757</td>\n",
       "      <td>C</td>\n",
       "      <td>4.225930</td>\n",
       "      <td>11.627438</td>\n",
       "      <td>2.097700</td>\n",
       "      <td>1.987549</td>\n",
       "      <td>0.171947</td>\n",
       "      <td>...</td>\n",
       "      <td>7.018256</td>\n",
       "      <td>1.812795</td>\n",
       "      <td>0.002267</td>\n",
       "      <td>CJ</td>\n",
       "      <td>1.415230</td>\n",
       "      <td>2.954381</td>\n",
       "      <td>1.990847</td>\n",
       "      <td>1</td>\n",
       "      <td>1.677108</td>\n",
       "      <td>1.034483</td>\n",
       "    </tr>\n",
       "    <tr>\n",
       "      <th>4</th>\n",
       "      <td>8</td>\n",
       "      <td>1</td>\n",
       "      <td>NaN</td>\n",
       "      <td>NaN</td>\n",
       "      <td>C</td>\n",
       "      <td>NaN</td>\n",
       "      <td>NaN</td>\n",
       "      <td>NaN</td>\n",
       "      <td>NaN</td>\n",
       "      <td>NaN</td>\n",
       "      <td>...</td>\n",
       "      <td>NaN</td>\n",
       "      <td>NaN</td>\n",
       "      <td>NaN</td>\n",
       "      <td>Z</td>\n",
       "      <td>NaN</td>\n",
       "      <td>NaN</td>\n",
       "      <td>NaN</td>\n",
       "      <td>0</td>\n",
       "      <td>NaN</td>\n",
       "      <td>NaN</td>\n",
       "    </tr>\n",
       "  </tbody>\n",
       "</table>\n",
       "<p>5 rows × 133 columns</p>\n",
       "</div>"
      ],
      "text/plain": [
       "   ID  target        v1        v2 v3        v4         v5        v6        v7  \\\n",
       "0   3       1  1.335739  8.727474  C  3.921026   7.915266  2.599278  3.176895   \n",
       "1   4       1       NaN       NaN  C       NaN   9.191265       NaN       NaN   \n",
       "2   5       1  0.943877  5.310079  C  4.410969   5.326159  3.979592  3.928571   \n",
       "3   6       1  0.797415  8.304757  C  4.225930  11.627438  2.097700  1.987549   \n",
       "4   8       1       NaN       NaN  C       NaN        NaN       NaN       NaN   \n",
       "\n",
       "         v8    ...         v122      v123      v124  v125      v126      v127  \\\n",
       "0  0.012941    ...     8.000000  1.989780  0.035754    AU  1.804126  3.113719   \n",
       "1  2.301630    ...          NaN       NaN  0.598896    AF       NaN       NaN   \n",
       "2  0.019645    ...     9.333333  2.477596  0.013452    AE  1.773709  3.922193   \n",
       "3  0.171947    ...     7.018256  1.812795  0.002267    CJ  1.415230  2.954381   \n",
       "4       NaN    ...          NaN       NaN       NaN     Z       NaN       NaN   \n",
       "\n",
       "       v128  v129      v130      v131  \n",
       "0  2.024285     0  0.636365  2.857144  \n",
       "1  1.957825     0       NaN       NaN  \n",
       "2  1.120468     2  0.883118  1.176472  \n",
       "3  1.990847     1  1.677108  1.034483  \n",
       "4       NaN     0       NaN       NaN  \n",
       "\n",
       "[5 rows x 133 columns]"
      ]
     },
     "execution_count": 4,
     "metadata": {},
     "output_type": "execute_result"
    }
   ],
   "source": [
    "data.head()"
   ]
  },
  {
   "cell_type": "code",
   "execution_count": 4,
   "metadata": {},
   "outputs": [],
   "source": [
    "data.drop(['ID'], axis=1, inplace=True)"
   ]
  },
  {
   "cell_type": "code",
   "execution_count": 6,
   "metadata": {},
   "outputs": [
    {
     "name": "stdout",
     "output_type": "stream",
     "text": [
      "<class 'pandas.core.frame.DataFrame'>\n",
      "RangeIndex: 114321 entries, 0 to 114320\n",
      "Columns: 132 entries, target to v131\n",
      "dtypes: float64(108), int64(5), object(19)\n",
      "memory usage: 115.1+ MB\n"
     ]
    }
   ],
   "source": [
    "data.info()"
   ]
  },
  {
   "cell_type": "markdown",
   "metadata": {},
   "source": [
    "##### NB: 19  категориальных данных, 113 числовых"
   ]
  },
  {
   "cell_type": "code",
   "execution_count": 7,
   "metadata": {},
   "outputs": [
    {
     "data": {
      "text/html": [
       "<div>\n",
       "<style scoped>\n",
       "    .dataframe tbody tr th:only-of-type {\n",
       "        vertical-align: middle;\n",
       "    }\n",
       "\n",
       "    .dataframe tbody tr th {\n",
       "        vertical-align: top;\n",
       "    }\n",
       "\n",
       "    .dataframe thead th {\n",
       "        text-align: right;\n",
       "    }\n",
       "</style>\n",
       "<table border=\"1\" class=\"dataframe\">\n",
       "  <thead>\n",
       "    <tr style=\"text-align: right;\">\n",
       "      <th></th>\n",
       "      <th>target</th>\n",
       "      <th>v1</th>\n",
       "      <th>v2</th>\n",
       "      <th>v3</th>\n",
       "      <th>v4</th>\n",
       "      <th>v5</th>\n",
       "      <th>v6</th>\n",
       "      <th>v7</th>\n",
       "      <th>v8</th>\n",
       "      <th>v9</th>\n",
       "      <th>...</th>\n",
       "      <th>v122</th>\n",
       "      <th>v123</th>\n",
       "      <th>v124</th>\n",
       "      <th>v125</th>\n",
       "      <th>v126</th>\n",
       "      <th>v127</th>\n",
       "      <th>v128</th>\n",
       "      <th>v129</th>\n",
       "      <th>v130</th>\n",
       "      <th>v131</th>\n",
       "    </tr>\n",
       "  </thead>\n",
       "  <tbody>\n",
       "    <tr>\n",
       "      <th>count</th>\n",
       "      <td>114321.000000</td>\n",
       "      <td>6.448900e+04</td>\n",
       "      <td>6.452500e+04</td>\n",
       "      <td>110864</td>\n",
       "      <td>6.452500e+04</td>\n",
       "      <td>6.569700e+04</td>\n",
       "      <td>6.448900e+04</td>\n",
       "      <td>6.448900e+04</td>\n",
       "      <td>6.570200e+04</td>\n",
       "      <td>6.447000e+04</td>\n",
       "      <td>...</td>\n",
       "      <td>6.447000e+04</td>\n",
       "      <td>63643.000000</td>\n",
       "      <td>6.570200e+04</td>\n",
       "      <td>114244</td>\n",
       "      <td>6.448900e+04</td>\n",
       "      <td>6.448900e+04</td>\n",
       "      <td>6.569700e+04</td>\n",
       "      <td>114321.000000</td>\n",
       "      <td>6.447800e+04</td>\n",
       "      <td>6.442600e+04</td>\n",
       "    </tr>\n",
       "    <tr>\n",
       "      <th>unique</th>\n",
       "      <td>NaN</td>\n",
       "      <td>NaN</td>\n",
       "      <td>NaN</td>\n",
       "      <td>3</td>\n",
       "      <td>NaN</td>\n",
       "      <td>NaN</td>\n",
       "      <td>NaN</td>\n",
       "      <td>NaN</td>\n",
       "      <td>NaN</td>\n",
       "      <td>NaN</td>\n",
       "      <td>...</td>\n",
       "      <td>NaN</td>\n",
       "      <td>NaN</td>\n",
       "      <td>NaN</td>\n",
       "      <td>90</td>\n",
       "      <td>NaN</td>\n",
       "      <td>NaN</td>\n",
       "      <td>NaN</td>\n",
       "      <td>NaN</td>\n",
       "      <td>NaN</td>\n",
       "      <td>NaN</td>\n",
       "    </tr>\n",
       "    <tr>\n",
       "      <th>top</th>\n",
       "      <td>NaN</td>\n",
       "      <td>NaN</td>\n",
       "      <td>NaN</td>\n",
       "      <td>C</td>\n",
       "      <td>NaN</td>\n",
       "      <td>NaN</td>\n",
       "      <td>NaN</td>\n",
       "      <td>NaN</td>\n",
       "      <td>NaN</td>\n",
       "      <td>NaN</td>\n",
       "      <td>...</td>\n",
       "      <td>NaN</td>\n",
       "      <td>NaN</td>\n",
       "      <td>NaN</td>\n",
       "      <td>BM</td>\n",
       "      <td>NaN</td>\n",
       "      <td>NaN</td>\n",
       "      <td>NaN</td>\n",
       "      <td>NaN</td>\n",
       "      <td>NaN</td>\n",
       "      <td>NaN</td>\n",
       "    </tr>\n",
       "    <tr>\n",
       "      <th>freq</th>\n",
       "      <td>NaN</td>\n",
       "      <td>NaN</td>\n",
       "      <td>NaN</td>\n",
       "      <td>110584</td>\n",
       "      <td>NaN</td>\n",
       "      <td>NaN</td>\n",
       "      <td>NaN</td>\n",
       "      <td>NaN</td>\n",
       "      <td>NaN</td>\n",
       "      <td>NaN</td>\n",
       "      <td>...</td>\n",
       "      <td>NaN</td>\n",
       "      <td>NaN</td>\n",
       "      <td>NaN</td>\n",
       "      <td>5759</td>\n",
       "      <td>NaN</td>\n",
       "      <td>NaN</td>\n",
       "      <td>NaN</td>\n",
       "      <td>NaN</td>\n",
       "      <td>NaN</td>\n",
       "      <td>NaN</td>\n",
       "    </tr>\n",
       "    <tr>\n",
       "      <th>mean</th>\n",
       "      <td>0.761199</td>\n",
       "      <td>1.630686e+00</td>\n",
       "      <td>7.464411e+00</td>\n",
       "      <td>NaN</td>\n",
       "      <td>4.145098e+00</td>\n",
       "      <td>8.742359e+00</td>\n",
       "      <td>2.436402e+00</td>\n",
       "      <td>2.483921e+00</td>\n",
       "      <td>1.496569e+00</td>\n",
       "      <td>9.031859e+00</td>\n",
       "      <td>...</td>\n",
       "      <td>6.822439e+00</td>\n",
       "      <td>3.549938</td>\n",
       "      <td>9.198120e-01</td>\n",
       "      <td>NaN</td>\n",
       "      <td>1.672658e+00</td>\n",
       "      <td>3.239542e+00</td>\n",
       "      <td>2.030373e+00</td>\n",
       "      <td>0.310144</td>\n",
       "      <td>1.925763e+00</td>\n",
       "      <td>1.739389e+00</td>\n",
       "    </tr>\n",
       "    <tr>\n",
       "      <th>std</th>\n",
       "      <td>0.426353</td>\n",
       "      <td>1.082813e+00</td>\n",
       "      <td>2.961676e+00</td>\n",
       "      <td>NaN</td>\n",
       "      <td>1.148263e+00</td>\n",
       "      <td>2.036018e+00</td>\n",
       "      <td>5.999653e-01</td>\n",
       "      <td>5.894485e-01</td>\n",
       "      <td>2.783003e+00</td>\n",
       "      <td>1.930262e+00</td>\n",
       "      <td>...</td>\n",
       "      <td>1.795978e+00</td>\n",
       "      <td>2.604704</td>\n",
       "      <td>2.099407e+00</td>\n",
       "      <td>NaN</td>\n",
       "      <td>5.031683e-01</td>\n",
       "      <td>1.625988e+00</td>\n",
       "      <td>1.074232e+00</td>\n",
       "      <td>0.693262</td>\n",
       "      <td>1.264497e+00</td>\n",
       "      <td>1.134702e+00</td>\n",
       "    </tr>\n",
       "    <tr>\n",
       "      <th>min</th>\n",
       "      <td>0.000000</td>\n",
       "      <td>-9.996497e-07</td>\n",
       "      <td>-9.817614e-07</td>\n",
       "      <td>NaN</td>\n",
       "      <td>-6.475929e-07</td>\n",
       "      <td>-5.287068e-07</td>\n",
       "      <td>-9.055091e-07</td>\n",
       "      <td>-9.468765e-07</td>\n",
       "      <td>-7.783778e-07</td>\n",
       "      <td>-9.828757e-07</td>\n",
       "      <td>...</td>\n",
       "      <td>-9.978497e-07</td>\n",
       "      <td>0.019139</td>\n",
       "      <td>-9.994953e-07</td>\n",
       "      <td>NaN</td>\n",
       "      <td>-9.564174e-07</td>\n",
       "      <td>-9.223798e-07</td>\n",
       "      <td>8.197812e-07</td>\n",
       "      <td>0.000000</td>\n",
       "      <td>-9.901257e-07</td>\n",
       "      <td>-9.999134e-07</td>\n",
       "    </tr>\n",
       "    <tr>\n",
       "      <th>25%</th>\n",
       "      <td>1.000000</td>\n",
       "      <td>9.135798e-01</td>\n",
       "      <td>5.316428e+00</td>\n",
       "      <td>NaN</td>\n",
       "      <td>3.487398e+00</td>\n",
       "      <td>7.605918e+00</td>\n",
       "      <td>2.065064e+00</td>\n",
       "      <td>2.101477e+00</td>\n",
       "      <td>8.658986e-02</td>\n",
       "      <td>7.853659e+00</td>\n",
       "      <td>...</td>\n",
       "      <td>5.647712e+00</td>\n",
       "      <td>1.963315</td>\n",
       "      <td>2.053777e-02</td>\n",
       "      <td>NaN</td>\n",
       "      <td>1.417600e+00</td>\n",
       "      <td>2.101900e+00</td>\n",
       "      <td>1.393830e+00</td>\n",
       "      <td>0.000000</td>\n",
       "      <td>1.106172e+00</td>\n",
       "      <td>1.012658e+00</td>\n",
       "    </tr>\n",
       "    <tr>\n",
       "      <th>50%</th>\n",
       "      <td>1.000000</td>\n",
       "      <td>1.469550e+00</td>\n",
       "      <td>7.023803e+00</td>\n",
       "      <td>NaN</td>\n",
       "      <td>4.205991e+00</td>\n",
       "      <td>8.670867e+00</td>\n",
       "      <td>2.412790e+00</td>\n",
       "      <td>2.452166e+00</td>\n",
       "      <td>3.860317e-01</td>\n",
       "      <td>9.059582e+00</td>\n",
       "      <td>...</td>\n",
       "      <td>6.749117e+00</td>\n",
       "      <td>2.739239</td>\n",
       "      <td>1.398639e-01</td>\n",
       "      <td>NaN</td>\n",
       "      <td>1.614802e+00</td>\n",
       "      <td>2.963620e+00</td>\n",
       "      <td>1.798436e+00</td>\n",
       "      <td>0.000000</td>\n",
       "      <td>1.560138e+00</td>\n",
       "      <td>1.589403e+00</td>\n",
       "    </tr>\n",
       "    <tr>\n",
       "      <th>75%</th>\n",
       "      <td>1.000000</td>\n",
       "      <td>2.136128e+00</td>\n",
       "      <td>9.465497e+00</td>\n",
       "      <td>NaN</td>\n",
       "      <td>4.833250e+00</td>\n",
       "      <td>9.771353e+00</td>\n",
       "      <td>2.775285e+00</td>\n",
       "      <td>2.834285e+00</td>\n",
       "      <td>1.625246e+00</td>\n",
       "      <td>1.023256e+01</td>\n",
       "      <td>...</td>\n",
       "      <td>7.911392e+00</td>\n",
       "      <td>4.075361</td>\n",
       "      <td>8.718333e-01</td>\n",
       "      <td>NaN</td>\n",
       "      <td>1.843886e+00</td>\n",
       "      <td>4.108146e+00</td>\n",
       "      <td>2.390158e+00</td>\n",
       "      <td>0.000000</td>\n",
       "      <td>2.332425e+00</td>\n",
       "      <td>2.261905e+00</td>\n",
       "    </tr>\n",
       "    <tr>\n",
       "      <th>max</th>\n",
       "      <td>1.000000</td>\n",
       "      <td>2.000000e+01</td>\n",
       "      <td>2.000000e+01</td>\n",
       "      <td>NaN</td>\n",
       "      <td>2.000000e+01</td>\n",
       "      <td>2.000000e+01</td>\n",
       "      <td>2.000000e+01</td>\n",
       "      <td>2.000000e+01</td>\n",
       "      <td>2.000000e+01</td>\n",
       "      <td>2.000000e+01</td>\n",
       "      <td>...</td>\n",
       "      <td>2.000000e+01</td>\n",
       "      <td>19.686069</td>\n",
       "      <td>2.000000e+01</td>\n",
       "      <td>NaN</td>\n",
       "      <td>1.563161e+01</td>\n",
       "      <td>2.000000e+01</td>\n",
       "      <td>2.000000e+01</td>\n",
       "      <td>11.000000</td>\n",
       "      <td>2.000000e+01</td>\n",
       "      <td>2.000000e+01</td>\n",
       "    </tr>\n",
       "  </tbody>\n",
       "</table>\n",
       "<p>11 rows × 132 columns</p>\n",
       "</div>"
      ],
      "text/plain": [
       "               target            v1            v2      v3            v4  \\\n",
       "count   114321.000000  6.448900e+04  6.452500e+04  110864  6.452500e+04   \n",
       "unique            NaN           NaN           NaN       3           NaN   \n",
       "top               NaN           NaN           NaN       C           NaN   \n",
       "freq              NaN           NaN           NaN  110584           NaN   \n",
       "mean         0.761199  1.630686e+00  7.464411e+00     NaN  4.145098e+00   \n",
       "std          0.426353  1.082813e+00  2.961676e+00     NaN  1.148263e+00   \n",
       "min          0.000000 -9.996497e-07 -9.817614e-07     NaN -6.475929e-07   \n",
       "25%          1.000000  9.135798e-01  5.316428e+00     NaN  3.487398e+00   \n",
       "50%          1.000000  1.469550e+00  7.023803e+00     NaN  4.205991e+00   \n",
       "75%          1.000000  2.136128e+00  9.465497e+00     NaN  4.833250e+00   \n",
       "max          1.000000  2.000000e+01  2.000000e+01     NaN  2.000000e+01   \n",
       "\n",
       "                  v5            v6            v7            v8            v9  \\\n",
       "count   6.569700e+04  6.448900e+04  6.448900e+04  6.570200e+04  6.447000e+04   \n",
       "unique           NaN           NaN           NaN           NaN           NaN   \n",
       "top              NaN           NaN           NaN           NaN           NaN   \n",
       "freq             NaN           NaN           NaN           NaN           NaN   \n",
       "mean    8.742359e+00  2.436402e+00  2.483921e+00  1.496569e+00  9.031859e+00   \n",
       "std     2.036018e+00  5.999653e-01  5.894485e-01  2.783003e+00  1.930262e+00   \n",
       "min    -5.287068e-07 -9.055091e-07 -9.468765e-07 -7.783778e-07 -9.828757e-07   \n",
       "25%     7.605918e+00  2.065064e+00  2.101477e+00  8.658986e-02  7.853659e+00   \n",
       "50%     8.670867e+00  2.412790e+00  2.452166e+00  3.860317e-01  9.059582e+00   \n",
       "75%     9.771353e+00  2.775285e+00  2.834285e+00  1.625246e+00  1.023256e+01   \n",
       "max     2.000000e+01  2.000000e+01  2.000000e+01  2.000000e+01  2.000000e+01   \n",
       "\n",
       "            ...               v122          v123          v124    v125  \\\n",
       "count       ...       6.447000e+04  63643.000000  6.570200e+04  114244   \n",
       "unique      ...                NaN           NaN           NaN      90   \n",
       "top         ...                NaN           NaN           NaN      BM   \n",
       "freq        ...                NaN           NaN           NaN    5759   \n",
       "mean        ...       6.822439e+00      3.549938  9.198120e-01     NaN   \n",
       "std         ...       1.795978e+00      2.604704  2.099407e+00     NaN   \n",
       "min         ...      -9.978497e-07      0.019139 -9.994953e-07     NaN   \n",
       "25%         ...       5.647712e+00      1.963315  2.053777e-02     NaN   \n",
       "50%         ...       6.749117e+00      2.739239  1.398639e-01     NaN   \n",
       "75%         ...       7.911392e+00      4.075361  8.718333e-01     NaN   \n",
       "max         ...       2.000000e+01     19.686069  2.000000e+01     NaN   \n",
       "\n",
       "                v126          v127          v128           v129          v130  \\\n",
       "count   6.448900e+04  6.448900e+04  6.569700e+04  114321.000000  6.447800e+04   \n",
       "unique           NaN           NaN           NaN            NaN           NaN   \n",
       "top              NaN           NaN           NaN            NaN           NaN   \n",
       "freq             NaN           NaN           NaN            NaN           NaN   \n",
       "mean    1.672658e+00  3.239542e+00  2.030373e+00       0.310144  1.925763e+00   \n",
       "std     5.031683e-01  1.625988e+00  1.074232e+00       0.693262  1.264497e+00   \n",
       "min    -9.564174e-07 -9.223798e-07  8.197812e-07       0.000000 -9.901257e-07   \n",
       "25%     1.417600e+00  2.101900e+00  1.393830e+00       0.000000  1.106172e+00   \n",
       "50%     1.614802e+00  2.963620e+00  1.798436e+00       0.000000  1.560138e+00   \n",
       "75%     1.843886e+00  4.108146e+00  2.390158e+00       0.000000  2.332425e+00   \n",
       "max     1.563161e+01  2.000000e+01  2.000000e+01      11.000000  2.000000e+01   \n",
       "\n",
       "                v131  \n",
       "count   6.442600e+04  \n",
       "unique           NaN  \n",
       "top              NaN  \n",
       "freq             NaN  \n",
       "mean    1.739389e+00  \n",
       "std     1.134702e+00  \n",
       "min    -9.999134e-07  \n",
       "25%     1.012658e+00  \n",
       "50%     1.589403e+00  \n",
       "75%     2.261905e+00  \n",
       "max     2.000000e+01  \n",
       "\n",
       "[11 rows x 132 columns]"
      ]
     },
     "execution_count": 7,
     "metadata": {},
     "output_type": "execute_result"
    }
   ],
   "source": [
    "data.describe(include='all')"
   ]
  },
  {
   "cell_type": "code",
   "execution_count": 8,
   "metadata": {},
   "outputs": [
    {
     "data": {
      "text/plain": [
       "<matplotlib.axes._subplots.AxesSubplot at 0x10a2edf98>"
      ]
     },
     "execution_count": 8,
     "metadata": {},
     "output_type": "execute_result"
    },
    {
     "data": {
      "image/png": "[encoded data removed]",
      "text/plain": [
       "<matplotlib.figure.Figure at 0x1a15085cc0>"
      ]
     },
     "metadata": {},
     "output_type": "display_data"
    }
   ],
   "source": [
    "data['target'].value_counts().plot.bar()"
   ]
  },
  {
   "cell_type": "markdown",
   "metadata": {},
   "source": [
    "######  Распределение целевой переменной - несбалансированное"
   ]
  },
  {
   "cell_type": "markdown",
   "metadata": {},
   "source": [
    "#### NAN значение: ТОП 30 признаков с наибольшими пустыми данными"
   ]
  },
  {
   "cell_type": "code",
   "execution_count": 9,
   "metadata": {},
   "outputs": [
    {
     "data": {
      "text/plain": [
       "<matplotlib.axes._subplots.AxesSubplot at 0x1a144f8198>"
      ]
     },
     "execution_count": 9,
     "metadata": {},
     "output_type": "execute_result"
    },
    {
     "data": {
      "image/png": "[encoded data removed]",
      "text/plain": [
       "<matplotlib.figure.Figure at 0x10a2ed048>"
      ]
     },
     "metadata": {},
     "output_type": "display_data"
    }
   ],
   "source": [
    "nan_vals = data.isnull().sum()/data.shape[0]*100\n",
    "nan_vals.sort_values(ascending=False)[:30].plot.bar()"
   ]
  },
  {
   "cell_type": "code",
   "execution_count": 10,
   "metadata": {},
   "outputs": [
    {
     "data": {
      "text/plain": [
       "<matplotlib.axes._subplots.AxesSubplot at 0x1a145ca748>"
      ]
     },
     "execution_count": 10,
     "metadata": {},
     "output_type": "execute_result"
    },
    {
     "data": {
      "image/png": "[encoded data removed]",
      "text/plain": [
       "<matplotlib.figure.Figure at 0x1a140417f0>"
      ]
     },
     "metadata": {},
     "output_type": "display_data"
    }
   ],
   "source": [
    "sns.heatmap(data.iloc[:,2:30].corr(), cmap=\"Blues\")"
   ]
  },
  {
   "cell_type": "markdown",
   "metadata": {},
   "source": [
    "##### 30 первых признаков имеют сильно скоррелированные данные"
   ]
  },
  {
   "cell_type": "code",
   "execution_count": 11,
   "metadata": {},
   "outputs": [],
   "source": [
    "numeric_types = ['int16','int32','int64','float16','float32','float64']\n",
    "numerical_vars = list(data.select_dtypes(include=numeric_types).columns)\n",
    "object_vars = list(data.select_dtypes(include=[\"object\"]).columns)\n",
    "\n",
    "data_num = data[numerical_vars].copy()\n",
    "data_obj = data[object_vars].copy()"
   ]
  },
  {
   "cell_type": "code",
   "execution_count": 12,
   "metadata": {},
   "outputs": [
    {
     "data": {
      "text/plain": [
       "v3          3\n",
       "v22     18210\n",
       "v24         5\n",
       "v30         7\n",
       "v31         3\n",
       "v47        10\n",
       "v52        12\n",
       "v56       122\n",
       "v66         3\n",
       "v71         9\n",
       "v74         3\n",
       "v75         4\n",
       "v79        18\n",
       "v91         7\n",
       "v107        7\n",
       "v110        3\n",
       "v112       22\n",
       "v113       36\n",
       "v125       90\n",
       "dtype: int64"
      ]
     },
     "execution_count": 12,
     "metadata": {},
     "output_type": "execute_result"
    }
   ],
   "source": [
    "data_obj.nunique()"
   ]
  },
  {
   "cell_type": "markdown",
   "metadata": {},
   "source": [
    "##### Слишком много категорий у v22"
   ]
  },
  {
   "cell_type": "code",
   "execution_count": 6,
   "metadata": {},
   "outputs": [],
   "source": [
    "from sklearn.model_selection import train_test_split\n",
    "from sklearn.preprocessing import StandardScaler\n",
    "from sklearn.metrics import roc_auc_score, mean_squared_error, \\\n",
    "    accuracy_score, precision_score, recall_score, f1_score\n",
    "\n",
    "# useful functions\n",
    "def data_split_train_test(data, test_size=0.3):\n",
    "    X_train, X_test, y_train, y_test = train_test_split(\n",
    "    data.drop(labels=['target'], axis=1),\n",
    "    data['target'],\n",
    "    test_size=test_size,\n",
    "    stratify=data['target'],\n",
    "    random_state=0)\n",
    "\n",
    "    print(\"Train_shape:\", X_train.shape, \"Test shape:\", X_test.shape)\n",
    "    \n",
    "    return X_train, X_test, y_train, y_test\n",
    "\n",
    "def scale_data(X_train, X_test):\n",
    "    scaler = StandardScaler()\n",
    "    scaler.fit(X_train)\n",
    "    X_train_scaled = scaler.transform(X_train)\n",
    "    X_test_scaled = scaler.transform(X_test)\n",
    "        \n",
    "    return X_train_scaled, X_test_scaled\n",
    "\n",
    "def quality_report(prediction, actual, verbose=False):\n",
    "    report_str = \"Accuracy: \\t {:.3f}\\n\" +\\\n",
    "                 \"Precision: \\t {:.3f}\\n\" +\\\n",
    "                 \"Recall: \\t {:.3f}\\n\" +\\\n",
    "                 \"f1_score: \\t {:.3f}\\n\" +\\\n",
    "                 \"ROC-AUC: \\t {:.3f}\"\n",
    "    \n",
    "    acc = accuracy_score(prediction, actual)\n",
    "    precision = precision_score(prediction, actual)\n",
    "    recall = recall_score(prediction, actual)\n",
    "    f1 = f1_score(prediction, actual)\n",
    "    rocauc = roc_auc_score(prediction, actual)\n",
    "    \n",
    "    quality_list = [acc, precision, recall, f1, rocauc]\n",
    "    \n",
    "    if verbose:\n",
    "        print(\"\\n=== Quality Report ===\")\n",
    "        print(report_str.format(\n",
    "            accuracy_score(prediction, actual),\n",
    "            precision_score(prediction, actual),\n",
    "            recall_score(prediction, actual),\n",
    "            f1_score(prediction, actual),\n",
    "            roc_auc_score(prediction, actual)\n",
    "        ))\n",
    "        print(\"======================\\n\")\n",
    "    \n",
    "    return quality_list"
   ]
  },
  {
   "cell_type": "markdown",
   "metadata": {},
   "source": [
    "### Baseline: Logreg with no NAN only numerical values"
   ]
  },
  {
   "cell_type": "code",
   "execution_count": 14,
   "metadata": {},
   "outputs": [],
   "source": [
    "data_num_no_nan = data_num.dropna()"
   ]
  },
  {
   "cell_type": "code",
   "execution_count": 15,
   "metadata": {},
   "outputs": [
    {
     "name": "stdout",
     "output_type": "stream",
     "text": [
      "Train_shape: (43792, 112) Test shape: (18769, 112)\n"
     ]
    }
   ],
   "source": [
    "X_train, X_test, y_train, y_test = data_split_train_test(data_num_no_nan)"
   ]
  },
  {
   "cell_type": "code",
   "execution_count": 16,
   "metadata": {},
   "outputs": [],
   "source": [
    "X_train_scaled, X_test_scaled = scale_data(X_train, X_test)"
   ]
  },
  {
   "cell_type": "code",
   "execution_count": 17,
   "metadata": {},
   "outputs": [],
   "source": [
    "model_LogR = LogisticRegression(solver=\"liblinear\")\n",
    "model_LogR.fit(X_train_scaled, y_train)\n",
    "pred = model_LogR.predict(X_test_scaled)"
   ]
  },
  {
   "cell_type": "code",
   "execution_count": 18,
   "metadata": {},
   "outputs": [
    {
     "data": {
      "text/html": [
       "<div>\n",
       "<style scoped>\n",
       "    .dataframe tbody tr th:only-of-type {\n",
       "        vertical-align: middle;\n",
       "    }\n",
       "\n",
       "    .dataframe tbody tr th {\n",
       "        vertical-align: top;\n",
       "    }\n",
       "\n",
       "    .dataframe thead th {\n",
       "        text-align: right;\n",
       "    }\n",
       "</style>\n",
       "<table border=\"1\" class=\"dataframe\">\n",
       "  <thead>\n",
       "    <tr style=\"text-align: right;\">\n",
       "      <th></th>\n",
       "      <th>Accuracy</th>\n",
       "      <th>Precision</th>\n",
       "      <th>Recall</th>\n",
       "      <th>F1</th>\n",
       "      <th>ROC-AUC</th>\n",
       "    </tr>\n",
       "  </thead>\n",
       "  <tbody>\n",
       "    <tr>\n",
       "      <th>baseline</th>\n",
       "      <td>0.755</td>\n",
       "      <td>0.996</td>\n",
       "      <td>0.756</td>\n",
       "      <td>0.86</td>\n",
       "      <td>0.648</td>\n",
       "    </tr>\n",
       "  </tbody>\n",
       "</table>\n",
       "</div>"
      ],
      "text/plain": [
       "          Accuracy  Precision  Recall    F1  ROC-AUC\n",
       "baseline     0.755      0.996   0.756  0.86    0.648"
      ]
     },
     "execution_count": 18,
     "metadata": {},
     "output_type": "execute_result"
    }
   ],
   "source": [
    "quality_list_baseline = quality_report(pred, y_test)\n",
    "\n",
    "df_quality = pd.DataFrame(\n",
    "    [quality_list_baseline],\n",
    "    columns=[\"Accuracy\", \"Precision\", \"Recall\", \"F1\", \"ROC-AUC\"],\n",
    "    index=[\"baseline\"]\n",
    ")\n",
    "df_quality.round(3)"
   ]
  },
  {
   "cell_type": "markdown",
   "metadata": {},
   "source": [
    "## Feature engineering\n",
    "- очистить от скоррелированных признаков\n",
    "- заменить NAN медианой\n",
    "- обработать категориальные данные\n",
    "- регуляризация"
   ]
  },
  {
   "cell_type": "code",
   "execution_count": 19,
   "metadata": {},
   "outputs": [],
   "source": [
    "def corr_feature_detect(data, threshold=0.8):\n",
    "    \n",
    "    corrmat = data_num.drop(['target'], axis=1).corr()\n",
    "\n",
    "    corrmat = corrmat.abs().unstack().sort_values(ascending=False)\n",
    "\n",
    "    corrmat = corrmat[corrmat >= threshold]\n",
    "    corrmat = corrmat[corrmat < 1]\n",
    "\n",
    "    corrmat = pd.DataFrame(corrmat).reset_index()\n",
    "    corrmat.columns = ['feature1', 'feature2', 'corr']\n",
    "   \n",
    "    correlated_feats = []\n",
    "\n",
    "    for row in corrmat.values:\n",
    "        f1, f2, corr_value = row\n",
    "\n",
    "        if not ((f1 in correlated_feats) | (f2 in correlated_feats)):\n",
    "            f1_feat_len = corrmat[(corrmat.feature1==f1) | (corrmat.feature2==f1)].shape[0]\n",
    "            f2_feat_len = corrmat[(corrmat.feature1==f2) | (corrmat.feature2==f2)].shape[0]\n",
    "\n",
    "            if f1_feat_len >= f2_feat_len:\n",
    "                correlated_feats.append(f1)\n",
    "            else:\n",
    "                correlated_feats.append(f2)\n",
    "    \n",
    "    return correlated_feats"
   ]
  },
  {
   "cell_type": "code",
   "execution_count": 20,
   "metadata": {},
   "outputs": [
    {
     "name": "stdout",
     "output_type": "stream",
     "text": [
      "30\n"
     ]
    }
   ],
   "source": [
    "data_num_corr_features = corr_feature_detect(data_num, threshold=0.9)\n",
    "print(len(data_num_corr_features))"
   ]
  },
  {
   "cell_type": "code",
   "execution_count": 21,
   "metadata": {},
   "outputs": [],
   "source": [
    "data_num_corr_free = data_num.drop(data_num_corr_features, axis=1)"
   ]
  },
  {
   "cell_type": "code",
   "execution_count": 22,
   "metadata": {},
   "outputs": [],
   "source": [
    "# Data num with no high correlation and no NAN values anymore\n",
    "data_num = data_num_corr_free.fillna(data.median())"
   ]
  },
  {
   "cell_type": "code",
   "execution_count": 23,
   "metadata": {},
   "outputs": [
    {
     "data": {
      "text/plain": [
       "0"
      ]
     },
     "execution_count": 23,
     "metadata": {},
     "output_type": "execute_result"
    }
   ],
   "source": [
    "data_num.isnull().sum().sum()"
   ]
  },
  {
   "cell_type": "code",
   "execution_count": 24,
   "metadata": {},
   "outputs": [
    {
     "data": {
      "text/plain": [
       "((114321, 132), (114321, 83))"
      ]
     },
     "execution_count": 24,
     "metadata": {},
     "output_type": "execute_result"
    }
   ],
   "source": [
    "data.shape, data_num.shape"
   ]
  },
  {
   "cell_type": "code",
   "execution_count": 25,
   "metadata": {},
   "outputs": [],
   "source": [
    "for i in object_vars:\n",
    "    data[i] = data[i].fillna(data[i].mode()[0])"
   ]
  },
  {
   "cell_type": "code",
   "execution_count": 26,
   "metadata": {},
   "outputs": [
    {
     "data": {
      "text/plain": [
       "v3       3457\n",
       "v22       500\n",
       "v24         0\n",
       "v30     60110\n",
       "v31      3457\n",
       "v47         0\n",
       "v52         3\n",
       "v56      6882\n",
       "v66         0\n",
       "v71         0\n",
       "v74         0\n",
       "v75         0\n",
       "v79         0\n",
       "v91         3\n",
       "v107        3\n",
       "v110        0\n",
       "v112      382\n",
       "v113    55304\n",
       "v125       77\n",
       "dtype: int64"
      ]
     },
     "execution_count": 26,
     "metadata": {},
     "output_type": "execute_result"
    }
   ],
   "source": [
    "data_obj.isnull().sum()"
   ]
  },
  {
   "cell_type": "markdown",
   "metadata": {},
   "source": [
    "- не сильно помогла замена, NAN оказался модой "
   ]
  },
  {
   "cell_type": "code",
   "execution_count": 27,
   "metadata": {},
   "outputs": [],
   "source": [
    "freqs = data['v22'].value_counts()\n",
    "top100_v22 = freqs.sort_values(ascending=False)[:100]"
   ]
  },
  {
   "cell_type": "code",
   "execution_count": 28,
   "metadata": {},
   "outputs": [],
   "source": [
    "def get_most_freq(value):\n",
    "    if value in top100_v22:\n",
    "        return value\n",
    "    return 'other'"
   ]
  },
  {
   "cell_type": "code",
   "execution_count": 29,
   "metadata": {},
   "outputs": [],
   "source": [
    "data['v22'] = data['v22'].apply(get_most_freq)"
   ]
  },
  {
   "cell_type": "code",
   "execution_count": 30,
   "metadata": {},
   "outputs": [
    {
     "data": {
      "text/plain": [
       "other    92899\n",
       "AGDF      2886\n",
       "YGJ       2119\n",
       "QKI        668\n",
       "PWR        649\n",
       "HZE        423\n",
       "MNZ        382\n",
       "PTO        350\n",
       "ROZ        344\n",
       "YOD        303\n",
       "GBS        299\n",
       "VZF        296\n",
       "AJQ        252\n",
       "WNI        244\n",
       "HDD        243\n",
       "NRT        238\n",
       "PFR        226\n",
       "YEP        224\n",
       "ADDF       212\n",
       "VVI        211\n",
       "QVR        210\n",
       "WRI        207\n",
       "ABOF       204\n",
       "PSE        199\n",
       "NGS        197\n",
       "ACWE       190\n",
       "TVR        182\n",
       "PTJ        178\n",
       "ADMP       172\n",
       "UAG        169\n",
       "         ...  \n",
       "EIA        117\n",
       "ONA        116\n",
       "YBV        114\n",
       "OPF        113\n",
       "GXR        112\n",
       "KOX        111\n",
       "MLO        111\n",
       "AFD        109\n",
       "DLW        105\n",
       "IAD        105\n",
       "EJZ        104\n",
       "OP         104\n",
       "WPS        103\n",
       "BQS        103\n",
       "RXB        103\n",
       "SPT        103\n",
       "SBE        102\n",
       "ADLK       102\n",
       "UUC        102\n",
       "GHP        101\n",
       "AEXD       101\n",
       "AFUF       101\n",
       "ESJ        101\n",
       "NTM        100\n",
       "AHBA       100\n",
       "FVQ        100\n",
       "SEZ         99\n",
       "HOF         99\n",
       "QUN         98\n",
       "EMP         98\n",
       "Name: v22, Length: 101, dtype: int64"
      ]
     },
     "execution_count": 30,
     "metadata": {},
     "output_type": "execute_result"
    }
   ],
   "source": [
    "data.v22.value_counts()"
   ]
  },
  {
   "cell_type": "markdown",
   "metadata": {},
   "source": [
    "- не особо помогла обработка v22, надо сократить кол-во 20 категориальных, до самых важных 10-ти признаков"
   ]
  },
  {
   "cell_type": "code",
   "execution_count": 31,
   "metadata": {},
   "outputs": [
    {
     "data": {
      "text/plain": [
       "Index(['v3', 'v24', 'v30', 'v31', 'v47', 'v52', 'v56', 'v66', 'v71', 'v74',\n",
       "       'v75', 'v79', 'v91', 'v107', 'v110', 'v112', 'v113', 'v125'],\n",
       "      dtype='object')"
      ]
     },
     "execution_count": 31,
     "metadata": {},
     "output_type": "execute_result"
    }
   ],
   "source": [
    "data_obj = data_obj.drop('v22',axis=1)\n",
    "data_obj.columns"
   ]
  },
  {
   "cell_type": "code",
   "execution_count": 32,
   "metadata": {},
   "outputs": [
    {
     "data": {
      "text/plain": [
       "['v3',\n",
       " 'v22',\n",
       " 'v24',\n",
       " 'v30',\n",
       " 'v31',\n",
       " 'v47',\n",
       " 'v52',\n",
       " 'v56',\n",
       " 'v66',\n",
       " 'v71',\n",
       " 'v74',\n",
       " 'v75',\n",
       " 'v79',\n",
       " 'v91',\n",
       " 'v107',\n",
       " 'v110',\n",
       " 'v112',\n",
       " 'v113',\n",
       " 'v125']"
      ]
     },
     "execution_count": 32,
     "metadata": {},
     "output_type": "execute_result"
    }
   ],
   "source": [
    "object_vars"
   ]
  },
  {
   "cell_type": "code",
   "execution_count": 33,
   "metadata": {},
   "outputs": [
    {
     "name": "stdout",
     "output_type": "stream",
     "text": [
      "(114321, 18) -> (114321, 346)\n",
      "CPU times: user 344 ms, sys: 33.5 ms, total: 378 ms\n",
      "Wall time: 407 ms\n"
     ]
    }
   ],
   "source": [
    "%%time\n",
    "data_obj_dumm = pd.get_dummies(data = data_obj, drop_first = True)\n",
    "print(data_obj.shape, '->', data_obj_dumm.shape)"
   ]
  },
  {
   "cell_type": "code",
   "execution_count": 34,
   "metadata": {},
   "outputs": [
    {
     "name": "stdout",
     "output_type": "stream",
     "text": [
      "v47_B v79_R 1.0\n",
      "v47_C v110_B 0.9999824894215275\n",
      "v47_D v79_P 0.8344822125494537\n",
      "v47_D v110_C 0.9919507708278532\n",
      "v47_E v79_D 0.9999011056253068\n",
      "v47_F v79_K 0.9983155380154692\n",
      "v47_G v79_M 1.0\n",
      "v47_H v56_AX 1.0\n",
      "v47_I v79_C 0.9120119316076569\n",
      "v47_J v79_H 0.812291494119097\n",
      "v71_B v75_B 0.8302687677115218\n",
      "v71_F v75_D 0.9998253748673491\n",
      "v91_B v107_B 1.0\n",
      "v91_C v107_D 1.0\n",
      "v91_D v107_G 1.0\n",
      "v91_E v107_F 1.0\n",
      "v91_G v107_C 1.0\n",
      "v112_C v125_BH 0.7434363373809986\n",
      "v112_D v125_CG 0.7110788902721222\n",
      "v112_G v125_BL 0.8427342741199824\n",
      "v112_I v125_BM 0.7349254853751075\n",
      "v112_J v125_E 0.7920059798721237\n",
      "v112_N v125_AK 0.7531144249754802\n",
      "v112_P v125_H 0.8234149307080941\n",
      "v112_S v125_AE 1.0\n"
     ]
    }
   ],
   "source": [
    "too_correlated = []\n",
    "Corr = data_obj_dumm.corr(method='pearson')\n",
    "for i in Corr:\n",
    "    for j in Corr.index[Corr[i] > 0.70]:\n",
    "        if i != j and j not in too_correlated and i not in too_correlated:\n",
    "            too_correlated.append(j)\n",
    "            print (i, j, Corr[i][Corr.index == j].values[0])"
   ]
  },
  {
   "cell_type": "code",
   "execution_count": 35,
   "metadata": {},
   "outputs": [],
   "source": [
    "def corr_feature_pearson(data, threshold=0.7):\n",
    "    \n",
    "    corrmat = data_obj_dumm.corr(method='pearson')\n",
    "\n",
    "    corrmat = corrmat.abs().unstack().sort_values(ascending=False)\n",
    "\n",
    "    corrmat = corrmat[corrmat >= threshold]\n",
    "    corrmat = corrmat[corrmat < 1]\n",
    "\n",
    "    corrmat = pd.DataFrame(corrmat).reset_index()\n",
    "    corrmat.columns = ['feature1', 'feature2', 'corr']\n",
    "   \n",
    "    correlated_feats = []\n",
    "\n",
    "    for row in corrmat.values:\n",
    "        f1, f2, corr_value = row\n",
    "\n",
    "        if not ((f1 in correlated_feats) | (f2 in correlated_feats)):\n",
    "            f1_feat_len = corrmat[(corrmat.feature1==f1) | (corrmat.feature2==f1)].shape[0]\n",
    "            f2_feat_len = corrmat[(corrmat.feature1==f2) | (corrmat.feature2==f2)].shape[0]\n",
    "\n",
    "            if f1_feat_len >= f2_feat_len:\n",
    "                correlated_feats.append(f1)\n",
    "            else:\n",
    "                correlated_feats.append(f2)\n",
    "    \n",
    "    return correlated_feats"
   ]
  },
  {
   "cell_type": "code",
   "execution_count": 36,
   "metadata": {},
   "outputs": [
    {
     "name": "stdout",
     "output_type": "stream",
     "text": [
      "19\n"
     ]
    }
   ],
   "source": [
    "data_obj_corr_features = corr_feature_pearson(data_obj_dumm)\n",
    "print(len(data_obj_corr_features))"
   ]
  },
  {
   "cell_type": "code",
   "execution_count": 37,
   "metadata": {},
   "outputs": [
    {
     "data": {
      "text/plain": [
       "(114321, 327)"
      ]
     },
     "execution_count": 37,
     "metadata": {},
     "output_type": "execute_result"
    }
   ],
   "source": [
    "data_obj_dumm = data_obj_dumm.drop(data_obj_corr_features, axis=1)\n",
    "data_obj_dumm.shape"
   ]
  },
  {
   "cell_type": "markdown",
   "metadata": {},
   "source": [
    "#### 2) Попробуйте изученные алгоритмы: kNN, Logistic Regression, SVM\n"
   ]
  },
  {
   "cell_type": "code",
   "execution_count": 38,
   "metadata": {},
   "outputs": [
    {
     "data": {
      "text/plain": [
       "((114321, 327), (114321, 83))"
      ]
     },
     "execution_count": 38,
     "metadata": {},
     "output_type": "execute_result"
    }
   ],
   "source": [
    "data_obj_dumm.shape, data_num.shape"
   ]
  },
  {
   "cell_type": "code",
   "execution_count": 39,
   "metadata": {},
   "outputs": [],
   "source": [
    "data = pd.concat([data_num, data_obj_dumm], axis=1)"
   ]
  },
  {
   "cell_type": "code",
   "execution_count": 40,
   "metadata": {},
   "outputs": [
    {
     "data": {
      "text/html": [
       "<div>\n",
       "<style scoped>\n",
       "    .dataframe tbody tr th:only-of-type {\n",
       "        vertical-align: middle;\n",
       "    }\n",
       "\n",
       "    .dataframe tbody tr th {\n",
       "        vertical-align: top;\n",
       "    }\n",
       "\n",
       "    .dataframe thead th {\n",
       "        text-align: right;\n",
       "    }\n",
       "</style>\n",
       "<table border=\"1\" class=\"dataframe\">\n",
       "  <thead>\n",
       "    <tr style=\"text-align: right;\">\n",
       "      <th></th>\n",
       "      <th>target</th>\n",
       "      <th>v1</th>\n",
       "      <th>v2</th>\n",
       "      <th>v4</th>\n",
       "      <th>v6</th>\n",
       "      <th>v7</th>\n",
       "      <th>v8</th>\n",
       "      <th>v9</th>\n",
       "      <th>v11</th>\n",
       "      <th>v12</th>\n",
       "      <th>...</th>\n",
       "      <th>v125_Q</th>\n",
       "      <th>v125_R</th>\n",
       "      <th>v125_S</th>\n",
       "      <th>v125_T</th>\n",
       "      <th>v125_U</th>\n",
       "      <th>v125_V</th>\n",
       "      <th>v125_W</th>\n",
       "      <th>v125_X</th>\n",
       "      <th>v125_Y</th>\n",
       "      <th>v125_Z</th>\n",
       "    </tr>\n",
       "  </thead>\n",
       "  <tbody>\n",
       "    <tr>\n",
       "      <th>0</th>\n",
       "      <td>1</td>\n",
       "      <td>1.335739</td>\n",
       "      <td>8.727474</td>\n",
       "      <td>3.921026</td>\n",
       "      <td>2.599278</td>\n",
       "      <td>3.176895</td>\n",
       "      <td>0.012941</td>\n",
       "      <td>9.999999</td>\n",
       "      <td>16.434108</td>\n",
       "      <td>6.085711</td>\n",
       "      <td>...</td>\n",
       "      <td>0</td>\n",
       "      <td>0</td>\n",
       "      <td>0</td>\n",
       "      <td>0</td>\n",
       "      <td>0</td>\n",
       "      <td>0</td>\n",
       "      <td>0</td>\n",
       "      <td>0</td>\n",
       "      <td>0</td>\n",
       "      <td>0</td>\n",
       "    </tr>\n",
       "    <tr>\n",
       "      <th>1</th>\n",
       "      <td>1</td>\n",
       "      <td>1.469550</td>\n",
       "      <td>7.023803</td>\n",
       "      <td>4.205991</td>\n",
       "      <td>2.412790</td>\n",
       "      <td>2.452166</td>\n",
       "      <td>2.301630</td>\n",
       "      <td>9.059582</td>\n",
       "      <td>15.495952</td>\n",
       "      <td>6.507647</td>\n",
       "      <td>...</td>\n",
       "      <td>0</td>\n",
       "      <td>0</td>\n",
       "      <td>0</td>\n",
       "      <td>0</td>\n",
       "      <td>0</td>\n",
       "      <td>0</td>\n",
       "      <td>0</td>\n",
       "      <td>0</td>\n",
       "      <td>0</td>\n",
       "      <td>0</td>\n",
       "    </tr>\n",
       "    <tr>\n",
       "      <th>2</th>\n",
       "      <td>1</td>\n",
       "      <td>0.943877</td>\n",
       "      <td>5.310079</td>\n",
       "      <td>4.410969</td>\n",
       "      <td>3.979592</td>\n",
       "      <td>3.928571</td>\n",
       "      <td>0.019645</td>\n",
       "      <td>12.666667</td>\n",
       "      <td>14.756098</td>\n",
       "      <td>6.384670</td>\n",
       "      <td>...</td>\n",
       "      <td>0</td>\n",
       "      <td>0</td>\n",
       "      <td>0</td>\n",
       "      <td>0</td>\n",
       "      <td>0</td>\n",
       "      <td>0</td>\n",
       "      <td>0</td>\n",
       "      <td>0</td>\n",
       "      <td>0</td>\n",
       "      <td>0</td>\n",
       "    </tr>\n",
       "    <tr>\n",
       "      <th>3</th>\n",
       "      <td>1</td>\n",
       "      <td>0.797415</td>\n",
       "      <td>8.304757</td>\n",
       "      <td>4.225930</td>\n",
       "      <td>2.097700</td>\n",
       "      <td>1.987549</td>\n",
       "      <td>0.171947</td>\n",
       "      <td>8.965516</td>\n",
       "      <td>16.347483</td>\n",
       "      <td>9.646653</td>\n",
       "      <td>...</td>\n",
       "      <td>0</td>\n",
       "      <td>0</td>\n",
       "      <td>0</td>\n",
       "      <td>0</td>\n",
       "      <td>0</td>\n",
       "      <td>0</td>\n",
       "      <td>0</td>\n",
       "      <td>0</td>\n",
       "      <td>0</td>\n",
       "      <td>0</td>\n",
       "    </tr>\n",
       "    <tr>\n",
       "      <th>4</th>\n",
       "      <td>1</td>\n",
       "      <td>1.469550</td>\n",
       "      <td>7.023803</td>\n",
       "      <td>4.205991</td>\n",
       "      <td>2.412790</td>\n",
       "      <td>2.452166</td>\n",
       "      <td>0.386032</td>\n",
       "      <td>9.059582</td>\n",
       "      <td>15.495952</td>\n",
       "      <td>6.320087</td>\n",
       "      <td>...</td>\n",
       "      <td>0</td>\n",
       "      <td>0</td>\n",
       "      <td>0</td>\n",
       "      <td>0</td>\n",
       "      <td>0</td>\n",
       "      <td>0</td>\n",
       "      <td>0</td>\n",
       "      <td>0</td>\n",
       "      <td>0</td>\n",
       "      <td>1</td>\n",
       "    </tr>\n",
       "  </tbody>\n",
       "</table>\n",
       "<p>5 rows × 410 columns</p>\n",
       "</div>"
      ],
      "text/plain": [
       "   target        v1        v2        v4        v6        v7        v8  \\\n",
       "0       1  1.335739  8.727474  3.921026  2.599278  3.176895  0.012941   \n",
       "1       1  1.469550  7.023803  4.205991  2.412790  2.452166  2.301630   \n",
       "2       1  0.943877  5.310079  4.410969  3.979592  3.928571  0.019645   \n",
       "3       1  0.797415  8.304757  4.225930  2.097700  1.987549  0.171947   \n",
       "4       1  1.469550  7.023803  4.205991  2.412790  2.452166  0.386032   \n",
       "\n",
       "          v9        v11       v12   ...    v125_Q  v125_R  v125_S  v125_T  \\\n",
       "0   9.999999  16.434108  6.085711   ...         0       0       0       0   \n",
       "1   9.059582  15.495952  6.507647   ...         0       0       0       0   \n",
       "2  12.666667  14.756098  6.384670   ...         0       0       0       0   \n",
       "3   8.965516  16.347483  9.646653   ...         0       0       0       0   \n",
       "4   9.059582  15.495952  6.320087   ...         0       0       0       0   \n",
       "\n",
       "   v125_U  v125_V  v125_W  v125_X  v125_Y  v125_Z  \n",
       "0       0       0       0       0       0       0  \n",
       "1       0       0       0       0       0       0  \n",
       "2       0       0       0       0       0       0  \n",
       "3       0       0       0       0       0       0  \n",
       "4       0       0       0       0       0       1  \n",
       "\n",
       "[5 rows x 410 columns]"
      ]
     },
     "execution_count": 40,
     "metadata": {},
     "output_type": "execute_result"
    }
   ],
   "source": [
    "data.head()"
   ]
  },
  {
   "cell_type": "code",
   "execution_count": 41,
   "metadata": {},
   "outputs": [
    {
     "name": "stdout",
     "output_type": "stream",
     "text": [
      "Train_shape: (80024, 409) Test shape: (34297, 409)\n"
     ]
    }
   ],
   "source": [
    "X_train, X_test, y_train, y_test = data_split_train_test(data)"
   ]
  },
  {
   "cell_type": "code",
   "execution_count": 42,
   "metadata": {},
   "outputs": [],
   "source": [
    "X_train_scaled, X_test_scaled = scale_data(X_train, X_test)"
   ]
  },
  {
   "cell_type": "code",
   "execution_count": 43,
   "metadata": {},
   "outputs": [
    {
     "name": "stdout",
     "output_type": "stream",
     "text": [
      "CPU times: user 3min 49s, sys: 1.32 s, total: 3min 50s\n",
      "Wall time: 3min 51s\n"
     ]
    }
   ],
   "source": [
    "%%time\n",
    "model_LogR_l1 = LogisticRegression(solver=\"liblinear\", penalty = \"l1\")\n",
    "model_LogR_l1.fit(X_train_scaled, y_train)\n",
    "pred = model_LogR_l1.predict(X_test_scaled)"
   ]
  },
  {
   "cell_type": "code",
   "execution_count": 44,
   "metadata": {},
   "outputs": [
    {
     "data": {
      "text/html": [
       "<div>\n",
       "<style scoped>\n",
       "    .dataframe tbody tr th:only-of-type {\n",
       "        vertical-align: middle;\n",
       "    }\n",
       "\n",
       "    .dataframe tbody tr th {\n",
       "        vertical-align: top;\n",
       "    }\n",
       "\n",
       "    .dataframe thead th {\n",
       "        text-align: right;\n",
       "    }\n",
       "</style>\n",
       "<table border=\"1\" class=\"dataframe\">\n",
       "  <thead>\n",
       "    <tr style=\"text-align: right;\">\n",
       "      <th></th>\n",
       "      <th>Accuracy</th>\n",
       "      <th>Precision</th>\n",
       "      <th>Recall</th>\n",
       "      <th>F1</th>\n",
       "      <th>ROC-AUC</th>\n",
       "    </tr>\n",
       "  </thead>\n",
       "  <tbody>\n",
       "    <tr>\n",
       "      <th>baseline</th>\n",
       "      <td>0.755</td>\n",
       "      <td>0.996</td>\n",
       "      <td>0.756</td>\n",
       "      <td>0.860</td>\n",
       "      <td>0.648</td>\n",
       "    </tr>\n",
       "    <tr>\n",
       "      <th>logreg with l1 after feature eng</th>\n",
       "      <td>0.775</td>\n",
       "      <td>0.963</td>\n",
       "      <td>0.788</td>\n",
       "      <td>0.867</td>\n",
       "      <td>0.693</td>\n",
       "    </tr>\n",
       "  </tbody>\n",
       "</table>\n",
       "</div>"
      ],
      "text/plain": [
       "                                  Accuracy  Precision  Recall     F1  ROC-AUC\n",
       "baseline                             0.755      0.996   0.756  0.860    0.648\n",
       "logreg with l1 after feature eng     0.775      0.963   0.788  0.867    0.693"
      ]
     },
     "execution_count": 44,
     "metadata": {},
     "output_type": "execute_result"
    }
   ],
   "source": [
    "quality_list_logreg_l1 = quality_report(pred, y_test)\n",
    "\n",
    "df_quality.loc[\"logreg with l1 after feature eng\", :] = quality_list_logreg_l1\n",
    "df_quality.round(3)"
   ]
  },
  {
   "cell_type": "markdown",
   "metadata": {},
   "source": [
    "##### SVM будет долго работать над этим большим датасетом, надо сократить до 10-20признаков"
   ]
  },
  {
   "cell_type": "code",
   "execution_count": 45,
   "metadata": {},
   "outputs": [
    {
     "data": {
      "image/png": "[encoded data removed]",
      "text/plain": [
       "<matplotlib.figure.Figure at 0x1a145f09e8>"
      ]
     },
     "metadata": {},
     "output_type": "display_data"
    }
   ],
   "source": [
    "featureImportance = pd.DataFrame({\"feature\": list(X_train.columns), \n",
    "                                  \"importance\": model_LogR_l1.coef_[0]})\n",
    "\n",
    "featureImportance.set_index('feature', inplace = True)\n",
    "featureImportance.sort_values([\"importance\"], ascending = False, inplace = True)\n",
    "featureImportance[\"importance\"][:50].plot('bar', figsize=(20, 6));"
   ]
  },
  {
   "cell_type": "code",
   "execution_count": 46,
   "metadata": {},
   "outputs": [
    {
     "data": {
      "image/png": "[encoded data removed]",
      "text/plain": [
       "<matplotlib.figure.Figure at 0x1a145f07f0>"
      ]
     },
     "metadata": {},
     "output_type": "display_data"
    }
   ],
   "source": [
    "featureImportance = pd.DataFrame({\"feature\": list(X_train.columns), \n",
    "                                  \"importance\": model_LogR_l1.coef_[0]})\n",
    "\n",
    "featureImportance.set_index('feature', inplace = True)\n",
    "featureImportance.sort_values([\"importance\"], ascending = False, inplace = True)\n",
    "featureImportance[\"importance\"][-50:].plot('bar', figsize=(20, 6));"
   ]
  },
  {
   "cell_type": "code",
   "execution_count": 47,
   "metadata": {},
   "outputs": [],
   "source": [
    "# We will need this importance dataframe later for SVM"
   ]
  },
  {
   "cell_type": "code",
   "execution_count": 48,
   "metadata": {},
   "outputs": [
    {
     "name": "stdout",
     "output_type": "stream",
     "text": [
      "CPU times: user 14min 45s, sys: 1.73 s, total: 14min 47s\n",
      "Wall time: 15min 9s\n"
     ]
    }
   ],
   "source": [
    "%%time\n",
    "knn = KNeighborsClassifier(n_neighbors = 3)\n",
    "knn.fit(X_train, y_train)\n",
    "pred_knn = knn.predict(X_test)\n",
    "quality_list = quality_report(pred_knn, y_test.values)"
   ]
  },
  {
   "cell_type": "code",
   "execution_count": 49,
   "metadata": {},
   "outputs": [
    {
     "data": {
      "text/html": [
       "<div>\n",
       "<style scoped>\n",
       "    .dataframe tbody tr th:only-of-type {\n",
       "        vertical-align: middle;\n",
       "    }\n",
       "\n",
       "    .dataframe tbody tr th {\n",
       "        vertical-align: top;\n",
       "    }\n",
       "\n",
       "    .dataframe thead th {\n",
       "        text-align: right;\n",
       "    }\n",
       "</style>\n",
       "<table border=\"1\" class=\"dataframe\">\n",
       "  <thead>\n",
       "    <tr style=\"text-align: right;\">\n",
       "      <th></th>\n",
       "      <th>Accuracy</th>\n",
       "      <th>Precision</th>\n",
       "      <th>Recall</th>\n",
       "      <th>F1</th>\n",
       "      <th>ROC-AUC</th>\n",
       "    </tr>\n",
       "  </thead>\n",
       "  <tbody>\n",
       "    <tr>\n",
       "      <th>baseline</th>\n",
       "      <td>0.755</td>\n",
       "      <td>0.996</td>\n",
       "      <td>0.756</td>\n",
       "      <td>0.860</td>\n",
       "      <td>0.648</td>\n",
       "    </tr>\n",
       "    <tr>\n",
       "      <th>logreg with l1 after feature eng</th>\n",
       "      <td>0.775</td>\n",
       "      <td>0.963</td>\n",
       "      <td>0.788</td>\n",
       "      <td>0.867</td>\n",
       "      <td>0.693</td>\n",
       "    </tr>\n",
       "    <tr>\n",
       "      <th>KNN n=3</th>\n",
       "      <td>0.708</td>\n",
       "      <td>0.851</td>\n",
       "      <td>0.784</td>\n",
       "      <td>0.816</td>\n",
       "      <td>0.565</td>\n",
       "    </tr>\n",
       "  </tbody>\n",
       "</table>\n",
       "</div>"
      ],
      "text/plain": [
       "                                  Accuracy  Precision  Recall     F1  ROC-AUC\n",
       "baseline                             0.755      0.996   0.756  0.860    0.648\n",
       "logreg with l1 after feature eng     0.775      0.963   0.788  0.867    0.693\n",
       "KNN n=3                              0.708      0.851   0.784  0.816    0.565"
      ]
     },
     "execution_count": 49,
     "metadata": {},
     "output_type": "execute_result"
    }
   ],
   "source": [
    "df_quality.loc[\"KNN n=3\", :]= quality_list\n",
    "df_quality.round(3)"
   ]
  },
  {
   "cell_type": "code",
   "execution_count": 50,
   "metadata": {},
   "outputs": [
    {
     "data": {
      "text/plain": [
       "(114321, 410)"
      ]
     },
     "execution_count": 50,
     "metadata": {},
     "output_type": "execute_result"
    }
   ],
   "source": [
    "# too big dataset for SVM\n",
    "data.shape"
   ]
  },
  {
   "cell_type": "code",
   "execution_count": 51,
   "metadata": {},
   "outputs": [
    {
     "data": {
      "text/plain": [
       "['v103',\n",
       " 'v117',\n",
       " 'v122',\n",
       " 'v38',\n",
       " 'v42',\n",
       " 'v50',\n",
       " 'v56_BM',\n",
       " 'v56_BZ',\n",
       " 'v56_CY',\n",
       " 'v66_B',\n",
       " 'v66_C',\n",
       " 'v79_B',\n",
       " 'v79_E',\n",
       " 'v79_I',\n",
       " 'v79_K',\n",
       " 'v79_P',\n",
       " 'v79_Q',\n",
       " 'v80',\n",
       " 'v9',\n",
       " 'v94']"
      ]
     },
     "execution_count": 51,
     "metadata": {},
     "output_type": "execute_result"
    }
   ],
   "source": [
    "top_20 = featureImportance[\"importance\"][:10] + featureImportance[\"importance\"][-10:]\n",
    "top_20 = list(top_20.index)\n",
    "top_20"
   ]
  },
  {
   "cell_type": "code",
   "execution_count": 56,
   "metadata": {},
   "outputs": [
    {
     "data": {
      "text/plain": [
       "(80024, 20)"
      ]
     },
     "execution_count": 56,
     "metadata": {},
     "output_type": "execute_result"
    }
   ],
   "source": [
    "X_train[top_20].shape"
   ]
  },
  {
   "cell_type": "code",
   "execution_count": 53,
   "metadata": {},
   "outputs": [
    {
     "name": "stdout",
     "output_type": "stream",
     "text": [
      "CPU times: user 15min 56s, sys: 8.36 s, total: 16min 4s\n",
      "Wall time: 16min 31s\n"
     ]
    }
   ],
   "source": [
    "%%time\n",
    "model_svc = svm.SVC()\n",
    "model_svc.fit(X_train[top_20], y_train)\n",
    "pred_svc = model_svc.predict(X_test[top_20])"
   ]
  },
  {
   "cell_type": "code",
   "execution_count": 54,
   "metadata": {},
   "outputs": [],
   "source": [
    "quality_list = quality_report(pred_svc, y_test.values)"
   ]
  },
  {
   "cell_type": "code",
   "execution_count": 55,
   "metadata": {},
   "outputs": [
    {
     "data": {
      "text/html": [
       "<div>\n",
       "<style scoped>\n",
       "    .dataframe tbody tr th:only-of-type {\n",
       "        vertical-align: middle;\n",
       "    }\n",
       "\n",
       "    .dataframe tbody tr th {\n",
       "        vertical-align: top;\n",
       "    }\n",
       "\n",
       "    .dataframe thead th {\n",
       "        text-align: right;\n",
       "    }\n",
       "</style>\n",
       "<table border=\"1\" class=\"dataframe\">\n",
       "  <thead>\n",
       "    <tr style=\"text-align: right;\">\n",
       "      <th></th>\n",
       "      <th>Accuracy</th>\n",
       "      <th>Precision</th>\n",
       "      <th>Recall</th>\n",
       "      <th>F1</th>\n",
       "      <th>ROC-AUC</th>\n",
       "    </tr>\n",
       "  </thead>\n",
       "  <tbody>\n",
       "    <tr>\n",
       "      <th>baseline</th>\n",
       "      <td>0.755</td>\n",
       "      <td>0.996</td>\n",
       "      <td>0.756</td>\n",
       "      <td>0.860</td>\n",
       "      <td>0.648</td>\n",
       "    </tr>\n",
       "    <tr>\n",
       "      <th>logreg with l1 after feature eng</th>\n",
       "      <td>0.775</td>\n",
       "      <td>0.963</td>\n",
       "      <td>0.788</td>\n",
       "      <td>0.867</td>\n",
       "      <td>0.693</td>\n",
       "    </tr>\n",
       "    <tr>\n",
       "      <th>KNN n=3</th>\n",
       "      <td>0.708</td>\n",
       "      <td>0.851</td>\n",
       "      <td>0.784</td>\n",
       "      <td>0.816</td>\n",
       "      <td>0.565</td>\n",
       "    </tr>\n",
       "    <tr>\n",
       "      <th>SVM top 20 features</th>\n",
       "      <td>0.761</td>\n",
       "      <td>1.000</td>\n",
       "      <td>0.761</td>\n",
       "      <td>0.864</td>\n",
       "      <td>0.881</td>\n",
       "    </tr>\n",
       "  </tbody>\n",
       "</table>\n",
       "</div>"
      ],
      "text/plain": [
       "                                  Accuracy  Precision  Recall     F1  ROC-AUC\n",
       "baseline                             0.755      0.996   0.756  0.860    0.648\n",
       "logreg with l1 after feature eng     0.775      0.963   0.788  0.867    0.693\n",
       "KNN n=3                              0.708      0.851   0.784  0.816    0.565\n",
       "SVM top 20 features                  0.761      1.000   0.761  0.864    0.881"
      ]
     },
     "execution_count": 55,
     "metadata": {},
     "output_type": "execute_result"
    }
   ],
   "source": [
    "df_quality.loc[\"SVM top 20 features\", :]= quality_list\n",
    "df_quality.round(3)"
   ]
  },
  {
   "cell_type": "markdown",
   "metadata": {},
   "source": [
    "SVM - очень крутой 0.88 ROC-AUC, шикарные Precision, Accuracy. Recall, F1 чуток упал."
   ]
  },
  {
   "cell_type": "markdown",
   "metadata": {},
   "source": [
    "#### 3) Выполните настройку гиперпараметров для SVM (выбрать те параметры (ядро, регуляризацияб и тд) при которых метрики максимальны)\n",
    "#### 4*) Настройку гиперпараметров можно проводить используя GridSearchCV в реализации sklearn.\n"
   ]
  },
  {
   "cell_type": "code",
   "execution_count": 5,
   "metadata": {},
   "outputs": [],
   "source": [
    "from sklearn.model_selection import GridSearchCV\n",
    "Cs = [0.001, 0.01, 0.1, 1, 10]\n",
    "gammas = [0.001, 0.01, 0.1, 1]\n",
    "kernels = ['linear', 'poly', 'rbf', 'sigmoid']\n",
    "svc = svm.SVC()\n",
    "grid_svc = GridSearchCV(svc, param_grid={'C': Cs, 'gamma': gammas, 'kernel': kernels})"
   ]
  },
  {
   "cell_type": "code",
   "execution_count": null,
   "metadata": {},
   "outputs": [],
   "source": [
    "top_10 = featureImportance[\"importance\"][:5] + featureImportance[\"importance\"][-5:]\n",
    "top_10 = list(top_10.index)"
   ]
  },
  {
   "cell_type": "code",
   "execution_count": null,
   "metadata": {},
   "outputs": [],
   "source": [
    "grid_svc.fit(X_train[top_10], y_train)"
   ]
  },
  {
   "cell_type": "code",
   "execution_count": null,
   "metadata": {},
   "outputs": [],
   "source": [
    "pred_grid = grid_svc.predict(X_test[top_10])"
   ]
  },
  {
   "cell_type": "code",
   "execution_count": null,
   "metadata": {},
   "outputs": [],
   "source": [
    "quality_list = quality_report(pred_grid, y_test.values)\n",
    "df_quality.loc[\"SVC with kernel opt top 10\", :]= quality_list\n",
    "df_quality.round(3)"
   ]
  },
  {
   "cell_type": "markdown",
   "metadata": {},
   "source": [
    "Критерии оценки: - Выполнена предобработка данных, преобразования признаков, посчитаны базовые статистики\n",
    "- Построено хотя бы два алгоритма и показана разница результатов (или отсутствие разницы)\n",
    "- Обучен SVM, выполнен подбор гиперпараметров"
   ]
  }
 ],
 "metadata": {
  "kernelspec": {
   "display_name": "py35",
   "language": "python",
   "name": "py35"
  },
  "language_info": {
   "codemirror_mode": {
    "name": "ipython",
    "version": 3
   },
   "file_extension": ".py",
   "mimetype": "text/x-python",
   "name": "python",
   "nbconvert_exporter": "python",
   "pygments_lexer": "ipython3",
   "version": "3.6.4"
  }
 },
 "nbformat": 4,
 "nbformat_minor": 4
}
