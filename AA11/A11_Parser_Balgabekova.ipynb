{
 "cells": [
  {
   "cell_type": "markdown",
   "metadata": {},
   "source": [
    "Цель: В этом домашнем задании вам предстоит обойти все ловушки серверов, пробраться сквозь страницы html-кода и собрать себе свой собственный датасет.\n",
    "\n",
    "По аналогии с занятием, возьмите интересующий вас сайт, на котором можно пособирать какие-то данные (и при этом API не предоставляется).\n",
    "Напишите свой парсер, который будет бегать по страничкам и автоматически что-то собирать.\n",
    "\n",
    "В качестве потенциальных целей для парсинга можно взять какие-нибудь блоги, выкачать оттуда публикации, авторов, число просмотром и комментариев. Можно посмотреть новостные ресурсы и скачать новостные статьи с их мета-информацией. Или любой другой интересный вам сайт.\n",
    "\n",
    "Не забывайте, что парсинг - это ответственное мероприятие, поэтому не бомбардируйте несчастные сайты слишком частыми запросами (можно ограничить число запросов в секунду при помощи time.sleep(0.3), вставленного в теле цикла)"
   ]
  },
  {
   "cell_type": "code",
   "execution_count": 1,
   "metadata": {},
   "outputs": [],
   "source": [
    "import requests\n",
    "import re\n",
    "from bs4 import BeautifulSoup\n",
    "import pandas as pd\n",
    "import time\n",
    "import sys\n",
    "\n",
    "from tqdm import tqdm_notebook"
   ]
  },
  {
   "cell_type": "code",
   "execution_count": 2,
   "metadata": {},
   "outputs": [],
   "source": [
    "news_url = 'http://ratel.kz/raw/?page='"
   ]
  },
  {
   "cell_type": "code",
   "execution_count": 3,
   "metadata": {},
   "outputs": [],
   "source": [
    "home_url = 'http://ratel.kz'"
   ]
  },
  {
   "cell_type": "code",
   "execution_count": 4,
   "metadata": {},
   "outputs": [],
   "source": [
    "page = 1"
   ]
  },
  {
   "cell_type": "code",
   "execution_count": 5,
   "metadata": {},
   "outputs": [
    {
     "data": {
      "text/plain": [
       "<Response [200]>"
      ]
     },
     "execution_count": 5,
     "metadata": {},
     "output_type": "execute_result"
    }
   ],
   "source": [
    "requests.get(news_url+str(page))"
   ]
  },
  {
   "cell_type": "code",
   "execution_count": 6,
   "metadata": {},
   "outputs": [],
   "source": [
    "news_page = requests.get(news_url+str(page))\n",
    "news_page = news_page.content"
   ]
  },
  {
   "cell_type": "code",
   "execution_count": 7,
   "metadata": {},
   "outputs": [],
   "source": [
    "news_page = BeautifulSoup(news_page, 'lxml')"
   ]
  },
  {
   "cell_type": "code",
   "execution_count": 8,
   "metadata": {},
   "outputs": [],
   "source": [
    "news_page = news_page.find('div', attrs={'class':'col-sm-8 col-sm-push-1'})"
   ]
  },
  {
   "cell_type": "code",
   "execution_count": 9,
   "metadata": {},
   "outputs": [],
   "source": [
    "def get_articles(news_page):\n",
    "    articles = news_page.findAll('div', attrs={'class':'article article_list'})\n",
    "    return articles"
   ]
  },
  {
   "cell_type": "code",
   "execution_count": 10,
   "metadata": {},
   "outputs": [],
   "source": [
    "articles = get_articles(news_page)"
   ]
  },
  {
   "cell_type": "code",
   "execution_count": 11,
   "metadata": {},
   "outputs": [],
   "source": [
    "def get_article(news_page):\n",
    "    article = news_page.find('div', attrs={'class':'article article_list'})\n",
    "    return article"
   ]
  },
  {
   "cell_type": "markdown",
   "metadata": {},
   "source": [
    "#### Заголовки новостей"
   ]
  },
  {
   "cell_type": "code",
   "execution_count": 12,
   "metadata": {},
   "outputs": [],
   "source": [
    "def get_header(article):\n",
    "    header = article.find('div', attrs = {'class':'article__title'})\n",
    "    header = header.text.strip()\n",
    "    return header"
   ]
  },
  {
   "cell_type": "code",
   "execution_count": 13,
   "metadata": {},
   "outputs": [
    {
     "data": {
      "text/plain": [
       "'1 миллион тенге выплатит чиновник, взявший 1 тысячу за бесплатную госуслугу'"
      ]
     },
     "execution_count": 13,
     "metadata": {},
     "output_type": "execute_result"
    }
   ],
   "source": [
    "get_header(news_page)"
   ]
  },
  {
   "cell_type": "code",
   "execution_count": 14,
   "metadata": {},
   "outputs": [
    {
     "name": "stdout",
     "output_type": "stream",
     "text": [
      "1 миллион тенге выплатит чиновник, взявший 1 тысячу за бесплатную госуслугу\n",
      "Владельцам кафе и ресторанов Талдыкоргана начали выписывать штрафы\n",
      "Очередные слухи о путях  распространения коронавируса обсуждают в Талдыкоргане\n",
      "Производители антисептика связаны по рукам\n",
      "О карантине, медицинских масках, продуктах и лекарствах рассказал на брифинге вице-премьер РК\n",
      "О возрастном цензе заболевших COVID-19  в Нур-Султане сообщили в горздраве столицы\n",
      "В Караганде у двух пациентов обнаружили коронавирус\n",
      "Денсаулық министрлігі Қарағандыда кімдер коронавирус жұқтырғанын айтып берді\n",
      "Елбасы Нурсултан Назарбаев обратился к казахстанцам\n",
      "Субъекты малого и среднего бизнеса смогут получить льготный кредит сроком на год\n",
      "Уже одиннадцать очагов заражения коронавирусом установили в различных частях Алматы\n",
      "Танки в городе\n",
      "Information on passenger flights to/from Nur-Sultan and Almaty\n",
      "Актюбинского адвоката заподозрили в мошенничестве\n",
      "Акимат Усть-Каменогорска судится с подрядчиком из-за долгостроя\n",
      "Инфекция ошақтары туралы Алматыда тараған ақпарат жалған – әкімдік\n"
     ]
    }
   ],
   "source": [
    "for article in articles:\n",
    "    print(get_header(article))"
   ]
  },
  {
   "cell_type": "markdown",
   "metadata": {},
   "source": [
    "#### Короткий текст статьи"
   ]
  },
  {
   "cell_type": "code",
   "execution_count": 15,
   "metadata": {},
   "outputs": [],
   "source": [
    "def get_short_text(article):\n",
    "    short_text = article.find('div', attrs = {'class':'article__text'}).text\n",
    "    short_text = short_text.strip()\n",
    "    return short_text"
   ]
  },
  {
   "cell_type": "code",
   "execution_count": 16,
   "metadata": {},
   "outputs": [
    {
     "name": "stdout",
     "output_type": "stream",
     "text": [
      "Житель Семея, решивший отблагодарить государственного служащего, оштрафован на полмиллиона\n",
      "На самых злостных нарушителей будут заводить уголовные дела\n",
      "На этот раз в поле зрения горожан попал  местный аэропорт\n",
      "Из-за бюрократии в СКО не могут начать продавать востребованный в условиях ЧП отечественный антисептик\n",
      "Ералы Тугжанов отметил, что 70% чиновников уже перешли на дистанционную работу\n",
      "Также стали известны сроки внедрения экспресс-тестов на коронавирус\n",
      "Оба заражённых – пассажиры рейса \"Минск-Нур-Султан\". Карантин вводить не будут\n",
      "Алматы қаласында жиырма екі адам, Қарағандыда екі, Нұр-Сұлтанда жиырма бес адамда коронавирус анықталды\n",
      "Он призвал поддержать действия президента страны Касым-Жомарта Токаева и правительства РК\n",
      "Глава государства  объявил о новых мерах поддержки малого и среднего бизнеса в условиях ЧП\n",
      "Все очаги в настоящее время берут под контроль\n",
      "Скопление бронетехники около Аягоза напугало восточно-казахстанцев\n",
      "The Civil Aviation Committee recommends to passengers do not travel to the airports of Nur-Sultan and Almaty starting from 00:00 on March 22\n",
      "Он пообещал за 3 млн тенге \"решить вопрос\" по изнасилованию\n",
      "Сроки ввода одной из главных мостовых переправ областного центра в эксплуатацию вновь откладываются\n",
      "Қала әкімінің баспасөз қызметінің басшысы Әсет Мұқажанов бұл ақпараттың барлығы жалған екендігін мәлім етті\n"
     ]
    }
   ],
   "source": [
    "for article in articles:\n",
    "    print(get_short_text(article))"
   ]
  },
  {
   "cell_type": "markdown",
   "metadata": {},
   "source": [
    "#### Страничка одной статьи"
   ]
  },
  {
   "cell_type": "code",
   "execution_count": 17,
   "metadata": {},
   "outputs": [],
   "source": [
    "def get_link(article):\n",
    "    link = article.find('a', attrs= {'class':'article__img-link'}).get('href')\n",
    "    return link"
   ]
  },
  {
   "cell_type": "code",
   "execution_count": 18,
   "metadata": {},
   "outputs": [
    {
     "name": "stdout",
     "output_type": "stream",
     "text": [
      "/raw/1_million_tenge_vyplatit_chinovnik_vzjavshij_1_tysjachu_za_besplatnuju_gosuslugu\n",
      "/raw/vladeltsam_kafe_i_restoranov_taldykorgana_nachali_vypisyvat_shtrafy\n",
      "/raw/ocherednye_sluhi_o_putjah_rasprostranenija_koronavirusa_obsuzhdajut_v_taldykorgane\n",
      "/raw/proizvoditeli_antiseptika_svjazany_po_rukam\n",
      "/raw/o_karantine_meditsinskih_maskah_produktah_i_lekarstvah_rasskazal_na_brifinge_vitse_premer_rk_\n",
      "/raw/o_vozrastnom_tsenze_zabolevshih_covid_19_v_nur_sultane_soobschili_v_gorzdrave_stolitsy\n",
      "/raw/v_karagande_u_dvuh_patsientov_obnaruzhili_koronavirus\n",
      "/raw/densauly_ministrligi_araandyda_kimder_koronavirus_zhtyranyn_ajtyp_berdi\n",
      "/raw/elbasy_nursultan_nazarbaev_obratilsja_k_kazahstantsam\n",
      "/raw/subekty_malogo_i_srednego_biznesa_smogut_poluchit_lgotnyj_kredit_srokom_na_god\n",
      "/raw/uzhe_odinnadtsat_ochagov_zarazhenija_koronavirusom_ustanovili_v_razlichnyh_chastjah_almaty\n",
      "/raw/tanki_v_gorode\n",
      "/raw/information_on_passenger_flights_tofrom_nur_sultan_and_almaty\n",
      "/raw/aktjubinskogo_advokata_zapodozrili_v_moshennichestve\n",
      "/raw/akimat_ust_kamenogorska_suditsja_s_podrjadchikom_iz_za_dolgostroja\n",
      "/raw/infektsija_oshatary_turaly_almatyda_taraan_aparat_zhalan_kimdik\n"
     ]
    }
   ],
   "source": [
    "for article in articles:\n",
    "    print(get_link(article))"
   ]
  },
  {
   "cell_type": "code",
   "execution_count": 19,
   "metadata": {},
   "outputs": [],
   "source": [
    "article = get_article(news_page)"
   ]
  },
  {
   "cell_type": "code",
   "execution_count": 20,
   "metadata": {},
   "outputs": [],
   "source": [
    "def get_subpage(link):\n",
    "    sub_page = requests.get(home_url+str(link)).content\n",
    "    sub_page = BeautifulSoup(sub_page, 'lxml')\n",
    "    return sub_page"
   ]
  },
  {
   "cell_type": "code",
   "execution_count": 21,
   "metadata": {},
   "outputs": [],
   "source": [
    "news_link = get_link(article)"
   ]
  },
  {
   "cell_type": "code",
   "execution_count": 22,
   "metadata": {},
   "outputs": [],
   "source": [
    "sub_page = get_subpage(news_link)"
   ]
  },
  {
   "cell_type": "markdown",
   "metadata": {},
   "source": [
    "#### Просмотры статьи"
   ]
  },
  {
   "cell_type": "code",
   "execution_count": 23,
   "metadata": {},
   "outputs": [],
   "source": [
    "def get_views(sub_page):\n",
    "    post_views = sub_page.find('div', attrs={'class':'post__views'})\n",
    "    text = post_views.text\n",
    "    views = text.strip().split()[0]\n",
    "    return int(views)"
   ]
  },
  {
   "cell_type": "code",
   "execution_count": 24,
   "metadata": {},
   "outputs": [
    {
     "data": {
      "text/plain": [
       "51"
      ]
     },
     "execution_count": 24,
     "metadata": {},
     "output_type": "execute_result"
    }
   ],
   "source": [
    "get_views(sub_page)"
   ]
  },
  {
   "cell_type": "markdown",
   "metadata": {},
   "source": [
    "#### Дата публикации"
   ]
  },
  {
   "cell_type": "code",
   "execution_count": 25,
   "metadata": {},
   "outputs": [
    {
     "data": {
      "text/plain": [
       "'ru_RU.UTF-8'"
      ]
     },
     "execution_count": 25,
     "metadata": {},
     "output_type": "execute_result"
    }
   ],
   "source": [
    "import datetime\n",
    "import locale\n",
    "locale.setlocale(locale.LC_TIME, 'ru_RU.UTF-8')"
   ]
  },
  {
   "cell_type": "code",
   "execution_count": 26,
   "metadata": {},
   "outputs": [],
   "source": [
    "# def get_date(news_page):\n",
    "#     pattern = re.compile(r'[\\d]{1,2}[\\s]{1}[А-я]{3}[\\s]{1}[\\d]{4}')\n",
    "#     text = news_page.find('div', attrs = {'class':'article__date'}).text\n",
    "#     date = re.match(pattern, text).group(0)\n",
    "#     return date if date else \"\"\n",
    "\n",
    "# get_date(news_page)"
   ]
  },
  {
   "cell_type": "code",
   "execution_count": 27,
   "metadata": {},
   "outputs": [],
   "source": [
    "def get_datetime(article):\n",
    "    article_info = article.find('div', attrs = {'class':'article__date'}).text\n",
    "    time_data = article_info.split(\" — \")[0]\n",
    "    date = datetime.datetime.strptime(time_data, '%d %b %Y, %H:%M')\n",
    "    return date"
   ]
  },
  {
   "cell_type": "code",
   "execution_count": 28,
   "metadata": {},
   "outputs": [
    {
     "name": "stdout",
     "output_type": "stream",
     "text": [
      "2020-03-20 16:50:00\n",
      "2020-03-20 16:20:00\n",
      "2020-03-20 15:20:00\n",
      "2020-03-20 14:35:00\n",
      "2020-03-20 14:30:00\n",
      "2020-03-20 13:50:00\n",
      "2020-03-20 12:35:00\n",
      "2020-03-20 11:00:00\n",
      "2020-03-20 09:05:00\n",
      "2020-03-20 08:35:00\n",
      "2020-03-20 08:05:00\n",
      "2020-03-19 18:40:00\n",
      "2020-03-19 18:30:00\n",
      "2020-03-19 18:00:00\n",
      "2020-03-19 17:30:00\n",
      "2020-03-19 17:00:00\n"
     ]
    }
   ],
   "source": [
    "for article in articles:\n",
    "    print(get_datetime(article))"
   ]
  },
  {
   "cell_type": "markdown",
   "metadata": {},
   "source": [
    "https://stackoverflow.com/questions/41839678/how-to-use-russian-date-string-with-strptime\n"
   ]
  },
  {
   "cell_type": "markdown",
   "metadata": {},
   "source": [
    "#### Автор статьм"
   ]
  },
  {
   "cell_type": "code",
   "execution_count": 29,
   "metadata": {},
   "outputs": [],
   "source": [
    "article = news_page.find('div', attrs= {'class':'article__date'})"
   ]
  },
  {
   "cell_type": "code",
   "execution_count": 30,
   "metadata": {},
   "outputs": [],
   "source": [
    "def get_author(article):\n",
    "    article_info = article.find('div', attrs = {'class':'article__date'}).text\n",
    "    article_info = article_info.split(\" — \")\n",
    "    author = article_info[1].strip()\n",
    "    return author"
   ]
  },
  {
   "cell_type": "code",
   "execution_count": 31,
   "metadata": {},
   "outputs": [
    {
     "name": "stdout",
     "output_type": "stream",
     "text": [
      "Антон СЕРГИЕНКО\n",
      "Алия АХМЕДИЕВА\n",
      "Алия АХМЕДИЕВА\n",
      "Ольга ВАЙТОВИЧ\n",
      "Ратель\n",
      "Асем  МИРЖЕКЕЕВА\n",
      "Анастасия БАГРОВА\n",
      "Ратель\n",
      "Ратель\n",
      "Ратель\n",
      "Ратель\n",
      "Антон СЕРГИЕНКО\n",
      "Ратель\n",
      "Дмитрий МАТВЕЕВ\n",
      "Антон СЕРГИЕНКО\n",
      "Ратель\n"
     ]
    }
   ],
   "source": [
    "for article in articles:\n",
    "    print(get_author(article))"
   ]
  },
  {
   "cell_type": "markdown",
   "metadata": {},
   "source": [
    "###  Получим все статьи с одной новостной странички"
   ]
  },
  {
   "cell_type": "code",
   "execution_count": 32,
   "metadata": {},
   "outputs": [],
   "source": [
    "def get_article_data(article):\n",
    "    news_link = get_link(article)\n",
    "    sub_page = get_subpage(news_link)\n",
    "    article_data = {\n",
    "        'header': get_header(article),\n",
    "        'author': get_author(article),\n",
    "        'date': get_datetime(article),\n",
    "        'views': get_views(sub_page),\n",
    "        'short_text': get_short_text(article)\n",
    "    }\n",
    "    return article_data"
   ]
  },
  {
   "cell_type": "code",
   "execution_count": 33,
   "metadata": {},
   "outputs": [],
   "source": [
    "def get_news(page):\n",
    "    news_page = requests.get(news_url+str(page))\n",
    "    news_page = news_page.content\n",
    "    news_page = BeautifulSoup(news_page, 'lxml')  \n",
    "    news_page = news_page.find('div', attrs={'class':'col-sm-8 col-sm-push-1'})\n",
    "    return news_page"
   ]
  },
  {
   "cell_type": "code",
   "execution_count": 34,
   "metadata": {},
   "outputs": [
    {
     "name": "stdout",
     "output_type": "stream",
     "text": [
      "1 миллион тенге выплатит чиновник, взявший 1 тысячу за бесплатную госуслугу\n",
      "Написано: Антон СЕРГИЕНКО, Опубликовано: 2020-03-20 16:50:00\n",
      "53\n",
      "====================\n",
      "Владельцам кафе и ресторанов Талдыкоргана начали выписывать штрафы\n",
      "Написано: Алия АХМЕДИЕВА, Опубликовано: 2020-03-20 16:20:00\n",
      "145\n",
      "====================\n",
      "Очередные слухи о путях  распространения коронавируса обсуждают в Талдыкоргане\n",
      "Написано: Алия АХМЕДИЕВА, Опубликовано: 2020-03-20 15:20:00\n",
      "183\n",
      "====================\n",
      "Производители антисептика связаны по рукам\n",
      "Написано: Ольга ВАЙТОВИЧ, Опубликовано: 2020-03-20 14:35:00\n",
      "357\n",
      "====================\n",
      "О карантине, медицинских масках, продуктах и лекарствах рассказал на брифинге вице-премьер РК\n",
      "Написано: Ратель, Опубликовано: 2020-03-20 14:30:00\n",
      "147\n",
      "====================\n",
      "О возрастном цензе заболевших COVID-19  в Нур-Султане сообщили в горздраве столицы\n",
      "Написано: Асем  МИРЖЕКЕЕВА, Опубликовано: 2020-03-20 13:50:00\n",
      "643\n",
      "====================\n",
      "В Караганде у двух пациентов обнаружили коронавирус\n",
      "Написано: Анастасия БАГРОВА, Опубликовано: 2020-03-20 12:35:00\n",
      "589\n",
      "====================\n",
      "Денсаулық министрлігі Қарағандыда кімдер коронавирус жұқтырғанын айтып берді\n",
      "Написано: Ратель, Опубликовано: 2020-03-20 11:00:00\n",
      "337\n",
      "====================\n",
      "Елбасы Нурсултан Назарбаев обратился к казахстанцам\n",
      "Написано: Ратель, Опубликовано: 2020-03-20 09:05:00\n",
      "669\n",
      "====================\n",
      "Субъекты малого и среднего бизнеса смогут получить льготный кредит сроком на год\n",
      "Написано: Ратель, Опубликовано: 2020-03-20 08:35:00\n",
      "695\n",
      "====================\n",
      "Уже одиннадцать очагов заражения коронавирусом установили в различных частях Алматы\n",
      "Написано: Ратель, Опубликовано: 2020-03-20 08:05:00\n",
      "1671\n",
      "====================\n",
      "Танки в городе\n",
      "Написано: Антон СЕРГИЕНКО, Опубликовано: 2020-03-19 18:40:00\n",
      "2248\n",
      "====================\n",
      "Information on passenger flights to/from Nur-Sultan and Almaty\n",
      "Написано: Ратель, Опубликовано: 2020-03-19 18:30:00\n",
      "231\n",
      "====================\n",
      "Актюбинского адвоката заподозрили в мошенничестве\n",
      "Написано: Дмитрий МАТВЕЕВ, Опубликовано: 2020-03-19 18:00:00\n",
      "1071\n",
      "====================\n",
      "Акимат Усть-Каменогорска судится с подрядчиком из-за долгостроя\n",
      "Написано: Антон СЕРГИЕНКО, Опубликовано: 2020-03-19 17:30:00\n",
      "1045\n",
      "====================\n",
      "Инфекция ошақтары туралы Алматыда тараған ақпарат жалған – әкімдік\n",
      "Написано: Ратель, Опубликовано: 2020-03-19 17:00:00\n",
      "205\n",
      "====================\n"
     ]
    }
   ],
   "source": [
    "news_page = get_news(1)\n",
    "articles = get_articles(news_page)\n",
    "\n",
    "for article in articles:\n",
    "    article_data = get_article_data(article)\n",
    "    print(article_data['header'])\n",
    "    print(f\"Написано: {article_data['author']}, Опубликовано: {article_data['date']}\")\n",
    "    print(article_data['views'])\n",
    "    print('====================')\n",
    "    time.sleep(0.3)"
   ]
  },
  {
   "cell_type": "markdown",
   "metadata": {},
   "source": [
    "## Parsing start"
   ]
  },
  {
   "cell_type": "code",
   "execution_count": 35,
   "metadata": {},
   "outputs": [],
   "source": [
    "news = pd.DataFrame(columns=['header', 'author', 'date',  'views', 'short_text'])"
   ]
  },
  {
   "cell_type": "code",
   "execution_count": 36,
   "metadata": {},
   "outputs": [],
   "source": [
    "total_pages = 10"
   ]
  },
  {
   "cell_type": "code",
   "execution_count": 37,
   "metadata": {},
   "outputs": [],
   "source": [
    "# for page_number in tqdm_notebook(range(total_pages)):\n",
    "\n",
    "#     news_page = get_news(page_number)\n",
    "#     articles = get_articles(news_page)\n",
    "    \n",
    "#     for article in tqdm_notebook(articles, leave=False):\n",
    "#         try:\n",
    "#             article_data = get_article_data(article)\n",
    "#             news = news.append(article_data, ignore_index=True)\n",
    "#             time.sleep(0.3)\n",
    "#         except:\n",
    "#             pass"
   ]
  },
  {
   "cell_type": "code",
   "execution_count": 38,
   "metadata": {},
   "outputs": [],
   "source": [
    "for page_number in range(total_pages):\n",
    "\n",
    "    news_page = get_news(page_number)\n",
    "    articles = get_articles(news_page)\n",
    "    \n",
    "    for article in articles:\n",
    "        try:\n",
    "            article_data = get_article_data(article)\n",
    "            news = news.append(article_data, ignore_index=True)\n",
    "            time.sleep(0.3)\n",
    "        except:\n",
    "            pass"
   ]
  },
  {
   "cell_type": "code",
   "execution_count": 39,
   "metadata": {},
   "outputs": [
    {
     "data": {
      "text/html": [
       "<div>\n",
       "<style scoped>\n",
       "    .dataframe tbody tr th:only-of-type {\n",
       "        vertical-align: middle;\n",
       "    }\n",
       "\n",
       "    .dataframe tbody tr th {\n",
       "        vertical-align: top;\n",
       "    }\n",
       "\n",
       "    .dataframe thead th {\n",
       "        text-align: right;\n",
       "    }\n",
       "</style>\n",
       "<table border=\"1\" class=\"dataframe\">\n",
       "  <thead>\n",
       "    <tr style=\"text-align: right;\">\n",
       "      <th></th>\n",
       "      <th>header</th>\n",
       "      <th>author</th>\n",
       "      <th>date</th>\n",
       "      <th>views</th>\n",
       "      <th>short_text</th>\n",
       "    </tr>\n",
       "  </thead>\n",
       "  <tbody>\n",
       "    <tr>\n",
       "      <th>0</th>\n",
       "      <td>1 миллион тенге выплатит чиновник, взявший 1 т...</td>\n",
       "      <td>Антон СЕРГИЕНКО</td>\n",
       "      <td>2020-03-20 16:50:00</td>\n",
       "      <td>55</td>\n",
       "      <td>Житель Семея, решивший отблагодарить государст...</td>\n",
       "    </tr>\n",
       "    <tr>\n",
       "      <th>1</th>\n",
       "      <td>Владельцам кафе и ресторанов Талдыкоргана нача...</td>\n",
       "      <td>Алия АХМЕДИЕВА</td>\n",
       "      <td>2020-03-20 16:20:00</td>\n",
       "      <td>149</td>\n",
       "      <td>На самых злостных нарушителей будут заводить у...</td>\n",
       "    </tr>\n",
       "    <tr>\n",
       "      <th>2</th>\n",
       "      <td>Очередные слухи о путях  распространения корон...</td>\n",
       "      <td>Алия АХМЕДИЕВА</td>\n",
       "      <td>2020-03-20 15:20:00</td>\n",
       "      <td>184</td>\n",
       "      <td>На этот раз в поле зрения горожан попал  местн...</td>\n",
       "    </tr>\n",
       "    <tr>\n",
       "      <th>3</th>\n",
       "      <td>Производители антисептика связаны по рукам</td>\n",
       "      <td>Ольга ВАЙТОВИЧ</td>\n",
       "      <td>2020-03-20 14:35:00</td>\n",
       "      <td>358</td>\n",
       "      <td>Из-за бюрократии в СКО не могут начать продава...</td>\n",
       "    </tr>\n",
       "    <tr>\n",
       "      <th>4</th>\n",
       "      <td>О карантине, медицинских масках, продуктах и л...</td>\n",
       "      <td>Ратель</td>\n",
       "      <td>2020-03-20 14:30:00</td>\n",
       "      <td>148</td>\n",
       "      <td>Ералы Тугжанов отметил, что 70% чиновников уже...</td>\n",
       "    </tr>\n",
       "  </tbody>\n",
       "</table>\n",
       "</div>"
      ],
      "text/plain": [
       "                                              header           author  \\\n",
       "0  1 миллион тенге выплатит чиновник, взявший 1 т...  Антон СЕРГИЕНКО   \n",
       "1  Владельцам кафе и ресторанов Талдыкоргана нача...   Алия АХМЕДИЕВА   \n",
       "2  Очередные слухи о путях  распространения корон...   Алия АХМЕДИЕВА   \n",
       "3         Производители антисептика связаны по рукам   Ольга ВАЙТОВИЧ   \n",
       "4  О карантине, медицинских масках, продуктах и л...           Ратель   \n",
       "\n",
       "                 date views                                         short_text  \n",
       "0 2020-03-20 16:50:00    55  Житель Семея, решивший отблагодарить государст...  \n",
       "1 2020-03-20 16:20:00   149  На самых злостных нарушителей будут заводить у...  \n",
       "2 2020-03-20 15:20:00   184  На этот раз в поле зрения горожан попал  местн...  \n",
       "3 2020-03-20 14:35:00   358  Из-за бюрократии в СКО не могут начать продава...  \n",
       "4 2020-03-20 14:30:00   148  Ералы Тугжанов отметил, что 70% чиновников уже...  "
      ]
     },
     "execution_count": 39,
     "metadata": {},
     "output_type": "execute_result"
    }
   ],
   "source": [
    "news.head()"
   ]
  },
  {
   "cell_type": "markdown",
   "metadata": {},
   "source": [
    "### Analytics"
   ]
  },
  {
   "cell_type": "code",
   "execution_count": 40,
   "metadata": {},
   "outputs": [],
   "source": [
    "news = news.drop_duplicates().reset_index(drop=True)"
   ]
  },
  {
   "cell_type": "code",
   "execution_count": 45,
   "metadata": {},
   "outputs": [
    {
     "data": {
      "text/plain": [
       "<matplotlib.axes._subplots.AxesSubplot at 0x11c2f4390>"
      ]
     },
     "execution_count": 45,
     "metadata": {},
     "output_type": "execute_result"
    },
    {
     "data": {
      "image/png": "[encoded data removed]",
      "text/plain": [
       "<matplotlib.figure.Figure at 0x118ff16d8>"
      ]
     },
     "metadata": {},
     "output_type": "display_data"
    }
   ],
   "source": [
    "news.views.astype(int).hist()"
   ]
  },
  {
   "cell_type": "code",
   "execution_count": 42,
   "metadata": {},
   "outputs": [
    {
     "data": {
      "text/html": [
       "<div>\n",
       "<style scoped>\n",
       "    .dataframe tbody tr th:only-of-type {\n",
       "        vertical-align: middle;\n",
       "    }\n",
       "\n",
       "    .dataframe tbody tr th {\n",
       "        vertical-align: top;\n",
       "    }\n",
       "\n",
       "    .dataframe thead th {\n",
       "        text-align: right;\n",
       "    }\n",
       "</style>\n",
       "<table border=\"1\" class=\"dataframe\">\n",
       "  <thead>\n",
       "    <tr style=\"text-align: right;\">\n",
       "      <th></th>\n",
       "      <th>header</th>\n",
       "      <th>author</th>\n",
       "      <th>date</th>\n",
       "      <th>views</th>\n",
       "      <th>short_text</th>\n",
       "    </tr>\n",
       "  </thead>\n",
       "  <tbody>\n",
       "    <tr>\n",
       "      <th>34</th>\n",
       "      <td>27-летний актюбинец \"заработал\" на ажиотаже 1 ...</td>\n",
       "      <td>Дмитрий МАТВЕЕВ</td>\n",
       "      <td>2020-03-19 15:15:00</td>\n",
       "      <td>51797</td>\n",
       "      <td>В областном центре задержали спекулянта медици...</td>\n",
       "    </tr>\n",
       "  </tbody>\n",
       "</table>\n",
       "</div>"
      ],
      "text/plain": [
       "                                               header           author  \\\n",
       "34  27-летний актюбинец \"заработал\" на ажиотаже 1 ...  Дмитрий МАТВЕЕВ   \n",
       "\n",
       "                  date  views  \\\n",
       "34 2020-03-19 15:15:00  51797   \n",
       "\n",
       "                                           short_text  \n",
       "34  В областном центре задержали спекулянта медици...  "
      ]
     },
     "execution_count": 42,
     "metadata": {},
     "output_type": "execute_result"
    }
   ],
   "source": [
    "news[news.views == max(news.views)]"
   ]
  },
  {
   "cell_type": "code",
   "execution_count": 43,
   "metadata": {},
   "outputs": [
    {
     "data": {
      "text/plain": [
       "'27-летний актюбинец \"заработал\" на ажиотаже 1 млн 800 тыс. тенге'"
      ]
     },
     "execution_count": 43,
     "metadata": {},
     "output_type": "execute_result"
    }
   ],
   "source": [
    "news.loc[34].header"
   ]
  },
  {
   "cell_type": "code",
   "execution_count": 47,
   "metadata": {},
   "outputs": [
    {
     "data": {
      "text/plain": [
       "'Власти успокаивают семейчан, уверяя, что всё под контролем'"
      ]
     },
     "execution_count": 47,
     "metadata": {},
     "output_type": "execute_result"
    }
   ],
   "source": [
    "news.loc[129].short_text"
   ]
  },
  {
   "cell_type": "code",
   "execution_count": 46,
   "metadata": {},
   "outputs": [
    {
     "data": {
      "text/plain": [
       "34     51797\n",
       "129    49478\n",
       "158    40091\n",
       "132    30377\n",
       "122    23378\n",
       "95     22627\n",
       "64     22108\n",
       "57     21556\n",
       "68     20027\n",
       "61     18684\n",
       "150    15791\n",
       "110    14340\n",
       "113     9398\n",
       "85      9039\n",
       "135     7836\n",
       "131     7358\n",
       "115     7188\n",
       "107     6926\n",
       "80      6745\n",
       "121     6684\n",
       "143     6446\n",
       "84      6423\n",
       "139     6408\n",
       "53      5854\n",
       "32      4764\n",
       "128     4635\n",
       "100     4458\n",
       "157     4038\n",
       "130     3720\n",
       "123     3705\n",
       "       ...  \n",
       "79       345\n",
       "23       339\n",
       "7        338\n",
       "99       337\n",
       "58       336\n",
       "39       324\n",
       "134      318\n",
       "59       315\n",
       "44       300\n",
       "144      300\n",
       "63       252\n",
       "28       233\n",
       "12       232\n",
       "54       226\n",
       "31       207\n",
       "15       206\n",
       "67       205\n",
       "86       204\n",
       "89       201\n",
       "18       187\n",
       "2        184\n",
       "98       171\n",
       "56       167\n",
       "17       151\n",
       "20       149\n",
       "1        149\n",
       "4        148\n",
       "66       121\n",
       "16        57\n",
       "0         55\n",
       "Name: views, Length: 160, dtype: object"
      ]
     },
     "execution_count": 46,
     "metadata": {},
     "output_type": "execute_result"
    }
   ],
   "source": [
    "news.views.sort_values(ascending=False)"
   ]
  },
  {
   "cell_type": "code",
   "execution_count": null,
   "metadata": {},
   "outputs": [],
   "source": []
  }
 ],
 "metadata": {
  "kernelspec": {
   "display_name": "py35",
   "language": "python",
   "name": "py35"
  },
  "language_info": {
   "codemirror_mode": {
    "name": "ipython",
    "version": 3
   },
   "file_extension": ".py",
   "mimetype": "text/x-python",
   "name": "python",
   "nbconvert_exporter": "python",
   "pygments_lexer": "ipython3",
   "version": "3.6.4"
  }
 },
 "nbformat": 4,
 "nbformat_minor": 4
}
