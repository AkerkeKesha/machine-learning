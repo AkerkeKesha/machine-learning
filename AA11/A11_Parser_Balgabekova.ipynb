{
 "cells": [
  {
   "cell_type": "markdown",
   "metadata": {},
   "source": [
    "Цель: В этом домашнем задании вам предстоит обойти все ловушки серверов, пробраться сквозь страницы html-кода и собрать себе свой собственный датасет.\n",
    "\n",
    "По аналогии с занятием, возьмите интересующий вас сайт, на котором можно пособирать какие-то данные (и при этом API не предоставляется).\n",
    "Напишите свой парсер, который будет бегать по страничкам и автоматически что-то собирать.\n",
    "\n",
    "В качестве потенциальных целей для парсинга можно взять какие-нибудь блоги, выкачать оттуда публикации, авторов, число просмотром и комментариев. Можно посмотреть новостные ресурсы и скачать новостные статьи с их мета-информацией. Или любой другой интересный вам сайт.\n",
    "\n",
    "Не забывайте, что парсинг - это ответственное мероприятие, поэтому не бомбардируйте несчастные сайты слишком частыми запросами (можно ограничить число запросов в секунду при помощи time.sleep(0.3), вставленного в теле цикла)"
   ]
  },
  {
   "cell_type": "code",
   "execution_count": 1,
   "metadata": {},
   "outputs": [],
   "source": [
    "import requests\n",
    "import re\n",
    "from bs4 import BeautifulSoup\n",
    "import pandas as pd\n",
    "import time\n",
    "import sys\n",
    "\n",
    "from tqdm import tqdm_notebook"
   ]
  },
  {
   "cell_type": "code",
   "execution_count": 2,
   "metadata": {},
   "outputs": [],
   "source": [
    "news_url = 'http://ratel.kz/raw/?page='"
   ]
  },
  {
   "cell_type": "code",
   "execution_count": 3,
   "metadata": {},
   "outputs": [],
   "source": [
    "home_url = 'http://ratel.kz'"
   ]
  },
  {
   "cell_type": "code",
   "execution_count": 4,
   "metadata": {},
   "outputs": [],
   "source": [
    "page = 1"
   ]
  },
  {
   "cell_type": "code",
   "execution_count": 5,
   "metadata": {},
   "outputs": [
    {
     "data": {
      "text/plain": [
       "<Response [200]>"
      ]
     },
     "execution_count": 5,
     "metadata": {},
     "output_type": "execute_result"
    }
   ],
   "source": [
    "requests.get(news_url+str(page))"
   ]
  },
  {
   "cell_type": "code",
   "execution_count": 6,
   "metadata": {},
   "outputs": [],
   "source": [
    "news_page = requests.get(news_url+str(page))\n",
    "news_page = news_page.content"
   ]
  },
  {
   "cell_type": "code",
   "execution_count": 7,
   "metadata": {},
   "outputs": [],
   "source": [
    "news_page = BeautifulSoup(news_page, 'lxml')"
   ]
  },
  {
   "cell_type": "code",
   "execution_count": 8,
   "metadata": {},
   "outputs": [],
   "source": [
    "news_page = news_page.find('div', attrs={'class':'col-sm-8 col-sm-push-1'})"
   ]
  },
  {
   "cell_type": "code",
   "execution_count": 74,
   "metadata": {},
   "outputs": [],
   "source": [
    "def get_articles(news_page):\n",
    "    articles = news_page.findAll('div', attrs={'class':'article article_list'})\n",
    "    return articles"
   ]
  },
  {
   "cell_type": "code",
   "execution_count": 75,
   "metadata": {},
   "outputs": [],
   "source": [
    "articles = get_articles(news_page)"
   ]
  },
  {
   "cell_type": "code",
   "execution_count": 60,
   "metadata": {},
   "outputs": [],
   "source": [
    "def get_article(news_page):\n",
    "    article = news_page.find('div', attrs={'class':'article article_list'})\n",
    "    return article"
   ]
  },
  {
   "cell_type": "markdown",
   "metadata": {},
   "source": [
    "#### Заголовки новостей"
   ]
  },
  {
   "cell_type": "code",
   "execution_count": 35,
   "metadata": {},
   "outputs": [],
   "source": [
    "def get_header(article):\n",
    "    header = article.find('div', attrs = {'class':'article__title'})\n",
    "    header = header.text.strip()\n",
    "    return header"
   ]
  },
  {
   "cell_type": "code",
   "execution_count": 36,
   "metadata": {},
   "outputs": [
    {
     "data": {
      "text/plain": [
       "'Сообщения о задержании детей не подтвердились'"
      ]
     },
     "execution_count": 36,
     "metadata": {},
     "output_type": "execute_result"
    }
   ],
   "source": [
    "get_header(news_page)"
   ]
  },
  {
   "cell_type": "code",
   "execution_count": 76,
   "metadata": {},
   "outputs": [
    {
     "name": "stdout",
     "output_type": "stream",
     "text": [
      "Сообщения о задержании детей не подтвердились\n",
      "Нур-Султан: за шесть часов до карантина\n",
      "22 марта Алматы полностью закроют\n",
      "Волонтёры сейчас нужнее дорог\n",
      "Магазины, кафе и салоны красоты в условиях ЧП должны работать с 10 утра до 18:00\n",
      "В Усть-Каменогорске зарегистрировали первые случаи мошенничества с медицинскими масками\n",
      "Обстановка нервная, но паники нет\n",
      "Цены не слушаются акимата Петропавловска\n",
      "В Талдыкоргане от взрыва газа пострадала беременная женщина\n",
      "Заместитель Генпрокурора обратился к гражданам\n",
      "Коронавирус шыққан елдің жүк көлігінің жүргізушісі Қазақстан аумағына жіберілмейді\n",
      "Слухи о пациентах  с COVID-19 распространяла директор школы города Текели\n",
      "Казахстанцев, отдыхающих по турпутевкам за границей, начали возвращать на родину\n",
      "Число заражённых в Алматы составляет 15 человек\n",
      "Кто сможет въехать и выехать из Алматы и Нур-Султана во время карантина\n",
      "Родные погибшей: Мы не \"ворошиловские стрелки\"\n"
     ]
    }
   ],
   "source": [
    "for article in articles:\n",
    "    print(get_header(article))"
   ]
  },
  {
   "cell_type": "markdown",
   "metadata": {},
   "source": [
    "#### Короткий текст статьи"
   ]
  },
  {
   "cell_type": "code",
   "execution_count": 40,
   "metadata": {},
   "outputs": [],
   "source": [
    "def get_short_text(article):\n",
    "    short_text = article.find('div', attrs = {'class':'article__text'}).text\n",
    "    short_text = short_text.strip()\n",
    "    return short_text"
   ]
  },
  {
   "cell_type": "code",
   "execution_count": 42,
   "metadata": {},
   "outputs": [
    {
     "name": "stdout",
     "output_type": "stream",
     "text": [
      "Полиция Алматинской области устанавливает распространителей ложной информации\n",
      "Наш корреспондент прошлась по столице и увидела почти обезлюдевший город\n",
      "72 часа дали алматинцам на то, чтобы вернуться домой из других областей\n",
      "В Павлодарской области решено за счёт сокращения объемов ремонта дорог поощрить учителей, тренеров и волонтёров\n",
      "Рекомендации опубликованы в соцсетях\n",
      "Предприимчивые граждане рекламируют услуги по продаже и доставке востребованной продукции на сайтах и пропадают после оплаты\n",
      "Карагандинцы спешат сдать или обменять билеты на поезда в связи с режимом ЧП и карантином\n",
      "Власти Петропавловска говорят, что цены на продукты не повышаются, цены говорят обратное\n",
      "С ожогами первой степени её госпитализировали в больницу\n",
      "Казахстанцам рекомендовано проходить лечение и обследование, иначе - административная или уголовная ответственность\n",
      "Қазақстанның шекара қызметі COVID-19 пандемиясына қарсы қосымша шаралар қолданады\n",
      "Педагог уже принесла публичные извинения\n",
      "Первый борт был отправлен во вторник, 17 марта, за туристами в Гоа\n",
      "Акимат Алматы рассказал о ситуации по коронавирусу на 17 марта\n",
      "В Министерстве индустрии и инфраструктурного развития объяснили меры, предпринятые в связи с карантином\n",
      "В Павлодаре при загадочных обстоятельствах выпала из окна молодая учительница, а теперь кто-то до смерти избил ее мужа\n"
     ]
    }
   ],
   "source": [
    "for article in articles:\n",
    "    print(get_short_text(article))"
   ]
  },
  {
   "cell_type": "markdown",
   "metadata": {},
   "source": [
    "#### Article page"
   ]
  },
  {
   "cell_type": "code",
   "execution_count": 77,
   "metadata": {},
   "outputs": [],
   "source": [
    "def get_link(news_page):\n",
    "    link = news_page.find('a', attrs= {'class':'article__img-link'}).get('href')\n",
    "    return link"
   ]
  },
  {
   "cell_type": "code",
   "execution_count": 81,
   "metadata": {},
   "outputs": [
    {
     "data": {
      "text/plain": [
       "'/raw/soobschenija_o_zaderzhanii_detej_ne_podtverdilis'"
      ]
     },
     "execution_count": 81,
     "metadata": {},
     "output_type": "execute_result"
    }
   ],
   "source": [
    "news_link = get_link(news_page)\n",
    "news_link"
   ]
  },
  {
   "cell_type": "markdown",
   "metadata": {},
   "source": [
    "#### Страничка одной статьи"
   ]
  },
  {
   "cell_type": "code",
   "execution_count": 14,
   "metadata": {},
   "outputs": [],
   "source": [
    "def get_subpage(link):\n",
    "    sub_page = requests.get(home_url+str(link)).content\n",
    "    sub_page = BeautifulSoup(sub_page, 'lxml')\n",
    "    return sub_page"
   ]
  },
  {
   "cell_type": "code",
   "execution_count": 15,
   "metadata": {},
   "outputs": [],
   "source": [
    "sub_page = get_subpage(news_link)"
   ]
  },
  {
   "cell_type": "markdown",
   "metadata": {},
   "source": [
    "#### Просмотры статьи"
   ]
  },
  {
   "cell_type": "code",
   "execution_count": 16,
   "metadata": {},
   "outputs": [
    {
     "data": {
      "text/plain": [
       "315"
      ]
     },
     "execution_count": 16,
     "metadata": {},
     "output_type": "execute_result"
    }
   ],
   "source": [
    "def get_views(sub_page):\n",
    "    post_views = sub_page.find('div', attrs={'class':'post__views'})\n",
    "    text = post_views.text\n",
    "    views = text.strip().split()[0]\n",
    "    return int(views)\n",
    "\n",
    "get_views(sub_page)"
   ]
  },
  {
   "cell_type": "markdown",
   "metadata": {},
   "source": [
    "#### Дата публикации"
   ]
  },
  {
   "cell_type": "code",
   "execution_count": 17,
   "metadata": {},
   "outputs": [
    {
     "data": {
      "text/plain": [
       "'ru_RU.UTF-8'"
      ]
     },
     "execution_count": 17,
     "metadata": {},
     "output_type": "execute_result"
    }
   ],
   "source": [
    "import datetime\n",
    "import locale\n",
    "locale.setlocale(locale.LC_TIME, 'ru_RU.UTF-8')"
   ]
  },
  {
   "cell_type": "code",
   "execution_count": 18,
   "metadata": {},
   "outputs": [
    {
     "data": {
      "text/plain": [
       "'18 Мар 2020'"
      ]
     },
     "execution_count": 18,
     "metadata": {},
     "output_type": "execute_result"
    }
   ],
   "source": [
    "def get_date(news_page):\n",
    "    pattern = re.compile(r'[\\d]{1,2}[\\s]{1}[А-я]{3}[\\s]{1}[\\d]{4}')\n",
    "    text = news_page.find('div', attrs = {'class':'article__date'}).text\n",
    "    date = re.match(pattern, text).group(0)\n",
    "    return date if date else \"\"\n",
    "\n",
    "get_date(news_page)"
   ]
  },
  {
   "cell_type": "code",
   "execution_count": 53,
   "metadata": {},
   "outputs": [],
   "source": [
    "def get_datetime(article):\n",
    "    article_info = article.find('div', attrs = {'class':'article__date'}).text\n",
    "    time_data = article_info.split(\" — \")[0]\n",
    "    date = datetime.datetime.strptime(time_data, '%d %b %Y, %H:%M')\n",
    "    return date"
   ]
  },
  {
   "cell_type": "code",
   "execution_count": 54,
   "metadata": {},
   "outputs": [
    {
     "name": "stdout",
     "output_type": "stream",
     "text": [
      "2020-03-18 19:00:00\n",
      "2020-03-18 18:00:00\n",
      "2020-03-18 17:30:00\n",
      "2020-03-18 17:00:00\n",
      "2020-03-18 16:40:00\n",
      "2020-03-18 14:40:00\n",
      "2020-03-18 13:50:00\n",
      "2020-03-18 13:00:00\n",
      "2020-03-18 12:30:00\n",
      "2020-03-18 11:20:00\n",
      "2020-03-18 10:20:00\n",
      "2020-03-18 09:40:00\n",
      "2020-03-18 08:30:00\n",
      "2020-03-18 08:00:00\n",
      "2020-03-17 22:25:00\n",
      "2020-03-17 19:40:00\n"
     ]
    }
   ],
   "source": [
    "for article in articles:\n",
    "    print(get_datetime(article))"
   ]
  },
  {
   "cell_type": "markdown",
   "metadata": {},
   "source": [
    "https://stackoverflow.com/questions/41839678/how-to-use-russian-date-string-with-strptime\n"
   ]
  },
  {
   "cell_type": "markdown",
   "metadata": {},
   "source": [
    "#### Автор статьм"
   ]
  },
  {
   "cell_type": "code",
   "execution_count": 21,
   "metadata": {},
   "outputs": [],
   "source": [
    "article = news_page.find('div', attrs= {'class':'article__date'})"
   ]
  },
  {
   "cell_type": "code",
   "execution_count": 45,
   "metadata": {},
   "outputs": [],
   "source": [
    "def get_author(article):\n",
    "    article_info = article.find('div', attrs = {'class':'article__date'}).text\n",
    "    article_info = article_info.split(\" — \")\n",
    "    author = article_info[1].strip()\n",
    "    return author"
   ]
  },
  {
   "cell_type": "code",
   "execution_count": 46,
   "metadata": {},
   "outputs": [
    {
     "name": "stdout",
     "output_type": "stream",
     "text": [
      "Алия АХМЕДИЕВА\n",
      "Асем  МИРЖЕКЕЕВА\n",
      "Ратель\n",
      "Ольга ВОРОНЬКО\n",
      "Ратель\n",
      "Антон СЕРГИЕНКО\n",
      "Сергей ПЕРХАЛЬСКИЙ\n",
      "Ольга ВАЙТОВИЧ\n",
      "Алия АХМЕДИЕВА\n",
      "Ратель\n",
      "Ратель\n",
      "Алия АХМЕДИЕВА\n",
      "Ратель\n",
      "Ратель\n",
      "Ратель\n",
      "Ольга ВОРОНЬКО\n"
     ]
    }
   ],
   "source": [
    "for article in articles:\n",
    "    print(get_author(article))"
   ]
  },
  {
   "cell_type": "code",
   "execution_count": 55,
   "metadata": {},
   "outputs": [
    {
     "data": {
      "text/plain": [
       "'/raw/soobschenija_o_zaderzhanii_detej_ne_podtverdilis'"
      ]
     },
     "execution_count": 55,
     "metadata": {},
     "output_type": "execute_result"
    }
   ],
   "source": [
    "news_link"
   ]
  },
  {
   "cell_type": "code",
   "execution_count": 86,
   "metadata": {},
   "outputs": [],
   "source": [
    "def get_article_data(news_page):\n",
    "    news_link = get_link(news_page)\n",
    "    sub_page = get_subpage(news_link)\n",
    "    article = get_article(news_page)\n",
    "    article_data = {\n",
    "        'views': get_views(sub_page),\n",
    "        'header': get_header(article),\n",
    "        'author': get_author(article),\n",
    "        'date': get_date(article),\n",
    "        'short_text': get_short_text(article)\n",
    "    }\n",
    "    return article_data"
   ]
  },
  {
   "cell_type": "code",
   "execution_count": 88,
   "metadata": {},
   "outputs": [],
   "source": [
    "def get_news(page):\n",
    "    news_page = requests.get(news_url+str(page))\n",
    "    news_page = news_page.content\n",
    "    news_page = BeautifulSoup(news_page, 'lxml')\n",
    "    \n",
    "    news_page = news_page.find('div', attrs={'class':'col-sm-8 col-sm-push-1'})\n",
    "    article_data = get_article_data(news_page)\n",
    "    \n",
    "    return article_data"
   ]
  },
  {
   "cell_type": "code",
   "execution_count": 89,
   "metadata": {},
   "outputs": [],
   "source": [
    "news = get_news(1)"
   ]
  },
  {
   "cell_type": "code",
   "execution_count": 90,
   "metadata": {},
   "outputs": [
    {
     "data": {
      "text/plain": [
       "{'author': 'Алия АХМЕДИЕВА',\n",
       " 'date': '18 Мар 2020',\n",
       " 'header': 'Сообщения о задержании детей не подтвердились',\n",
       " 'short_text': 'Полиция Алматинской области устанавливает распространителей ложной информации',\n",
       " 'views': 401}"
      ]
     },
     "execution_count": 90,
     "metadata": {},
     "output_type": "execute_result"
    }
   ],
   "source": [
    "news"
   ]
  },
  {
   "cell_type": "markdown",
   "metadata": {},
   "source": [
    "## Parsing start"
   ]
  },
  {
   "cell_type": "code",
   "execution_count": null,
   "metadata": {},
   "outputs": [],
   "source": [
    "# for news_link in news_links:\n",
    "#     sub_page_data = get_sub_page_data(news_link)\n",
    "#     print(sub_page_data['header'])\n",
    "#     print(sub_page_data['date'])\n",
    "#     print(f\"Likes: {sub_page_data['likes']}, Dislikes: {sub_page_data['dislikes']}\")\n",
    "#     print('====================')\n",
    "#     time.sleep(0.3)"
   ]
  }
 ],
 "metadata": {
  "kernelspec": {
   "display_name": "py35",
   "language": "python",
   "name": "py35"
  },
  "language_info": {
   "codemirror_mode": {
    "name": "ipython",
    "version": 3
   },
   "file_extension": ".py",
   "mimetype": "text/x-python",
   "name": "python",
   "nbconvert_exporter": "python",
   "pygments_lexer": "ipython3",
   "version": "3.6.4"
  }
 },
 "nbformat": 4,
 "nbformat_minor": 4
}
