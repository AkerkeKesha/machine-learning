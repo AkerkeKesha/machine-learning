{
 "cells": [
  {
   "cell_type": "code",
   "execution_count": 1,
   "metadata": {},
   "outputs": [],
   "source": [
    "import pandas as pd\n",
    "import numpy as np \n",
    "import seaborn as sns\n",
    "import matplotlib.pyplot as plt\n",
    "%matplotlib inline\n",
    "\n",
    "import warnings\n",
    "warnings.filterwarnings('ignore')"
   ]
  },
  {
   "cell_type": "code",
   "execution_count": 2,
   "metadata": {},
   "outputs": [],
   "source": [
    "data = pd.read_csv('data/cosmetics.csv')"
   ]
  },
  {
   "cell_type": "code",
   "execution_count": 3,
   "metadata": {},
   "outputs": [
    {
     "data": {
      "text/html": [
       "<div>\n",
       "<style scoped>\n",
       "    .dataframe tbody tr th:only-of-type {\n",
       "        vertical-align: middle;\n",
       "    }\n",
       "\n",
       "    .dataframe tbody tr th {\n",
       "        vertical-align: top;\n",
       "    }\n",
       "\n",
       "    .dataframe thead th {\n",
       "        text-align: right;\n",
       "    }\n",
       "</style>\n",
       "<table border=\"1\" class=\"dataframe\">\n",
       "  <thead>\n",
       "    <tr style=\"text-align: right;\">\n",
       "      <th></th>\n",
       "      <th>Unnamed: 0</th>\n",
       "      <th>category</th>\n",
       "      <th>url</th>\n",
       "      <th>brand</th>\n",
       "      <th>name</th>\n",
       "      <th>price</th>\n",
       "      <th>rating</th>\n",
       "      <th>skin_type</th>\n",
       "      <th>ingredients</th>\n",
       "    </tr>\n",
       "  </thead>\n",
       "  <tbody>\n",
       "    <tr>\n",
       "      <th>0</th>\n",
       "      <td>0</td>\n",
       "      <td>beauty-complexion</td>\n",
       "      <td>https://en.zalando.de/darphin-melaperfect-foun...</td>\n",
       "      <td>Darphin</td>\n",
       "      <td>MELAPERFECT FOUNDATION NEUTRAL - Foundation</td>\n",
       "      <td>39.95</td>\n",
       "      <td>4.000000</td>\n",
       "      <td>NaN</td>\n",
       "      <td>Water\\aqua\\eau, methyl, trimethicone, phenyl t...</td>\n",
       "    </tr>\n",
       "    <tr>\n",
       "      <th>1</th>\n",
       "      <td>1</td>\n",
       "      <td>beauty-complexion</td>\n",
       "      <td>https://en.zalando.de/nyx-professional-makeup-...</td>\n",
       "      <td>Nyx Professional Makeup</td>\n",
       "      <td>HD PHOTOGENIC CONCEALER WAND - Concealer</td>\n",
       "      <td>6.95</td>\n",
       "      <td>4.143646</td>\n",
       "      <td>NaN</td>\n",
       "      <td>AQUA / WATER, TRIMETHYLSILOXYPHENYL DIMETHICON...</td>\n",
       "    </tr>\n",
       "    <tr>\n",
       "      <th>2</th>\n",
       "      <td>2</td>\n",
       "      <td>beauty-complexion</td>\n",
       "      <td>https://en.zalando.de/nyx-professional-makeup-...</td>\n",
       "      <td>Nyx Professional Makeup</td>\n",
       "      <td>BARE WITH ME TINTED SKIN VEIL - Setting spray ...</td>\n",
       "      <td>9.95</td>\n",
       "      <td>4.560000</td>\n",
       "      <td>NaN</td>\n",
       "      <td>Aqua/Water/Eau, Glycerin, Alcohol Denat., Aloe...</td>\n",
       "    </tr>\n",
       "    <tr>\n",
       "      <th>3</th>\n",
       "      <td>3</td>\n",
       "      <td>beauty-complexion</td>\n",
       "      <td>https://en.zalando.de/mac-prep--prime-fix--mat...</td>\n",
       "      <td>MAC</td>\n",
       "      <td>PREP + PRIME FIX + MATTIFYING MIST 100ML - Primer</td>\n",
       "      <td>22.50</td>\n",
       "      <td>4.327586</td>\n",
       "      <td>NaN</td>\n",
       "      <td>Water\\Aqua\\Eau , Alcohol Denat. , Silica , Sod...</td>\n",
       "    </tr>\n",
       "    <tr>\n",
       "      <th>4</th>\n",
       "      <td>4</td>\n",
       "      <td>beauty-complexion</td>\n",
       "      <td>https://en.zalando.de/mac-studio-fix-fluid-spf...</td>\n",
       "      <td>MAC</td>\n",
       "      <td>STUDIO FIX FLUID SPF15 FOUNDATION - Foundation</td>\n",
       "      <td>33.95</td>\n",
       "      <td>4.485348</td>\n",
       "      <td>NaN</td>\n",
       "      <td>Octinoxate 2.50%, Titanium Dioxide 1.00%Water\\...</td>\n",
       "    </tr>\n",
       "  </tbody>\n",
       "</table>\n",
       "</div>"
      ],
      "text/plain": [
       "   Unnamed: 0           category  \\\n",
       "0           0  beauty-complexion   \n",
       "1           1  beauty-complexion   \n",
       "2           2  beauty-complexion   \n",
       "3           3  beauty-complexion   \n",
       "4           4  beauty-complexion   \n",
       "\n",
       "                                                 url                    brand  \\\n",
       "0  https://en.zalando.de/darphin-melaperfect-foun...                  Darphin   \n",
       "1  https://en.zalando.de/nyx-professional-makeup-...  Nyx Professional Makeup   \n",
       "2  https://en.zalando.de/nyx-professional-makeup-...  Nyx Professional Makeup   \n",
       "3  https://en.zalando.de/mac-prep--prime-fix--mat...                      MAC   \n",
       "4  https://en.zalando.de/mac-studio-fix-fluid-spf...                      MAC   \n",
       "\n",
       "                                                name  price    rating  \\\n",
       "0        MELAPERFECT FOUNDATION NEUTRAL - Foundation  39.95  4.000000   \n",
       "1           HD PHOTOGENIC CONCEALER WAND - Concealer   6.95  4.143646   \n",
       "2  BARE WITH ME TINTED SKIN VEIL - Setting spray ...   9.95  4.560000   \n",
       "3  PREP + PRIME FIX + MATTIFYING MIST 100ML - Primer  22.50  4.327586   \n",
       "4     STUDIO FIX FLUID SPF15 FOUNDATION - Foundation  33.95  4.485348   \n",
       "\n",
       "  skin_type                                        ingredients  \n",
       "0       NaN  Water\\aqua\\eau, methyl, trimethicone, phenyl t...  \n",
       "1       NaN  AQUA / WATER, TRIMETHYLSILOXYPHENYL DIMETHICON...  \n",
       "2       NaN  Aqua/Water/Eau, Glycerin, Alcohol Denat., Aloe...  \n",
       "3       NaN  Water\\Aqua\\Eau , Alcohol Denat. , Silica , Sod...  \n",
       "4       NaN  Octinoxate 2.50%, Titanium Dioxide 1.00%Water\\...  "
      ]
     },
     "execution_count": 3,
     "metadata": {},
     "output_type": "execute_result"
    }
   ],
   "source": [
    "data.head()"
   ]
  },
  {
   "cell_type": "code",
   "execution_count": 4,
   "metadata": {},
   "outputs": [
    {
     "data": {
      "text/plain": [
       "(5392, 9)"
      ]
     },
     "execution_count": 4,
     "metadata": {},
     "output_type": "execute_result"
    }
   ],
   "source": [
    "data.shape"
   ]
  },
  {
   "cell_type": "code",
   "execution_count": 5,
   "metadata": {},
   "outputs": [
    {
     "name": "stdout",
     "output_type": "stream",
     "text": [
      "<class 'pandas.core.frame.DataFrame'>\n",
      "RangeIndex: 5392 entries, 0 to 5391\n",
      "Data columns (total 9 columns):\n",
      "Unnamed: 0     5392 non-null int64\n",
      "category       5392 non-null object\n",
      "url            5392 non-null object\n",
      "brand          5029 non-null object\n",
      "name           5029 non-null object\n",
      "price          5029 non-null float64\n",
      "rating         4212 non-null float64\n",
      "skin_type      1886 non-null object\n",
      "ingredients    4950 non-null object\n",
      "dtypes: float64(2), int64(1), object(6)\n",
      "memory usage: 379.2+ KB\n"
     ]
    }
   ],
   "source": [
    "data.info()"
   ]
  },
  {
   "cell_type": "code",
   "execution_count": 13,
   "metadata": {},
   "outputs": [
    {
     "data": {
      "text/plain": [
       "category        0.000000\n",
       "url             0.000000\n",
       "brand           6.732196\n",
       "name            6.732196\n",
       "price           6.732196\n",
       "rating         21.884273\n",
       "skin_type      65.022255\n",
       "ingredients     8.197329\n",
       "dtype: float64"
      ]
     },
     "execution_count": 13,
     "metadata": {},
     "output_type": "execute_result"
    }
   ],
   "source": [
    "data.isnull().sum()/data.shape[0]*100"
   ]
  },
  {
   "cell_type": "code",
   "execution_count": 21,
   "metadata": {},
   "outputs": [
    {
     "data": {
      "text/plain": [
       "Index(['category', 'url', 'brand', 'name', 'price', 'rating', 'skin_type',\n",
       "       'ingredients'],\n",
       "      dtype='object')"
      ]
     },
     "execution_count": 21,
     "metadata": {},
     "output_type": "execute_result"
    }
   ],
   "source": [
    "data.columns"
   ]
  },
  {
   "cell_type": "markdown",
   "metadata": {},
   "source": [
    "нужно удалить пустые значения:\n",
    "- `Unnamed` не нужен\n",
    "- `brand` и `name` и `price` около 300 (6.7%) значений без названия, не будем это хранить "
   ]
  },
  {
   "cell_type": "code",
   "execution_count": 6,
   "metadata": {},
   "outputs": [],
   "source": [
    "data = data.drop('Unnamed: 0', axis=1)"
   ]
  },
  {
   "cell_type": "markdown",
   "metadata": {},
   "source": [
    "#### category"
   ]
  },
  {
   "cell_type": "code",
   "execution_count": 22,
   "metadata": {},
   "outputs": [
    {
     "data": {
      "text/plain": [
       "beauty-complexion        1888\n",
       "beauty-skincare-face     1616\n",
       "beauty-sun-protection    1525\n",
       "Name: category, dtype: int64"
      ]
     },
     "execution_count": 22,
     "metadata": {},
     "output_type": "execute_result"
    }
   ],
   "source": [
    "data.category.value_counts()"
   ]
  },
  {
   "cell_type": "markdown",
   "metadata": {},
   "source": [
    "категории надо сделать по проще"
   ]
  },
  {
   "cell_type": "markdown",
   "metadata": {},
   "source": [
    "#### url "
   ]
  },
  {
   "cell_type": "code",
   "execution_count": 27,
   "metadata": {},
   "outputs": [],
   "source": [
    "data = data.drop(['url'], axis=1)"
   ]
  },
  {
   "cell_type": "markdown",
   "metadata": {},
   "source": [
    "#### name, brandname, price"
   ]
  },
  {
   "cell_type": "code",
   "execution_count": 7,
   "metadata": {},
   "outputs": [
    {
     "data": {
      "text/plain": [
       "6.732195845697329"
      ]
     },
     "execution_count": 7,
     "metadata": {},
     "output_type": "execute_result"
    }
   ],
   "source": [
    "data.name.isnull().sum()/data.shape[0]*100"
   ]
  },
  {
   "cell_type": "code",
   "execution_count": 14,
   "metadata": {},
   "outputs": [],
   "source": [
    "data.dropna(subset=['name'], inplace=True)"
   ]
  },
  {
   "cell_type": "code",
   "execution_count": 15,
   "metadata": {},
   "outputs": [],
   "source": [
    "data.reset_index(drop=True, inplace=True)"
   ]
  },
  {
   "cell_type": "code",
   "execution_count": 28,
   "metadata": {},
   "outputs": [
    {
     "data": {
      "text/html": [
       "<div>\n",
       "<style scoped>\n",
       "    .dataframe tbody tr th:only-of-type {\n",
       "        vertical-align: middle;\n",
       "    }\n",
       "\n",
       "    .dataframe tbody tr th {\n",
       "        vertical-align: top;\n",
       "    }\n",
       "\n",
       "    .dataframe thead th {\n",
       "        text-align: right;\n",
       "    }\n",
       "</style>\n",
       "<table border=\"1\" class=\"dataframe\">\n",
       "  <thead>\n",
       "    <tr style=\"text-align: right;\">\n",
       "      <th></th>\n",
       "      <th>category</th>\n",
       "      <th>brand</th>\n",
       "      <th>name</th>\n",
       "      <th>price</th>\n",
       "      <th>rating</th>\n",
       "      <th>skin_type</th>\n",
       "      <th>ingredients</th>\n",
       "    </tr>\n",
       "  </thead>\n",
       "  <tbody>\n",
       "    <tr>\n",
       "      <th>5024</th>\n",
       "      <td>beauty-sun-protection</td>\n",
       "      <td>Korres</td>\n",
       "      <td>WALNUT &amp; COCONUT FACE &amp; BODY OIL SPF10 150ML -...</td>\n",
       "      <td>19.95</td>\n",
       "      <td>3.000000</td>\n",
       "      <td>NaN</td>\n",
       "      <td>C12-15 Alkyl Benzoate, Sesamum Indicum (Sesame...</td>\n",
       "    </tr>\n",
       "    <tr>\n",
       "      <th>5025</th>\n",
       "      <td>beauty-sun-protection</td>\n",
       "      <td>Vita Liberata</td>\n",
       "      <td>INVISI MOUSSE 200ML - Self tan</td>\n",
       "      <td>29.95</td>\n",
       "      <td>4.750000</td>\n",
       "      <td>All skin types</td>\n",
       "      <td>Aloe Barbadensis Leaf Juice *, Dihydroxyaceton...</td>\n",
       "    </tr>\n",
       "    <tr>\n",
       "      <th>5026</th>\n",
       "      <td>beauty-sun-protection</td>\n",
       "      <td>Clinique</td>\n",
       "      <td>SPF30 VIRTU-OIL BODY MIST 144ML - Sun protection</td>\n",
       "      <td>28.95</td>\n",
       "      <td>5.000000</td>\n",
       "      <td>All skin types</td>\n",
       "      <td>Avobenzone 3.0% , Homosalate 10.0% , Octisalat...</td>\n",
       "    </tr>\n",
       "    <tr>\n",
       "      <th>5027</th>\n",
       "      <td>beauty-sun-protection</td>\n",
       "      <td>St. Tropez</td>\n",
       "      <td>GRADUAL TAN SCULPT &amp; GLOW LOTION 200ML - Self tan</td>\n",
       "      <td>25.95</td>\n",
       "      <td>3.666667</td>\n",
       "      <td>NaN</td>\n",
       "      <td>Aqua (Water), Cyclopentasiloxane, Dimethicone,...</td>\n",
       "    </tr>\n",
       "    <tr>\n",
       "      <th>5028</th>\n",
       "      <td>beauty-sun-protection</td>\n",
       "      <td>St. Tropez</td>\n",
       "      <td>GRADUAL TAN LUMINOUS VEIL FACE 50ML - Self tan</td>\n",
       "      <td>25.95</td>\n",
       "      <td>2.500000</td>\n",
       "      <td>NaN</td>\n",
       "      <td>Aqua (Water/Eau), Glycerin, C12-15 Alkyl Benzo...</td>\n",
       "    </tr>\n",
       "  </tbody>\n",
       "</table>\n",
       "</div>"
      ],
      "text/plain": [
       "                   category          brand  \\\n",
       "5024  beauty-sun-protection         Korres   \n",
       "5025  beauty-sun-protection  Vita Liberata   \n",
       "5026  beauty-sun-protection       Clinique   \n",
       "5027  beauty-sun-protection     St. Tropez   \n",
       "5028  beauty-sun-protection     St. Tropez   \n",
       "\n",
       "                                                   name  price    rating  \\\n",
       "5024  WALNUT & COCONUT FACE & BODY OIL SPF10 150ML -...  19.95  3.000000   \n",
       "5025                     INVISI MOUSSE 200ML - Self tan  29.95  4.750000   \n",
       "5026   SPF30 VIRTU-OIL BODY MIST 144ML - Sun protection  28.95  5.000000   \n",
       "5027  GRADUAL TAN SCULPT & GLOW LOTION 200ML - Self tan  25.95  3.666667   \n",
       "5028     GRADUAL TAN LUMINOUS VEIL FACE 50ML - Self tan  25.95  2.500000   \n",
       "\n",
       "           skin_type                                        ingredients  \n",
       "5024             NaN  C12-15 Alkyl Benzoate, Sesamum Indicum (Sesame...  \n",
       "5025  All skin types  Aloe Barbadensis Leaf Juice *, Dihydroxyaceton...  \n",
       "5026  All skin types  Avobenzone 3.0% , Homosalate 10.0% , Octisalat...  \n",
       "5027             NaN  Aqua (Water), Cyclopentasiloxane, Dimethicone,...  \n",
       "5028             NaN  Aqua (Water/Eau), Glycerin, C12-15 Alkyl Benzo...  "
      ]
     },
     "execution_count": 28,
     "metadata": {},
     "output_type": "execute_result"
    }
   ],
   "source": [
    "data.tail()"
   ]
  },
  {
   "cell_type": "markdown",
   "metadata": {},
   "source": [
    "#### ingredients"
   ]
  },
  {
   "cell_type": "code",
   "execution_count": 19,
   "metadata": {},
   "outputs": [
    {
     "data": {
      "text/plain": [
       "1.5708888447007359"
      ]
     },
     "execution_count": 19,
     "metadata": {},
     "output_type": "execute_result"
    }
   ],
   "source": [
    "# not too much data with empty ingredients\n",
    "data.ingredients.isnull().sum()/data.shape[0]*100"
   ]
  },
  {
   "cell_type": "code",
   "execution_count": null,
   "metadata": {},
   "outputs": [],
   "source": [
    "# any duplicates left?\n",
    "# df_2 = data['name'].drop_duplicates()\n",
    "# cosm = cosm.loc[df_2.index, :].reset_index()"
   ]
  },
  {
   "cell_type": "markdown",
   "metadata": {},
   "source": [
    "#### Content-based Recommendation Filtering using Cosine similarities "
   ]
  },
  {
   "cell_type": "code",
   "execution_count": 10,
   "metadata": {},
   "outputs": [],
   "source": [
    "from sklearn.metrics.pairwise import cosine_similarity\n",
    "from sklearn.feature_extraction.text import CountVectorizer"
   ]
  },
  {
   "cell_type": "code",
   "execution_count": 11,
   "metadata": {},
   "outputs": [],
   "source": [
    "# from rake_nltk import Rake"
   ]
  },
  {
   "cell_type": "code",
   "execution_count": null,
   "metadata": {},
   "outputs": [],
   "source": []
  }
 ],
 "metadata": {
  "kernelspec": {
   "display_name": "py35",
   "language": "python",
   "name": "py35"
  },
  "language_info": {
   "codemirror_mode": {
    "name": "ipython",
    "version": 3
   },
   "file_extension": ".py",
   "mimetype": "text/x-python",
   "name": "python",
   "nbconvert_exporter": "python",
   "pygments_lexer": "ipython3",
   "version": "3.6.4"
  }
 },
 "nbformat": 4,
 "nbformat_minor": 4
}
