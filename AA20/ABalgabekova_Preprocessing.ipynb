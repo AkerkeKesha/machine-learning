{
 "cells": [
  {
   "cell_type": "code",
   "execution_count": 1,
   "metadata": {},
   "outputs": [],
   "source": [
    "import pandas as pd\n",
    "import numpy as np \n",
    "import seaborn as sns\n",
    "import matplotlib.pyplot as plt\n",
    "%matplotlib inline\n",
    "\n",
    "import re\n",
    "\n",
    "import warnings\n",
    "warnings.filterwarnings('ignore')"
   ]
  },
  {
   "cell_type": "code",
   "execution_count": 2,
   "metadata": {},
   "outputs": [],
   "source": [
    "data = pd.read_csv('data/cosmetics.csv')"
   ]
  },
  {
   "cell_type": "code",
   "execution_count": 3,
   "metadata": {},
   "outputs": [
    {
     "data": {
      "text/html": [
       "<div>\n",
       "<style scoped>\n",
       "    .dataframe tbody tr th:only-of-type {\n",
       "        vertical-align: middle;\n",
       "    }\n",
       "\n",
       "    .dataframe tbody tr th {\n",
       "        vertical-align: top;\n",
       "    }\n",
       "\n",
       "    .dataframe thead th {\n",
       "        text-align: right;\n",
       "    }\n",
       "</style>\n",
       "<table border=\"1\" class=\"dataframe\">\n",
       "  <thead>\n",
       "    <tr style=\"text-align: right;\">\n",
       "      <th></th>\n",
       "      <th>Unnamed: 0</th>\n",
       "      <th>category</th>\n",
       "      <th>url</th>\n",
       "      <th>brand</th>\n",
       "      <th>name</th>\n",
       "      <th>price</th>\n",
       "      <th>rating</th>\n",
       "      <th>skin_type</th>\n",
       "      <th>ingredients</th>\n",
       "    </tr>\n",
       "  </thead>\n",
       "  <tbody>\n",
       "    <tr>\n",
       "      <th>0</th>\n",
       "      <td>0</td>\n",
       "      <td>beauty-complexion</td>\n",
       "      <td>https://en.zalando.de/darphin-melaperfect-foun...</td>\n",
       "      <td>Darphin</td>\n",
       "      <td>MELAPERFECT FOUNDATION NEUTRAL - Foundation</td>\n",
       "      <td>39.95</td>\n",
       "      <td>4.000000</td>\n",
       "      <td>NaN</td>\n",
       "      <td>Water\\aqua\\eau, methyl, trimethicone, phenyl t...</td>\n",
       "    </tr>\n",
       "    <tr>\n",
       "      <th>1</th>\n",
       "      <td>1</td>\n",
       "      <td>beauty-complexion</td>\n",
       "      <td>https://en.zalando.de/nyx-professional-makeup-...</td>\n",
       "      <td>Nyx Professional Makeup</td>\n",
       "      <td>HD PHOTOGENIC CONCEALER WAND - Concealer</td>\n",
       "      <td>6.95</td>\n",
       "      <td>4.143646</td>\n",
       "      <td>NaN</td>\n",
       "      <td>AQUA / WATER, TRIMETHYLSILOXYPHENYL DIMETHICON...</td>\n",
       "    </tr>\n",
       "    <tr>\n",
       "      <th>2</th>\n",
       "      <td>2</td>\n",
       "      <td>beauty-complexion</td>\n",
       "      <td>https://en.zalando.de/nyx-professional-makeup-...</td>\n",
       "      <td>Nyx Professional Makeup</td>\n",
       "      <td>BARE WITH ME TINTED SKIN VEIL - Setting spray ...</td>\n",
       "      <td>9.95</td>\n",
       "      <td>4.560000</td>\n",
       "      <td>NaN</td>\n",
       "      <td>Aqua/Water/Eau, Glycerin, Alcohol Denat., Aloe...</td>\n",
       "    </tr>\n",
       "    <tr>\n",
       "      <th>3</th>\n",
       "      <td>3</td>\n",
       "      <td>beauty-complexion</td>\n",
       "      <td>https://en.zalando.de/mac-prep--prime-fix--mat...</td>\n",
       "      <td>MAC</td>\n",
       "      <td>PREP + PRIME FIX + MATTIFYING MIST 100ML - Primer</td>\n",
       "      <td>22.50</td>\n",
       "      <td>4.327586</td>\n",
       "      <td>NaN</td>\n",
       "      <td>Water\\Aqua\\Eau , Alcohol Denat. , Silica , Sod...</td>\n",
       "    </tr>\n",
       "    <tr>\n",
       "      <th>4</th>\n",
       "      <td>4</td>\n",
       "      <td>beauty-complexion</td>\n",
       "      <td>https://en.zalando.de/mac-studio-fix-fluid-spf...</td>\n",
       "      <td>MAC</td>\n",
       "      <td>STUDIO FIX FLUID SPF15 FOUNDATION - Foundation</td>\n",
       "      <td>33.95</td>\n",
       "      <td>4.485348</td>\n",
       "      <td>NaN</td>\n",
       "      <td>Octinoxate 2.50%, Titanium Dioxide 1.00%Water\\...</td>\n",
       "    </tr>\n",
       "  </tbody>\n",
       "</table>\n",
       "</div>"
      ],
      "text/plain": [
       "   Unnamed: 0           category  \\\n",
       "0           0  beauty-complexion   \n",
       "1           1  beauty-complexion   \n",
       "2           2  beauty-complexion   \n",
       "3           3  beauty-complexion   \n",
       "4           4  beauty-complexion   \n",
       "\n",
       "                                                 url                    brand  \\\n",
       "0  https://en.zalando.de/darphin-melaperfect-foun...                  Darphin   \n",
       "1  https://en.zalando.de/nyx-professional-makeup-...  Nyx Professional Makeup   \n",
       "2  https://en.zalando.de/nyx-professional-makeup-...  Nyx Professional Makeup   \n",
       "3  https://en.zalando.de/mac-prep--prime-fix--mat...                      MAC   \n",
       "4  https://en.zalando.de/mac-studio-fix-fluid-spf...                      MAC   \n",
       "\n",
       "                                                name  price    rating  \\\n",
       "0        MELAPERFECT FOUNDATION NEUTRAL - Foundation  39.95  4.000000   \n",
       "1           HD PHOTOGENIC CONCEALER WAND - Concealer   6.95  4.143646   \n",
       "2  BARE WITH ME TINTED SKIN VEIL - Setting spray ...   9.95  4.560000   \n",
       "3  PREP + PRIME FIX + MATTIFYING MIST 100ML - Primer  22.50  4.327586   \n",
       "4     STUDIO FIX FLUID SPF15 FOUNDATION - Foundation  33.95  4.485348   \n",
       "\n",
       "  skin_type                                        ingredients  \n",
       "0       NaN  Water\\aqua\\eau, methyl, trimethicone, phenyl t...  \n",
       "1       NaN  AQUA / WATER, TRIMETHYLSILOXYPHENYL DIMETHICON...  \n",
       "2       NaN  Aqua/Water/Eau, Glycerin, Alcohol Denat., Aloe...  \n",
       "3       NaN  Water\\Aqua\\Eau , Alcohol Denat. , Silica , Sod...  \n",
       "4       NaN  Octinoxate 2.50%, Titanium Dioxide 1.00%Water\\...  "
      ]
     },
     "execution_count": 3,
     "metadata": {},
     "output_type": "execute_result"
    }
   ],
   "source": [
    "data.head()"
   ]
  },
  {
   "cell_type": "code",
   "execution_count": 4,
   "metadata": {},
   "outputs": [
    {
     "data": {
      "text/plain": [
       "(5392, 9)"
      ]
     },
     "execution_count": 4,
     "metadata": {},
     "output_type": "execute_result"
    }
   ],
   "source": [
    "data.shape"
   ]
  },
  {
   "cell_type": "code",
   "execution_count": 5,
   "metadata": {},
   "outputs": [
    {
     "name": "stdout",
     "output_type": "stream",
     "text": [
      "<class 'pandas.core.frame.DataFrame'>\n",
      "RangeIndex: 5392 entries, 0 to 5391\n",
      "Data columns (total 9 columns):\n",
      "Unnamed: 0     5392 non-null int64\n",
      "category       5392 non-null object\n",
      "url            5392 non-null object\n",
      "brand          5029 non-null object\n",
      "name           5029 non-null object\n",
      "price          5029 non-null float64\n",
      "rating         4212 non-null float64\n",
      "skin_type      1886 non-null object\n",
      "ingredients    4950 non-null object\n",
      "dtypes: float64(2), int64(1), object(6)\n",
      "memory usage: 379.2+ KB\n"
     ]
    }
   ],
   "source": [
    "data.info()"
   ]
  },
  {
   "cell_type": "code",
   "execution_count": 6,
   "metadata": {},
   "outputs": [
    {
     "data": {
      "text/html": [
       "<div>\n",
       "<style scoped>\n",
       "    .dataframe tbody tr th:only-of-type {\n",
       "        vertical-align: middle;\n",
       "    }\n",
       "\n",
       "    .dataframe tbody tr th {\n",
       "        vertical-align: top;\n",
       "    }\n",
       "\n",
       "    .dataframe thead th {\n",
       "        text-align: right;\n",
       "    }\n",
       "</style>\n",
       "<table border=\"1\" class=\"dataframe\">\n",
       "  <thead>\n",
       "    <tr style=\"text-align: right;\">\n",
       "      <th></th>\n",
       "      <th>Unnamed: 0</th>\n",
       "      <th>price</th>\n",
       "      <th>rating</th>\n",
       "    </tr>\n",
       "  </thead>\n",
       "  <tbody>\n",
       "    <tr>\n",
       "      <th>count</th>\n",
       "      <td>5392.000000</td>\n",
       "      <td>5029.000000</td>\n",
       "      <td>4212.000000</td>\n",
       "    </tr>\n",
       "    <tr>\n",
       "      <th>mean</th>\n",
       "      <td>2695.500000</td>\n",
       "      <td>29.028837</td>\n",
       "      <td>4.261114</td>\n",
       "    </tr>\n",
       "    <tr>\n",
       "      <th>std</th>\n",
       "      <td>1556.680657</td>\n",
       "      <td>27.151732</td>\n",
       "      <td>0.675000</td>\n",
       "    </tr>\n",
       "    <tr>\n",
       "      <th>min</th>\n",
       "      <td>0.000000</td>\n",
       "      <td>5.950000</td>\n",
       "      <td>1.000000</td>\n",
       "    </tr>\n",
       "    <tr>\n",
       "      <th>25%</th>\n",
       "      <td>1347.750000</td>\n",
       "      <td>12.950000</td>\n",
       "      <td>3.967742</td>\n",
       "    </tr>\n",
       "    <tr>\n",
       "      <th>50%</th>\n",
       "      <td>2695.500000</td>\n",
       "      <td>19.950000</td>\n",
       "      <td>4.333334</td>\n",
       "    </tr>\n",
       "    <tr>\n",
       "      <th>75%</th>\n",
       "      <td>4043.250000</td>\n",
       "      <td>35.950000</td>\n",
       "      <td>4.800000</td>\n",
       "    </tr>\n",
       "    <tr>\n",
       "      <th>max</th>\n",
       "      <td>5391.000000</td>\n",
       "      <td>216.600000</td>\n",
       "      <td>5.000000</td>\n",
       "    </tr>\n",
       "  </tbody>\n",
       "</table>\n",
       "</div>"
      ],
      "text/plain": [
       "        Unnamed: 0        price       rating\n",
       "count  5392.000000  5029.000000  4212.000000\n",
       "mean   2695.500000    29.028837     4.261114\n",
       "std    1556.680657    27.151732     0.675000\n",
       "min       0.000000     5.950000     1.000000\n",
       "25%    1347.750000    12.950000     3.967742\n",
       "50%    2695.500000    19.950000     4.333334\n",
       "75%    4043.250000    35.950000     4.800000\n",
       "max    5391.000000   216.600000     5.000000"
      ]
     },
     "execution_count": 6,
     "metadata": {},
     "output_type": "execute_result"
    }
   ],
   "source": [
    "data.describe()"
   ]
  },
  {
   "cell_type": "code",
   "execution_count": 7,
   "metadata": {},
   "outputs": [
    {
     "data": {
      "text/plain": [
       "Unnamed: 0      0.000000\n",
       "category        0.000000\n",
       "url             0.000000\n",
       "brand           6.732196\n",
       "name            6.732196\n",
       "price           6.732196\n",
       "rating         21.884273\n",
       "skin_type      65.022255\n",
       "ingredients     8.197329\n",
       "dtype: float64"
      ]
     },
     "execution_count": 7,
     "metadata": {},
     "output_type": "execute_result"
    }
   ],
   "source": [
    "data.isnull().sum()/data.shape[0]*100"
   ]
  },
  {
   "cell_type": "code",
   "execution_count": 8,
   "metadata": {},
   "outputs": [
    {
     "data": {
      "text/plain": [
       "Index(['Unnamed: 0', 'category', 'url', 'brand', 'name', 'price', 'rating',\n",
       "       'skin_type', 'ingredients'],\n",
       "      dtype='object')"
      ]
     },
     "execution_count": 8,
     "metadata": {},
     "output_type": "execute_result"
    }
   ],
   "source": [
    "data.columns"
   ]
  },
  {
   "cell_type": "markdown",
   "metadata": {},
   "source": [
    "нужно удалить пустые значения:\n",
    "- `Unnamed` не нужен\n",
    "- `brand` и `name` и `price` около 300 (6.7%) значений без названия, не будем это хранить "
   ]
  },
  {
   "cell_type": "code",
   "execution_count": 9,
   "metadata": {},
   "outputs": [],
   "source": [
    "data = data.drop('Unnamed: 0', axis=1)"
   ]
  },
  {
   "cell_type": "code",
   "execution_count": 10,
   "metadata": {},
   "outputs": [
    {
     "data": {
      "text/plain": [
       "category          3\n",
       "url            1244\n",
       "brand           116\n",
       "name            766\n",
       "price           125\n",
       "rating          210\n",
       "skin_type        24\n",
       "ingredients     795\n",
       "dtype: int64"
      ]
     },
     "execution_count": 10,
     "metadata": {},
     "output_type": "execute_result"
    }
   ],
   "source": [
    "data.nunique()"
   ]
  },
  {
   "cell_type": "code",
   "execution_count": 11,
   "metadata": {},
   "outputs": [
    {
     "data": {
      "text/plain": [
       "False    2846\n",
       "True     2546\n",
       "dtype: int64"
      ]
     },
     "execution_count": 11,
     "metadata": {},
     "output_type": "execute_result"
    }
   ],
   "source": [
    "data.duplicated(subset=['url','brand_name','name', 'price', 'rating']).value_counts()"
   ]
  },
  {
   "cell_type": "code",
   "execution_count": 12,
   "metadata": {},
   "outputs": [],
   "source": [
    "data.drop_duplicates(subset=['url','brand_name','name', 'price', 'rating'], keep = 'first', inplace=True)"
   ]
  },
  {
   "cell_type": "code",
   "execution_count": 13,
   "metadata": {},
   "outputs": [
    {
     "data": {
      "text/plain": [
       "(2846, 8)"
      ]
     },
     "execution_count": 13,
     "metadata": {},
     "output_type": "execute_result"
    }
   ],
   "source": [
    "data.shape"
   ]
  },
  {
   "cell_type": "markdown",
   "metadata": {},
   "source": [
    "#### category"
   ]
  },
  {
   "cell_type": "code",
   "execution_count": 14,
   "metadata": {},
   "outputs": [
    {
     "data": {
      "text/plain": [
       "beauty-skincare-face     1311\n",
       "beauty-sun-protection     851\n",
       "beauty-complexion         684\n",
       "Name: category, dtype: int64"
      ]
     },
     "execution_count": 14,
     "metadata": {},
     "output_type": "execute_result"
    }
   ],
   "source": [
    "data.category.value_counts()"
   ]
  },
  {
   "cell_type": "markdown",
   "metadata": {},
   "source": [
    "категории надо сделать по проще"
   ]
  },
  {
   "cell_type": "code",
   "execution_count": 15,
   "metadata": {},
   "outputs": [],
   "source": [
    "def get_category(line):\n",
    "    result = ''\n",
    "    if line == 'beauty-complexion':\n",
    "        result = str('skin tone')\n",
    "    elif line == 'beauty-sun-protection':\n",
    "        result = str('sun protect')\n",
    "    else:\n",
    "        result = str('face care')\n",
    "    return result"
   ]
  },
  {
   "cell_type": "code",
   "execution_count": 16,
   "metadata": {},
   "outputs": [],
   "source": [
    "data['category'] = data['category'].apply(get_category)"
   ]
  },
  {
   "cell_type": "markdown",
   "metadata": {},
   "source": [
    "#### url "
   ]
  },
  {
   "cell_type": "code",
   "execution_count": 17,
   "metadata": {},
   "outputs": [],
   "source": [
    "data = data.drop(['url'], axis=1)"
   ]
  },
  {
   "cell_type": "markdown",
   "metadata": {},
   "source": [
    "#### name, brandname, price"
   ]
  },
  {
   "cell_type": "code",
   "execution_count": 18,
   "metadata": {},
   "outputs": [
    {
     "data": {
      "text/plain": [
       "1.1243851018973998"
      ]
     },
     "execution_count": 18,
     "metadata": {},
     "output_type": "execute_result"
    }
   ],
   "source": [
    "data.name.isnull().sum()/data.shape[0]*100"
   ]
  },
  {
   "cell_type": "code",
   "execution_count": 19,
   "metadata": {},
   "outputs": [],
   "source": [
    "data.dropna(subset=['name'], inplace=True)"
   ]
  },
  {
   "cell_type": "code",
   "execution_count": 20,
   "metadata": {},
   "outputs": [],
   "source": [
    "data.reset_index(drop=True, inplace=True)"
   ]
  },
  {
   "cell_type": "code",
   "execution_count": 21,
   "metadata": {},
   "outputs": [
    {
     "data": {
      "text/html": [
       "<div>\n",
       "<style scoped>\n",
       "    .dataframe tbody tr th:only-of-type {\n",
       "        vertical-align: middle;\n",
       "    }\n",
       "\n",
       "    .dataframe tbody tr th {\n",
       "        vertical-align: top;\n",
       "    }\n",
       "\n",
       "    .dataframe thead th {\n",
       "        text-align: right;\n",
       "    }\n",
       "</style>\n",
       "<table border=\"1\" class=\"dataframe\">\n",
       "  <thead>\n",
       "    <tr style=\"text-align: right;\">\n",
       "      <th></th>\n",
       "      <th>category</th>\n",
       "      <th>brand</th>\n",
       "      <th>name</th>\n",
       "      <th>price</th>\n",
       "      <th>rating</th>\n",
       "      <th>skin_type</th>\n",
       "      <th>ingredients</th>\n",
       "    </tr>\n",
       "  </thead>\n",
       "  <tbody>\n",
       "    <tr>\n",
       "      <th>2809</th>\n",
       "      <td>sun protect</td>\n",
       "      <td>Institut Esthederm</td>\n",
       "      <td>Sun protection</td>\n",
       "      <td>50.73</td>\n",
       "      <td>NaN</td>\n",
       "      <td>Normal skin</td>\n",
       "      <td>Aqua/Water/Eau*, Ethylhexyl Methoxycinnamate, ...</td>\n",
       "    </tr>\n",
       "    <tr>\n",
       "      <th>2810</th>\n",
       "      <td>sun protect</td>\n",
       "      <td>Institut Esthederm</td>\n",
       "      <td>INSTITUT ESTHEDERM ADAPTASUN PROTECTIVE SILKY ...</td>\n",
       "      <td>44.46</td>\n",
       "      <td>NaN</td>\n",
       "      <td>Normal skin</td>\n",
       "      <td>Butan, Dibutyl, Adipate, Coco-Caprylate/Caprat...</td>\n",
       "    </tr>\n",
       "    <tr>\n",
       "      <th>2811</th>\n",
       "      <td>sun protect</td>\n",
       "      <td>Institut Esthederm</td>\n",
       "      <td>INSTITUT ESTHEDERM ADAPTASUN PROTECTIVE TANNIN...</td>\n",
       "      <td>46.74</td>\n",
       "      <td>NaN</td>\n",
       "      <td>Normal skin</td>\n",
       "      <td>Aqua/water/eau*, Ethylhexyl Methoxycinnamate, ...</td>\n",
       "    </tr>\n",
       "    <tr>\n",
       "      <th>2812</th>\n",
       "      <td>sun protect</td>\n",
       "      <td>Skin Stories</td>\n",
       "      <td>SKIN STORIES COLOR PROTECT SUN STICK - Sun pro...</td>\n",
       "      <td>14.95</td>\n",
       "      <td>NaN</td>\n",
       "      <td>All skin types</td>\n",
       "      <td>C12-15 Alkyl Benzoate, Homosalate, Cera Alba, ...</td>\n",
       "    </tr>\n",
       "    <tr>\n",
       "      <th>2813</th>\n",
       "      <td>sun protect</td>\n",
       "      <td>Institut Esthederm</td>\n",
       "      <td>Self tan</td>\n",
       "      <td>63.84</td>\n",
       "      <td>NaN</td>\n",
       "      <td>All skin types</td>\n",
       "      <td>Aqua/Water/Eau*, Dicaprylyl Carbonate, Ethylex...</td>\n",
       "    </tr>\n",
       "  </tbody>\n",
       "</table>\n",
       "</div>"
      ],
      "text/plain": [
       "         category               brand  \\\n",
       "2809  sun protect  Institut Esthederm   \n",
       "2810  sun protect  Institut Esthederm   \n",
       "2811  sun protect  Institut Esthederm   \n",
       "2812  sun protect        Skin Stories   \n",
       "2813  sun protect  Institut Esthederm   \n",
       "\n",
       "                                                   name  price  rating  \\\n",
       "2809                                     Sun protection  50.73     NaN   \n",
       "2810  INSTITUT ESTHEDERM ADAPTASUN PROTECTIVE SILKY ...  44.46     NaN   \n",
       "2811  INSTITUT ESTHEDERM ADAPTASUN PROTECTIVE TANNIN...  46.74     NaN   \n",
       "2812  SKIN STORIES COLOR PROTECT SUN STICK - Sun pro...  14.95     NaN   \n",
       "2813                                           Self tan  63.84     NaN   \n",
       "\n",
       "           skin_type                                        ingredients  \n",
       "2809     Normal skin  Aqua/Water/Eau*, Ethylhexyl Methoxycinnamate, ...  \n",
       "2810     Normal skin  Butan, Dibutyl, Adipate, Coco-Caprylate/Caprat...  \n",
       "2811     Normal skin  Aqua/water/eau*, Ethylhexyl Methoxycinnamate, ...  \n",
       "2812  All skin types  C12-15 Alkyl Benzoate, Homosalate, Cera Alba, ...  \n",
       "2813  All skin types  Aqua/Water/Eau*, Dicaprylyl Carbonate, Ethylex...  "
      ]
     },
     "execution_count": 21,
     "metadata": {},
     "output_type": "execute_result"
    }
   ],
   "source": [
    "data.tail()"
   ]
  },
  {
   "cell_type": "markdown",
   "metadata": {},
   "source": [
    "#### rating"
   ]
  },
  {
   "cell_type": "code",
   "execution_count": 22,
   "metadata": {},
   "outputs": [
    {
     "data": {
      "image/png": "[encoded data removed]",
      "text/plain": [
       "<matplotlib.figure.Figure at 0x1065fcc18>"
      ]
     },
     "metadata": {},
     "output_type": "display_data"
    }
   ],
   "source": [
    "data['rating'].hist(bins=9);"
   ]
  },
  {
   "cell_type": "code",
   "execution_count": 23,
   "metadata": {},
   "outputs": [
    {
     "data": {
      "text/plain": [
       "585"
      ]
     },
     "execution_count": 23,
     "metadata": {},
     "output_type": "execute_result"
    }
   ],
   "source": [
    "data.rating.isnull().sum()"
   ]
  },
  {
   "cell_type": "code",
   "execution_count": 24,
   "metadata": {},
   "outputs": [],
   "source": [
    "average_rating = data.rating.mean()"
   ]
  },
  {
   "cell_type": "code",
   "execution_count": 25,
   "metadata": {},
   "outputs": [],
   "source": [
    "data.rating = data.rating.fillna(average_rating)"
   ]
  },
  {
   "cell_type": "code",
   "execution_count": 26,
   "metadata": {},
   "outputs": [
    {
     "data": {
      "text/plain": [
       "(2814, 7)"
      ]
     },
     "execution_count": 26,
     "metadata": {},
     "output_type": "execute_result"
    }
   ],
   "source": [
    "data.shape"
   ]
  },
  {
   "cell_type": "code",
   "execution_count": 27,
   "metadata": {},
   "outputs": [
    {
     "data": {
      "text/html": [
       "<div>\n",
       "<style scoped>\n",
       "    .dataframe tbody tr th:only-of-type {\n",
       "        vertical-align: middle;\n",
       "    }\n",
       "\n",
       "    .dataframe tbody tr th {\n",
       "        vertical-align: top;\n",
       "    }\n",
       "\n",
       "    .dataframe thead th {\n",
       "        text-align: right;\n",
       "    }\n",
       "</style>\n",
       "<table border=\"1\" class=\"dataframe\">\n",
       "  <thead>\n",
       "    <tr style=\"text-align: right;\">\n",
       "      <th></th>\n",
       "      <th>category</th>\n",
       "      <th>brand</th>\n",
       "      <th>name</th>\n",
       "      <th>price</th>\n",
       "      <th>rating</th>\n",
       "      <th>skin_type</th>\n",
       "      <th>ingredients</th>\n",
       "    </tr>\n",
       "  </thead>\n",
       "  <tbody>\n",
       "    <tr>\n",
       "      <th>2809</th>\n",
       "      <td>sun protect</td>\n",
       "      <td>Institut Esthederm</td>\n",
       "      <td>Sun protection</td>\n",
       "      <td>50.73</td>\n",
       "      <td>4.269727</td>\n",
       "      <td>Normal skin</td>\n",
       "      <td>Aqua/Water/Eau*, Ethylhexyl Methoxycinnamate, ...</td>\n",
       "    </tr>\n",
       "    <tr>\n",
       "      <th>2810</th>\n",
       "      <td>sun protect</td>\n",
       "      <td>Institut Esthederm</td>\n",
       "      <td>INSTITUT ESTHEDERM ADAPTASUN PROTECTIVE SILKY ...</td>\n",
       "      <td>44.46</td>\n",
       "      <td>4.269727</td>\n",
       "      <td>Normal skin</td>\n",
       "      <td>Butan, Dibutyl, Adipate, Coco-Caprylate/Caprat...</td>\n",
       "    </tr>\n",
       "    <tr>\n",
       "      <th>2811</th>\n",
       "      <td>sun protect</td>\n",
       "      <td>Institut Esthederm</td>\n",
       "      <td>INSTITUT ESTHEDERM ADAPTASUN PROTECTIVE TANNIN...</td>\n",
       "      <td>46.74</td>\n",
       "      <td>4.269727</td>\n",
       "      <td>Normal skin</td>\n",
       "      <td>Aqua/water/eau*, Ethylhexyl Methoxycinnamate, ...</td>\n",
       "    </tr>\n",
       "    <tr>\n",
       "      <th>2812</th>\n",
       "      <td>sun protect</td>\n",
       "      <td>Skin Stories</td>\n",
       "      <td>SKIN STORIES COLOR PROTECT SUN STICK - Sun pro...</td>\n",
       "      <td>14.95</td>\n",
       "      <td>4.269727</td>\n",
       "      <td>All skin types</td>\n",
       "      <td>C12-15 Alkyl Benzoate, Homosalate, Cera Alba, ...</td>\n",
       "    </tr>\n",
       "    <tr>\n",
       "      <th>2813</th>\n",
       "      <td>sun protect</td>\n",
       "      <td>Institut Esthederm</td>\n",
       "      <td>Self tan</td>\n",
       "      <td>63.84</td>\n",
       "      <td>4.269727</td>\n",
       "      <td>All skin types</td>\n",
       "      <td>Aqua/Water/Eau*, Dicaprylyl Carbonate, Ethylex...</td>\n",
       "    </tr>\n",
       "  </tbody>\n",
       "</table>\n",
       "</div>"
      ],
      "text/plain": [
       "         category               brand  \\\n",
       "2809  sun protect  Institut Esthederm   \n",
       "2810  sun protect  Institut Esthederm   \n",
       "2811  sun protect  Institut Esthederm   \n",
       "2812  sun protect        Skin Stories   \n",
       "2813  sun protect  Institut Esthederm   \n",
       "\n",
       "                                                   name  price    rating  \\\n",
       "2809                                     Sun protection  50.73  4.269727   \n",
       "2810  INSTITUT ESTHEDERM ADAPTASUN PROTECTIVE SILKY ...  44.46  4.269727   \n",
       "2811  INSTITUT ESTHEDERM ADAPTASUN PROTECTIVE TANNIN...  46.74  4.269727   \n",
       "2812  SKIN STORIES COLOR PROTECT SUN STICK - Sun pro...  14.95  4.269727   \n",
       "2813                                           Self tan  63.84  4.269727   \n",
       "\n",
       "           skin_type                                        ingredients  \n",
       "2809     Normal skin  Aqua/Water/Eau*, Ethylhexyl Methoxycinnamate, ...  \n",
       "2810     Normal skin  Butan, Dibutyl, Adipate, Coco-Caprylate/Caprat...  \n",
       "2811     Normal skin  Aqua/water/eau*, Ethylhexyl Methoxycinnamate, ...  \n",
       "2812  All skin types  C12-15 Alkyl Benzoate, Homosalate, Cera Alba, ...  \n",
       "2813  All skin types  Aqua/Water/Eau*, Dicaprylyl Carbonate, Ethylex...  "
      ]
     },
     "execution_count": 27,
     "metadata": {},
     "output_type": "execute_result"
    }
   ],
   "source": [
    "data.tail()"
   ]
  },
  {
   "cell_type": "markdown",
   "metadata": {},
   "source": [
    "#### rating and price"
   ]
  },
  {
   "cell_type": "code",
   "execution_count": 28,
   "metadata": {},
   "outputs": [
    {
     "data": {
      "text/plain": [
       "array([[<matplotlib.axes._subplots.AxesSubplot object at 0x1066f42b0>,\n",
       "        <matplotlib.axes._subplots.AxesSubplot object at 0x10c55ab00>]],\n",
       "      dtype=object)"
      ]
     },
     "execution_count": 28,
     "metadata": {},
     "output_type": "execute_result"
    },
    {
     "data": {
      "image/png": "[encoded data removed]",
      "text/plain": [
       "<matplotlib.figure.Figure at 0x10669e128>"
      ]
     },
     "metadata": {},
     "output_type": "display_data"
    }
   ],
   "source": [
    "data.hist(figsize=(20,20))"
   ]
  },
  {
   "cell_type": "code",
   "execution_count": 29,
   "metadata": {},
   "outputs": [
    {
     "data": {
      "image/png": "[encoded data removed]",
      "text/plain": [
       "<matplotlib.figure.Figure at 0x10c67f550>"
      ]
     },
     "metadata": {},
     "output_type": "display_data"
    }
   ],
   "source": [
    "sns_plot = sns.pairplot(data)\n",
    "sns_plot.savefig(\"img/pair_plot_output.png\")"
   ]
  },
  {
   "cell_type": "markdown",
   "metadata": {},
   "source": [
    "#### skin_type"
   ]
  },
  {
   "cell_type": "code",
   "execution_count": 30,
   "metadata": {},
   "outputs": [
    {
     "data": {
      "text/plain": [
       "All skin types                                                                        719\n",
       "Normal skin                                                                           136\n",
       "Sensitive skin                                                                        119\n",
       "Dry skin                                                                               40\n",
       "Oily skin                                                                              26\n",
       "Mature skin                                                                            23\n",
       "Combination skin                                                                       12\n",
       "Dry skin, Sensitive skin, Combination skin, Oily skin, Normal skin                     11\n",
       "Combination skin, Oily skin                                                             6\n",
       "Dry skin, Combination skin, Oily skin                                                   5\n",
       "Dry skin, Combination skin                                                              2\n",
       "Dry skin, Mature skin                                                                   2\n",
       "Dry skin, Normal skin                                                                   2\n",
       "Combination skin, Mature skin, Normal skin                                              2\n",
       "Dry skin, Combination skin, Mature skin, Normal skin                                    1\n",
       "Mature skin, Normal skin                                                                1\n",
       "Dry skin, Combination skin, Oily skin, Normal skin                                      1\n",
       "Dry skin, Mature skin, Normal skin                                                      1\n",
       "Oily skin, Normal skin                                                                  1\n",
       "Normal skin, All skin types                                                             1\n",
       "Sensitive skin, Combination skin, Mature skin, Oily skin, Normal skin                   1\n",
       "Combination skin, Oily skin, Normal skin                                                1\n",
       "Dry skin, Sensitive skin, Combination skin, Oily skin, Normal skin, All skin types      1\n",
       "Dry skin, Combination skin, Mature skin, Oily skin, Normal skin                         1\n",
       "Name: skin_type, dtype: int64"
      ]
     },
     "execution_count": 30,
     "metadata": {},
     "output_type": "execute_result"
    }
   ],
   "source": [
    "data['skin_type'].value_counts()"
   ]
  },
  {
   "cell_type": "code",
   "execution_count": 31,
   "metadata": {},
   "outputs": [
    {
     "data": {
      "text/html": [
       "<div>\n",
       "<style scoped>\n",
       "    .dataframe tbody tr th:only-of-type {\n",
       "        vertical-align: middle;\n",
       "    }\n",
       "\n",
       "    .dataframe tbody tr th {\n",
       "        vertical-align: top;\n",
       "    }\n",
       "\n",
       "    .dataframe thead th {\n",
       "        text-align: right;\n",
       "    }\n",
       "</style>\n",
       "<table border=\"1\" class=\"dataframe\">\n",
       "  <thead>\n",
       "    <tr style=\"text-align: right;\">\n",
       "      <th></th>\n",
       "      <th>category</th>\n",
       "      <th>brand</th>\n",
       "      <th>name</th>\n",
       "      <th>price</th>\n",
       "      <th>rating</th>\n",
       "      <th>skin_type</th>\n",
       "      <th>ingredients</th>\n",
       "    </tr>\n",
       "  </thead>\n",
       "  <tbody>\n",
       "    <tr>\n",
       "      <th>2809</th>\n",
       "      <td>sun protect</td>\n",
       "      <td>Institut Esthederm</td>\n",
       "      <td>Sun protection</td>\n",
       "      <td>50.73</td>\n",
       "      <td>4.269727</td>\n",
       "      <td>Normal skin</td>\n",
       "      <td>Aqua/Water/Eau*, Ethylhexyl Methoxycinnamate, ...</td>\n",
       "    </tr>\n",
       "    <tr>\n",
       "      <th>2810</th>\n",
       "      <td>sun protect</td>\n",
       "      <td>Institut Esthederm</td>\n",
       "      <td>INSTITUT ESTHEDERM ADAPTASUN PROTECTIVE SILKY ...</td>\n",
       "      <td>44.46</td>\n",
       "      <td>4.269727</td>\n",
       "      <td>Normal skin</td>\n",
       "      <td>Butan, Dibutyl, Adipate, Coco-Caprylate/Caprat...</td>\n",
       "    </tr>\n",
       "    <tr>\n",
       "      <th>2811</th>\n",
       "      <td>sun protect</td>\n",
       "      <td>Institut Esthederm</td>\n",
       "      <td>INSTITUT ESTHEDERM ADAPTASUN PROTECTIVE TANNIN...</td>\n",
       "      <td>46.74</td>\n",
       "      <td>4.269727</td>\n",
       "      <td>Normal skin</td>\n",
       "      <td>Aqua/water/eau*, Ethylhexyl Methoxycinnamate, ...</td>\n",
       "    </tr>\n",
       "    <tr>\n",
       "      <th>2812</th>\n",
       "      <td>sun protect</td>\n",
       "      <td>Skin Stories</td>\n",
       "      <td>SKIN STORIES COLOR PROTECT SUN STICK - Sun pro...</td>\n",
       "      <td>14.95</td>\n",
       "      <td>4.269727</td>\n",
       "      <td>All skin types</td>\n",
       "      <td>C12-15 Alkyl Benzoate, Homosalate, Cera Alba, ...</td>\n",
       "    </tr>\n",
       "    <tr>\n",
       "      <th>2813</th>\n",
       "      <td>sun protect</td>\n",
       "      <td>Institut Esthederm</td>\n",
       "      <td>Self tan</td>\n",
       "      <td>63.84</td>\n",
       "      <td>4.269727</td>\n",
       "      <td>All skin types</td>\n",
       "      <td>Aqua/Water/Eau*, Dicaprylyl Carbonate, Ethylex...</td>\n",
       "    </tr>\n",
       "  </tbody>\n",
       "</table>\n",
       "</div>"
      ],
      "text/plain": [
       "         category               brand  \\\n",
       "2809  sun protect  Institut Esthederm   \n",
       "2810  sun protect  Institut Esthederm   \n",
       "2811  sun protect  Institut Esthederm   \n",
       "2812  sun protect        Skin Stories   \n",
       "2813  sun protect  Institut Esthederm   \n",
       "\n",
       "                                                   name  price    rating  \\\n",
       "2809                                     Sun protection  50.73  4.269727   \n",
       "2810  INSTITUT ESTHEDERM ADAPTASUN PROTECTIVE SILKY ...  44.46  4.269727   \n",
       "2811  INSTITUT ESTHEDERM ADAPTASUN PROTECTIVE TANNIN...  46.74  4.269727   \n",
       "2812  SKIN STORIES COLOR PROTECT SUN STICK - Sun pro...  14.95  4.269727   \n",
       "2813                                           Self tan  63.84  4.269727   \n",
       "\n",
       "           skin_type                                        ingredients  \n",
       "2809     Normal skin  Aqua/Water/Eau*, Ethylhexyl Methoxycinnamate, ...  \n",
       "2810     Normal skin  Butan, Dibutyl, Adipate, Coco-Caprylate/Caprat...  \n",
       "2811     Normal skin  Aqua/water/eau*, Ethylhexyl Methoxycinnamate, ...  \n",
       "2812  All skin types  C12-15 Alkyl Benzoate, Homosalate, Cera Alba, ...  \n",
       "2813  All skin types  Aqua/Water/Eau*, Dicaprylyl Carbonate, Ethylex...  "
      ]
     },
     "execution_count": 31,
     "metadata": {},
     "output_type": "execute_result"
    }
   ],
   "source": [
    "data.tail()"
   ]
  },
  {
   "cell_type": "code",
   "execution_count": 32,
   "metadata": {},
   "outputs": [],
   "source": [
    "# make dummy columns for 7 different skin types\n",
    "encoded = data['skin_type'].str.get_dummies(sep=', ')"
   ]
  },
  {
   "cell_type": "code",
   "execution_count": 33,
   "metadata": {},
   "outputs": [
    {
     "data": {
      "text/html": [
       "<div>\n",
       "<style scoped>\n",
       "    .dataframe tbody tr th:only-of-type {\n",
       "        vertical-align: middle;\n",
       "    }\n",
       "\n",
       "    .dataframe tbody tr th {\n",
       "        vertical-align: top;\n",
       "    }\n",
       "\n",
       "    .dataframe thead th {\n",
       "        text-align: right;\n",
       "    }\n",
       "</style>\n",
       "<table border=\"1\" class=\"dataframe\">\n",
       "  <thead>\n",
       "    <tr style=\"text-align: right;\">\n",
       "      <th></th>\n",
       "      <th>All skin types</th>\n",
       "      <th>Combination skin</th>\n",
       "      <th>Dry skin</th>\n",
       "      <th>Mature skin</th>\n",
       "      <th>Normal skin</th>\n",
       "      <th>Oily skin</th>\n",
       "      <th>Sensitive skin</th>\n",
       "    </tr>\n",
       "  </thead>\n",
       "  <tbody>\n",
       "    <tr>\n",
       "      <th>2809</th>\n",
       "      <td>0</td>\n",
       "      <td>0</td>\n",
       "      <td>0</td>\n",
       "      <td>0</td>\n",
       "      <td>1</td>\n",
       "      <td>0</td>\n",
       "      <td>0</td>\n",
       "    </tr>\n",
       "    <tr>\n",
       "      <th>2810</th>\n",
       "      <td>0</td>\n",
       "      <td>0</td>\n",
       "      <td>0</td>\n",
       "      <td>0</td>\n",
       "      <td>1</td>\n",
       "      <td>0</td>\n",
       "      <td>0</td>\n",
       "    </tr>\n",
       "    <tr>\n",
       "      <th>2811</th>\n",
       "      <td>0</td>\n",
       "      <td>0</td>\n",
       "      <td>0</td>\n",
       "      <td>0</td>\n",
       "      <td>1</td>\n",
       "      <td>0</td>\n",
       "      <td>0</td>\n",
       "    </tr>\n",
       "    <tr>\n",
       "      <th>2812</th>\n",
       "      <td>1</td>\n",
       "      <td>0</td>\n",
       "      <td>0</td>\n",
       "      <td>0</td>\n",
       "      <td>0</td>\n",
       "      <td>0</td>\n",
       "      <td>0</td>\n",
       "    </tr>\n",
       "    <tr>\n",
       "      <th>2813</th>\n",
       "      <td>1</td>\n",
       "      <td>0</td>\n",
       "      <td>0</td>\n",
       "      <td>0</td>\n",
       "      <td>0</td>\n",
       "      <td>0</td>\n",
       "      <td>0</td>\n",
       "    </tr>\n",
       "  </tbody>\n",
       "</table>\n",
       "</div>"
      ],
      "text/plain": [
       "      All skin types  Combination skin  Dry skin  Mature skin  Normal skin  \\\n",
       "2809               0                 0         0            0            1   \n",
       "2810               0                 0         0            0            1   \n",
       "2811               0                 0         0            0            1   \n",
       "2812               1                 0         0            0            0   \n",
       "2813               1                 0         0            0            0   \n",
       "\n",
       "      Oily skin  Sensitive skin  \n",
       "2809          0               0  \n",
       "2810          0               0  \n",
       "2811          0               0  \n",
       "2812          0               0  \n",
       "2813          0               0  "
      ]
     },
     "execution_count": 33,
     "metadata": {},
     "output_type": "execute_result"
    }
   ],
   "source": [
    "encoded.tail()"
   ]
  },
  {
   "cell_type": "code",
   "execution_count": 34,
   "metadata": {},
   "outputs": [],
   "source": [
    "data = pd.concat([data, encoded], axis=1)"
   ]
  },
  {
   "cell_type": "code",
   "execution_count": 35,
   "metadata": {},
   "outputs": [],
   "source": [
    "data = data.drop('skin_type', axis = 1)"
   ]
  },
  {
   "cell_type": "code",
   "execution_count": 36,
   "metadata": {},
   "outputs": [
    {
     "data": {
      "text/html": [
       "<div>\n",
       "<style scoped>\n",
       "    .dataframe tbody tr th:only-of-type {\n",
       "        vertical-align: middle;\n",
       "    }\n",
       "\n",
       "    .dataframe tbody tr th {\n",
       "        vertical-align: top;\n",
       "    }\n",
       "\n",
       "    .dataframe thead th {\n",
       "        text-align: right;\n",
       "    }\n",
       "</style>\n",
       "<table border=\"1\" class=\"dataframe\">\n",
       "  <thead>\n",
       "    <tr style=\"text-align: right;\">\n",
       "      <th></th>\n",
       "      <th>category</th>\n",
       "      <th>brand</th>\n",
       "      <th>name</th>\n",
       "      <th>price</th>\n",
       "      <th>rating</th>\n",
       "      <th>ingredients</th>\n",
       "      <th>All skin types</th>\n",
       "      <th>Combination skin</th>\n",
       "      <th>Dry skin</th>\n",
       "      <th>Mature skin</th>\n",
       "      <th>Normal skin</th>\n",
       "      <th>Oily skin</th>\n",
       "      <th>Sensitive skin</th>\n",
       "    </tr>\n",
       "  </thead>\n",
       "  <tbody>\n",
       "    <tr>\n",
       "      <th>0</th>\n",
       "      <td>skin tone</td>\n",
       "      <td>Darphin</td>\n",
       "      <td>MELAPERFECT FOUNDATION NEUTRAL - Foundation</td>\n",
       "      <td>39.95</td>\n",
       "      <td>4.000000</td>\n",
       "      <td>Water\\aqua\\eau, methyl, trimethicone, phenyl t...</td>\n",
       "      <td>0</td>\n",
       "      <td>0</td>\n",
       "      <td>0</td>\n",
       "      <td>0</td>\n",
       "      <td>0</td>\n",
       "      <td>0</td>\n",
       "      <td>0</td>\n",
       "    </tr>\n",
       "    <tr>\n",
       "      <th>1</th>\n",
       "      <td>skin tone</td>\n",
       "      <td>Nyx Professional Makeup</td>\n",
       "      <td>HD PHOTOGENIC CONCEALER WAND - Concealer</td>\n",
       "      <td>6.95</td>\n",
       "      <td>4.143646</td>\n",
       "      <td>AQUA / WATER, TRIMETHYLSILOXYPHENYL DIMETHICON...</td>\n",
       "      <td>0</td>\n",
       "      <td>0</td>\n",
       "      <td>0</td>\n",
       "      <td>0</td>\n",
       "      <td>0</td>\n",
       "      <td>0</td>\n",
       "      <td>0</td>\n",
       "    </tr>\n",
       "    <tr>\n",
       "      <th>2</th>\n",
       "      <td>skin tone</td>\n",
       "      <td>Nyx Professional Makeup</td>\n",
       "      <td>BARE WITH ME TINTED SKIN VEIL - Setting spray ...</td>\n",
       "      <td>9.95</td>\n",
       "      <td>4.560000</td>\n",
       "      <td>Aqua/Water/Eau, Glycerin, Alcohol Denat., Aloe...</td>\n",
       "      <td>0</td>\n",
       "      <td>0</td>\n",
       "      <td>0</td>\n",
       "      <td>0</td>\n",
       "      <td>0</td>\n",
       "      <td>0</td>\n",
       "      <td>0</td>\n",
       "    </tr>\n",
       "    <tr>\n",
       "      <th>3</th>\n",
       "      <td>skin tone</td>\n",
       "      <td>MAC</td>\n",
       "      <td>PREP + PRIME FIX + MATTIFYING MIST 100ML - Primer</td>\n",
       "      <td>22.50</td>\n",
       "      <td>4.327586</td>\n",
       "      <td>Water\\Aqua\\Eau , Alcohol Denat. , Silica , Sod...</td>\n",
       "      <td>0</td>\n",
       "      <td>0</td>\n",
       "      <td>0</td>\n",
       "      <td>0</td>\n",
       "      <td>0</td>\n",
       "      <td>0</td>\n",
       "      <td>0</td>\n",
       "    </tr>\n",
       "    <tr>\n",
       "      <th>4</th>\n",
       "      <td>skin tone</td>\n",
       "      <td>MAC</td>\n",
       "      <td>STUDIO FIX FLUID SPF15 FOUNDATION - Foundation</td>\n",
       "      <td>33.95</td>\n",
       "      <td>4.485348</td>\n",
       "      <td>Octinoxate 2.50%, Titanium Dioxide 1.00%Water\\...</td>\n",
       "      <td>0</td>\n",
       "      <td>0</td>\n",
       "      <td>0</td>\n",
       "      <td>0</td>\n",
       "      <td>0</td>\n",
       "      <td>0</td>\n",
       "      <td>0</td>\n",
       "    </tr>\n",
       "  </tbody>\n",
       "</table>\n",
       "</div>"
      ],
      "text/plain": [
       "    category                    brand  \\\n",
       "0  skin tone                  Darphin   \n",
       "1  skin tone  Nyx Professional Makeup   \n",
       "2  skin tone  Nyx Professional Makeup   \n",
       "3  skin tone                      MAC   \n",
       "4  skin tone                      MAC   \n",
       "\n",
       "                                                name  price    rating  \\\n",
       "0        MELAPERFECT FOUNDATION NEUTRAL - Foundation  39.95  4.000000   \n",
       "1           HD PHOTOGENIC CONCEALER WAND - Concealer   6.95  4.143646   \n",
       "2  BARE WITH ME TINTED SKIN VEIL - Setting spray ...   9.95  4.560000   \n",
       "3  PREP + PRIME FIX + MATTIFYING MIST 100ML - Primer  22.50  4.327586   \n",
       "4     STUDIO FIX FLUID SPF15 FOUNDATION - Foundation  33.95  4.485348   \n",
       "\n",
       "                                         ingredients  All skin types  \\\n",
       "0  Water\\aqua\\eau, methyl, trimethicone, phenyl t...               0   \n",
       "1  AQUA / WATER, TRIMETHYLSILOXYPHENYL DIMETHICON...               0   \n",
       "2  Aqua/Water/Eau, Glycerin, Alcohol Denat., Aloe...               0   \n",
       "3  Water\\Aqua\\Eau , Alcohol Denat. , Silica , Sod...               0   \n",
       "4  Octinoxate 2.50%, Titanium Dioxide 1.00%Water\\...               0   \n",
       "\n",
       "   Combination skin  Dry skin  Mature skin  Normal skin  Oily skin  \\\n",
       "0                 0         0            0            0          0   \n",
       "1                 0         0            0            0          0   \n",
       "2                 0         0            0            0          0   \n",
       "3                 0         0            0            0          0   \n",
       "4                 0         0            0            0          0   \n",
       "\n",
       "   Sensitive skin  \n",
       "0               0  \n",
       "1               0  \n",
       "2               0  \n",
       "3               0  \n",
       "4               0  "
      ]
     },
     "execution_count": 36,
     "metadata": {},
     "output_type": "execute_result"
    }
   ],
   "source": [
    "data.head()"
   ]
  },
  {
   "cell_type": "markdown",
   "metadata": {},
   "source": [
    "#### ingredients\n",
    "*some separators are - (dash), not comma*"
   ]
  },
  {
   "cell_type": "code",
   "execution_count": 37,
   "metadata": {},
   "outputs": [
    {
     "data": {
      "text/plain": [
       "category            0.000000\n",
       "brand               0.000000\n",
       "name                0.000000\n",
       "price               0.000000\n",
       "rating              0.000000\n",
       "ingredients         2.061123\n",
       "All skin types      0.000000\n",
       "Combination skin    0.000000\n",
       "Dry skin            0.000000\n",
       "Mature skin         0.000000\n",
       "Normal skin         0.000000\n",
       "Oily skin           0.000000\n",
       "Sensitive skin      0.000000\n",
       "dtype: float64"
      ]
     },
     "execution_count": 37,
     "metadata": {},
     "output_type": "execute_result"
    }
   ],
   "source": [
    "data.isnull().sum()/data.shape[0]*100"
   ]
  },
  {
   "cell_type": "code",
   "execution_count": 38,
   "metadata": {},
   "outputs": [
    {
     "data": {
      "text/html": [
       "<div>\n",
       "<style scoped>\n",
       "    .dataframe tbody tr th:only-of-type {\n",
       "        vertical-align: middle;\n",
       "    }\n",
       "\n",
       "    .dataframe tbody tr th {\n",
       "        vertical-align: top;\n",
       "    }\n",
       "\n",
       "    .dataframe thead th {\n",
       "        text-align: right;\n",
       "    }\n",
       "</style>\n",
       "<table border=\"1\" class=\"dataframe\">\n",
       "  <thead>\n",
       "    <tr style=\"text-align: right;\">\n",
       "      <th></th>\n",
       "      <th>category</th>\n",
       "      <th>brand</th>\n",
       "      <th>name</th>\n",
       "      <th>price</th>\n",
       "      <th>rating</th>\n",
       "      <th>ingredients</th>\n",
       "      <th>All skin types</th>\n",
       "      <th>Combination skin</th>\n",
       "      <th>Dry skin</th>\n",
       "      <th>Mature skin</th>\n",
       "      <th>Normal skin</th>\n",
       "      <th>Oily skin</th>\n",
       "      <th>Sensitive skin</th>\n",
       "    </tr>\n",
       "  </thead>\n",
       "  <tbody>\n",
       "    <tr>\n",
       "      <th>2809</th>\n",
       "      <td>sun protect</td>\n",
       "      <td>Institut Esthederm</td>\n",
       "      <td>Sun protection</td>\n",
       "      <td>50.73</td>\n",
       "      <td>4.269727</td>\n",
       "      <td>Aqua/Water/Eau*, Ethylhexyl Methoxycinnamate, ...</td>\n",
       "      <td>0</td>\n",
       "      <td>0</td>\n",
       "      <td>0</td>\n",
       "      <td>0</td>\n",
       "      <td>1</td>\n",
       "      <td>0</td>\n",
       "      <td>0</td>\n",
       "    </tr>\n",
       "    <tr>\n",
       "      <th>2810</th>\n",
       "      <td>sun protect</td>\n",
       "      <td>Institut Esthederm</td>\n",
       "      <td>INSTITUT ESTHEDERM ADAPTASUN PROTECTIVE SILKY ...</td>\n",
       "      <td>44.46</td>\n",
       "      <td>4.269727</td>\n",
       "      <td>Butan, Dibutyl, Adipate, Coco-Caprylate/Caprat...</td>\n",
       "      <td>0</td>\n",
       "      <td>0</td>\n",
       "      <td>0</td>\n",
       "      <td>0</td>\n",
       "      <td>1</td>\n",
       "      <td>0</td>\n",
       "      <td>0</td>\n",
       "    </tr>\n",
       "    <tr>\n",
       "      <th>2811</th>\n",
       "      <td>sun protect</td>\n",
       "      <td>Institut Esthederm</td>\n",
       "      <td>INSTITUT ESTHEDERM ADAPTASUN PROTECTIVE TANNIN...</td>\n",
       "      <td>46.74</td>\n",
       "      <td>4.269727</td>\n",
       "      <td>Aqua/water/eau*, Ethylhexyl Methoxycinnamate, ...</td>\n",
       "      <td>0</td>\n",
       "      <td>0</td>\n",
       "      <td>0</td>\n",
       "      <td>0</td>\n",
       "      <td>1</td>\n",
       "      <td>0</td>\n",
       "      <td>0</td>\n",
       "    </tr>\n",
       "    <tr>\n",
       "      <th>2812</th>\n",
       "      <td>sun protect</td>\n",
       "      <td>Skin Stories</td>\n",
       "      <td>SKIN STORIES COLOR PROTECT SUN STICK - Sun pro...</td>\n",
       "      <td>14.95</td>\n",
       "      <td>4.269727</td>\n",
       "      <td>C12-15 Alkyl Benzoate, Homosalate, Cera Alba, ...</td>\n",
       "      <td>1</td>\n",
       "      <td>0</td>\n",
       "      <td>0</td>\n",
       "      <td>0</td>\n",
       "      <td>0</td>\n",
       "      <td>0</td>\n",
       "      <td>0</td>\n",
       "    </tr>\n",
       "    <tr>\n",
       "      <th>2813</th>\n",
       "      <td>sun protect</td>\n",
       "      <td>Institut Esthederm</td>\n",
       "      <td>Self tan</td>\n",
       "      <td>63.84</td>\n",
       "      <td>4.269727</td>\n",
       "      <td>Aqua/Water/Eau*, Dicaprylyl Carbonate, Ethylex...</td>\n",
       "      <td>1</td>\n",
       "      <td>0</td>\n",
       "      <td>0</td>\n",
       "      <td>0</td>\n",
       "      <td>0</td>\n",
       "      <td>0</td>\n",
       "      <td>0</td>\n",
       "    </tr>\n",
       "  </tbody>\n",
       "</table>\n",
       "</div>"
      ],
      "text/plain": [
       "         category               brand  \\\n",
       "2809  sun protect  Institut Esthederm   \n",
       "2810  sun protect  Institut Esthederm   \n",
       "2811  sun protect  Institut Esthederm   \n",
       "2812  sun protect        Skin Stories   \n",
       "2813  sun protect  Institut Esthederm   \n",
       "\n",
       "                                                   name  price    rating  \\\n",
       "2809                                     Sun protection  50.73  4.269727   \n",
       "2810  INSTITUT ESTHEDERM ADAPTASUN PROTECTIVE SILKY ...  44.46  4.269727   \n",
       "2811  INSTITUT ESTHEDERM ADAPTASUN PROTECTIVE TANNIN...  46.74  4.269727   \n",
       "2812  SKIN STORIES COLOR PROTECT SUN STICK - Sun pro...  14.95  4.269727   \n",
       "2813                                           Self tan  63.84  4.269727   \n",
       "\n",
       "                                            ingredients  All skin types  \\\n",
       "2809  Aqua/Water/Eau*, Ethylhexyl Methoxycinnamate, ...               0   \n",
       "2810  Butan, Dibutyl, Adipate, Coco-Caprylate/Caprat...               0   \n",
       "2811  Aqua/water/eau*, Ethylhexyl Methoxycinnamate, ...               0   \n",
       "2812  C12-15 Alkyl Benzoate, Homosalate, Cera Alba, ...               1   \n",
       "2813  Aqua/Water/Eau*, Dicaprylyl Carbonate, Ethylex...               1   \n",
       "\n",
       "      Combination skin  Dry skin  Mature skin  Normal skin  Oily skin  \\\n",
       "2809                 0         0            0            1          0   \n",
       "2810                 0         0            0            1          0   \n",
       "2811                 0         0            0            1          0   \n",
       "2812                 0         0            0            0          0   \n",
       "2813                 0         0            0            0          0   \n",
       "\n",
       "      Sensitive skin  \n",
       "2809               0  \n",
       "2810               0  \n",
       "2811               0  \n",
       "2812               0  \n",
       "2813               0  "
      ]
     },
     "execution_count": 38,
     "metadata": {},
     "output_type": "execute_result"
    }
   ],
   "source": [
    "data.tail()"
   ]
  },
  {
   "cell_type": "code",
   "execution_count": 39,
   "metadata": {},
   "outputs": [],
   "source": [
    "null_ingredients = data[data.isna().any(axis=1)]"
   ]
  },
  {
   "cell_type": "code",
   "execution_count": 40,
   "metadata": {},
   "outputs": [
    {
     "data": {
      "text/html": [
       "<div>\n",
       "<style scoped>\n",
       "    .dataframe tbody tr th:only-of-type {\n",
       "        vertical-align: middle;\n",
       "    }\n",
       "\n",
       "    .dataframe tbody tr th {\n",
       "        vertical-align: top;\n",
       "    }\n",
       "\n",
       "    .dataframe thead th {\n",
       "        text-align: right;\n",
       "    }\n",
       "</style>\n",
       "<table border=\"1\" class=\"dataframe\">\n",
       "  <thead>\n",
       "    <tr style=\"text-align: right;\">\n",
       "      <th></th>\n",
       "      <th>category</th>\n",
       "      <th>brand</th>\n",
       "      <th>name</th>\n",
       "      <th>price</th>\n",
       "      <th>rating</th>\n",
       "      <th>ingredients</th>\n",
       "      <th>All skin types</th>\n",
       "      <th>Combination skin</th>\n",
       "      <th>Dry skin</th>\n",
       "      <th>Mature skin</th>\n",
       "      <th>Normal skin</th>\n",
       "      <th>Oily skin</th>\n",
       "      <th>Sensitive skin</th>\n",
       "    </tr>\n",
       "  </thead>\n",
       "  <tbody>\n",
       "    <tr>\n",
       "      <th>1487</th>\n",
       "      <td>face care</td>\n",
       "      <td>Pixi</td>\n",
       "      <td>SHEA BUTTER LIP BALM - Lip balm</td>\n",
       "      <td>10.95</td>\n",
       "      <td>3.967742</td>\n",
       "      <td>NaN</td>\n",
       "      <td>0</td>\n",
       "      <td>0</td>\n",
       "      <td>0</td>\n",
       "      <td>0</td>\n",
       "      <td>0</td>\n",
       "      <td>0</td>\n",
       "      <td>0</td>\n",
       "    </tr>\n",
       "    <tr>\n",
       "      <th>1491</th>\n",
       "      <td>face care</td>\n",
       "      <td>MAC</td>\n",
       "      <td>PRO PALETTE X 2 - Eye makeup tool</td>\n",
       "      <td>5.95</td>\n",
       "      <td>4.269727</td>\n",
       "      <td>NaN</td>\n",
       "      <td>0</td>\n",
       "      <td>0</td>\n",
       "      <td>0</td>\n",
       "      <td>0</td>\n",
       "      <td>0</td>\n",
       "      <td>0</td>\n",
       "      <td>0</td>\n",
       "    </tr>\n",
       "    <tr>\n",
       "      <th>1511</th>\n",
       "      <td>face care</td>\n",
       "      <td>Pixi</td>\n",
       "      <td>SHEA BUTTER LIP BALM - Lip balm</td>\n",
       "      <td>10.95</td>\n",
       "      <td>3.967742</td>\n",
       "      <td>NaN</td>\n",
       "      <td>0</td>\n",
       "      <td>0</td>\n",
       "      <td>0</td>\n",
       "      <td>0</td>\n",
       "      <td>0</td>\n",
       "      <td>0</td>\n",
       "      <td>0</td>\n",
       "    </tr>\n",
       "    <tr>\n",
       "      <th>1515</th>\n",
       "      <td>face care</td>\n",
       "      <td>MAC</td>\n",
       "      <td>PRO PALETTE X 2 - Eye makeup tool</td>\n",
       "      <td>5.95</td>\n",
       "      <td>4.269727</td>\n",
       "      <td>NaN</td>\n",
       "      <td>0</td>\n",
       "      <td>0</td>\n",
       "      <td>0</td>\n",
       "      <td>0</td>\n",
       "      <td>0</td>\n",
       "      <td>0</td>\n",
       "      <td>0</td>\n",
       "    </tr>\n",
       "    <tr>\n",
       "      <th>1530</th>\n",
       "      <td>face care</td>\n",
       "      <td>Pixi</td>\n",
       "      <td>SHEA BUTTER LIP BALM - Lip balm</td>\n",
       "      <td>10.95</td>\n",
       "      <td>3.967742</td>\n",
       "      <td>NaN</td>\n",
       "      <td>0</td>\n",
       "      <td>0</td>\n",
       "      <td>0</td>\n",
       "      <td>0</td>\n",
       "      <td>0</td>\n",
       "      <td>0</td>\n",
       "      <td>0</td>\n",
       "    </tr>\n",
       "    <tr>\n",
       "      <th>1533</th>\n",
       "      <td>face care</td>\n",
       "      <td>MAC</td>\n",
       "      <td>PRO PALETTE X 2 - Eye makeup tool</td>\n",
       "      <td>5.95</td>\n",
       "      <td>4.269727</td>\n",
       "      <td>NaN</td>\n",
       "      <td>0</td>\n",
       "      <td>0</td>\n",
       "      <td>0</td>\n",
       "      <td>0</td>\n",
       "      <td>0</td>\n",
       "      <td>0</td>\n",
       "      <td>0</td>\n",
       "    </tr>\n",
       "    <tr>\n",
       "      <th>1546</th>\n",
       "      <td>face care</td>\n",
       "      <td>Pixi</td>\n",
       "      <td>SHEA BUTTER LIP BALM - Lip balm</td>\n",
       "      <td>10.95</td>\n",
       "      <td>3.967742</td>\n",
       "      <td>NaN</td>\n",
       "      <td>0</td>\n",
       "      <td>0</td>\n",
       "      <td>0</td>\n",
       "      <td>0</td>\n",
       "      <td>0</td>\n",
       "      <td>0</td>\n",
       "      <td>0</td>\n",
       "    </tr>\n",
       "    <tr>\n",
       "      <th>1549</th>\n",
       "      <td>face care</td>\n",
       "      <td>MAC</td>\n",
       "      <td>PRO PALETTE X 2 - Eye makeup tool</td>\n",
       "      <td>5.95</td>\n",
       "      <td>4.269727</td>\n",
       "      <td>NaN</td>\n",
       "      <td>0</td>\n",
       "      <td>0</td>\n",
       "      <td>0</td>\n",
       "      <td>0</td>\n",
       "      <td>0</td>\n",
       "      <td>0</td>\n",
       "      <td>0</td>\n",
       "    </tr>\n",
       "    <tr>\n",
       "      <th>1598</th>\n",
       "      <td>face care</td>\n",
       "      <td>Pixi</td>\n",
       "      <td>SHEA BUTTER LIP BALM - Lip balm</td>\n",
       "      <td>10.95</td>\n",
       "      <td>3.967742</td>\n",
       "      <td>NaN</td>\n",
       "      <td>0</td>\n",
       "      <td>0</td>\n",
       "      <td>0</td>\n",
       "      <td>0</td>\n",
       "      <td>0</td>\n",
       "      <td>0</td>\n",
       "      <td>0</td>\n",
       "    </tr>\n",
       "    <tr>\n",
       "      <th>1602</th>\n",
       "      <td>face care</td>\n",
       "      <td>MAC</td>\n",
       "      <td>PRO PALETTE X 2 - Eye makeup tool</td>\n",
       "      <td>5.95</td>\n",
       "      <td>4.269727</td>\n",
       "      <td>NaN</td>\n",
       "      <td>0</td>\n",
       "      <td>0</td>\n",
       "      <td>0</td>\n",
       "      <td>0</td>\n",
       "      <td>0</td>\n",
       "      <td>0</td>\n",
       "      <td>0</td>\n",
       "    </tr>\n",
       "  </tbody>\n",
       "</table>\n",
       "</div>"
      ],
      "text/plain": [
       "       category brand                               name  price    rating  \\\n",
       "1487  face care  Pixi    SHEA BUTTER LIP BALM - Lip balm  10.95  3.967742   \n",
       "1491  face care   MAC  PRO PALETTE X 2 - Eye makeup tool   5.95  4.269727   \n",
       "1511  face care  Pixi    SHEA BUTTER LIP BALM - Lip balm  10.95  3.967742   \n",
       "1515  face care   MAC  PRO PALETTE X 2 - Eye makeup tool   5.95  4.269727   \n",
       "1530  face care  Pixi    SHEA BUTTER LIP BALM - Lip balm  10.95  3.967742   \n",
       "1533  face care   MAC  PRO PALETTE X 2 - Eye makeup tool   5.95  4.269727   \n",
       "1546  face care  Pixi    SHEA BUTTER LIP BALM - Lip balm  10.95  3.967742   \n",
       "1549  face care   MAC  PRO PALETTE X 2 - Eye makeup tool   5.95  4.269727   \n",
       "1598  face care  Pixi    SHEA BUTTER LIP BALM - Lip balm  10.95  3.967742   \n",
       "1602  face care   MAC  PRO PALETTE X 2 - Eye makeup tool   5.95  4.269727   \n",
       "\n",
       "     ingredients  All skin types  Combination skin  Dry skin  Mature skin  \\\n",
       "1487         NaN               0                 0         0            0   \n",
       "1491         NaN               0                 0         0            0   \n",
       "1511         NaN               0                 0         0            0   \n",
       "1515         NaN               0                 0         0            0   \n",
       "1530         NaN               0                 0         0            0   \n",
       "1533         NaN               0                 0         0            0   \n",
       "1546         NaN               0                 0         0            0   \n",
       "1549         NaN               0                 0         0            0   \n",
       "1598         NaN               0                 0         0            0   \n",
       "1602         NaN               0                 0         0            0   \n",
       "\n",
       "      Normal skin  Oily skin  Sensitive skin  \n",
       "1487            0          0               0  \n",
       "1491            0          0               0  \n",
       "1511            0          0               0  \n",
       "1515            0          0               0  \n",
       "1530            0          0               0  \n",
       "1533            0          0               0  \n",
       "1546            0          0               0  \n",
       "1549            0          0               0  \n",
       "1598            0          0               0  \n",
       "1602            0          0               0  "
      ]
     },
     "execution_count": 40,
     "metadata": {},
     "output_type": "execute_result"
    }
   ],
   "source": [
    "null_ingredients.tail(10)"
   ]
  },
  {
   "cell_type": "markdown",
   "metadata": {},
   "source": [
    "* выходит без состава - декоративная косметика, типа тушь, бальзам для губ, и тп:`удаляем из датафрейма`. "
   ]
  },
  {
   "cell_type": "code",
   "execution_count": 41,
   "metadata": {},
   "outputs": [],
   "source": [
    "data.dropna(subset=['ingredients'], inplace=True)"
   ]
  },
  {
   "cell_type": "code",
   "execution_count": 42,
   "metadata": {},
   "outputs": [],
   "source": [
    "data.reset_index(drop=True, inplace=True)"
   ]
  },
  {
   "cell_type": "code",
   "execution_count": 43,
   "metadata": {},
   "outputs": [
    {
     "data": {
      "text/plain": [
       "(2756, 13)"
      ]
     },
     "execution_count": 43,
     "metadata": {},
     "output_type": "execute_result"
    }
   ],
   "source": [
    "data.shape"
   ]
  },
  {
   "cell_type": "code",
   "execution_count": 44,
   "metadata": {},
   "outputs": [],
   "source": [
    "line = data.iloc[5,5]"
   ]
  },
  {
   "cell_type": "code",
   "execution_count": 45,
   "metadata": {},
   "outputs": [
    {
     "data": {
      "text/plain": [
       "'Water\\\\Aqua\\\\Eau, Glycerin, Butylene Glycol, Cucumis Sativus (Cucumber) Fruit Extract, Chamomilla Recutita (Matricaria) Extract, Camellia Sinensis (Green Tea) Leaf Extract, Rosa Damascena (Rose) Flower Water, Tocopheryl Acetate, Caffeine, Panthenol,...'"
      ]
     },
     "execution_count": 45,
     "metadata": {},
     "output_type": "execute_result"
    }
   ],
   "source": [
    "line"
   ]
  },
  {
   "cell_type": "markdown",
   "metadata": {},
   "source": [
    "**to clean ingredients column:**\n",
    "- dash sign replaced by comma&space\n",
    "- remove ... sign at the end\n",
    "- lower all\n",
    "- remove star\n",
    "- \\n replaced by space\n",
    "- ' • ' replaced by comma&space\n",
    "- Aqua/water/eau or aqua/water or water (aqua), aqueous (water\\aqua\\eau), etc\n",
    "- remove 'ingredients','ingredients 1:','active ingredients', 'tinted moisturize: : (active ingredients)', 'other ingredients:', 'may contain:'\n",
    "- remove number garbage, e.g. 5333-42-2"
   ]
  },
  {
   "cell_type": "code",
   "execution_count": 46,
   "metadata": {},
   "outputs": [],
   "source": [
    "def is_water(word):\n",
    "    pattern = re.compile(r'\\b(water|aqua)\\b')\n",
    "    result = re.match(pattern, word.strip())\n",
    "    if result:\n",
    "        water = result.group(0)\n",
    "        return True\n",
    "    else:\n",
    "        return False"
   ]
  },
  {
   "cell_type": "code",
   "execution_count": 47,
   "metadata": {},
   "outputs": [],
   "source": [
    "def clean_ingredients(line):\n",
    "    line = str(line).lower()\n",
    "    line = line.replace('\\n',' ')\n",
    "    for delim in [' – ',' • ','. ',' , ',';', '; ','.,',' - ']:\n",
    "        line = line.replace(delim, ',') if delim in line else line\n",
    "    for elim in ['dramatically different™ oil-control gel:',\n",
    "                 'may contain:','ingredients 1:', \n",
    "                 'active ingredients:', \n",
    "                 'other ingredients:', \n",
    "                 'tinted moisturize: : (active ingredients)',\n",
    "                 'ingredients:',\n",
    "                 '+/-','*',\n",
    "                 '...', 'c.i, ',\n",
    "                 '(±)','[',']']:\n",
    "        line = line.replace(elim, '') if elim in line else line\n",
    "    words = line.split(',')\n",
    "    proceesed_words = [word if not is_water(word) else 'water' for word in words]\n",
    "    return \", \".join(proceesed_words)"
   ]
  },
  {
   "cell_type": "code",
   "execution_count": 48,
   "metadata": {},
   "outputs": [
    {
     "data": {
      "text/plain": [
       "'water,  glycerin,  butylene glycol,  akerke is a flower water'"
      ]
     },
     "execution_count": 48,
     "metadata": {},
     "output_type": "execute_result"
    }
   ],
   "source": [
    "clean_ingredients('Water\\\\Aqua\\\\Eau, Glycerin, Butylene Glycol, Akerke is a flower water')"
   ]
  },
  {
   "cell_type": "code",
   "execution_count": 49,
   "metadata": {},
   "outputs": [
    {
     "data": {
      "text/plain": [
       "'water,  alcohol denat, (sd alcohol 40-b),  glycolic acid,  potassium hydroxide,  hamamelis virginiana (witch hazel) water'"
      ]
     },
     "execution_count": 49,
     "metadata": {},
     "output_type": "execute_result"
    }
   ],
   "source": [
    "clean_ingredients(' water/aqua/eau, alcohol denat,(sd alcohol 40-b), glycolic acid, potassium hydroxide, hamamelis virginiana (witch hazel) water')"
   ]
  },
  {
   "cell_type": "code",
   "execution_count": 50,
   "metadata": {},
   "outputs": [],
   "source": [
    "data['ingredients'] = data['ingredients'].apply(clean_ingredients)"
   ]
  },
  {
   "cell_type": "code",
   "execution_count": 51,
   "metadata": {},
   "outputs": [
    {
     "data": {
      "text/plain": [
       "water,  dicaprylyl carbonate,  ethylexyl methoxycrylene,  ethylhexyl methoxycinnamate,  glyceryl stearate,  clycerin,  dipropylene glycol,  peg-100 stearate,  cyclopentasiloxane,  butyl methoxydibenzoylmethane,  cetyl alcohol,  methyl methacrylate                   69\n",
       "water,  alcohol denat, (sd alcohol 40-b),  glycolic acid,  potassium hydroxide,  hamamelis virginiana (witch hazel) water,  salicylic acid,  polysorbate 20,  lactic acid,  mandelic acid,  malic acid,  citric acid,  salix alba (willow)                                36\n",
       "water                                                                                                                                                                                                                                                                     35\n",
       "water,  ethylhexyl methoxycinnamate,  dicaprylyl carbonate,  butyloctyl salicylate,  glycerin,  homosalate,  tribehenin peg-20 esters,  cyclopentasiloxane,  butyl methoxydibenzoylmethane,  dimethicone,  pongamia glabra seed oil,  tocopheryl acetate                  35\n",
       "aloe barbadensis (aloe vera) leaf water,  dihydroxyacetone,  glycerin,  cetearyl alcohol,  cetyl alcohol,  glyceryl stearate,  butyrospermum parkii (shea) butter (beurre),  saccharide isomerate,  tocopheryl acetate,  panthenol,  disodium edta,                       34\n",
       "water,  ethylhexyl methoxycinnamate,  dibutyl adipate,  octocrylene,  bis-ethylhexyloxyphenol methoxyphenyl triazine,  c12-15 alkyl benzoate,  butyl methoxydibenzoylmethane,  alcohol denat,  glycerin,  distarch phosphate,  glyceryl stearate citrat                   34\n",
       "water,  cyclopentasiloxane,  dimethicone,  cyclohexasiloxane,  aluminum starch octenylsuccinate,  dihydroxyacetone,  glycerin,  peg-10 dimethicone,  disteardimonium hectorite,  aluminum hydroxide,  magnesium sulfate,  phenyl trimethicone,  dimethicone/              33\n",
       "water, ethylhexyl methoxycinnamate, cyclopentasiloxane, ethylhexyl stearate, ethylhexyl triazone, butyl methoxydibenzoylmethane, polyglyceryl-6 stearate, dimethicone, parfum (fragrance), helianthus annuus (sunflower) seed oil, gly                                    33\n",
       "aloe barbadensis leaf juice ,  dihydroxyacetone,  glycerin,  decyl glucoside,  saccharide isomerate,  cucumis melo (melon) fruit extract,  hyaluronic acid,  vitis vinifera (grape) seed extract,  ginkgo biloba leaf extract,  punica granatum (po                       33\n",
       "water,  alcohol denat, (sd alcohol 40-b),  glycolic acid,  potassium hydroxide,  hamamelis virginiana (witch hazel) water,  salicylic acid,  polysorbate 20,  citric acid,  lactic acid,  malic acid,  camellia sinensis leaf extract,  ac                                33\n",
       "c12-15 alkyl benzoate,  homosalate,  cera alba,  polyethylene,  cera microcristallina,  diethylamino hydroxybenzoyl hexyl benzoate,  bis-ethylhexyloxyphenol methoxyphenyl triazine,  butyl methoxydibenzoylmethane,  ethylhexyl salicylate,  ethylhexyl triazon          33\n",
       "dimethyl ether, water,  alcohol denat,  dihydroxyacetone,  peg-40 hydrogenated castor oil,  glycerin,  ethoxydiglycol,  propylene glycol,  phenoxyethanol,  parfum (fragrance),  hydrolyzed jojoba esters,  tocopherol,  linalool,  hexyl cinnamal,  ben                  33\n",
       "butan,  dibutyl,  adipate,  coco-caprylate/caprate,  homosalate,  propane,  ethylhexyl,  methoxycrylene,  ethylhexyl,  salicylate,  butyl methoxydiben-zoylmethane,  oryza sative(rice) bran oil,  limnanthes alba( meadowfoam),  seed oil,  butyloctyl salicylate,  i    33\n",
       "water,  glyceryl stearate,  propylene glycol,  steareth-21,  isopropyl palmitate,  simmondsia chinensis (jojoba) seed oil,  ceteareth-12,  olus oil/vegetable oil/huile végétale,  coco-caprylate,  caprylic/capric triglyceride,  macadamia ternifolia                   32\n",
       "water, butylene glycol, tromethamine, carbomer, caprylyl glycol, polysorbate 80, disodium edta, phenoxyethanol, potassium sorbate, yellow 5 (ci 19140), red 33 (ci 17200), blue 1 (ci 42090) <iln31110>                                                                   32\n",
       "aloe barbadensis (aloe vera) leaf water,  dihydroxyacetone,  glycerin,  betaine,  saccharide isomerate,  glycyrrhiza glabra (licorice) root extract,  rubus idaeus (raspberry) leaf extract,  punica granatum (pomegranate) juice extract,  ginkgo b                      32\n",
       "water,  ethylhexyl methoxycinnamate,  dicaprylyl carbonate,  butyloctyl salicylate,  glycerin,  butyl methoxydibenzoylmethane,  dimethicone,  pongamia glabra seed oil,  potassium cetyl phosphate,  vp/eicosene copolymer,  glyceryl stearate,  peg-100                  32\n",
       "c12-15 alkyl benzoate,  sesamum indicum (sesame) seed oil,  ethylhexyl palmitate,  dicaprylyl ether,  butylene glycol dicaprylate/ dicaprate,  ethylhexyl methoxycinnamate,  triheptanoin,  octocrylene,  simmondsia chinensis (jojoba) seed oil,  butyl methoxy          32\n",
       "dimethyl ether, water,  alcohol denat,  dihydroxyacetone,  propylene glycol,  glycerin,  peg-40 hydrogenated castor oil,  betaine,  ethoxydiglycol,  phenoxyethanol,  parfum (fragrance),  sodium metabisulfite,  hydrolyzed jojoba esters,  tocopherol                   32\n",
       "water,  sodium bicarbonate,  citric acid,  polysorbate 20,  urea,  decyl glucoside,  glycerin,  ethoxydiglycol,  phenoxyethanol,  parfum (fragrance),  sodium chloride,  allantoin,  aloe barbadensis leaf juice,  linalool,  caprylyl glycol,  decylene gl               32\n",
       "water, ethylhexyl methoxycinnamate, ethylhexyl triazone, butyl methoxydibenzoylmethane, cyclopentasiloxane, ethylhexyl stearate, polyglyceryl-6 stearate, parfum (fragrance),  helianthus annuus (sunflower) seed oil, glycerin, sorbi                                    32\n",
       "water,  dihydroxyacetone,  pentylene glycol,  glycereth-26,  glycerin,  bis-peg-15 methyl ether dimethicone,  propanediol,  saccharide isomerate,  peg-40 hydrogenated castor oil,  phenoxyethanol,  sodium metabisulfite,  xanthan gum,  1, 2-hexanediol,  al            32\n",
       "avobenzone 3.0%, homosalate 10.0%, octisalate 4.5% alcohol denat, ,  octyldodecyl neopentanoate, butyloctyl salicylate, polyester-8, acrylates/octylacrylamide copolymer, ethylhexyl methoxycrylene, dimethicone, trimethylsiloxysil                                      31\n",
       "water,  ethylhexyl methoxycinnamate,  c12-15 alkyl benzoate,  zinc oxide (nano),  titanium dioxide,  ethylhexyl salicylate,  caprylyl methicone,  neopentyl glycol diheptanoate,  sucrose,  polyglyceryl-10 pentastearate,  pentylene glycol,  ethylhexyl                 31\n",
       "water,  peg-40 hydrogenated castor oil,  dihydroxyacetone,  ppg-15 stearyl ether,  bis-peg-15 methyl ether dimethicone,  propylene glycol,  dimethyl isosorbide,  phenoxyethanol,  potassium sorbate,  caramel,  bertholletia excelsa seed oil,  citrus                   31\n",
       "water,  ethylhexyl methoxycinnamate,  dipropylene glycol,  ethylhexyl salicylate,  propylene glycol dicaprylate/dicaprate,  homosalate,  pongamia glabra seed oil,  cyclohexasiloxane,  butyl methoxydibenzoylmethane,  ethylhexyl methoxycrylene,  but                   31\n",
       "titanium dioxide 3.2%, zinc oxide 2.0% water\\aqua\\eau, dimethicone, butyloctyl salicylate, methyl trimethicone, isononyl isononanoate, neopentyl glycol diheptanoate, diethylhexyl succinate, c12-15 alkyl benzoate, butylene glyc                                        31\n",
       "water,  isononyl isononanoate,  dihydroxyacetone,  glycerin,  cyclopentasiloxane,  hydroxyethyl acrylate/sodium acryloyldimethyl taurate copolymer,  glyceryl stearate,  peg-100 stearate,  cyclohexasiloxane,  ethoxydiglycol,  steareth-21,  phenoxye                   29\n",
       "butane, water,  eau),  alcohol denat,  isobutane,  butylene glycol,  caprylyl methicone,  glycerin,  rosa canina fruit oil,  cocos nucifera (coconut) fruit water,  cucumis sativus (cucumber) fruit extract,  tocopheryl acetate,  panthenol,  tetrahexylde              28\n",
       "octinoxate 2.50%,  titanium dioxide 1.00%water\\aqua\\eau,  cyclopentasiloxane,  peg-10 dimethicone,  butylene glycol,  trimethylsiloxysilicate,  dimethicone,  magnesium sulfate,  laminaria saccharina extract,  algae extract,  tocopheryl acetate,  sodium hyalu        27\n",
       "water,  glycerin,  c12-15 alkyl benzoate,  isopropyl palmitate,  cetearyl alcohol,  dihydroxyacetone,  butylene glycol,  butyrospermum parkii (shea) butter,  cetearyl glucoside,  hydroxyethyl acrylate/sodium acryloyldimethyl taurate copolymer,  p                    26\n",
       "water,  dimethicone,  isododecane,  cyclopentasiloxane,  phenyl trimethicone,  titanium dioxide,  butylene glycol,  propylene glycol,  peg-9 dimethicone,  peg-9 polydimethylsiloxyethyl dimethicone,  sodium chloride,  simmondsia chinensis seed oi                     23\n",
       "olus (pflanzlich) öl,  cera alba (bienenwachs),  prunus amydgalus dulcis (süße mandel) öl,  butyrospermum parkii (shea butter),  cocos nucifera (kokosnuss) öl,  argania spinosa kernel öl,  tocopherol,  parfum,  sodium saccharin,  alpha-isomethyl ionone,  be         20\n",
       "vitis vinifera (grape) seed oil,  butyrospermum parkii (shea) butter,  rhus vernici ua (fruit wax) peel cera,  mentha arvensis (peppermint) leaf oil,  limonene,  tocopherol,  citrus aurantium dulcis (blood orange) peel oil,  linalool,  citral,  geraniol,  c         19\n",
       "water,  cetrimonium chloride,  stearyl alcohol,  glycerin,  helianthusannus seed oil,  hydrogenated castor oil,  rubus chamaemorus seed extract,  benzyl alcohol,  parfum.                                                                                                19\n",
       "water,  polyglycerl-4 caprate,  cocos nucifera oil,  cocos nucifera water,  glycerin,  xanthan gum,  caprylyl/capryl glucoside,  helianthus annuus seed oil,  musa sapientum fruit extract,  psidium guajava fruit extract,  orchis mascula flower extract,  aleur        19\n",
       "ricinus communis (castor) seed oil,  helianthus annuus (sunflower) seed oil,  cera alba (beeswax),  candellila cera (euphorbia cerifera wax),  mentha piperita (peppermint) oil,  lanolin,  theobroma cacao (cocoa) seed butter,  cera carnauba (copernicia ce            18\n",
       "octyldodecanol,  diglyceryl adipate/caprate/caprylate/hydroxystearate/isostearate/stearate,  polyisobutene,  synthetic wax,  hydrogenated microcrystalline cera,  ethylhexyl palmitate,  diisostearyl malate,  candelilla cera,  c12-15 alkyl benzoate/isononyl           17\n",
       "ricinus cummunis (castor) seed oil,  petrolatum,  kaolin,  caprylic/capric triglyceride,  octyldodecanol,  mineral oil (paraffinum liquidum),  pumice,  ozokerite,  euphorbia cerifera (candelilla) cera,  ceresin,  parfum,  tocopheryl acetate,  bht, may contain       17\n",
       "water,  isododecane,  cetearyl alcohol,  dimethicone,  adipic acid/neopentyl glycol crosspolymer,  lauryl dimethicone,  butylene glycol,  ceteareth-20,  potassium cetyl phosphate,  polymethyl methacrylate,  sodium acrylate/sodium acryloyldimethyl t                  17\n",
       "caprylic/capric triglyceride,  cetyl ethylhexanoate,  helianthus annuus (sunflower) seed oil,  peg-20 glyceryl triisostearate,  zostera marina (sea grass) extract,  eriobotyra japonica (loquat) leaf extract,  prunus persica (peach) leaf extract,  olea eu            17\n",
       "water,  dimethicone,  isododecane,  nylon-12,  acrylates/polytrimethylsiloxymethacrylate copolymer,  silica,  butylene glycol,  peg-10 dimethicone,  isohexadecane,  isononyl isononanoate,  pentylene glycol,  synthetic fluorphlogopite,  bis-peg/ppg-14/1              17\n",
       "water,  alcohol denat, pentylene glycol,  glycerin,  polyglyceryl-5 laurate,  propanediol,  alpha-isomethyl ionone,  avena sativa (oat) kernel extract,  benzyl alcohol,  benzyl salicylate,  caprylyl glycol,  ci77891/titanium dioxide,  citral,  copper lysinate       17\n",
       "ricinus communis (castor) seed oil,  diisostearoyl polyglyceryl-3 dimer dilinoleate,  prunus armeniaca (apricot) kernel oil,  simmondsia chinensis (jojoba) seed oil,  sesamum indicum (sesame) seed oil,  hydrogenated vegetable oil,  helianthus annuus                 17\n",
       "maris sal,  glycerin,  cocamidopropyl betaine,  helianthus annuus seed oil,  illite green clay,  magnifera indica seed butter,  orbignya phalerata oil,  simondsia chinensis oil,  cymbopogon citratus oil,  glycine soja oil,  aloe barbadensis leaf extract,  ci        16\n",
       "hydrogenated polyisobutene, 40921-86-6 octyldodecanol, 5333-42-6,  argania spinosa kernel oil, 223747-87-3 macadamia ternifolia seed oil, 128497-20-1,  ethylene/propylene/styrene copolymer, 66070-58-4 tridecyl trimellitate, 94109-09-8,  butylene/ethy                15\n",
       "sodium coco-sulfate (plant),  cetearyl alcohol (plant),  cocos nucifera (coconut) oil ,  tapioca starch (plant),  sea salt (maris sal),  helianthus annuus (sunflower) seed oil ,  capsicum annuum fruit extract ,  rosmarinus officinalis (rosemary) leaf                15\n",
       "soft robusta coffee powder / coffea robusta seed powder, coconut oil / cocos nucifera oil,  sweet almond oil / prunus amygdalus dulcis oil,  sugar / sucrose,  salt / sodium chloride,  vitamin e / tocopheryl acetate,  lemon essential oil / citrus limon               15\n",
       "water,  coffea arabica,  cocos nucifera oil,  elaeis guineensis oil,  brassica napus oil,  sodium hydroxide,  carthamus tinctorium oil,  prunus dulcis oil,  glycerin,  coffea arabica seed oil,  theobroma cacao fruitpowder,  phenethyl alcohol,  capry                 14\n",
       "sodium palmate,  sodium palm kernelate, water,  glycerin,  palm acid,  parfum,  sodium chloride,  palm kernel acid,  angelica archangelica root extract,  ci 77891,  linalool,  limonene,  tetrasodium edta,  tetrasodium etidronate,  citronellol,  geraniol             14\n",
       "Name: ingredients, dtype: int64"
      ]
     },
     "execution_count": 51,
     "metadata": {},
     "output_type": "execute_result"
    }
   ],
   "source": [
    "data.ingredients.value_counts().head(50)"
   ]
  },
  {
   "cell_type": "markdown",
   "metadata": {},
   "source": [
    "##### Сохраняем обработанные поля для модели"
   ]
  },
  {
   "cell_type": "code",
   "execution_count": 52,
   "metadata": {},
   "outputs": [],
   "source": [
    "data.to_csv('data/processed_cosmetics.csv', index=False)"
   ]
  }
 ],
 "metadata": {
  "kernelspec": {
   "display_name": "py35",
   "language": "python",
   "name": "py35"
  },
  "language_info": {
   "codemirror_mode": {
    "name": "ipython",
    "version": 3
   },
   "file_extension": ".py",
   "mimetype": "text/x-python",
   "name": "python",
   "nbconvert_exporter": "python",
   "pygments_lexer": "ipython3",
   "version": "3.6.4"
  }
 },
 "nbformat": 4,
 "nbformat_minor": 4
}
