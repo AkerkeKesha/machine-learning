{
 "cells": [
  {
   "cell_type": "code",
   "execution_count": 1,
   "metadata": {},
   "outputs": [],
   "source": [
    "import pandas as pd\n",
    "import numpy as np \n",
    "import seaborn as sns\n",
    "import matplotlib.pyplot as plt\n",
    "%matplotlib inline\n",
    "\n",
    "import warnings\n",
    "warnings.filterwarnings('ignore')"
   ]
  },
  {
   "cell_type": "code",
   "execution_count": 2,
   "metadata": {},
   "outputs": [],
   "source": [
    "data = pd.read_csv('data/cosmetics.csv')"
   ]
  },
  {
   "cell_type": "code",
   "execution_count": 3,
   "metadata": {},
   "outputs": [
    {
     "data": {
      "text/html": [
       "<div>\n",
       "<style scoped>\n",
       "    .dataframe tbody tr th:only-of-type {\n",
       "        vertical-align: middle;\n",
       "    }\n",
       "\n",
       "    .dataframe tbody tr th {\n",
       "        vertical-align: top;\n",
       "    }\n",
       "\n",
       "    .dataframe thead th {\n",
       "        text-align: right;\n",
       "    }\n",
       "</style>\n",
       "<table border=\"1\" class=\"dataframe\">\n",
       "  <thead>\n",
       "    <tr style=\"text-align: right;\">\n",
       "      <th></th>\n",
       "      <th>Unnamed: 0</th>\n",
       "      <th>category</th>\n",
       "      <th>url</th>\n",
       "      <th>brand</th>\n",
       "      <th>name</th>\n",
       "      <th>price</th>\n",
       "      <th>rating</th>\n",
       "      <th>skin_type</th>\n",
       "      <th>ingredients</th>\n",
       "    </tr>\n",
       "  </thead>\n",
       "  <tbody>\n",
       "    <tr>\n",
       "      <th>0</th>\n",
       "      <td>0</td>\n",
       "      <td>beauty-complexion</td>\n",
       "      <td>https://en.zalando.de/darphin-melaperfect-foun...</td>\n",
       "      <td>Darphin</td>\n",
       "      <td>MELAPERFECT FOUNDATION NEUTRAL - Foundation</td>\n",
       "      <td>39.95</td>\n",
       "      <td>4.000000</td>\n",
       "      <td>NaN</td>\n",
       "      <td>Water\\aqua\\eau, methyl, trimethicone, phenyl t...</td>\n",
       "    </tr>\n",
       "    <tr>\n",
       "      <th>1</th>\n",
       "      <td>1</td>\n",
       "      <td>beauty-complexion</td>\n",
       "      <td>https://en.zalando.de/nyx-professional-makeup-...</td>\n",
       "      <td>Nyx Professional Makeup</td>\n",
       "      <td>HD PHOTOGENIC CONCEALER WAND - Concealer</td>\n",
       "      <td>6.95</td>\n",
       "      <td>4.143646</td>\n",
       "      <td>NaN</td>\n",
       "      <td>AQUA / WATER, TRIMETHYLSILOXYPHENYL DIMETHICON...</td>\n",
       "    </tr>\n",
       "    <tr>\n",
       "      <th>2</th>\n",
       "      <td>2</td>\n",
       "      <td>beauty-complexion</td>\n",
       "      <td>https://en.zalando.de/nyx-professional-makeup-...</td>\n",
       "      <td>Nyx Professional Makeup</td>\n",
       "      <td>BARE WITH ME TINTED SKIN VEIL - Setting spray ...</td>\n",
       "      <td>9.95</td>\n",
       "      <td>4.560000</td>\n",
       "      <td>NaN</td>\n",
       "      <td>Aqua/Water/Eau, Glycerin, Alcohol Denat., Aloe...</td>\n",
       "    </tr>\n",
       "    <tr>\n",
       "      <th>3</th>\n",
       "      <td>3</td>\n",
       "      <td>beauty-complexion</td>\n",
       "      <td>https://en.zalando.de/mac-prep--prime-fix--mat...</td>\n",
       "      <td>MAC</td>\n",
       "      <td>PREP + PRIME FIX + MATTIFYING MIST 100ML - Primer</td>\n",
       "      <td>22.50</td>\n",
       "      <td>4.327586</td>\n",
       "      <td>NaN</td>\n",
       "      <td>Water\\Aqua\\Eau , Alcohol Denat. , Silica , Sod...</td>\n",
       "    </tr>\n",
       "    <tr>\n",
       "      <th>4</th>\n",
       "      <td>4</td>\n",
       "      <td>beauty-complexion</td>\n",
       "      <td>https://en.zalando.de/mac-studio-fix-fluid-spf...</td>\n",
       "      <td>MAC</td>\n",
       "      <td>STUDIO FIX FLUID SPF15 FOUNDATION - Foundation</td>\n",
       "      <td>33.95</td>\n",
       "      <td>4.485348</td>\n",
       "      <td>NaN</td>\n",
       "      <td>Octinoxate 2.50%, Titanium Dioxide 1.00%Water\\...</td>\n",
       "    </tr>\n",
       "  </tbody>\n",
       "</table>\n",
       "</div>"
      ],
      "text/plain": [
       "   Unnamed: 0           category  \\\n",
       "0           0  beauty-complexion   \n",
       "1           1  beauty-complexion   \n",
       "2           2  beauty-complexion   \n",
       "3           3  beauty-complexion   \n",
       "4           4  beauty-complexion   \n",
       "\n",
       "                                                 url                    brand  \\\n",
       "0  https://en.zalando.de/darphin-melaperfect-foun...                  Darphin   \n",
       "1  https://en.zalando.de/nyx-professional-makeup-...  Nyx Professional Makeup   \n",
       "2  https://en.zalando.de/nyx-professional-makeup-...  Nyx Professional Makeup   \n",
       "3  https://en.zalando.de/mac-prep--prime-fix--mat...                      MAC   \n",
       "4  https://en.zalando.de/mac-studio-fix-fluid-spf...                      MAC   \n",
       "\n",
       "                                                name  price    rating  \\\n",
       "0        MELAPERFECT FOUNDATION NEUTRAL - Foundation  39.95  4.000000   \n",
       "1           HD PHOTOGENIC CONCEALER WAND - Concealer   6.95  4.143646   \n",
       "2  BARE WITH ME TINTED SKIN VEIL - Setting spray ...   9.95  4.560000   \n",
       "3  PREP + PRIME FIX + MATTIFYING MIST 100ML - Primer  22.50  4.327586   \n",
       "4     STUDIO FIX FLUID SPF15 FOUNDATION - Foundation  33.95  4.485348   \n",
       "\n",
       "  skin_type                                        ingredients  \n",
       "0       NaN  Water\\aqua\\eau, methyl, trimethicone, phenyl t...  \n",
       "1       NaN  AQUA / WATER, TRIMETHYLSILOXYPHENYL DIMETHICON...  \n",
       "2       NaN  Aqua/Water/Eau, Glycerin, Alcohol Denat., Aloe...  \n",
       "3       NaN  Water\\Aqua\\Eau , Alcohol Denat. , Silica , Sod...  \n",
       "4       NaN  Octinoxate 2.50%, Titanium Dioxide 1.00%Water\\...  "
      ]
     },
     "execution_count": 3,
     "metadata": {},
     "output_type": "execute_result"
    }
   ],
   "source": [
    "data.head()"
   ]
  },
  {
   "cell_type": "code",
   "execution_count": 4,
   "metadata": {},
   "outputs": [
    {
     "data": {
      "text/plain": [
       "(5392, 9)"
      ]
     },
     "execution_count": 4,
     "metadata": {},
     "output_type": "execute_result"
    }
   ],
   "source": [
    "data.shape"
   ]
  },
  {
   "cell_type": "code",
   "execution_count": 5,
   "metadata": {},
   "outputs": [
    {
     "name": "stdout",
     "output_type": "stream",
     "text": [
      "<class 'pandas.core.frame.DataFrame'>\n",
      "RangeIndex: 5392 entries, 0 to 5391\n",
      "Data columns (total 9 columns):\n",
      "Unnamed: 0     5392 non-null int64\n",
      "category       5392 non-null object\n",
      "url            5392 non-null object\n",
      "brand          5029 non-null object\n",
      "name           5029 non-null object\n",
      "price          5029 non-null float64\n",
      "rating         4212 non-null float64\n",
      "skin_type      1886 non-null object\n",
      "ingredients    4950 non-null object\n",
      "dtypes: float64(2), int64(1), object(6)\n",
      "memory usage: 379.2+ KB\n"
     ]
    }
   ],
   "source": [
    "data.info()"
   ]
  },
  {
   "cell_type": "code",
   "execution_count": 6,
   "metadata": {},
   "outputs": [
    {
     "data": {
      "text/html": [
       "<div>\n",
       "<style scoped>\n",
       "    .dataframe tbody tr th:only-of-type {\n",
       "        vertical-align: middle;\n",
       "    }\n",
       "\n",
       "    .dataframe tbody tr th {\n",
       "        vertical-align: top;\n",
       "    }\n",
       "\n",
       "    .dataframe thead th {\n",
       "        text-align: right;\n",
       "    }\n",
       "</style>\n",
       "<table border=\"1\" class=\"dataframe\">\n",
       "  <thead>\n",
       "    <tr style=\"text-align: right;\">\n",
       "      <th></th>\n",
       "      <th>Unnamed: 0</th>\n",
       "      <th>price</th>\n",
       "      <th>rating</th>\n",
       "    </tr>\n",
       "  </thead>\n",
       "  <tbody>\n",
       "    <tr>\n",
       "      <th>count</th>\n",
       "      <td>5392.000000</td>\n",
       "      <td>5029.000000</td>\n",
       "      <td>4212.000000</td>\n",
       "    </tr>\n",
       "    <tr>\n",
       "      <th>mean</th>\n",
       "      <td>2695.500000</td>\n",
       "      <td>29.028837</td>\n",
       "      <td>4.261114</td>\n",
       "    </tr>\n",
       "    <tr>\n",
       "      <th>std</th>\n",
       "      <td>1556.680657</td>\n",
       "      <td>27.151732</td>\n",
       "      <td>0.675000</td>\n",
       "    </tr>\n",
       "    <tr>\n",
       "      <th>min</th>\n",
       "      <td>0.000000</td>\n",
       "      <td>5.950000</td>\n",
       "      <td>1.000000</td>\n",
       "    </tr>\n",
       "    <tr>\n",
       "      <th>25%</th>\n",
       "      <td>1347.750000</td>\n",
       "      <td>12.950000</td>\n",
       "      <td>3.967742</td>\n",
       "    </tr>\n",
       "    <tr>\n",
       "      <th>50%</th>\n",
       "      <td>2695.500000</td>\n",
       "      <td>19.950000</td>\n",
       "      <td>4.333334</td>\n",
       "    </tr>\n",
       "    <tr>\n",
       "      <th>75%</th>\n",
       "      <td>4043.250000</td>\n",
       "      <td>35.950000</td>\n",
       "      <td>4.800000</td>\n",
       "    </tr>\n",
       "    <tr>\n",
       "      <th>max</th>\n",
       "      <td>5391.000000</td>\n",
       "      <td>216.600000</td>\n",
       "      <td>5.000000</td>\n",
       "    </tr>\n",
       "  </tbody>\n",
       "</table>\n",
       "</div>"
      ],
      "text/plain": [
       "        Unnamed: 0        price       rating\n",
       "count  5392.000000  5029.000000  4212.000000\n",
       "mean   2695.500000    29.028837     4.261114\n",
       "std    1556.680657    27.151732     0.675000\n",
       "min       0.000000     5.950000     1.000000\n",
       "25%    1347.750000    12.950000     3.967742\n",
       "50%    2695.500000    19.950000     4.333334\n",
       "75%    4043.250000    35.950000     4.800000\n",
       "max    5391.000000   216.600000     5.000000"
      ]
     },
     "execution_count": 6,
     "metadata": {},
     "output_type": "execute_result"
    }
   ],
   "source": [
    "data.describe()"
   ]
  },
  {
   "cell_type": "code",
   "execution_count": 7,
   "metadata": {},
   "outputs": [
    {
     "data": {
      "text/plain": [
       "Unnamed: 0      0.000000\n",
       "category        0.000000\n",
       "url             0.000000\n",
       "brand           6.732196\n",
       "name            6.732196\n",
       "price           6.732196\n",
       "rating         21.884273\n",
       "skin_type      65.022255\n",
       "ingredients     8.197329\n",
       "dtype: float64"
      ]
     },
     "execution_count": 7,
     "metadata": {},
     "output_type": "execute_result"
    }
   ],
   "source": [
    "data.isnull().sum()/data.shape[0]*100"
   ]
  },
  {
   "cell_type": "code",
   "execution_count": 8,
   "metadata": {},
   "outputs": [
    {
     "data": {
      "text/plain": [
       "Index(['Unnamed: 0', 'category', 'url', 'brand', 'name', 'price', 'rating',\n",
       "       'skin_type', 'ingredients'],\n",
       "      dtype='object')"
      ]
     },
     "execution_count": 8,
     "metadata": {},
     "output_type": "execute_result"
    }
   ],
   "source": [
    "data.columns"
   ]
  },
  {
   "cell_type": "markdown",
   "metadata": {},
   "source": [
    "нужно удалить пустые значения:\n",
    "- `Unnamed` не нужен\n",
    "- `brand` и `name` и `price` около 300 (6.7%) значений без названия, не будем это хранить "
   ]
  },
  {
   "cell_type": "code",
   "execution_count": 9,
   "metadata": {},
   "outputs": [],
   "source": [
    "data = data.drop('Unnamed: 0', axis=1)"
   ]
  },
  {
   "cell_type": "code",
   "execution_count": 10,
   "metadata": {},
   "outputs": [
    {
     "data": {
      "text/plain": [
       "category          3\n",
       "url            1244\n",
       "brand           116\n",
       "name            766\n",
       "price           125\n",
       "rating          210\n",
       "skin_type        24\n",
       "ingredients     795\n",
       "dtype: int64"
      ]
     },
     "execution_count": 10,
     "metadata": {},
     "output_type": "execute_result"
    }
   ],
   "source": [
    "data.nunique()"
   ]
  },
  {
   "cell_type": "code",
   "execution_count": 11,
   "metadata": {},
   "outputs": [
    {
     "data": {
      "text/plain": [
       "False    2846\n",
       "True     2546\n",
       "dtype: int64"
      ]
     },
     "execution_count": 11,
     "metadata": {},
     "output_type": "execute_result"
    }
   ],
   "source": [
    "data.duplicated(subset=['url','brand_name','name', 'price', 'rating']).value_counts()"
   ]
  },
  {
   "cell_type": "code",
   "execution_count": 12,
   "metadata": {},
   "outputs": [],
   "source": [
    "data.drop_duplicates(subset=['url','brand_name','name', 'price', 'rating'], keep = 'first', inplace=True)"
   ]
  },
  {
   "cell_type": "code",
   "execution_count": 13,
   "metadata": {},
   "outputs": [
    {
     "data": {
      "text/plain": [
       "(2846, 8)"
      ]
     },
     "execution_count": 13,
     "metadata": {},
     "output_type": "execute_result"
    }
   ],
   "source": [
    "data.shape"
   ]
  },
  {
   "cell_type": "markdown",
   "metadata": {},
   "source": [
    "#### category"
   ]
  },
  {
   "cell_type": "code",
   "execution_count": 14,
   "metadata": {},
   "outputs": [
    {
     "data": {
      "text/plain": [
       "beauty-skincare-face     1311\n",
       "beauty-sun-protection     851\n",
       "beauty-complexion         684\n",
       "Name: category, dtype: int64"
      ]
     },
     "execution_count": 14,
     "metadata": {},
     "output_type": "execute_result"
    }
   ],
   "source": [
    "data.category.value_counts()"
   ]
  },
  {
   "cell_type": "markdown",
   "metadata": {},
   "source": [
    "категории надо сделать по проще"
   ]
  },
  {
   "cell_type": "code",
   "execution_count": 15,
   "metadata": {},
   "outputs": [],
   "source": [
    "def get_category(line):\n",
    "    result = ''\n",
    "    if line == 'beauty-complexion':\n",
    "        result = str('skin tone')\n",
    "    elif line == 'beauty-sun-protection':\n",
    "        result = str('sun protect')\n",
    "    else:\n",
    "        result = str('face care')\n",
    "    return result"
   ]
  },
  {
   "cell_type": "code",
   "execution_count": 16,
   "metadata": {},
   "outputs": [],
   "source": [
    "data['category'] = data['category'].apply(get_category)"
   ]
  },
  {
   "cell_type": "markdown",
   "metadata": {},
   "source": [
    "#### url "
   ]
  },
  {
   "cell_type": "code",
   "execution_count": 17,
   "metadata": {},
   "outputs": [],
   "source": [
    "data = data.drop(['url'], axis=1)"
   ]
  },
  {
   "cell_type": "markdown",
   "metadata": {},
   "source": [
    "#### name, brandname, price"
   ]
  },
  {
   "cell_type": "code",
   "execution_count": 18,
   "metadata": {},
   "outputs": [
    {
     "data": {
      "text/plain": [
       "1.1243851018973998"
      ]
     },
     "execution_count": 18,
     "metadata": {},
     "output_type": "execute_result"
    }
   ],
   "source": [
    "data.name.isnull().sum()/data.shape[0]*100"
   ]
  },
  {
   "cell_type": "code",
   "execution_count": 19,
   "metadata": {},
   "outputs": [],
   "source": [
    "data.dropna(subset=['name'], inplace=True)"
   ]
  },
  {
   "cell_type": "code",
   "execution_count": 20,
   "metadata": {},
   "outputs": [],
   "source": [
    "data.reset_index(drop=True, inplace=True)"
   ]
  },
  {
   "cell_type": "code",
   "execution_count": 21,
   "metadata": {},
   "outputs": [
    {
     "data": {
      "text/html": [
       "<div>\n",
       "<style scoped>\n",
       "    .dataframe tbody tr th:only-of-type {\n",
       "        vertical-align: middle;\n",
       "    }\n",
       "\n",
       "    .dataframe tbody tr th {\n",
       "        vertical-align: top;\n",
       "    }\n",
       "\n",
       "    .dataframe thead th {\n",
       "        text-align: right;\n",
       "    }\n",
       "</style>\n",
       "<table border=\"1\" class=\"dataframe\">\n",
       "  <thead>\n",
       "    <tr style=\"text-align: right;\">\n",
       "      <th></th>\n",
       "      <th>category</th>\n",
       "      <th>brand</th>\n",
       "      <th>name</th>\n",
       "      <th>price</th>\n",
       "      <th>rating</th>\n",
       "      <th>skin_type</th>\n",
       "      <th>ingredients</th>\n",
       "    </tr>\n",
       "  </thead>\n",
       "  <tbody>\n",
       "    <tr>\n",
       "      <th>2809</th>\n",
       "      <td>sun protect</td>\n",
       "      <td>Institut Esthederm</td>\n",
       "      <td>Sun protection</td>\n",
       "      <td>50.73</td>\n",
       "      <td>NaN</td>\n",
       "      <td>Normal skin</td>\n",
       "      <td>Aqua/Water/Eau*, Ethylhexyl Methoxycinnamate, ...</td>\n",
       "    </tr>\n",
       "    <tr>\n",
       "      <th>2810</th>\n",
       "      <td>sun protect</td>\n",
       "      <td>Institut Esthederm</td>\n",
       "      <td>INSTITUT ESTHEDERM ADAPTASUN PROTECTIVE SILKY ...</td>\n",
       "      <td>44.46</td>\n",
       "      <td>NaN</td>\n",
       "      <td>Normal skin</td>\n",
       "      <td>Butan, Dibutyl, Adipate, Coco-Caprylate/Caprat...</td>\n",
       "    </tr>\n",
       "    <tr>\n",
       "      <th>2811</th>\n",
       "      <td>sun protect</td>\n",
       "      <td>Institut Esthederm</td>\n",
       "      <td>INSTITUT ESTHEDERM ADAPTASUN PROTECTIVE TANNIN...</td>\n",
       "      <td>46.74</td>\n",
       "      <td>NaN</td>\n",
       "      <td>Normal skin</td>\n",
       "      <td>Aqua/water/eau*, Ethylhexyl Methoxycinnamate, ...</td>\n",
       "    </tr>\n",
       "    <tr>\n",
       "      <th>2812</th>\n",
       "      <td>sun protect</td>\n",
       "      <td>Skin Stories</td>\n",
       "      <td>SKIN STORIES COLOR PROTECT SUN STICK - Sun pro...</td>\n",
       "      <td>14.95</td>\n",
       "      <td>NaN</td>\n",
       "      <td>All skin types</td>\n",
       "      <td>C12-15 Alkyl Benzoate, Homosalate, Cera Alba, ...</td>\n",
       "    </tr>\n",
       "    <tr>\n",
       "      <th>2813</th>\n",
       "      <td>sun protect</td>\n",
       "      <td>Institut Esthederm</td>\n",
       "      <td>Self tan</td>\n",
       "      <td>63.84</td>\n",
       "      <td>NaN</td>\n",
       "      <td>All skin types</td>\n",
       "      <td>Aqua/Water/Eau*, Dicaprylyl Carbonate, Ethylex...</td>\n",
       "    </tr>\n",
       "  </tbody>\n",
       "</table>\n",
       "</div>"
      ],
      "text/plain": [
       "         category               brand  \\\n",
       "2809  sun protect  Institut Esthederm   \n",
       "2810  sun protect  Institut Esthederm   \n",
       "2811  sun protect  Institut Esthederm   \n",
       "2812  sun protect        Skin Stories   \n",
       "2813  sun protect  Institut Esthederm   \n",
       "\n",
       "                                                   name  price  rating  \\\n",
       "2809                                     Sun protection  50.73     NaN   \n",
       "2810  INSTITUT ESTHEDERM ADAPTASUN PROTECTIVE SILKY ...  44.46     NaN   \n",
       "2811  INSTITUT ESTHEDERM ADAPTASUN PROTECTIVE TANNIN...  46.74     NaN   \n",
       "2812  SKIN STORIES COLOR PROTECT SUN STICK - Sun pro...  14.95     NaN   \n",
       "2813                                           Self tan  63.84     NaN   \n",
       "\n",
       "           skin_type                                        ingredients  \n",
       "2809     Normal skin  Aqua/Water/Eau*, Ethylhexyl Methoxycinnamate, ...  \n",
       "2810     Normal skin  Butan, Dibutyl, Adipate, Coco-Caprylate/Caprat...  \n",
       "2811     Normal skin  Aqua/water/eau*, Ethylhexyl Methoxycinnamate, ...  \n",
       "2812  All skin types  C12-15 Alkyl Benzoate, Homosalate, Cera Alba, ...  \n",
       "2813  All skin types  Aqua/Water/Eau*, Dicaprylyl Carbonate, Ethylex...  "
      ]
     },
     "execution_count": 21,
     "metadata": {},
     "output_type": "execute_result"
    }
   ],
   "source": [
    "data.tail()"
   ]
  },
  {
   "cell_type": "markdown",
   "metadata": {},
   "source": [
    "#### rating"
   ]
  },
  {
   "cell_type": "code",
   "execution_count": 22,
   "metadata": {},
   "outputs": [
    {
     "data": {
      "image/png": "[encoded data removed]",
      "text/plain": [
       "<matplotlib.figure.Figure at 0x1030a0fd0>"
      ]
     },
     "metadata": {},
     "output_type": "display_data"
    }
   ],
   "source": [
    "data['rating'].hist(bins=9);"
   ]
  },
  {
   "cell_type": "code",
   "execution_count": 23,
   "metadata": {},
   "outputs": [
    {
     "data": {
      "text/plain": [
       "585"
      ]
     },
     "execution_count": 23,
     "metadata": {},
     "output_type": "execute_result"
    }
   ],
   "source": [
    "data.rating.isnull().sum()"
   ]
  },
  {
   "cell_type": "code",
   "execution_count": 24,
   "metadata": {},
   "outputs": [],
   "source": [
    "average_rating = data.rating.mean()"
   ]
  },
  {
   "cell_type": "code",
   "execution_count": 25,
   "metadata": {},
   "outputs": [],
   "source": [
    "data.rating = data.rating.fillna(average_rating)"
   ]
  },
  {
   "cell_type": "code",
   "execution_count": 26,
   "metadata": {},
   "outputs": [
    {
     "data": {
      "text/plain": [
       "(2814, 7)"
      ]
     },
     "execution_count": 26,
     "metadata": {},
     "output_type": "execute_result"
    }
   ],
   "source": [
    "data.shape"
   ]
  },
  {
   "cell_type": "code",
   "execution_count": 27,
   "metadata": {},
   "outputs": [
    {
     "data": {
      "text/html": [
       "<div>\n",
       "<style scoped>\n",
       "    .dataframe tbody tr th:only-of-type {\n",
       "        vertical-align: middle;\n",
       "    }\n",
       "\n",
       "    .dataframe tbody tr th {\n",
       "        vertical-align: top;\n",
       "    }\n",
       "\n",
       "    .dataframe thead th {\n",
       "        text-align: right;\n",
       "    }\n",
       "</style>\n",
       "<table border=\"1\" class=\"dataframe\">\n",
       "  <thead>\n",
       "    <tr style=\"text-align: right;\">\n",
       "      <th></th>\n",
       "      <th>category</th>\n",
       "      <th>brand</th>\n",
       "      <th>name</th>\n",
       "      <th>price</th>\n",
       "      <th>rating</th>\n",
       "      <th>skin_type</th>\n",
       "      <th>ingredients</th>\n",
       "    </tr>\n",
       "  </thead>\n",
       "  <tbody>\n",
       "    <tr>\n",
       "      <th>2809</th>\n",
       "      <td>sun protect</td>\n",
       "      <td>Institut Esthederm</td>\n",
       "      <td>Sun protection</td>\n",
       "      <td>50.73</td>\n",
       "      <td>4.269727</td>\n",
       "      <td>Normal skin</td>\n",
       "      <td>Aqua/Water/Eau*, Ethylhexyl Methoxycinnamate, ...</td>\n",
       "    </tr>\n",
       "    <tr>\n",
       "      <th>2810</th>\n",
       "      <td>sun protect</td>\n",
       "      <td>Institut Esthederm</td>\n",
       "      <td>INSTITUT ESTHEDERM ADAPTASUN PROTECTIVE SILKY ...</td>\n",
       "      <td>44.46</td>\n",
       "      <td>4.269727</td>\n",
       "      <td>Normal skin</td>\n",
       "      <td>Butan, Dibutyl, Adipate, Coco-Caprylate/Caprat...</td>\n",
       "    </tr>\n",
       "    <tr>\n",
       "      <th>2811</th>\n",
       "      <td>sun protect</td>\n",
       "      <td>Institut Esthederm</td>\n",
       "      <td>INSTITUT ESTHEDERM ADAPTASUN PROTECTIVE TANNIN...</td>\n",
       "      <td>46.74</td>\n",
       "      <td>4.269727</td>\n",
       "      <td>Normal skin</td>\n",
       "      <td>Aqua/water/eau*, Ethylhexyl Methoxycinnamate, ...</td>\n",
       "    </tr>\n",
       "    <tr>\n",
       "      <th>2812</th>\n",
       "      <td>sun protect</td>\n",
       "      <td>Skin Stories</td>\n",
       "      <td>SKIN STORIES COLOR PROTECT SUN STICK - Sun pro...</td>\n",
       "      <td>14.95</td>\n",
       "      <td>4.269727</td>\n",
       "      <td>All skin types</td>\n",
       "      <td>C12-15 Alkyl Benzoate, Homosalate, Cera Alba, ...</td>\n",
       "    </tr>\n",
       "    <tr>\n",
       "      <th>2813</th>\n",
       "      <td>sun protect</td>\n",
       "      <td>Institut Esthederm</td>\n",
       "      <td>Self tan</td>\n",
       "      <td>63.84</td>\n",
       "      <td>4.269727</td>\n",
       "      <td>All skin types</td>\n",
       "      <td>Aqua/Water/Eau*, Dicaprylyl Carbonate, Ethylex...</td>\n",
       "    </tr>\n",
       "  </tbody>\n",
       "</table>\n",
       "</div>"
      ],
      "text/plain": [
       "         category               brand  \\\n",
       "2809  sun protect  Institut Esthederm   \n",
       "2810  sun protect  Institut Esthederm   \n",
       "2811  sun protect  Institut Esthederm   \n",
       "2812  sun protect        Skin Stories   \n",
       "2813  sun protect  Institut Esthederm   \n",
       "\n",
       "                                                   name  price    rating  \\\n",
       "2809                                     Sun protection  50.73  4.269727   \n",
       "2810  INSTITUT ESTHEDERM ADAPTASUN PROTECTIVE SILKY ...  44.46  4.269727   \n",
       "2811  INSTITUT ESTHEDERM ADAPTASUN PROTECTIVE TANNIN...  46.74  4.269727   \n",
       "2812  SKIN STORIES COLOR PROTECT SUN STICK - Sun pro...  14.95  4.269727   \n",
       "2813                                           Self tan  63.84  4.269727   \n",
       "\n",
       "           skin_type                                        ingredients  \n",
       "2809     Normal skin  Aqua/Water/Eau*, Ethylhexyl Methoxycinnamate, ...  \n",
       "2810     Normal skin  Butan, Dibutyl, Adipate, Coco-Caprylate/Caprat...  \n",
       "2811     Normal skin  Aqua/water/eau*, Ethylhexyl Methoxycinnamate, ...  \n",
       "2812  All skin types  C12-15 Alkyl Benzoate, Homosalate, Cera Alba, ...  \n",
       "2813  All skin types  Aqua/Water/Eau*, Dicaprylyl Carbonate, Ethylex...  "
      ]
     },
     "execution_count": 27,
     "metadata": {},
     "output_type": "execute_result"
    }
   ],
   "source": [
    "data.tail()"
   ]
  },
  {
   "cell_type": "markdown",
   "metadata": {},
   "source": [
    "#### skin_type"
   ]
  },
  {
   "cell_type": "code",
   "execution_count": 28,
   "metadata": {},
   "outputs": [
    {
     "data": {
      "text/plain": [
       "All skin types                                                                        719\n",
       "Normal skin                                                                           136\n",
       "Sensitive skin                                                                        119\n",
       "Dry skin                                                                               40\n",
       "Oily skin                                                                              26\n",
       "Mature skin                                                                            23\n",
       "Combination skin                                                                       12\n",
       "Dry skin, Sensitive skin, Combination skin, Oily skin, Normal skin                     11\n",
       "Combination skin, Oily skin                                                             6\n",
       "Dry skin, Combination skin, Oily skin                                                   5\n",
       "Combination skin, Mature skin, Normal skin                                              2\n",
       "Dry skin, Combination skin                                                              2\n",
       "Dry skin, Normal skin                                                                   2\n",
       "Dry skin, Mature skin                                                                   2\n",
       "Sensitive skin, Combination skin, Mature skin, Oily skin, Normal skin                   1\n",
       "Dry skin, Sensitive skin, Combination skin, Oily skin, Normal skin, All skin types      1\n",
       "Dry skin, Combination skin, Mature skin, Normal skin                                    1\n",
       "Dry skin, Combination skin, Mature skin, Oily skin, Normal skin                         1\n",
       "Combination skin, Oily skin, Normal skin                                                1\n",
       "Mature skin, Normal skin                                                                1\n",
       "Dry skin, Combination skin, Oily skin, Normal skin                                      1\n",
       "Normal skin, All skin types                                                             1\n",
       "Oily skin, Normal skin                                                                  1\n",
       "Dry skin, Mature skin, Normal skin                                                      1\n",
       "Name: skin_type, dtype: int64"
      ]
     },
     "execution_count": 28,
     "metadata": {},
     "output_type": "execute_result"
    }
   ],
   "source": [
    "data['skin_type'].value_counts()"
   ]
  },
  {
   "cell_type": "code",
   "execution_count": 29,
   "metadata": {},
   "outputs": [
    {
     "data": {
      "text/html": [
       "<div>\n",
       "<style scoped>\n",
       "    .dataframe tbody tr th:only-of-type {\n",
       "        vertical-align: middle;\n",
       "    }\n",
       "\n",
       "    .dataframe tbody tr th {\n",
       "        vertical-align: top;\n",
       "    }\n",
       "\n",
       "    .dataframe thead th {\n",
       "        text-align: right;\n",
       "    }\n",
       "</style>\n",
       "<table border=\"1\" class=\"dataframe\">\n",
       "  <thead>\n",
       "    <tr style=\"text-align: right;\">\n",
       "      <th></th>\n",
       "      <th>category</th>\n",
       "      <th>brand</th>\n",
       "      <th>name</th>\n",
       "      <th>price</th>\n",
       "      <th>rating</th>\n",
       "      <th>skin_type</th>\n",
       "      <th>ingredients</th>\n",
       "    </tr>\n",
       "  </thead>\n",
       "  <tbody>\n",
       "    <tr>\n",
       "      <th>2809</th>\n",
       "      <td>sun protect</td>\n",
       "      <td>Institut Esthederm</td>\n",
       "      <td>Sun protection</td>\n",
       "      <td>50.73</td>\n",
       "      <td>4.269727</td>\n",
       "      <td>Normal skin</td>\n",
       "      <td>Aqua/Water/Eau*, Ethylhexyl Methoxycinnamate, ...</td>\n",
       "    </tr>\n",
       "    <tr>\n",
       "      <th>2810</th>\n",
       "      <td>sun protect</td>\n",
       "      <td>Institut Esthederm</td>\n",
       "      <td>INSTITUT ESTHEDERM ADAPTASUN PROTECTIVE SILKY ...</td>\n",
       "      <td>44.46</td>\n",
       "      <td>4.269727</td>\n",
       "      <td>Normal skin</td>\n",
       "      <td>Butan, Dibutyl, Adipate, Coco-Caprylate/Caprat...</td>\n",
       "    </tr>\n",
       "    <tr>\n",
       "      <th>2811</th>\n",
       "      <td>sun protect</td>\n",
       "      <td>Institut Esthederm</td>\n",
       "      <td>INSTITUT ESTHEDERM ADAPTASUN PROTECTIVE TANNIN...</td>\n",
       "      <td>46.74</td>\n",
       "      <td>4.269727</td>\n",
       "      <td>Normal skin</td>\n",
       "      <td>Aqua/water/eau*, Ethylhexyl Methoxycinnamate, ...</td>\n",
       "    </tr>\n",
       "    <tr>\n",
       "      <th>2812</th>\n",
       "      <td>sun protect</td>\n",
       "      <td>Skin Stories</td>\n",
       "      <td>SKIN STORIES COLOR PROTECT SUN STICK - Sun pro...</td>\n",
       "      <td>14.95</td>\n",
       "      <td>4.269727</td>\n",
       "      <td>All skin types</td>\n",
       "      <td>C12-15 Alkyl Benzoate, Homosalate, Cera Alba, ...</td>\n",
       "    </tr>\n",
       "    <tr>\n",
       "      <th>2813</th>\n",
       "      <td>sun protect</td>\n",
       "      <td>Institut Esthederm</td>\n",
       "      <td>Self tan</td>\n",
       "      <td>63.84</td>\n",
       "      <td>4.269727</td>\n",
       "      <td>All skin types</td>\n",
       "      <td>Aqua/Water/Eau*, Dicaprylyl Carbonate, Ethylex...</td>\n",
       "    </tr>\n",
       "  </tbody>\n",
       "</table>\n",
       "</div>"
      ],
      "text/plain": [
       "         category               brand  \\\n",
       "2809  sun protect  Institut Esthederm   \n",
       "2810  sun protect  Institut Esthederm   \n",
       "2811  sun protect  Institut Esthederm   \n",
       "2812  sun protect        Skin Stories   \n",
       "2813  sun protect  Institut Esthederm   \n",
       "\n",
       "                                                   name  price    rating  \\\n",
       "2809                                     Sun protection  50.73  4.269727   \n",
       "2810  INSTITUT ESTHEDERM ADAPTASUN PROTECTIVE SILKY ...  44.46  4.269727   \n",
       "2811  INSTITUT ESTHEDERM ADAPTASUN PROTECTIVE TANNIN...  46.74  4.269727   \n",
       "2812  SKIN STORIES COLOR PROTECT SUN STICK - Sun pro...  14.95  4.269727   \n",
       "2813                                           Self tan  63.84  4.269727   \n",
       "\n",
       "           skin_type                                        ingredients  \n",
       "2809     Normal skin  Aqua/Water/Eau*, Ethylhexyl Methoxycinnamate, ...  \n",
       "2810     Normal skin  Butan, Dibutyl, Adipate, Coco-Caprylate/Caprat...  \n",
       "2811     Normal skin  Aqua/water/eau*, Ethylhexyl Methoxycinnamate, ...  \n",
       "2812  All skin types  C12-15 Alkyl Benzoate, Homosalate, Cera Alba, ...  \n",
       "2813  All skin types  Aqua/Water/Eau*, Dicaprylyl Carbonate, Ethylex...  "
      ]
     },
     "execution_count": 29,
     "metadata": {},
     "output_type": "execute_result"
    }
   ],
   "source": [
    "data.tail()"
   ]
  },
  {
   "cell_type": "code",
   "execution_count": 37,
   "metadata": {},
   "outputs": [],
   "source": [
    "# make dummy columns for 7 different skin types\n",
    "encoded = data['skin_type'].str.get_dummies(sep=', ')"
   ]
  },
  {
   "cell_type": "code",
   "execution_count": 38,
   "metadata": {},
   "outputs": [
    {
     "data": {
      "text/html": [
       "<div>\n",
       "<style scoped>\n",
       "    .dataframe tbody tr th:only-of-type {\n",
       "        vertical-align: middle;\n",
       "    }\n",
       "\n",
       "    .dataframe tbody tr th {\n",
       "        vertical-align: top;\n",
       "    }\n",
       "\n",
       "    .dataframe thead th {\n",
       "        text-align: right;\n",
       "    }\n",
       "</style>\n",
       "<table border=\"1\" class=\"dataframe\">\n",
       "  <thead>\n",
       "    <tr style=\"text-align: right;\">\n",
       "      <th></th>\n",
       "      <th>All skin types</th>\n",
       "      <th>Combination skin</th>\n",
       "      <th>Dry skin</th>\n",
       "      <th>Mature skin</th>\n",
       "      <th>Normal skin</th>\n",
       "      <th>Oily skin</th>\n",
       "      <th>Sensitive skin</th>\n",
       "    </tr>\n",
       "  </thead>\n",
       "  <tbody>\n",
       "    <tr>\n",
       "      <th>2809</th>\n",
       "      <td>0</td>\n",
       "      <td>0</td>\n",
       "      <td>0</td>\n",
       "      <td>0</td>\n",
       "      <td>1</td>\n",
       "      <td>0</td>\n",
       "      <td>0</td>\n",
       "    </tr>\n",
       "    <tr>\n",
       "      <th>2810</th>\n",
       "      <td>0</td>\n",
       "      <td>0</td>\n",
       "      <td>0</td>\n",
       "      <td>0</td>\n",
       "      <td>1</td>\n",
       "      <td>0</td>\n",
       "      <td>0</td>\n",
       "    </tr>\n",
       "    <tr>\n",
       "      <th>2811</th>\n",
       "      <td>0</td>\n",
       "      <td>0</td>\n",
       "      <td>0</td>\n",
       "      <td>0</td>\n",
       "      <td>1</td>\n",
       "      <td>0</td>\n",
       "      <td>0</td>\n",
       "    </tr>\n",
       "    <tr>\n",
       "      <th>2812</th>\n",
       "      <td>1</td>\n",
       "      <td>0</td>\n",
       "      <td>0</td>\n",
       "      <td>0</td>\n",
       "      <td>0</td>\n",
       "      <td>0</td>\n",
       "      <td>0</td>\n",
       "    </tr>\n",
       "    <tr>\n",
       "      <th>2813</th>\n",
       "      <td>1</td>\n",
       "      <td>0</td>\n",
       "      <td>0</td>\n",
       "      <td>0</td>\n",
       "      <td>0</td>\n",
       "      <td>0</td>\n",
       "      <td>0</td>\n",
       "    </tr>\n",
       "  </tbody>\n",
       "</table>\n",
       "</div>"
      ],
      "text/plain": [
       "      All skin types  Combination skin  Dry skin  Mature skin  Normal skin  \\\n",
       "2809               0                 0         0            0            1   \n",
       "2810               0                 0         0            0            1   \n",
       "2811               0                 0         0            0            1   \n",
       "2812               1                 0         0            0            0   \n",
       "2813               1                 0         0            0            0   \n",
       "\n",
       "      Oily skin  Sensitive skin  \n",
       "2809          0               0  \n",
       "2810          0               0  \n",
       "2811          0               0  \n",
       "2812          0               0  \n",
       "2813          0               0  "
      ]
     },
     "execution_count": 38,
     "metadata": {},
     "output_type": "execute_result"
    }
   ],
   "source": [
    "encoded.tail()"
   ]
  },
  {
   "cell_type": "code",
   "execution_count": 39,
   "metadata": {},
   "outputs": [],
   "source": [
    "data = pd.concat([data, encoded], axis=1)"
   ]
  },
  {
   "cell_type": "code",
   "execution_count": 41,
   "metadata": {},
   "outputs": [],
   "source": [
    "data = data.drop('skin_type', axis = 1)"
   ]
  },
  {
   "cell_type": "code",
   "execution_count": 42,
   "metadata": {},
   "outputs": [
    {
     "data": {
      "text/html": [
       "<div>\n",
       "<style scoped>\n",
       "    .dataframe tbody tr th:only-of-type {\n",
       "        vertical-align: middle;\n",
       "    }\n",
       "\n",
       "    .dataframe tbody tr th {\n",
       "        vertical-align: top;\n",
       "    }\n",
       "\n",
       "    .dataframe thead th {\n",
       "        text-align: right;\n",
       "    }\n",
       "</style>\n",
       "<table border=\"1\" class=\"dataframe\">\n",
       "  <thead>\n",
       "    <tr style=\"text-align: right;\">\n",
       "      <th></th>\n",
       "      <th>category</th>\n",
       "      <th>brand</th>\n",
       "      <th>name</th>\n",
       "      <th>price</th>\n",
       "      <th>rating</th>\n",
       "      <th>ingredients</th>\n",
       "      <th>All skin types</th>\n",
       "      <th>Combination skin</th>\n",
       "      <th>Dry skin</th>\n",
       "      <th>Mature skin</th>\n",
       "      <th>Normal skin</th>\n",
       "      <th>Oily skin</th>\n",
       "      <th>Sensitive skin</th>\n",
       "    </tr>\n",
       "  </thead>\n",
       "  <tbody>\n",
       "    <tr>\n",
       "      <th>0</th>\n",
       "      <td>skin tone</td>\n",
       "      <td>Darphin</td>\n",
       "      <td>MELAPERFECT FOUNDATION NEUTRAL - Foundation</td>\n",
       "      <td>39.95</td>\n",
       "      <td>4.000000</td>\n",
       "      <td>Water\\aqua\\eau, methyl, trimethicone, phenyl t...</td>\n",
       "      <td>0</td>\n",
       "      <td>0</td>\n",
       "      <td>0</td>\n",
       "      <td>0</td>\n",
       "      <td>0</td>\n",
       "      <td>0</td>\n",
       "      <td>0</td>\n",
       "    </tr>\n",
       "    <tr>\n",
       "      <th>1</th>\n",
       "      <td>skin tone</td>\n",
       "      <td>Nyx Professional Makeup</td>\n",
       "      <td>HD PHOTOGENIC CONCEALER WAND - Concealer</td>\n",
       "      <td>6.95</td>\n",
       "      <td>4.143646</td>\n",
       "      <td>AQUA / WATER, TRIMETHYLSILOXYPHENYL DIMETHICON...</td>\n",
       "      <td>0</td>\n",
       "      <td>0</td>\n",
       "      <td>0</td>\n",
       "      <td>0</td>\n",
       "      <td>0</td>\n",
       "      <td>0</td>\n",
       "      <td>0</td>\n",
       "    </tr>\n",
       "    <tr>\n",
       "      <th>2</th>\n",
       "      <td>skin tone</td>\n",
       "      <td>Nyx Professional Makeup</td>\n",
       "      <td>BARE WITH ME TINTED SKIN VEIL - Setting spray ...</td>\n",
       "      <td>9.95</td>\n",
       "      <td>4.560000</td>\n",
       "      <td>Aqua/Water/Eau, Glycerin, Alcohol Denat., Aloe...</td>\n",
       "      <td>0</td>\n",
       "      <td>0</td>\n",
       "      <td>0</td>\n",
       "      <td>0</td>\n",
       "      <td>0</td>\n",
       "      <td>0</td>\n",
       "      <td>0</td>\n",
       "    </tr>\n",
       "    <tr>\n",
       "      <th>3</th>\n",
       "      <td>skin tone</td>\n",
       "      <td>MAC</td>\n",
       "      <td>PREP + PRIME FIX + MATTIFYING MIST 100ML - Primer</td>\n",
       "      <td>22.50</td>\n",
       "      <td>4.327586</td>\n",
       "      <td>Water\\Aqua\\Eau , Alcohol Denat. , Silica , Sod...</td>\n",
       "      <td>0</td>\n",
       "      <td>0</td>\n",
       "      <td>0</td>\n",
       "      <td>0</td>\n",
       "      <td>0</td>\n",
       "      <td>0</td>\n",
       "      <td>0</td>\n",
       "    </tr>\n",
       "    <tr>\n",
       "      <th>4</th>\n",
       "      <td>skin tone</td>\n",
       "      <td>MAC</td>\n",
       "      <td>STUDIO FIX FLUID SPF15 FOUNDATION - Foundation</td>\n",
       "      <td>33.95</td>\n",
       "      <td>4.485348</td>\n",
       "      <td>Octinoxate 2.50%, Titanium Dioxide 1.00%Water\\...</td>\n",
       "      <td>0</td>\n",
       "      <td>0</td>\n",
       "      <td>0</td>\n",
       "      <td>0</td>\n",
       "      <td>0</td>\n",
       "      <td>0</td>\n",
       "      <td>0</td>\n",
       "    </tr>\n",
       "  </tbody>\n",
       "</table>\n",
       "</div>"
      ],
      "text/plain": [
       "    category                    brand  \\\n",
       "0  skin tone                  Darphin   \n",
       "1  skin tone  Nyx Professional Makeup   \n",
       "2  skin tone  Nyx Professional Makeup   \n",
       "3  skin tone                      MAC   \n",
       "4  skin tone                      MAC   \n",
       "\n",
       "                                                name  price    rating  \\\n",
       "0        MELAPERFECT FOUNDATION NEUTRAL - Foundation  39.95  4.000000   \n",
       "1           HD PHOTOGENIC CONCEALER WAND - Concealer   6.95  4.143646   \n",
       "2  BARE WITH ME TINTED SKIN VEIL - Setting spray ...   9.95  4.560000   \n",
       "3  PREP + PRIME FIX + MATTIFYING MIST 100ML - Primer  22.50  4.327586   \n",
       "4     STUDIO FIX FLUID SPF15 FOUNDATION - Foundation  33.95  4.485348   \n",
       "\n",
       "                                         ingredients  All skin types  \\\n",
       "0  Water\\aqua\\eau, methyl, trimethicone, phenyl t...               0   \n",
       "1  AQUA / WATER, TRIMETHYLSILOXYPHENYL DIMETHICON...               0   \n",
       "2  Aqua/Water/Eau, Glycerin, Alcohol Denat., Aloe...               0   \n",
       "3  Water\\Aqua\\Eau , Alcohol Denat. , Silica , Sod...               0   \n",
       "4  Octinoxate 2.50%, Titanium Dioxide 1.00%Water\\...               0   \n",
       "\n",
       "   Combination skin  Dry skin  Mature skin  Normal skin  Oily skin  \\\n",
       "0                 0         0            0            0          0   \n",
       "1                 0         0            0            0          0   \n",
       "2                 0         0            0            0          0   \n",
       "3                 0         0            0            0          0   \n",
       "4                 0         0            0            0          0   \n",
       "\n",
       "   Sensitive skin  \n",
       "0               0  \n",
       "1               0  \n",
       "2               0  \n",
       "3               0  \n",
       "4               0  "
      ]
     },
     "execution_count": 42,
     "metadata": {},
     "output_type": "execute_result"
    }
   ],
   "source": [
    "data.head()"
   ]
  },
  {
   "cell_type": "markdown",
   "metadata": {},
   "source": [
    "#### ingredients\n",
    "*some separators are - (dash), not comma*"
   ]
  },
  {
   "cell_type": "code",
   "execution_count": 45,
   "metadata": {},
   "outputs": [
    {
     "data": {
      "text/plain": [
       "category            0.000000\n",
       "brand               0.000000\n",
       "name                0.000000\n",
       "price               0.000000\n",
       "rating              0.000000\n",
       "ingredients         2.061123\n",
       "All skin types      0.000000\n",
       "Combination skin    0.000000\n",
       "Dry skin            0.000000\n",
       "Mature skin         0.000000\n",
       "Normal skin         0.000000\n",
       "Oily skin           0.000000\n",
       "Sensitive skin      0.000000\n",
       "dtype: float64"
      ]
     },
     "execution_count": 45,
     "metadata": {},
     "output_type": "execute_result"
    }
   ],
   "source": [
    "data.isnull().sum()/data.shape[0]*100"
   ]
  },
  {
   "cell_type": "code",
   "execution_count": 47,
   "metadata": {},
   "outputs": [
    {
     "data": {
      "text/html": [
       "<div>\n",
       "<style scoped>\n",
       "    .dataframe tbody tr th:only-of-type {\n",
       "        vertical-align: middle;\n",
       "    }\n",
       "\n",
       "    .dataframe tbody tr th {\n",
       "        vertical-align: top;\n",
       "    }\n",
       "\n",
       "    .dataframe thead th {\n",
       "        text-align: right;\n",
       "    }\n",
       "</style>\n",
       "<table border=\"1\" class=\"dataframe\">\n",
       "  <thead>\n",
       "    <tr style=\"text-align: right;\">\n",
       "      <th></th>\n",
       "      <th>category</th>\n",
       "      <th>brand</th>\n",
       "      <th>name</th>\n",
       "      <th>price</th>\n",
       "      <th>rating</th>\n",
       "      <th>ingredients</th>\n",
       "      <th>All skin types</th>\n",
       "      <th>Combination skin</th>\n",
       "      <th>Dry skin</th>\n",
       "      <th>Mature skin</th>\n",
       "      <th>Normal skin</th>\n",
       "      <th>Oily skin</th>\n",
       "      <th>Sensitive skin</th>\n",
       "    </tr>\n",
       "  </thead>\n",
       "  <tbody>\n",
       "    <tr>\n",
       "      <th>2809</th>\n",
       "      <td>sun protect</td>\n",
       "      <td>Institut Esthederm</td>\n",
       "      <td>Sun protection</td>\n",
       "      <td>50.73</td>\n",
       "      <td>4.269727</td>\n",
       "      <td>Aqua/Water/Eau*, Ethylhexyl Methoxycinnamate, ...</td>\n",
       "      <td>0</td>\n",
       "      <td>0</td>\n",
       "      <td>0</td>\n",
       "      <td>0</td>\n",
       "      <td>1</td>\n",
       "      <td>0</td>\n",
       "      <td>0</td>\n",
       "    </tr>\n",
       "    <tr>\n",
       "      <th>2810</th>\n",
       "      <td>sun protect</td>\n",
       "      <td>Institut Esthederm</td>\n",
       "      <td>INSTITUT ESTHEDERM ADAPTASUN PROTECTIVE SILKY ...</td>\n",
       "      <td>44.46</td>\n",
       "      <td>4.269727</td>\n",
       "      <td>Butan, Dibutyl, Adipate, Coco-Caprylate/Caprat...</td>\n",
       "      <td>0</td>\n",
       "      <td>0</td>\n",
       "      <td>0</td>\n",
       "      <td>0</td>\n",
       "      <td>1</td>\n",
       "      <td>0</td>\n",
       "      <td>0</td>\n",
       "    </tr>\n",
       "    <tr>\n",
       "      <th>2811</th>\n",
       "      <td>sun protect</td>\n",
       "      <td>Institut Esthederm</td>\n",
       "      <td>INSTITUT ESTHEDERM ADAPTASUN PROTECTIVE TANNIN...</td>\n",
       "      <td>46.74</td>\n",
       "      <td>4.269727</td>\n",
       "      <td>Aqua/water/eau*, Ethylhexyl Methoxycinnamate, ...</td>\n",
       "      <td>0</td>\n",
       "      <td>0</td>\n",
       "      <td>0</td>\n",
       "      <td>0</td>\n",
       "      <td>1</td>\n",
       "      <td>0</td>\n",
       "      <td>0</td>\n",
       "    </tr>\n",
       "    <tr>\n",
       "      <th>2812</th>\n",
       "      <td>sun protect</td>\n",
       "      <td>Skin Stories</td>\n",
       "      <td>SKIN STORIES COLOR PROTECT SUN STICK - Sun pro...</td>\n",
       "      <td>14.95</td>\n",
       "      <td>4.269727</td>\n",
       "      <td>C12-15 Alkyl Benzoate, Homosalate, Cera Alba, ...</td>\n",
       "      <td>1</td>\n",
       "      <td>0</td>\n",
       "      <td>0</td>\n",
       "      <td>0</td>\n",
       "      <td>0</td>\n",
       "      <td>0</td>\n",
       "      <td>0</td>\n",
       "    </tr>\n",
       "    <tr>\n",
       "      <th>2813</th>\n",
       "      <td>sun protect</td>\n",
       "      <td>Institut Esthederm</td>\n",
       "      <td>Self tan</td>\n",
       "      <td>63.84</td>\n",
       "      <td>4.269727</td>\n",
       "      <td>Aqua/Water/Eau*, Dicaprylyl Carbonate, Ethylex...</td>\n",
       "      <td>1</td>\n",
       "      <td>0</td>\n",
       "      <td>0</td>\n",
       "      <td>0</td>\n",
       "      <td>0</td>\n",
       "      <td>0</td>\n",
       "      <td>0</td>\n",
       "    </tr>\n",
       "  </tbody>\n",
       "</table>\n",
       "</div>"
      ],
      "text/plain": [
       "         category               brand  \\\n",
       "2809  sun protect  Institut Esthederm   \n",
       "2810  sun protect  Institut Esthederm   \n",
       "2811  sun protect  Institut Esthederm   \n",
       "2812  sun protect        Skin Stories   \n",
       "2813  sun protect  Institut Esthederm   \n",
       "\n",
       "                                                   name  price    rating  \\\n",
       "2809                                     Sun protection  50.73  4.269727   \n",
       "2810  INSTITUT ESTHEDERM ADAPTASUN PROTECTIVE SILKY ...  44.46  4.269727   \n",
       "2811  INSTITUT ESTHEDERM ADAPTASUN PROTECTIVE TANNIN...  46.74  4.269727   \n",
       "2812  SKIN STORIES COLOR PROTECT SUN STICK - Sun pro...  14.95  4.269727   \n",
       "2813                                           Self tan  63.84  4.269727   \n",
       "\n",
       "                                            ingredients  All skin types  \\\n",
       "2809  Aqua/Water/Eau*, Ethylhexyl Methoxycinnamate, ...               0   \n",
       "2810  Butan, Dibutyl, Adipate, Coco-Caprylate/Caprat...               0   \n",
       "2811  Aqua/water/eau*, Ethylhexyl Methoxycinnamate, ...               0   \n",
       "2812  C12-15 Alkyl Benzoate, Homosalate, Cera Alba, ...               1   \n",
       "2813  Aqua/Water/Eau*, Dicaprylyl Carbonate, Ethylex...               1   \n",
       "\n",
       "      Combination skin  Dry skin  Mature skin  Normal skin  Oily skin  \\\n",
       "2809                 0         0            0            1          0   \n",
       "2810                 0         0            0            1          0   \n",
       "2811                 0         0            0            1          0   \n",
       "2812                 0         0            0            0          0   \n",
       "2813                 0         0            0            0          0   \n",
       "\n",
       "      Sensitive skin  \n",
       "2809               0  \n",
       "2810               0  \n",
       "2811               0  \n",
       "2812               0  \n",
       "2813               0  "
      ]
     },
     "execution_count": 47,
     "metadata": {},
     "output_type": "execute_result"
    }
   ],
   "source": [
    "data.tail()"
   ]
  },
  {
   "cell_type": "code",
   "execution_count": 48,
   "metadata": {},
   "outputs": [],
   "source": [
    "null_ingredients = data[data.isna().any(axis=1)]"
   ]
  },
  {
   "cell_type": "code",
   "execution_count": 51,
   "metadata": {},
   "outputs": [
    {
     "data": {
      "text/html": [
       "<div>\n",
       "<style scoped>\n",
       "    .dataframe tbody tr th:only-of-type {\n",
       "        vertical-align: middle;\n",
       "    }\n",
       "\n",
       "    .dataframe tbody tr th {\n",
       "        vertical-align: top;\n",
       "    }\n",
       "\n",
       "    .dataframe thead th {\n",
       "        text-align: right;\n",
       "    }\n",
       "</style>\n",
       "<table border=\"1\" class=\"dataframe\">\n",
       "  <thead>\n",
       "    <tr style=\"text-align: right;\">\n",
       "      <th></th>\n",
       "      <th>category</th>\n",
       "      <th>brand</th>\n",
       "      <th>name</th>\n",
       "      <th>price</th>\n",
       "      <th>rating</th>\n",
       "      <th>ingredients</th>\n",
       "      <th>All skin types</th>\n",
       "      <th>Combination skin</th>\n",
       "      <th>Dry skin</th>\n",
       "      <th>Mature skin</th>\n",
       "      <th>Normal skin</th>\n",
       "      <th>Oily skin</th>\n",
       "      <th>Sensitive skin</th>\n",
       "    </tr>\n",
       "  </thead>\n",
       "  <tbody>\n",
       "    <tr>\n",
       "      <th>1487</th>\n",
       "      <td>face care</td>\n",
       "      <td>Pixi</td>\n",
       "      <td>SHEA BUTTER LIP BALM - Lip balm</td>\n",
       "      <td>10.95</td>\n",
       "      <td>3.967742</td>\n",
       "      <td>NaN</td>\n",
       "      <td>0</td>\n",
       "      <td>0</td>\n",
       "      <td>0</td>\n",
       "      <td>0</td>\n",
       "      <td>0</td>\n",
       "      <td>0</td>\n",
       "      <td>0</td>\n",
       "    </tr>\n",
       "    <tr>\n",
       "      <th>1491</th>\n",
       "      <td>face care</td>\n",
       "      <td>MAC</td>\n",
       "      <td>PRO PALETTE X 2 - Eye makeup tool</td>\n",
       "      <td>5.95</td>\n",
       "      <td>4.269727</td>\n",
       "      <td>NaN</td>\n",
       "      <td>0</td>\n",
       "      <td>0</td>\n",
       "      <td>0</td>\n",
       "      <td>0</td>\n",
       "      <td>0</td>\n",
       "      <td>0</td>\n",
       "      <td>0</td>\n",
       "    </tr>\n",
       "    <tr>\n",
       "      <th>1511</th>\n",
       "      <td>face care</td>\n",
       "      <td>Pixi</td>\n",
       "      <td>SHEA BUTTER LIP BALM - Lip balm</td>\n",
       "      <td>10.95</td>\n",
       "      <td>3.967742</td>\n",
       "      <td>NaN</td>\n",
       "      <td>0</td>\n",
       "      <td>0</td>\n",
       "      <td>0</td>\n",
       "      <td>0</td>\n",
       "      <td>0</td>\n",
       "      <td>0</td>\n",
       "      <td>0</td>\n",
       "    </tr>\n",
       "    <tr>\n",
       "      <th>1515</th>\n",
       "      <td>face care</td>\n",
       "      <td>MAC</td>\n",
       "      <td>PRO PALETTE X 2 - Eye makeup tool</td>\n",
       "      <td>5.95</td>\n",
       "      <td>4.269727</td>\n",
       "      <td>NaN</td>\n",
       "      <td>0</td>\n",
       "      <td>0</td>\n",
       "      <td>0</td>\n",
       "      <td>0</td>\n",
       "      <td>0</td>\n",
       "      <td>0</td>\n",
       "      <td>0</td>\n",
       "    </tr>\n",
       "    <tr>\n",
       "      <th>1530</th>\n",
       "      <td>face care</td>\n",
       "      <td>Pixi</td>\n",
       "      <td>SHEA BUTTER LIP BALM - Lip balm</td>\n",
       "      <td>10.95</td>\n",
       "      <td>3.967742</td>\n",
       "      <td>NaN</td>\n",
       "      <td>0</td>\n",
       "      <td>0</td>\n",
       "      <td>0</td>\n",
       "      <td>0</td>\n",
       "      <td>0</td>\n",
       "      <td>0</td>\n",
       "      <td>0</td>\n",
       "    </tr>\n",
       "    <tr>\n",
       "      <th>1533</th>\n",
       "      <td>face care</td>\n",
       "      <td>MAC</td>\n",
       "      <td>PRO PALETTE X 2 - Eye makeup tool</td>\n",
       "      <td>5.95</td>\n",
       "      <td>4.269727</td>\n",
       "      <td>NaN</td>\n",
       "      <td>0</td>\n",
       "      <td>0</td>\n",
       "      <td>0</td>\n",
       "      <td>0</td>\n",
       "      <td>0</td>\n",
       "      <td>0</td>\n",
       "      <td>0</td>\n",
       "    </tr>\n",
       "    <tr>\n",
       "      <th>1546</th>\n",
       "      <td>face care</td>\n",
       "      <td>Pixi</td>\n",
       "      <td>SHEA BUTTER LIP BALM - Lip balm</td>\n",
       "      <td>10.95</td>\n",
       "      <td>3.967742</td>\n",
       "      <td>NaN</td>\n",
       "      <td>0</td>\n",
       "      <td>0</td>\n",
       "      <td>0</td>\n",
       "      <td>0</td>\n",
       "      <td>0</td>\n",
       "      <td>0</td>\n",
       "      <td>0</td>\n",
       "    </tr>\n",
       "    <tr>\n",
       "      <th>1549</th>\n",
       "      <td>face care</td>\n",
       "      <td>MAC</td>\n",
       "      <td>PRO PALETTE X 2 - Eye makeup tool</td>\n",
       "      <td>5.95</td>\n",
       "      <td>4.269727</td>\n",
       "      <td>NaN</td>\n",
       "      <td>0</td>\n",
       "      <td>0</td>\n",
       "      <td>0</td>\n",
       "      <td>0</td>\n",
       "      <td>0</td>\n",
       "      <td>0</td>\n",
       "      <td>0</td>\n",
       "    </tr>\n",
       "    <tr>\n",
       "      <th>1598</th>\n",
       "      <td>face care</td>\n",
       "      <td>Pixi</td>\n",
       "      <td>SHEA BUTTER LIP BALM - Lip balm</td>\n",
       "      <td>10.95</td>\n",
       "      <td>3.967742</td>\n",
       "      <td>NaN</td>\n",
       "      <td>0</td>\n",
       "      <td>0</td>\n",
       "      <td>0</td>\n",
       "      <td>0</td>\n",
       "      <td>0</td>\n",
       "      <td>0</td>\n",
       "      <td>0</td>\n",
       "    </tr>\n",
       "    <tr>\n",
       "      <th>1602</th>\n",
       "      <td>face care</td>\n",
       "      <td>MAC</td>\n",
       "      <td>PRO PALETTE X 2 - Eye makeup tool</td>\n",
       "      <td>5.95</td>\n",
       "      <td>4.269727</td>\n",
       "      <td>NaN</td>\n",
       "      <td>0</td>\n",
       "      <td>0</td>\n",
       "      <td>0</td>\n",
       "      <td>0</td>\n",
       "      <td>0</td>\n",
       "      <td>0</td>\n",
       "      <td>0</td>\n",
       "    </tr>\n",
       "  </tbody>\n",
       "</table>\n",
       "</div>"
      ],
      "text/plain": [
       "       category brand                               name  price    rating  \\\n",
       "1487  face care  Pixi    SHEA BUTTER LIP BALM - Lip balm  10.95  3.967742   \n",
       "1491  face care   MAC  PRO PALETTE X 2 - Eye makeup tool   5.95  4.269727   \n",
       "1511  face care  Pixi    SHEA BUTTER LIP BALM - Lip balm  10.95  3.967742   \n",
       "1515  face care   MAC  PRO PALETTE X 2 - Eye makeup tool   5.95  4.269727   \n",
       "1530  face care  Pixi    SHEA BUTTER LIP BALM - Lip balm  10.95  3.967742   \n",
       "1533  face care   MAC  PRO PALETTE X 2 - Eye makeup tool   5.95  4.269727   \n",
       "1546  face care  Pixi    SHEA BUTTER LIP BALM - Lip balm  10.95  3.967742   \n",
       "1549  face care   MAC  PRO PALETTE X 2 - Eye makeup tool   5.95  4.269727   \n",
       "1598  face care  Pixi    SHEA BUTTER LIP BALM - Lip balm  10.95  3.967742   \n",
       "1602  face care   MAC  PRO PALETTE X 2 - Eye makeup tool   5.95  4.269727   \n",
       "\n",
       "     ingredients  All skin types  Combination skin  Dry skin  Mature skin  \\\n",
       "1487         NaN               0                 0         0            0   \n",
       "1491         NaN               0                 0         0            0   \n",
       "1511         NaN               0                 0         0            0   \n",
       "1515         NaN               0                 0         0            0   \n",
       "1530         NaN               0                 0         0            0   \n",
       "1533         NaN               0                 0         0            0   \n",
       "1546         NaN               0                 0         0            0   \n",
       "1549         NaN               0                 0         0            0   \n",
       "1598         NaN               0                 0         0            0   \n",
       "1602         NaN               0                 0         0            0   \n",
       "\n",
       "      Normal skin  Oily skin  Sensitive skin  \n",
       "1487            0          0               0  \n",
       "1491            0          0               0  \n",
       "1511            0          0               0  \n",
       "1515            0          0               0  \n",
       "1530            0          0               0  \n",
       "1533            0          0               0  \n",
       "1546            0          0               0  \n",
       "1549            0          0               0  \n",
       "1598            0          0               0  \n",
       "1602            0          0               0  "
      ]
     },
     "execution_count": 51,
     "metadata": {},
     "output_type": "execute_result"
    }
   ],
   "source": [
    "null_ingredients.tail(10)"
   ]
  },
  {
   "cell_type": "markdown",
   "metadata": {},
   "source": [
    "* выходит без состава - декоративная косметика, типа тушь, бальзам для губ, и тп:`удаляем из датафрейма`. "
   ]
  },
  {
   "cell_type": "code",
   "execution_count": 53,
   "metadata": {},
   "outputs": [],
   "source": [
    "data.dropna(subset=['ingredients'], inplace=True)"
   ]
  },
  {
   "cell_type": "code",
   "execution_count": 54,
   "metadata": {},
   "outputs": [],
   "source": [
    "data.reset_index(drop=True, inplace=True)"
   ]
  },
  {
   "cell_type": "code",
   "execution_count": 55,
   "metadata": {},
   "outputs": [
    {
     "data": {
      "text/plain": [
       "(2756, 13)"
      ]
     },
     "execution_count": 55,
     "metadata": {},
     "output_type": "execute_result"
    }
   ],
   "source": [
    "data.shape"
   ]
  },
  {
   "cell_type": "markdown",
   "metadata": {},
   "source": [
    "##### Сохраняем обработанные поля для модели"
   ]
  },
  {
   "cell_type": "code",
   "execution_count": 56,
   "metadata": {},
   "outputs": [],
   "source": [
    "data.to_csv('data/processed_cosmetics.csv', index=False)"
   ]
  }
 ],
 "metadata": {
  "kernelspec": {
   "display_name": "py35",
   "language": "python",
   "name": "py35"
  },
  "language_info": {
   "codemirror_mode": {
    "name": "ipython",
    "version": 3
   },
   "file_extension": ".py",
   "mimetype": "text/x-python",
   "name": "python",
   "nbconvert_exporter": "python",
   "pygments_lexer": "ipython3",
   "version": "3.6.4"
  }
 },
 "nbformat": 4,
 "nbformat_minor": 4
}
