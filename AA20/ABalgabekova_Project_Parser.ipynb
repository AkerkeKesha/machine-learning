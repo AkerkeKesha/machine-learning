{
 "cells": [
  {
   "cell_type": "code",
   "execution_count": 1,
   "metadata": {},
   "outputs": [],
   "source": [
    "import requests\n",
    "import re\n",
    "from bs4 import BeautifulSoup\n",
    "import pandas as pd\n",
    "import numpy as np\n",
    "import time\n",
    "import sys"
   ]
  },
  {
   "cell_type": "markdown",
   "metadata": {},
   "source": [
    "- asos.com (user-agent,no igredients)\n",
    "- zalando (user-agent)\n",
    "- sephora \n",
    "- avon.com (kz- no ingredients, com has)\n",
    "- monamie.kz (no igredients)\n",
    "- feelunique.com [интересный сайт косметики](https://row.feelunique.com/p/Charlotte-Tilbury-Charlottes-Magic-Cream-50ml)\n",
    "- паряться насчет состава [insta page](https://www.instagram.com/pure_beautystore/?igshid=ev5m6oyq06zy)"
   ]
  },
  {
   "cell_type": "code",
   "execution_count": 2,
   "metadata": {},
   "outputs": [],
   "source": [
    "home_url = 'https://en.zalando.de'"
   ]
  },
  {
   "cell_type": "code",
   "execution_count": 3,
   "metadata": {},
   "outputs": [],
   "source": [
    "#categories = ['beauty-complexion', 'beauty-skincare-face','beauty-sun-protection']\n",
    "category = 'beauty-skincare'"
   ]
  },
  {
   "cell_type": "code",
   "execution_count": 4,
   "metadata": {},
   "outputs": [],
   "source": [
    "page_number = 1"
   ]
  },
  {
   "cell_type": "markdown",
   "metadata": {},
   "source": [
    "https://en.zalando.de/beauty-skincare/?p=2"
   ]
  },
  {
   "cell_type": "code",
   "execution_count": 5,
   "metadata": {},
   "outputs": [],
   "source": [
    "https_line = home_url +'/' + str(category) + '/?p=' + str(page_number)"
   ]
  },
  {
   "cell_type": "code",
   "execution_count": 6,
   "metadata": {},
   "outputs": [
    {
     "data": {
      "text/plain": [
       "'https://en.zalando.de/beauty-skincare/?p=1'"
      ]
     },
     "execution_count": 6,
     "metadata": {},
     "output_type": "execute_result"
    }
   ],
   "source": [
    "https_line"
   ]
  },
  {
   "cell_type": "markdown",
   "metadata": {},
   "source": [
    "- надо браузерские headers дать, как-будто ты user-agent. \n",
    "[тут дают решение](https://stackoverflow.com/questions/47375153/requests-get-in-python-giving-connection-timeout-error)"
   ]
  },
  {
   "cell_type": "code",
   "execution_count": 7,
   "metadata": {},
   "outputs": [],
   "source": [
    "headers = {'user-agent':'Mozilla/5.0 (Windows NT 10.0; Win64; x64) AppleWebKit/537.36 (KHTML, like Gecko) Chrome/62.0.3202.94 Safari/537.36'}"
   ]
  },
  {
   "cell_type": "code",
   "execution_count": 8,
   "metadata": {},
   "outputs": [],
   "source": [
    "response = requests.get(https_line, headers=headers)\n",
    "soup = BeautifulSoup(response.content,'lxml')"
   ]
  },
  {
   "cell_type": "code",
   "execution_count": 9,
   "metadata": {},
   "outputs": [
    {
     "data": {
      "text/plain": [
       "'/darphin-intral-serum-30ml-serum-dao31g008-s11.html'"
      ]
     },
     "execution_count": 9,
     "metadata": {},
     "output_type": "execute_result"
    }
   ],
   "source": [
    "obj = soup.find('a', attrs = {'class':'cat_imageLink-OPGGa'})\n",
    "obj.attrs['href']"
   ]
  },
  {
   "cell_type": "code",
   "execution_count": 10,
   "metadata": {},
   "outputs": [],
   "source": [
    "product_links = soup.findAll('a', attrs = {'class':'cat_imageLink-OPGGa'})\n",
    "product_links = [link.attrs['href'] for link in product_links]"
   ]
  },
  {
   "cell_type": "code",
   "execution_count": 12,
   "metadata": {},
   "outputs": [
    {
     "data": {
      "text/plain": [
       "'https://en.zalando.de'"
      ]
     },
     "execution_count": 12,
     "metadata": {},
     "output_type": "execute_result"
    }
   ],
   "source": [
    "home_url"
   ]
  },
  {
   "cell_type": "code",
   "execution_count": 13,
   "metadata": {},
   "outputs": [],
   "source": [
    "def getPageLinks(category, page_number):\n",
    "      \n",
    "    beauty_link = home_url +'/'+ str(category) + '/?p=' + str(page_number)\n",
    "  \n",
    "    response = requests.get(beauty_link, headers=headers)\n",
    "    \n",
    "    if not response.ok:\n",
    "        return response.status_code\n",
    "    \n",
    "    html = response.content\n",
    "    soup = BeautifulSoup(html,'lxml')\n",
    "    \n",
    "    product_links = soup.findAll('a', attrs = {'class':'cat_imageLink-OPGGa'})\n",
    "    product_links = [ home_url + link.attrs['href'] for link in product_links]\n",
    "    \n",
    "    return product_links"
   ]
  },
  {
   "cell_type": "code",
   "execution_count": 14,
   "metadata": {},
   "outputs": [
    {
     "data": {
      "text/plain": [
       "['https://en.zalando.de/clinique-sos-kit-back-to-school-fresh-as-a-freshman-skincare-set-cll31g055-s11.html',\n",
       " 'https://en.zalando.de/anatomicals-salt-scrub-650g-body-exfoliator-neutral-an434g008-s12.html',\n",
       " 'https://en.zalando.de/clinique-moisture-surge-hydrating-supercharged-concentrate-48ml-skin-moisturizer-neutral-cll31g015-s11.html']"
      ]
     },
     "execution_count": 14,
     "metadata": {},
     "output_type": "execute_result"
    }
   ],
   "source": [
    "links = getPageLinks(category,2)\n",
    "links[:3]"
   ]
  },
  {
   "cell_type": "code",
   "execution_count": 15,
   "metadata": {},
   "outputs": [
    {
     "data": {
      "text/plain": [
       "['https://en.zalando.de/origins-ginzingtm-ultra-hydrating-energy-boosting-cream-upgrade-50ml-face-cream-orb34g002-s11.html',\n",
       " 'https://en.zalando.de/rosental-organics-rose-queen-roller-skincare-tool-rosenquarz-rol31j001-j11.html',\n",
       " 'https://en.zalando.de/clinique-moisture-surge-72-hour-auto-replenishing-hydrator-30ml-skin-moisturizer-neutral-cll31g011-s11.html']"
      ]
     },
     "execution_count": 15,
     "metadata": {},
     "output_type": "execute_result"
    }
   ],
   "source": [
    "links = getPageLinks(category,1)\n",
    "links[:3]"
   ]
  },
  {
   "cell_type": "code",
   "execution_count": 17,
   "metadata": {},
   "outputs": [],
   "source": [
    "#category\n",
    "# df = pd.DataFrame(columns=['category'])\n",
    "df1 = pd.DataFrame(columns=['brand', 'name', 'price', 'rating', 'skin_type', 'ingredients'])\n",
    "# df = pd.concat([df, df1], axis = 1)"
   ]
  },
  {
   "cell_type": "code",
   "execution_count": 18,
   "metadata": {},
   "outputs": [
    {
     "data": {
      "text/html": [
       "<div>\n",
       "<style scoped>\n",
       "    .dataframe tbody tr th:only-of-type {\n",
       "        vertical-align: middle;\n",
       "    }\n",
       "\n",
       "    .dataframe tbody tr th {\n",
       "        vertical-align: top;\n",
       "    }\n",
       "\n",
       "    .dataframe thead th {\n",
       "        text-align: right;\n",
       "    }\n",
       "</style>\n",
       "<table border=\"1\" class=\"dataframe\">\n",
       "  <thead>\n",
       "    <tr style=\"text-align: right;\">\n",
       "      <th></th>\n",
       "      <th>brand</th>\n",
       "      <th>name</th>\n",
       "      <th>price</th>\n",
       "      <th>rating</th>\n",
       "      <th>skin_type</th>\n",
       "      <th>ingredients</th>\n",
       "    </tr>\n",
       "  </thead>\n",
       "  <tbody>\n",
       "  </tbody>\n",
       "</table>\n",
       "</div>"
      ],
      "text/plain": [
       "Empty DataFrame\n",
       "Columns: [brand, name, price, rating, skin_type, ingredients]\n",
       "Index: []"
      ]
     },
     "execution_count": 18,
     "metadata": {},
     "output_type": "execute_result"
    }
   ],
   "source": [
    "df1"
   ]
  },
  {
   "cell_type": "code",
   "execution_count": 19,
   "metadata": {},
   "outputs": [],
   "source": [
    "# testing on first link\n",
    "product_page = 'https://en.zalando.de/pixi-glow-tonic-250ml-toner-tonic-pik31g000-s11.html'\n",
    "\n",
    "time.sleep(15)\n",
    "try:\n",
    "    response = requests.get(product_page, headers=headers)\n",
    "    html = response.content\n",
    "    soup = BeautifulSoup(html,'lxml')\n",
    "except requests.exceptions.ConnectionError:\n",
    "    status_code = \"Connection refused. Too many requests from this ip\""
   ]
  },
  {
   "cell_type": "markdown",
   "metadata": {},
   "source": [
    "id = z-vegas-pdp-props"
   ]
  },
  {
   "cell_type": "markdown",
   "metadata": {},
   "source": [
    "#### Brand name"
   ]
  },
  {
   "cell_type": "code",
   "execution_count": 20,
   "metadata": {},
   "outputs": [
    {
     "data": {
      "text/plain": [
       "'Pixi'"
      ]
     },
     "execution_count": 20,
     "metadata": {},
     "output_type": "execute_result"
    }
   ],
   "source": [
    "soup.find('span', attrs={'class':'A95iT1 pDVUjz nmA88J NNECXo AHAcbe x--xNS'}).text"
   ]
  },
  {
   "cell_type": "code",
   "execution_count": 21,
   "metadata": {},
   "outputs": [],
   "source": [
    "def get_brand(soup):\n",
    "    brand = soup.find('span', attrs={'class':'A95iT1 pDVUjz nmA88J NNECXo AHAcbe x--xNS'})\n",
    "    return \"\" if not brand else brand.text"
   ]
  },
  {
   "cell_type": "code",
   "execution_count": 22,
   "metadata": {},
   "outputs": [],
   "source": [
    "new_product_page = links[3]\n",
    "new_response = requests.get(new_product_page, headers=headers)\n",
    "new_html = new_response.content\n",
    "new_soup = BeautifulSoup(new_html,'lxml')"
   ]
  },
  {
   "cell_type": "code",
   "execution_count": 23,
   "metadata": {},
   "outputs": [
    {
     "data": {
      "text/plain": [
       "'https://en.zalando.de/rosental-organics-jade-roller-jade-princess-skincare-tool-rol31j000-m11.html'"
      ]
     },
     "execution_count": 23,
     "metadata": {},
     "output_type": "execute_result"
    }
   ],
   "source": [
    "new_product_page"
   ]
  },
  {
   "cell_type": "code",
   "execution_count": 24,
   "metadata": {},
   "outputs": [
    {
     "data": {
      "text/plain": [
       "'Rosental Organics'"
      ]
     },
     "execution_count": 24,
     "metadata": {},
     "output_type": "execute_result"
    }
   ],
   "source": [
    "get_brand(new_soup)"
   ]
  },
  {
   "cell_type": "markdown",
   "metadata": {},
   "source": [
    "#### Product name"
   ]
  },
  {
   "cell_type": "code",
   "execution_count": 25,
   "metadata": {},
   "outputs": [
    {
     "data": {
      "text/plain": [
       "'GLOW TONIC 250ML - Toner'"
      ]
     },
     "execution_count": 25,
     "metadata": {},
     "output_type": "execute_result"
    }
   ],
   "source": [
    "soup.find('h1', attrs = {'class':'A95iT1 pDVUjz nmA88J FI5Jsp x--xNS Y6OuCD BicgmA'}).text"
   ]
  },
  {
   "cell_type": "code",
   "execution_count": 26,
   "metadata": {},
   "outputs": [],
   "source": [
    "def get_name(soup):\n",
    "    name = soup.find('h1', attrs = {'class':'A95iT1 pDVUjz nmA88J FI5Jsp x--xNS Y6OuCD BicgmA'})\n",
    "    return \"\" if not name else name.text"
   ]
  },
  {
   "cell_type": "code",
   "execution_count": 27,
   "metadata": {},
   "outputs": [
    {
     "data": {
      "text/plain": [
       "'ROLLER - Skincare tool'"
      ]
     },
     "execution_count": 27,
     "metadata": {},
     "output_type": "execute_result"
    }
   ],
   "source": [
    "get_name(new_soup)"
   ]
  },
  {
   "cell_type": "markdown",
   "metadata": {},
   "source": [
    "#### Product price"
   ]
  },
  {
   "cell_type": "code",
   "execution_count": 28,
   "metadata": {},
   "outputs": [
    {
     "data": {
      "text/plain": [
       "'23,95\\xa0€'"
      ]
     },
     "execution_count": 28,
     "metadata": {},
     "output_type": "execute_result"
    }
   ],
   "source": [
    "text = soup.find('span', attrs = {'class':'A95iT1 pDVUjz nmA88J _0uQAcH AHAcbe A_8GRa Xb35xC'}).text\n",
    "text"
   ]
  },
  {
   "cell_type": "code",
   "execution_count": 29,
   "metadata": {},
   "outputs": [],
   "source": [
    "pattern = re.compile(r'\\d+\\,?\\d*')\n",
    "result = re.match(pattern, text)"
   ]
  },
  {
   "cell_type": "code",
   "execution_count": 30,
   "metadata": {},
   "outputs": [],
   "source": [
    "price = result.group(0)"
   ]
  },
  {
   "cell_type": "code",
   "execution_count": 31,
   "metadata": {},
   "outputs": [
    {
     "data": {
      "text/plain": [
       "23.95"
      ]
     },
     "execution_count": 31,
     "metadata": {},
     "output_type": "execute_result"
    }
   ],
   "source": [
    "float(price.replace(',','.'))"
   ]
  },
  {
   "cell_type": "code",
   "execution_count": 32,
   "metadata": {},
   "outputs": [],
   "source": [
    "def get_price(soup):\n",
    "    price_tag = soup.find('span', attrs = {'class':'A95iT1 pDVUjz nmA88J _0uQAcH AHAcbe A_8GRa Xb35xC'})\n",
    "    if price_tag:\n",
    "        price_phrase = price_tag.text\n",
    "    else:\n",
    "        discount = soup.find('span', attrs={'class':'A95iT1 pDVUjz nmA88J _0uQAcH AHAcbe gzB009'})\n",
    "        price_phrase = discount.text\n",
    "        \n",
    "    pattern = re.compile(r'\\d+\\,?\\d*')\n",
    "    result = re.match(pattern, price_phrase)\n",
    "    price = result.group(0)\n",
    "    return float(price.replace(',','.'))"
   ]
  },
  {
   "cell_type": "code",
   "execution_count": 33,
   "metadata": {},
   "outputs": [
    {
     "data": {
      "text/plain": [
       "29.95"
      ]
     },
     "execution_count": 33,
     "metadata": {},
     "output_type": "execute_result"
    }
   ],
   "source": [
    "get_price(new_soup)"
   ]
  },
  {
   "cell_type": "code",
   "execution_count": 34,
   "metadata": {},
   "outputs": [
    {
     "data": {
      "text/plain": [
       "23.95"
      ]
     },
     "execution_count": 34,
     "metadata": {},
     "output_type": "execute_result"
    }
   ],
   "source": [
    "get_price(soup)"
   ]
  },
  {
   "cell_type": "markdown",
   "metadata": {},
   "source": [
    "#### Skin type"
   ]
  },
  {
   "cell_type": "code",
   "execution_count": 35,
   "metadata": {},
   "outputs": [],
   "source": [
    "product_details = soup.find('div', attrs = {'role':'tabpanel'})"
   ]
  },
  {
   "cell_type": "code",
   "execution_count": 36,
   "metadata": {},
   "outputs": [],
   "source": [
    "tab_contents = product_details.findAll('div', attrs = {'class':'h-tabs__panel'})"
   ]
  },
  {
   "cell_type": "code",
   "execution_count": 37,
   "metadata": {},
   "outputs": [],
   "source": [
    "highlights = tab_contents[0]"
   ]
  },
  {
   "cell_type": "code",
   "execution_count": 38,
   "metadata": {},
   "outputs": [],
   "source": [
    "highlights_text = highlights.findAll('span', attrs = {'class':'body', 'as':'span'})"
   ]
  },
  {
   "cell_type": "code",
   "execution_count": 41,
   "metadata": {},
   "outputs": [],
   "source": [
    "highlights_dict = {}"
   ]
  },
  {
   "cell_type": "code",
   "execution_count": 42,
   "metadata": {},
   "outputs": [],
   "source": [
    "for i in range(0,len(highlights_text),2):\n",
    "    clear_text = highlights_text[i].text.split(':')[0]\n",
    "    highlights_dict[clear_text] = highlights_text[i+1].text"
   ]
  },
  {
   "cell_type": "code",
   "execution_count": 43,
   "metadata": {},
   "outputs": [
    {
     "data": {
      "text/plain": [
       "{'Article number': 'PIK31G000-S11',\n",
       " 'Concerns': 'Dryness, Dullness, Uneven Texture, Oiliness, Uneven skin tone, Acne',\n",
       " 'Consistency': 'Liquid',\n",
       " 'Skin type': 'All skin types',\n",
       " 'Volume': '250 ml',\n",
       " 'Warnings': 'We recommend using SPF in the daytime, especially when using a product with glycolic acid.'}"
      ]
     },
     "execution_count": 43,
     "metadata": {},
     "output_type": "execute_result"
    }
   ],
   "source": [
    "highlights_dict"
   ]
  },
  {
   "cell_type": "code",
   "execution_count": 44,
   "metadata": {},
   "outputs": [],
   "source": [
    "def get_skin_type(soup):\n",
    "    product_details = soup.find('div', attrs = {'role':'tabpanel'})\n",
    "    tab_contents = product_details.findAll('div', attrs = {'class':'h-tabs__panel'})\n",
    "    highlights = tab_contents[0]\n",
    "    highlights_text = highlights.findAll('span', attrs = {'class':'body', 'as':'span'})\n",
    "    highlights_dict = {}\n",
    "    for i in range(0,len(highlights_text),2):\n",
    "        clear_text = highlights_text[i].text.split(':')[0]\n",
    "        highlights_dict[clear_text] = highlights_text[i+1].text\n",
    "        \n",
    "    return \"\" if 'Skin type' not in highlights_dict else highlights_dict['Skin type']"
   ]
  },
  {
   "cell_type": "code",
   "execution_count": 45,
   "metadata": {},
   "outputs": [
    {
     "data": {
      "text/plain": [
       "'All skin types'"
      ]
     },
     "execution_count": 45,
     "metadata": {},
     "output_type": "execute_result"
    }
   ],
   "source": [
    "get_skin_type(soup)"
   ]
  },
  {
   "cell_type": "code",
   "execution_count": 46,
   "metadata": {},
   "outputs": [],
   "source": [
    "page = 'https://en.zalando.de/pixi-glow-tonic-250ml-toner-tonic-pik31g000-s11.html'\n",
    "response2 = requests.get(page, headers=headers)\n",
    "html2= response2.content\n",
    "soup2 = BeautifulSoup(html2,'lxml')"
   ]
  },
  {
   "cell_type": "code",
   "execution_count": 47,
   "metadata": {},
   "outputs": [
    {
     "data": {
      "text/plain": [
       "''"
      ]
     },
     "execution_count": 47,
     "metadata": {},
     "output_type": "execute_result"
    }
   ],
   "source": [
    "get_skin_type(new_soup)"
   ]
  },
  {
   "cell_type": "markdown",
   "metadata": {},
   "source": [
    "#### Ingredients"
   ]
  },
  {
   "cell_type": "code",
   "execution_count": 96,
   "metadata": {},
   "outputs": [],
   "source": [
    "ingredients = tab_contents[1]"
   ]
  },
  {
   "cell_type": "code",
   "execution_count": 97,
   "metadata": {},
   "outputs": [],
   "source": [
    "titles = ingredients.findAll('span', attrs = {'class':'h-text h-color-black body h-bold'})"
   ]
  },
  {
   "cell_type": "code",
   "execution_count": 98,
   "metadata": {},
   "outputs": [
    {
     "data": {
      "text/plain": [
       "'Ingredients:\\xa0'"
      ]
     },
     "execution_count": 98,
     "metadata": {},
     "output_type": "execute_result"
    }
   ],
   "source": [
    "titles[0].text"
   ]
  },
  {
   "cell_type": "code",
   "execution_count": 99,
   "metadata": {},
   "outputs": [],
   "source": [
    "ingredients_pos = -1 "
   ]
  },
  {
   "cell_type": "code",
   "execution_count": 100,
   "metadata": {},
   "outputs": [],
   "source": [
    "for i in range(0, len(titles)):\n",
    "    if 'Ingredients:' in titles[i].text:\n",
    "        ingredients_pos = i "
   ]
  },
  {
   "cell_type": "code",
   "execution_count": 101,
   "metadata": {},
   "outputs": [
    {
     "data": {
      "text/plain": [
       "0"
      ]
     },
     "execution_count": 101,
     "metadata": {},
     "output_type": "execute_result"
    }
   ],
   "source": [
    "ingredients_pos"
   ]
  },
  {
   "cell_type": "code",
   "execution_count": 111,
   "metadata": {},
   "outputs": [],
   "source": [
    "contents = ingredients.find('p', attrs = {'class':'h-text h-color-black body h-m-bottom-xs'})"
   ]
  },
  {
   "cell_type": "code",
   "execution_count": 112,
   "metadata": {},
   "outputs": [
    {
     "data": {
      "text/plain": [
       "<p as=\"p\" class=\"h-text h-color-black body h-m-bottom-xs\"><span as=\"span\" class=\"h-text h-color-black body h-bold\">Ingredients<!-- -->: </span><span as=\"span\" class=\"h-text h-color-black body\"><div class=\"h-container h-align-left\"><p as=\"p\" class=\"h-text h-color-black body\">Aqua, Aloe Barbadensis Leaf Juice, Hamamelis Virginiana (Witch Hazel) Leaf Extract, Aesculus Hippocastanum (Horse Chestnut) Seed Extract, Glycolic Acid, Ammonium Glycolate, Glycerin, Butylene Glycol, Hexylene Glycol (and) Fructose (and) Glucose (a...</p><button as=\"button\" class=\"h-action h-container--slide__link--black h-m-top-s -link underline\"><span class=\"h-text h-color-black body -text-only\"><h5 class=\"h-text h-color-black title-4\">Discover more</h5></span></button></div></span></p>"
      ]
     },
     "execution_count": 112,
     "metadata": {},
     "output_type": "execute_result"
    }
   ],
   "source": [
    "contents"
   ]
  },
  {
   "cell_type": "code",
   "execution_count": 113,
   "metadata": {},
   "outputs": [
    {
     "data": {
      "text/plain": [
       "'Aqua, Aloe Barbadensis Leaf Juice, Hamamelis Virginiana (Witch Hazel) Leaf Extract, Aesculus Hippocastanum (Horse Chestnut) Seed Extract, Glycolic Acid, Ammonium Glycolate, Glycerin, Butylene Glycol, Hexylene Glycol (and) Fructose (and) Glucose (a...'"
      ]
     },
     "execution_count": 113,
     "metadata": {},
     "output_type": "execute_result"
    }
   ],
   "source": [
    "contents.find('p', attrs = {'class':'h-text h-color-black body'}).text"
   ]
  },
  {
   "cell_type": "code",
   "execution_count": 56,
   "metadata": {},
   "outputs": [
    {
     "data": {
      "text/plain": [
       "'Aqua, Aloe Barbadensis Leaf Juice, Hamamelis Virginiana (Witch Hazel) Leaf Extract, Aesculus Hippocastanum (Horse Chestnut) Seed Extract, Glycolic Acid, Ammonium Glycolate, Glycerin, Butylene Glycol, Hexylene Glycol (and) Fructose (and) Glucose (a...'"
      ]
     },
     "execution_count": 56,
     "metadata": {},
     "output_type": "execute_result"
    }
   ],
   "source": [
    "contents[ingredients_pos].text"
   ]
  },
  {
   "cell_type": "code",
   "execution_count": 57,
   "metadata": {},
   "outputs": [
    {
     "data": {
      "text/plain": [
       "'z-vegas-details-props'"
      ]
     },
     "execution_count": 57,
     "metadata": {},
     "output_type": "execute_result"
    }
   ],
   "source": [
    "\"z-vegas-details-props\""
   ]
  },
  {
   "cell_type": "code",
   "execution_count": 114,
   "metadata": {},
   "outputs": [],
   "source": [
    "def get_ingredients(soup):    \n",
    "    product_details = soup.find('div', attrs = {'role':'tabpanel'})\n",
    "    tab_contents = product_details.findAll('div', attrs = {'class':'h-tabs__panel'})\n",
    "    ingredients = tab_contents[1]\n",
    "    titles = ingredients.findAll('span', attrs = {'class':'h-text h-color-black body h-bold'})\n",
    "    contents = ingredients.findAll('p', attrs = {'class':'h-text h-color-black body h-m-bottom-xs'})\n",
    "    ingredients_pos = -1\n",
    "    for i in range(0, len(titles)):\n",
    "        if 'Ingredients:' in titles[i].text:\n",
    "            ingredients_pos = i \n",
    "    return \"\" if ingredients_pos == -1 else contents[0].find('p', attrs = {'class':'h-text h-color-black body'}).text"
   ]
  },
  {
   "cell_type": "code",
   "execution_count": 115,
   "metadata": {},
   "outputs": [
    {
     "data": {
      "text/plain": [
       "''"
      ]
     },
     "execution_count": 115,
     "metadata": {},
     "output_type": "execute_result"
    }
   ],
   "source": [
    "get_ingredients(new_soup)"
   ]
  },
  {
   "cell_type": "code",
   "execution_count": 116,
   "metadata": {},
   "outputs": [
    {
     "data": {
      "text/plain": [
       "'Aqua, Aloe Barbadensis Leaf Juice, Hamamelis Virginiana (Witch Hazel) Leaf Extract, Aesculus Hippocastanum (Horse Chestnut) Seed Extract, Glycolic Acid, Ammonium Glycolate, Glycerin, Butylene Glycol, Hexylene Glycol (and) Fructose (and) Glucose (a...'"
      ]
     },
     "execution_count": 116,
     "metadata": {},
     "output_type": "execute_result"
    }
   ],
   "source": [
    "get_ingredients(soup2)"
   ]
  },
  {
   "cell_type": "markdown",
   "metadata": {},
   "source": [
    "#### Rating"
   ]
  },
  {
   "cell_type": "code",
   "execution_count": 63,
   "metadata": {},
   "outputs": [],
   "source": [
    "def get_average_rating(html_content):\n",
    "    search_token = 'averageStarRating'\n",
    "    offset = len(search_token) + 2\n",
    "    start_pos = html_content.find(search_token)\n",
    "    colon_pos = html_content.find(\":\", start_pos)\n",
    "    comma_pos = html_content.find(\",\", start_pos)\n",
    "    start_pos, colon_pos, comma_pos\n",
    "    rating = html_content[colon_pos+1: comma_pos]\n",
    "    return \"\" if rating=='null' else float(rating)"
   ]
  },
  {
   "cell_type": "code",
   "execution_count": 64,
   "metadata": {},
   "outputs": [
    {
     "name": "stdout",
     "output_type": "stream",
     "text": [
      "4.4615383\n",
      "4.59542\n",
      "4.707317\n"
     ]
    }
   ],
   "source": [
    "for l in links[:3]:\n",
    "    html_content = str(requests.get(l, headers=headers).content)\n",
    "    print(get_average_rating(html_content))\n",
    "    time.sleep(1)"
   ]
  },
  {
   "cell_type": "code",
   "execution_count": 65,
   "metadata": {},
   "outputs": [
    {
     "data": {
      "text/plain": [
       "''"
      ]
     },
     "execution_count": 65,
     "metadata": {},
     "output_type": "execute_result"
    }
   ],
   "source": [
    "li = 'https://en.zalando.de/clinique-superdefense-cream-spf-25-skin-type-34-face-cream-cll31g04z-s11.html'\n",
    "html_content = str(requests.get(li, headers=headers).content)\n",
    "get_average_rating(html_content)\n"
   ]
  },
  {
   "cell_type": "code",
   "execution_count": 67,
   "metadata": {},
   "outputs": [],
   "source": [
    "\n",
    "def get_product_data(product_page):\n",
    "    \"\"\"\n",
    "        returns dictionary data_row\n",
    "        \n",
    "        product_page: string\n",
    "            url for the product html page\n",
    "    \n",
    "    \"\"\"\n",
    "    \n",
    "    response = requests.get(product_page, headers=headers)\n",
    "    \n",
    "    if not response.ok:\n",
    "        return response.status_code\n",
    "    \n",
    "    html = response.content\n",
    "    soup = BeautifulSoup(html,'lxml')\n",
    "    html_content = str(response.content)\n",
    "    \n",
    "    product_brand = get_brand(soup)\n",
    "    product_name = get_name(soup)\n",
    "    product_price = get_price(soup)\n",
    "    \n",
    "    product_rating = get_average_rating(html_content)\n",
    "    ingredients = get_ingredients(soup)\n",
    "    skin_type = get_skin_type(soup)\n",
    "\n",
    "\n",
    "    data_row = {\"brand\":product_brand,\n",
    "                \"name\":product_name, \n",
    "                \"price\":product_price, \n",
    "                \"rating\":product_rating,\n",
    "                \"skin_type\":skin_type, \n",
    "                \"ingredients\":ingredients\n",
    "               }\n",
    "\n",
    "    return data_row"
   ]
  },
  {
   "cell_type": "code",
   "execution_count": 68,
   "metadata": {},
   "outputs": [
    {
     "data": {
      "text/plain": [
       "'https://en.zalando.de/rosental-organics-jade-roller-jade-princess-skincare-tool-rol31j000-m11.html'"
      ]
     },
     "execution_count": 68,
     "metadata": {},
     "output_type": "execute_result"
    }
   ],
   "source": [
    "new_product_page = links[3]\n",
    "new_product_page"
   ]
  },
  {
   "cell_type": "code",
   "execution_count": 69,
   "metadata": {},
   "outputs": [],
   "source": [
    "data_row = get_product_data(new_product_page)"
   ]
  },
  {
   "cell_type": "code",
   "execution_count": 70,
   "metadata": {},
   "outputs": [],
   "source": [
    "df1 = df1.append(data_row, ignore_index=True)"
   ]
  },
  {
   "cell_type": "code",
   "execution_count": 71,
   "metadata": {},
   "outputs": [
    {
     "data": {
      "text/html": [
       "<div>\n",
       "<style scoped>\n",
       "    .dataframe tbody tr th:only-of-type {\n",
       "        vertical-align: middle;\n",
       "    }\n",
       "\n",
       "    .dataframe tbody tr th {\n",
       "        vertical-align: top;\n",
       "    }\n",
       "\n",
       "    .dataframe thead th {\n",
       "        text-align: right;\n",
       "    }\n",
       "</style>\n",
       "<table border=\"1\" class=\"dataframe\">\n",
       "  <thead>\n",
       "    <tr style=\"text-align: right;\">\n",
       "      <th></th>\n",
       "      <th>brand</th>\n",
       "      <th>name</th>\n",
       "      <th>price</th>\n",
       "      <th>rating</th>\n",
       "      <th>skin_type</th>\n",
       "      <th>ingredients</th>\n",
       "    </tr>\n",
       "  </thead>\n",
       "  <tbody>\n",
       "    <tr>\n",
       "      <th>0</th>\n",
       "      <td>Rosental Organics</td>\n",
       "      <td>ROLLER - Skincare tool</td>\n",
       "      <td>29.95</td>\n",
       "      <td>4.658878</td>\n",
       "      <td></td>\n",
       "      <td></td>\n",
       "    </tr>\n",
       "  </tbody>\n",
       "</table>\n",
       "</div>"
      ],
      "text/plain": [
       "               brand                    name  price    rating skin_type  \\\n",
       "0  Rosental Organics  ROLLER - Skincare tool  29.95  4.658878             \n",
       "\n",
       "  ingredients  \n",
       "0              "
      ]
     },
     "execution_count": 71,
     "metadata": {},
     "output_type": "execute_result"
    }
   ],
   "source": [
    "df1"
   ]
  },
  {
   "cell_type": "code",
   "execution_count": 79,
   "metadata": {},
   "outputs": [
    {
     "data": {
      "text/plain": [
       "'https://en.zalando.de/egyptian-magic-egyptian-magic-skin-cream-59ml-skin-moisturizer-neutral-eg234g002-s11.html'"
      ]
     },
     "execution_count": 79,
     "metadata": {},
     "output_type": "execute_result"
    }
   ],
   "source": [
    "links[11]"
   ]
  },
  {
   "cell_type": "code",
   "execution_count": 117,
   "metadata": {},
   "outputs": [
    {
     "name": "stdout",
     "output_type": "stream",
     "text": [
      "CPU times: user 3.4 s, sys: 93.4 ms, total: 3.49 s\n",
      "Wall time: 17.9 s\n"
     ]
    }
   ],
   "source": [
    "%%time\n",
    "for product_link in links:\n",
    "    data_row = get_product_data(product_link)\n",
    "    df1 = df1.append(data_row, ignore_index=True)"
   ]
  },
  {
   "cell_type": "code",
   "execution_count": 118,
   "metadata": {},
   "outputs": [
    {
     "data": {
      "text/html": [
       "<div>\n",
       "<style scoped>\n",
       "    .dataframe tbody tr th:only-of-type {\n",
       "        vertical-align: middle;\n",
       "    }\n",
       "\n",
       "    .dataframe tbody tr th {\n",
       "        vertical-align: top;\n",
       "    }\n",
       "\n",
       "    .dataframe thead th {\n",
       "        text-align: right;\n",
       "    }\n",
       "</style>\n",
       "<table border=\"1\" class=\"dataframe\">\n",
       "  <thead>\n",
       "    <tr style=\"text-align: right;\">\n",
       "      <th></th>\n",
       "      <th>brand</th>\n",
       "      <th>name</th>\n",
       "      <th>price</th>\n",
       "      <th>rating</th>\n",
       "      <th>skin_type</th>\n",
       "      <th>ingredients</th>\n",
       "    </tr>\n",
       "  </thead>\n",
       "  <tbody>\n",
       "    <tr>\n",
       "      <th>0</th>\n",
       "      <td>Origins</td>\n",
       "      <td>GINZING™ ULTRA-HYDRATING ENERGY-BOOSTING CREAM...</td>\n",
       "      <td>15.95</td>\n",
       "      <td>4.46154</td>\n",
       "      <td>All skin types</td>\n",
       "      <td>Water\\Aqua\\Eau, Caprylic/Capric Triglyceride, ...</td>\n",
       "    </tr>\n",
       "    <tr>\n",
       "      <th>1</th>\n",
       "      <td>Rosental Organics</td>\n",
       "      <td>ROSE QUEEN ROLLER - Skincare tool</td>\n",
       "      <td>34.95</td>\n",
       "      <td>4.59542</td>\n",
       "      <td></td>\n",
       "      <td></td>\n",
       "    </tr>\n",
       "    <tr>\n",
       "      <th>2</th>\n",
       "      <td>Clinique</td>\n",
       "      <td>MOISTURE SURGE 72-HOUR AUTO-REPLENISHING HYDRA...</td>\n",
       "      <td>19.00</td>\n",
       "      <td>4.70732</td>\n",
       "      <td>Dry skin</td>\n",
       "      <td>Water\\Aqua\\Eau , Dimethicone , Butylene Glycol...</td>\n",
       "    </tr>\n",
       "    <tr>\n",
       "      <th>3</th>\n",
       "      <td>Rosental Organics</td>\n",
       "      <td>ROLLER - Skincare tool</td>\n",
       "      <td>29.95</td>\n",
       "      <td>4.65888</td>\n",
       "      <td></td>\n",
       "      <td></td>\n",
       "    </tr>\n",
       "    <tr>\n",
       "      <th>4</th>\n",
       "      <td>Pai skincare</td>\n",
       "      <td>ROSEHIP BIOREGENERATE OIL MINI - Face oil</td>\n",
       "      <td>15.95</td>\n",
       "      <td>4.5</td>\n",
       "      <td>All skin types</td>\n",
       "      <td>99% ORGANIC Rosa Canina Seed Extract* - Rosehi...</td>\n",
       "    </tr>\n",
       "    <tr>\n",
       "      <th>5</th>\n",
       "      <td>Pixi</td>\n",
       "      <td>GLOW TONIC 250ML - Toner</td>\n",
       "      <td>23.95</td>\n",
       "      <td>4.7438</td>\n",
       "      <td>All skin types</td>\n",
       "      <td>Aqua, Aloe Barbadensis Leaf Juice, Hamamelis V...</td>\n",
       "    </tr>\n",
       "    <tr>\n",
       "      <th>6</th>\n",
       "      <td>Mimitika</td>\n",
       "      <td>SPF 50 FACE SUNSCREEN 50ML - Sun protection</td>\n",
       "      <td>15.95</td>\n",
       "      <td>4.6875</td>\n",
       "      <td>All skin types</td>\n",
       "      <td>AQUA (WATER) – CYCLOPENTASILOXANE – ETHYLHEXYL...</td>\n",
       "    </tr>\n",
       "    <tr>\n",
       "      <th>7</th>\n",
       "      <td>Pixi</td>\n",
       "      <td>GLOW TONIC 100ML - Toner</td>\n",
       "      <td>11.95</td>\n",
       "      <td>4.65865</td>\n",
       "      <td>All skin types</td>\n",
       "      <td>Aqua, Aloe Barbadensis Leaf Juice, Hamamelis V...</td>\n",
       "    </tr>\n",
       "    <tr>\n",
       "      <th>8</th>\n",
       "      <td>Clinique</td>\n",
       "      <td>SUPERDEFENSE CREAM SPF 25 SKIN TYPE 3/4 - Face...</td>\n",
       "      <td>33.95</td>\n",
       "      <td></td>\n",
       "      <td>All skin types</td>\n",
       "      <td>WATER\\AQUA\\EAU, ETHYLHEXYL SALICYLATE, GLYCERI...</td>\n",
       "    </tr>\n",
       "    <tr>\n",
       "      <th>9</th>\n",
       "      <td>Sand&amp;Sky</td>\n",
       "      <td>AUSTRALIAN PINK CLAY POREFINING FACE MASK 60G ...</td>\n",
       "      <td>49.95</td>\n",
       "      <td>4.52941</td>\n",
       "      <td>All skin types</td>\n",
       "      <td>Kaolin (Australian Clay), Aqua (Water), Benton...</td>\n",
       "    </tr>\n",
       "    <tr>\n",
       "      <th>10</th>\n",
       "      <td>Origins</td>\n",
       "      <td>SUPER SPOT REMOVER BLEMISH TREATMENT GEL 10ML ...</td>\n",
       "      <td>18.95</td>\n",
       "      <td>4.48</td>\n",
       "      <td>All skin types</td>\n",
       "      <td>Water\\Aqua\\Eau, Alcohol Denat., Acrylates/C10-...</td>\n",
       "    </tr>\n",
       "    <tr>\n",
       "      <th>11</th>\n",
       "      <td>Egyptian Magic</td>\n",
       "      <td>EGYPTIAN MAGIC SKIN CREAM 59ML - Face cream</td>\n",
       "      <td>29.95</td>\n",
       "      <td>4.29577</td>\n",
       "      <td></td>\n",
       "      <td>Olive Oil, Beeswax, Honey, Bee Pollen, Bee Pro...</td>\n",
       "    </tr>\n",
       "    <tr>\n",
       "      <th>12</th>\n",
       "      <td>Clinique</td>\n",
       "      <td>BLACKHEAD SOLUTIONS 7 DAY DEEP PORE CLEANSE 12...</td>\n",
       "      <td>23.95</td>\n",
       "      <td>4.17021</td>\n",
       "      <td>All skin types</td>\n",
       "      <td>Water\\Aqua\\Eau , Kaolin , Glycerin , Butylene ...</td>\n",
       "    </tr>\n",
       "    <tr>\n",
       "      <th>13</th>\n",
       "      <td>Clinique</td>\n",
       "      <td>ALL ABOUT EYES RICH 15ML - Eyecare</td>\n",
       "      <td>36.95</td>\n",
       "      <td>4.72414</td>\n",
       "      <td></td>\n",
       "      <td>Water\\Aqua\\Eau, Butyrospermum Parkii (Shea But...</td>\n",
       "    </tr>\n",
       "    <tr>\n",
       "      <th>14</th>\n",
       "      <td>Clinique</td>\n",
       "      <td>SPF50 MINERAL SUNSCREEN FLUID FOR FACE 30ML - ...</td>\n",
       "      <td>19.50</td>\n",
       "      <td>4.4</td>\n",
       "      <td>Sensitive skin</td>\n",
       "      <td>Titanium Dioxide 6.3% , Zinc Oxide 4.0%Ingredi...</td>\n",
       "    </tr>\n",
       "    <tr>\n",
       "      <th>15</th>\n",
       "      <td>INC.redible</td>\n",
       "      <td>INC.REDIBLE JELLY SHOT LIP BALM - Lip balm</td>\n",
       "      <td>7.95</td>\n",
       "      <td>3.69367</td>\n",
       "      <td></td>\n",
       "      <td>Polybutene, Caprylic/Capric Triglyceride, Ison...</td>\n",
       "    </tr>\n",
       "    <tr>\n",
       "      <th>16</th>\n",
       "      <td>L'Oréal Paris Skin</td>\n",
       "      <td>HYDRA GENIUS THE LIQUID CARE 70ML - Face cream</td>\n",
       "      <td>9.95</td>\n",
       "      <td>4.69231</td>\n",
       "      <td>Combination skin</td>\n",
       "      <td>AQUA / WATER, GLYCERIN, ALCOHOL DENAT, DIMETHI...</td>\n",
       "    </tr>\n",
       "    <tr>\n",
       "      <th>17</th>\n",
       "      <td>Origins</td>\n",
       "      <td>CHECKS AND BALANCES FROTHY FACE WASH 150ML - C...</td>\n",
       "      <td>19.95</td>\n",
       "      <td>4.71795</td>\n",
       "      <td>Dry skin, Combination skin, Oily skin</td>\n",
       "      <td>Water\\Aqua\\Eau; Lavandula Angustifolia (Lavend...</td>\n",
       "    </tr>\n",
       "    <tr>\n",
       "      <th>18</th>\n",
       "      <td>Pixi</td>\n",
       "      <td>DETOXIFEYE DEPUFFING HYDROGEL UNDER- EYE PATCH...</td>\n",
       "      <td>25.95</td>\n",
       "      <td>4.18182</td>\n",
       "      <td>All skin types</td>\n",
       "      <td>Aqua/Water/Eau, Glycerin, Carrageenan, Cocos N...</td>\n",
       "    </tr>\n",
       "    <tr>\n",
       "      <th>19</th>\n",
       "      <td>L'OCCITANE</td>\n",
       "      <td>SHEA BUTTER HAND CREAM - Hand cream</td>\n",
       "      <td>7.95</td>\n",
       "      <td>5</td>\n",
       "      <td>Dry skin</td>\n",
       "      <td>AQUA/WATER - BUTYROSPERMUM PARKII (SHEA) BUTTE...</td>\n",
       "    </tr>\n",
       "    <tr>\n",
       "      <th>20</th>\n",
       "      <td>Origins</td>\n",
       "      <td>GINZING™ ULTRA-HYDRATING ENERGY-BOOSTING CREAM...</td>\n",
       "      <td>10.95</td>\n",
       "      <td>4.59091</td>\n",
       "      <td>All skin types</td>\n",
       "      <td>Water\\Aqua\\Eau, Caprylic/Capric Triglyceride, ...</td>\n",
       "    </tr>\n",
       "    <tr>\n",
       "      <th>21</th>\n",
       "      <td>Clinique</td>\n",
       "      <td>ANTI-BLEMISH SOLUTIONS 3-PHASE SYSTEM CARE - S...</td>\n",
       "      <td>35.50</td>\n",
       "      <td>4.38532</td>\n",
       "      <td></td>\n",
       "      <td>Water\\Aqua\\Eau, Alcohol Denat., Nylon-12, Sali...</td>\n",
       "    </tr>\n",
       "    <tr>\n",
       "      <th>22</th>\n",
       "      <td>Clinique</td>\n",
       "      <td>LIQUID FACIAL SOAP MILD 200ML - Cleanser</td>\n",
       "      <td>21.95</td>\n",
       "      <td>4.84615</td>\n",
       "      <td></td>\n",
       "      <td>Water\\Aqua\\Eau, Sodium Laureth Sulfate, Sodium...</td>\n",
       "    </tr>\n",
       "    <tr>\n",
       "      <th>23</th>\n",
       "      <td>L'Oréal Paris Skin</td>\n",
       "      <td>SUBLIME BRONZE MILK 150ML - Self tan</td>\n",
       "      <td>14.95</td>\n",
       "      <td>3.88235</td>\n",
       "      <td></td>\n",
       "      <td>AQUA / WATER, GLYCERIN, C12-15 ALKYL BENZOATE,...</td>\n",
       "    </tr>\n",
       "    <tr>\n",
       "      <th>24</th>\n",
       "      <td>Grounded</td>\n",
       "      <td>LIP SCRUB 30G - Lip scrub</td>\n",
       "      <td>6.95</td>\n",
       "      <td>3.76147</td>\n",
       "      <td></td>\n",
       "      <td>Sugar / Sucrose, Jojoba Oil / Simmondsia Chine...</td>\n",
       "    </tr>\n",
       "    <tr>\n",
       "      <th>25</th>\n",
       "      <td>L'Oréal Paris Skin</td>\n",
       "      <td>SUGAR SCRUBS PURIFYING SCRUB 50ML - Face scrub</td>\n",
       "      <td>9.95</td>\n",
       "      <td>4.66667</td>\n",
       "      <td>All skin types</td>\n",
       "      <td>GLYCERIN, PROPYLENE GLYCOL, SUCROSE, CYMBOPOGO...</td>\n",
       "    </tr>\n",
       "    <tr>\n",
       "      <th>26</th>\n",
       "      <td>INC.redible</td>\n",
       "      <td>INC.REDIBLE JELLY SHOT LIP BALM - Lip balm</td>\n",
       "      <td>7.95</td>\n",
       "      <td>3.69367</td>\n",
       "      <td></td>\n",
       "      <td>POLYBUTENE, CAPRYLIC/CAPRIC TRIGLYCERIDE, ISON...</td>\n",
       "    </tr>\n",
       "    <tr>\n",
       "      <th>27</th>\n",
       "      <td>BYBI</td>\n",
       "      <td>BEAUTY BOOSTER OIL 15ML - Serum</td>\n",
       "      <td>15.95</td>\n",
       "      <td>4.45833</td>\n",
       "      <td>All skin types</td>\n",
       "      <td>Squalane, Bakuchiol\\n</td>\n",
       "    </tr>\n",
       "    <tr>\n",
       "      <th>28</th>\n",
       "      <td>L'Oréal Paris</td>\n",
       "      <td>CLINICALLY PROVEN LASH SERUM - Eyelash care</td>\n",
       "      <td>14.95</td>\n",
       "      <td>3.9</td>\n",
       "      <td></td>\n",
       "      <td>AQUA / WATER • ALCOHOL DENAT. • HYDROXYETHYLCE...</td>\n",
       "    </tr>\n",
       "    <tr>\n",
       "      <th>29</th>\n",
       "      <td>Tweezerman</td>\n",
       "      <td>PRECISION EYELASH CURLER - Eye makeup tool</td>\n",
       "      <td>17.95</td>\n",
       "      <td>4.52</td>\n",
       "      <td></td>\n",
       "      <td></td>\n",
       "    </tr>\n",
       "    <tr>\n",
       "      <th>30</th>\n",
       "      <td>Pixi</td>\n",
       "      <td>FORTIFEYE FIRMINGHYDROGEL UNDER-EYE PATCHES - ...</td>\n",
       "      <td>25.95</td>\n",
       "      <td>4.5</td>\n",
       "      <td>All skin types</td>\n",
       "      <td>Aqua/Water/Eau, Glycerin, Carrageenan, Cocos N...</td>\n",
       "    </tr>\n",
       "    <tr>\n",
       "      <th>31</th>\n",
       "      <td>Clinique</td>\n",
       "      <td>MOISTURE SURGE 72H AUTO-REPLENISHING HYDRATOR ...</td>\n",
       "      <td>44.95</td>\n",
       "      <td>4.5</td>\n",
       "      <td>All skin types</td>\n",
       "      <td>Water\\Aqua\\Eau , Dimethicone , Butylene Glycol...</td>\n",
       "    </tr>\n",
       "  </tbody>\n",
       "</table>\n",
       "</div>"
      ],
      "text/plain": [
       "                 brand                                               name  \\\n",
       "0              Origins  GINZING™ ULTRA-HYDRATING ENERGY-BOOSTING CREAM...   \n",
       "1    Rosental Organics                  ROSE QUEEN ROLLER - Skincare tool   \n",
       "2             Clinique  MOISTURE SURGE 72-HOUR AUTO-REPLENISHING HYDRA...   \n",
       "3    Rosental Organics                             ROLLER - Skincare tool   \n",
       "4         Pai skincare          ROSEHIP BIOREGENERATE OIL MINI - Face oil   \n",
       "5                 Pixi                           GLOW TONIC 250ML - Toner   \n",
       "6             Mimitika        SPF 50 FACE SUNSCREEN 50ML - Sun protection   \n",
       "7                 Pixi                           GLOW TONIC 100ML - Toner   \n",
       "8             Clinique  SUPERDEFENSE CREAM SPF 25 SKIN TYPE 3/4 - Face...   \n",
       "9             Sand&Sky  AUSTRALIAN PINK CLAY POREFINING FACE MASK 60G ...   \n",
       "10             Origins  SUPER SPOT REMOVER BLEMISH TREATMENT GEL 10ML ...   \n",
       "11      Egyptian Magic        EGYPTIAN MAGIC SKIN CREAM 59ML - Face cream   \n",
       "12            Clinique  BLACKHEAD SOLUTIONS 7 DAY DEEP PORE CLEANSE 12...   \n",
       "13            Clinique                 ALL ABOUT EYES RICH 15ML - Eyecare   \n",
       "14            Clinique  SPF50 MINERAL SUNSCREEN FLUID FOR FACE 30ML - ...   \n",
       "15         INC.redible         INC.REDIBLE JELLY SHOT LIP BALM - Lip balm   \n",
       "16  L'Oréal Paris Skin     HYDRA GENIUS THE LIQUID CARE 70ML - Face cream   \n",
       "17             Origins  CHECKS AND BALANCES FROTHY FACE WASH 150ML - C...   \n",
       "18                Pixi  DETOXIFEYE DEPUFFING HYDROGEL UNDER- EYE PATCH...   \n",
       "19          L'OCCITANE                SHEA BUTTER HAND CREAM - Hand cream   \n",
       "20             Origins  GINZING™ ULTRA-HYDRATING ENERGY-BOOSTING CREAM...   \n",
       "21            Clinique  ANTI-BLEMISH SOLUTIONS 3-PHASE SYSTEM CARE - S...   \n",
       "22            Clinique           LIQUID FACIAL SOAP MILD 200ML - Cleanser   \n",
       "23  L'Oréal Paris Skin               SUBLIME BRONZE MILK 150ML - Self tan   \n",
       "24            Grounded                          LIP SCRUB 30G - Lip scrub   \n",
       "25  L'Oréal Paris Skin     SUGAR SCRUBS PURIFYING SCRUB 50ML - Face scrub   \n",
       "26         INC.redible         INC.REDIBLE JELLY SHOT LIP BALM - Lip balm   \n",
       "27                BYBI                    BEAUTY BOOSTER OIL 15ML - Serum   \n",
       "28       L'Oréal Paris        CLINICALLY PROVEN LASH SERUM - Eyelash care   \n",
       "29          Tweezerman         PRECISION EYELASH CURLER - Eye makeup tool   \n",
       "30                Pixi  FORTIFEYE FIRMINGHYDROGEL UNDER-EYE PATCHES - ...   \n",
       "31            Clinique  MOISTURE SURGE 72H AUTO-REPLENISHING HYDRATOR ...   \n",
       "\n",
       "    price   rating                              skin_type  \\\n",
       "0   15.95  4.46154                         All skin types   \n",
       "1   34.95  4.59542                                          \n",
       "2   19.00  4.70732                               Dry skin   \n",
       "3   29.95  4.65888                                          \n",
       "4   15.95      4.5                         All skin types   \n",
       "5   23.95   4.7438                         All skin types   \n",
       "6   15.95   4.6875                         All skin types   \n",
       "7   11.95  4.65865                         All skin types   \n",
       "8   33.95                                  All skin types   \n",
       "9   49.95  4.52941                         All skin types   \n",
       "10  18.95     4.48                         All skin types   \n",
       "11  29.95  4.29577                                          \n",
       "12  23.95  4.17021                         All skin types   \n",
       "13  36.95  4.72414                                          \n",
       "14  19.50      4.4                         Sensitive skin   \n",
       "15   7.95  3.69367                                          \n",
       "16   9.95  4.69231                       Combination skin   \n",
       "17  19.95  4.71795  Dry skin, Combination skin, Oily skin   \n",
       "18  25.95  4.18182                         All skin types   \n",
       "19   7.95        5                               Dry skin   \n",
       "20  10.95  4.59091                         All skin types   \n",
       "21  35.50  4.38532                                          \n",
       "22  21.95  4.84615                                          \n",
       "23  14.95  3.88235                                          \n",
       "24   6.95  3.76147                                          \n",
       "25   9.95  4.66667                         All skin types   \n",
       "26   7.95  3.69367                                          \n",
       "27  15.95  4.45833                         All skin types   \n",
       "28  14.95      3.9                                          \n",
       "29  17.95     4.52                                          \n",
       "30  25.95      4.5                         All skin types   \n",
       "31  44.95      4.5                         All skin types   \n",
       "\n",
       "                                          ingredients  \n",
       "0   Water\\Aqua\\Eau, Caprylic/Capric Triglyceride, ...  \n",
       "1                                                      \n",
       "2   Water\\Aqua\\Eau , Dimethicone , Butylene Glycol...  \n",
       "3                                                      \n",
       "4   99% ORGANIC Rosa Canina Seed Extract* - Rosehi...  \n",
       "5   Aqua, Aloe Barbadensis Leaf Juice, Hamamelis V...  \n",
       "6   AQUA (WATER) – CYCLOPENTASILOXANE – ETHYLHEXYL...  \n",
       "7   Aqua, Aloe Barbadensis Leaf Juice, Hamamelis V...  \n",
       "8   WATER\\AQUA\\EAU, ETHYLHEXYL SALICYLATE, GLYCERI...  \n",
       "9   Kaolin (Australian Clay), Aqua (Water), Benton...  \n",
       "10  Water\\Aqua\\Eau, Alcohol Denat., Acrylates/C10-...  \n",
       "11  Olive Oil, Beeswax, Honey, Bee Pollen, Bee Pro...  \n",
       "12  Water\\Aqua\\Eau , Kaolin , Glycerin , Butylene ...  \n",
       "13  Water\\Aqua\\Eau, Butyrospermum Parkii (Shea But...  \n",
       "14  Titanium Dioxide 6.3% , Zinc Oxide 4.0%Ingredi...  \n",
       "15  Polybutene, Caprylic/Capric Triglyceride, Ison...  \n",
       "16  AQUA / WATER, GLYCERIN, ALCOHOL DENAT, DIMETHI...  \n",
       "17  Water\\Aqua\\Eau; Lavandula Angustifolia (Lavend...  \n",
       "18  Aqua/Water/Eau, Glycerin, Carrageenan, Cocos N...  \n",
       "19  AQUA/WATER - BUTYROSPERMUM PARKII (SHEA) BUTTE...  \n",
       "20  Water\\Aqua\\Eau, Caprylic/Capric Triglyceride, ...  \n",
       "21  Water\\Aqua\\Eau, Alcohol Denat., Nylon-12, Sali...  \n",
       "22  Water\\Aqua\\Eau, Sodium Laureth Sulfate, Sodium...  \n",
       "23  AQUA / WATER, GLYCERIN, C12-15 ALKYL BENZOATE,...  \n",
       "24  Sugar / Sucrose, Jojoba Oil / Simmondsia Chine...  \n",
       "25  GLYCERIN, PROPYLENE GLYCOL, SUCROSE, CYMBOPOGO...  \n",
       "26  POLYBUTENE, CAPRYLIC/CAPRIC TRIGLYCERIDE, ISON...  \n",
       "27                              Squalane, Bakuchiol\\n  \n",
       "28  AQUA / WATER • ALCOHOL DENAT. • HYDROXYETHYLCE...  \n",
       "29                                                     \n",
       "30  Aqua/Water/Eau, Glycerin, Carrageenan, Cocos N...  \n",
       "31  Water\\Aqua\\Eau , Dimethicone , Butylene Glycol...  "
      ]
     },
     "execution_count": 118,
     "metadata": {},
     "output_type": "execute_result"
    }
   ],
   "source": [
    "df1"
   ]
  },
  {
   "cell_type": "code",
   "execution_count": 119,
   "metadata": {},
   "outputs": [],
   "source": [
    "df1.to_csv('data/draft.csv', encoding = 'utf-8', index = False)"
   ]
  }
 ],
 "metadata": {
  "kernelspec": {
   "display_name": "py35",
   "language": "python",
   "name": "py35"
  },
  "language_info": {
   "codemirror_mode": {
    "name": "ipython",
    "version": 3
   },
   "file_extension": ".py",
   "mimetype": "text/x-python",
   "name": "python",
   "nbconvert_exporter": "python",
   "pygments_lexer": "ipython3",
   "version": "3.6.4"
  }
 },
 "nbformat": 4,
 "nbformat_minor": 4
}
