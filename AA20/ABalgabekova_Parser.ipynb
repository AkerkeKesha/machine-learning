{
 "cells": [
  {
   "cell_type": "code",
   "execution_count": 1,
   "metadata": {},
   "outputs": [],
   "source": [
    "import requests\n",
    "import re\n",
    "from bs4 import BeautifulSoup\n",
    "import pandas as pd\n",
    "import numpy as np\n",
    "import time\n",
    "import sys"
   ]
  },
  {
   "cell_type": "markdown",
   "metadata": {},
   "source": [
    "- asos.com (user-agent,no igredients)\n",
    "- zalando (user-agent)\n",
    "- sephora \n",
    "- avon.com (kz- no ingredients, com has)\n",
    "- monamie.kz (no igredients)\n",
    "- feelunique.com [интересный сайт косметики](https://row.feelunique.com/p/Charlotte-Tilbury-Charlottes-Magic-Cream-50ml)\n",
    "- паряться насчет состава [insta page](https://www.instagram.com/pure_beautystore/?igshid=ev5m6oyq06zy)"
   ]
  },
  {
   "cell_type": "code",
   "execution_count": 2,
   "metadata": {},
   "outputs": [],
   "source": [
    "home_url = 'https://en.zalando.de'"
   ]
  },
  {
   "cell_type": "code",
   "execution_count": 3,
   "metadata": {},
   "outputs": [],
   "source": [
    "category = 'beauty-skincare'"
   ]
  },
  {
   "cell_type": "code",
   "execution_count": 4,
   "metadata": {},
   "outputs": [],
   "source": [
    "page_number = 1"
   ]
  },
  {
   "cell_type": "markdown",
   "metadata": {},
   "source": [
    "https://en.zalando.de/beauty-skincare/?p=2"
   ]
  },
  {
   "cell_type": "code",
   "execution_count": 5,
   "metadata": {},
   "outputs": [],
   "source": [
    "https_line = home_url +'/' + str(category) + '/?p=' + str(page_number)"
   ]
  },
  {
   "cell_type": "code",
   "execution_count": 6,
   "metadata": {},
   "outputs": [
    {
     "data": {
      "text/plain": [
       "'https://en.zalando.de/beauty-skincare/?p=1'"
      ]
     },
     "execution_count": 6,
     "metadata": {},
     "output_type": "execute_result"
    }
   ],
   "source": [
    "https_line"
   ]
  },
  {
   "cell_type": "markdown",
   "metadata": {},
   "source": [
    "- надо браузерские headers дать, как-будто ты user-agent. \n",
    "[тут дают решение](https://stackoverflow.com/questions/47375153/requests-get-in-python-giving-connection-timeout-error)"
   ]
  },
  {
   "cell_type": "code",
   "execution_count": 7,
   "metadata": {},
   "outputs": [],
   "source": [
    "headers = {'user-agent':'Mozilla/5.0 (Windows NT 10.0; Win64; x64) AppleWebKit/537.36 (KHTML, like Gecko) Chrome/62.0.3202.94 Safari/537.36'}"
   ]
  },
  {
   "cell_type": "code",
   "execution_count": 8,
   "metadata": {},
   "outputs": [],
   "source": [
    "response = requests.get(https_line, headers=headers)\n",
    "soup = BeautifulSoup(response.content,'lxml')"
   ]
  },
  {
   "cell_type": "code",
   "execution_count": 9,
   "metadata": {},
   "outputs": [
    {
     "data": {
      "text/plain": [
       "'/maybelline-new-york-lash-sensational-serum-lash-serum-clear-mj331f01j-s11.html'"
      ]
     },
     "execution_count": 9,
     "metadata": {},
     "output_type": "execute_result"
    }
   ],
   "source": [
    "obj = soup.find('a', attrs = {'class':'cat_imageLink-OPGGa'})\n",
    "obj.attrs['href']"
   ]
  },
  {
   "cell_type": "code",
   "execution_count": 10,
   "metadata": {},
   "outputs": [],
   "source": [
    "product_links = soup.findAll('a', attrs = {'class':'cat_imageLink-OPGGa'})\n",
    "product_links = [link.attrs['href'] for link in product_links]"
   ]
  },
  {
   "cell_type": "code",
   "execution_count": 11,
   "metadata": {},
   "outputs": [
    {
     "data": {
      "text/plain": [
       "'https://en.zalando.de'"
      ]
     },
     "execution_count": 11,
     "metadata": {},
     "output_type": "execute_result"
    }
   ],
   "source": [
    "home_url"
   ]
  },
  {
   "cell_type": "code",
   "execution_count": 12,
   "metadata": {},
   "outputs": [],
   "source": [
    "def get_page_links(category, page_number):\n",
    "      \n",
    "    beauty_link = home_url +'/'+ str(category) + '/?p=' + str(page_number)\n",
    "  \n",
    "    response = requests.get(beauty_link, headers=headers)\n",
    "    \n",
    "    if not response.ok:\n",
    "        return response.status_code\n",
    "    \n",
    "    html = response.content\n",
    "    soup = BeautifulSoup(html,'lxml')\n",
    "    \n",
    "    product_links = soup.findAll('a', attrs = {'class':'cat_imageLink-OPGGa'})\n",
    "    product_links = [ home_url + link.attrs['href'] for link in product_links]\n",
    "    \n",
    "    return product_links"
   ]
  },
  {
   "cell_type": "code",
   "execution_count": 13,
   "metadata": {},
   "outputs": [
    {
     "data": {
      "text/plain": [
       "['https://en.zalando.de/eco-by-sonya-extreme-exfoliate-glove-bath-and-body-tool-neutral-eca31j000-s11.html',\n",
       " 'https://en.zalando.de/clinique-superdefense-cc-cream-spf30-40ml-cc-cream-light-2-cll31g01e-s11.html',\n",
       " 'https://en.zalando.de/origins-drink-uptm-intensive-mask-75-ml-face-mask-orb31g037-s11.html']"
      ]
     },
     "execution_count": 13,
     "metadata": {},
     "output_type": "execute_result"
    }
   ],
   "source": [
    "links = get_page_links(category,2)\n",
    "links[:3]"
   ]
  },
  {
   "cell_type": "code",
   "execution_count": 14,
   "metadata": {},
   "outputs": [
    {
     "data": {
      "text/plain": [
       "['https://en.zalando.de/maybelline-new-york-lash-sensational-serum-lash-serum-clear-mj331f01j-s11.html',\n",
       " 'https://en.zalando.de/maybelline-bb-cream-bb-cream-mj331e000-s12.html',\n",
       " 'https://en.zalando.de/rosental-organics-rose-queen-roller-skincare-tool-rosenquarz-rol31j001-j11.html']"
      ]
     },
     "execution_count": 14,
     "metadata": {},
     "output_type": "execute_result"
    }
   ],
   "source": [
    "links = get_page_links(category,1)\n",
    "links[:3]"
   ]
  },
  {
   "cell_type": "code",
   "execution_count": 15,
   "metadata": {},
   "outputs": [],
   "source": [
    "df1 = pd.DataFrame(columns=['brand', 'name', 'price', 'rating', 'skin_type', 'ingredients'])"
   ]
  },
  {
   "cell_type": "code",
   "execution_count": 16,
   "metadata": {},
   "outputs": [
    {
     "data": {
      "text/html": [
       "<div>\n",
       "<style scoped>\n",
       "    .dataframe tbody tr th:only-of-type {\n",
       "        vertical-align: middle;\n",
       "    }\n",
       "\n",
       "    .dataframe tbody tr th {\n",
       "        vertical-align: top;\n",
       "    }\n",
       "\n",
       "    .dataframe thead th {\n",
       "        text-align: right;\n",
       "    }\n",
       "</style>\n",
       "<table border=\"1\" class=\"dataframe\">\n",
       "  <thead>\n",
       "    <tr style=\"text-align: right;\">\n",
       "      <th></th>\n",
       "      <th>brand</th>\n",
       "      <th>name</th>\n",
       "      <th>price</th>\n",
       "      <th>rating</th>\n",
       "      <th>skin_type</th>\n",
       "      <th>ingredients</th>\n",
       "    </tr>\n",
       "  </thead>\n",
       "  <tbody>\n",
       "  </tbody>\n",
       "</table>\n",
       "</div>"
      ],
      "text/plain": [
       "Empty DataFrame\n",
       "Columns: [brand, name, price, rating, skin_type, ingredients]\n",
       "Index: []"
      ]
     },
     "execution_count": 16,
     "metadata": {},
     "output_type": "execute_result"
    }
   ],
   "source": [
    "df1"
   ]
  },
  {
   "cell_type": "code",
   "execution_count": 17,
   "metadata": {},
   "outputs": [],
   "source": [
    "product_page = 'https://en.zalando.de/pixi-glow-tonic-250ml-toner-tonic-pik31g000-s11.html'\n",
    "\n",
    "time.sleep(1)\n",
    "try:\n",
    "    response = requests.get(product_page, headers=headers)\n",
    "    html = response.content\n",
    "    soup = BeautifulSoup(html,'lxml')\n",
    "except requests.exceptions.ConnectionError:\n",
    "    status_code = \"Connection refused. Too many requests from this ip\""
   ]
  },
  {
   "cell_type": "markdown",
   "metadata": {},
   "source": [
    "id = z-vegas-pdp-props"
   ]
  },
  {
   "cell_type": "markdown",
   "metadata": {},
   "source": [
    "#### Brand name"
   ]
  },
  {
   "cell_type": "code",
   "execution_count": 18,
   "metadata": {},
   "outputs": [
    {
     "data": {
      "text/plain": [
       "'Pixi'"
      ]
     },
     "execution_count": 18,
     "metadata": {},
     "output_type": "execute_result"
    }
   ],
   "source": [
    "soup.find('span', attrs={'class':'A95iT1 pDVUjz nmA88J NNECXo AHAcbe x--xNS'}).text"
   ]
  },
  {
   "cell_type": "code",
   "execution_count": 19,
   "metadata": {},
   "outputs": [],
   "source": [
    "def get_brand(soup):\n",
    "    brand = soup.find('span', attrs={'class':'A95iT1 pDVUjz nmA88J NNECXo AHAcbe x--xNS'})\n",
    "    return \"\" if not brand else brand.text"
   ]
  },
  {
   "cell_type": "code",
   "execution_count": 20,
   "metadata": {},
   "outputs": [],
   "source": [
    "new_product_page = links[3]\n",
    "new_response = requests.get(new_product_page, headers=headers)\n",
    "new_html = new_response.content\n",
    "new_soup = BeautifulSoup(new_html,'lxml')"
   ]
  },
  {
   "cell_type": "code",
   "execution_count": 21,
   "metadata": {},
   "outputs": [
    {
     "data": {
      "text/plain": [
       "'https://en.zalando.de/pixi-glow-tonic-250ml-toner-tonic-pik31g000-s11.html'"
      ]
     },
     "execution_count": 21,
     "metadata": {},
     "output_type": "execute_result"
    }
   ],
   "source": [
    "new_product_page"
   ]
  },
  {
   "cell_type": "code",
   "execution_count": 22,
   "metadata": {},
   "outputs": [
    {
     "data": {
      "text/plain": [
       "'Pixi'"
      ]
     },
     "execution_count": 22,
     "metadata": {},
     "output_type": "execute_result"
    }
   ],
   "source": [
    "get_brand(new_soup)"
   ]
  },
  {
   "cell_type": "markdown",
   "metadata": {},
   "source": [
    "#### Product name"
   ]
  },
  {
   "cell_type": "code",
   "execution_count": 23,
   "metadata": {},
   "outputs": [
    {
     "data": {
      "text/plain": [
       "'GLOW TONIC 250ML - Toner'"
      ]
     },
     "execution_count": 23,
     "metadata": {},
     "output_type": "execute_result"
    }
   ],
   "source": [
    "soup.find('h1', attrs = {'class':'A95iT1 pDVUjz nmA88J FI5Jsp x--xNS Y6OuCD BicgmA'}).text"
   ]
  },
  {
   "cell_type": "code",
   "execution_count": 24,
   "metadata": {},
   "outputs": [],
   "source": [
    "def get_name(soup):\n",
    "    name = soup.find('h1', attrs = {'class':'A95iT1 pDVUjz nmA88J FI5Jsp x--xNS Y6OuCD BicgmA'})\n",
    "    return \"\" if not name else name.text"
   ]
  },
  {
   "cell_type": "code",
   "execution_count": 25,
   "metadata": {},
   "outputs": [
    {
     "data": {
      "text/plain": [
       "'GLOW TONIC 250ML - Toner'"
      ]
     },
     "execution_count": 25,
     "metadata": {},
     "output_type": "execute_result"
    }
   ],
   "source": [
    "get_name(new_soup)"
   ]
  },
  {
   "cell_type": "markdown",
   "metadata": {},
   "source": [
    "#### Product price"
   ]
  },
  {
   "cell_type": "code",
   "execution_count": 26,
   "metadata": {},
   "outputs": [
    {
     "data": {
      "text/plain": [
       "'23,95\\xa0€'"
      ]
     },
     "execution_count": 26,
     "metadata": {},
     "output_type": "execute_result"
    }
   ],
   "source": [
    "text = soup.find('span', attrs = {'class':'A95iT1 pDVUjz nmA88J _0uQAcH AHAcbe A_8GRa Xb35xC'}).text\n",
    "text"
   ]
  },
  {
   "cell_type": "code",
   "execution_count": 27,
   "metadata": {},
   "outputs": [],
   "source": [
    "pattern = re.compile(r'\\d+\\,?\\d*')\n",
    "result = re.match(pattern, text)"
   ]
  },
  {
   "cell_type": "code",
   "execution_count": 28,
   "metadata": {},
   "outputs": [],
   "source": [
    "price = result.group(0)"
   ]
  },
  {
   "cell_type": "code",
   "execution_count": 29,
   "metadata": {},
   "outputs": [
    {
     "data": {
      "text/plain": [
       "23.95"
      ]
     },
     "execution_count": 29,
     "metadata": {},
     "output_type": "execute_result"
    }
   ],
   "source": [
    "float(price.replace(',','.'))"
   ]
  },
  {
   "cell_type": "code",
   "execution_count": 30,
   "metadata": {},
   "outputs": [],
   "source": [
    "def get_price(soup):\n",
    "    price_tag = soup.find('span', attrs = {'class':'A95iT1 pDVUjz nmA88J _0uQAcH AHAcbe A_8GRa Xb35xC'})\n",
    "    if price_tag:\n",
    "        price_phrase = price_tag.text\n",
    "    else:\n",
    "        discount = soup.find('span', attrs={'class':'A95iT1 pDVUjz nmA88J _0uQAcH AHAcbe gzB009'})\n",
    "        price_phrase = discount.text\n",
    "        \n",
    "    pattern = re.compile(r'\\d+\\,?\\d*')\n",
    "    result = re.match(pattern, price_phrase)\n",
    "    price = result.group(0)\n",
    "    return float(price.replace(',','.'))"
   ]
  },
  {
   "cell_type": "code",
   "execution_count": 31,
   "metadata": {},
   "outputs": [
    {
     "data": {
      "text/plain": [
       "23.95"
      ]
     },
     "execution_count": 31,
     "metadata": {},
     "output_type": "execute_result"
    }
   ],
   "source": [
    "get_price(new_soup)"
   ]
  },
  {
   "cell_type": "code",
   "execution_count": 32,
   "metadata": {},
   "outputs": [
    {
     "data": {
      "text/plain": [
       "23.95"
      ]
     },
     "execution_count": 32,
     "metadata": {},
     "output_type": "execute_result"
    }
   ],
   "source": [
    "get_price(soup)"
   ]
  },
  {
   "cell_type": "markdown",
   "metadata": {},
   "source": [
    "#### Skin type"
   ]
  },
  {
   "cell_type": "code",
   "execution_count": 33,
   "metadata": {},
   "outputs": [],
   "source": [
    "product_details = soup.find('div', attrs = {'role':'tabpanel'})"
   ]
  },
  {
   "cell_type": "code",
   "execution_count": 34,
   "metadata": {},
   "outputs": [],
   "source": [
    "tab_contents = product_details.findAll('div', attrs = {'class':'h-tabs__panel'})"
   ]
  },
  {
   "cell_type": "code",
   "execution_count": 35,
   "metadata": {},
   "outputs": [],
   "source": [
    "highlights = tab_contents[0]"
   ]
  },
  {
   "cell_type": "code",
   "execution_count": 36,
   "metadata": {},
   "outputs": [],
   "source": [
    "highlights_text = highlights.findAll('span', attrs = {'class':'body', 'as':'span'})"
   ]
  },
  {
   "cell_type": "code",
   "execution_count": 37,
   "metadata": {},
   "outputs": [],
   "source": [
    "highlights_dict = {}"
   ]
  },
  {
   "cell_type": "code",
   "execution_count": 38,
   "metadata": {},
   "outputs": [],
   "source": [
    "for i in range(0,len(highlights_text),2):\n",
    "    clear_text = highlights_text[i].text.split(':')[0]\n",
    "    highlights_dict[clear_text] = highlights_text[i+1].text"
   ]
  },
  {
   "cell_type": "code",
   "execution_count": 39,
   "metadata": {},
   "outputs": [
    {
     "data": {
      "text/plain": [
       "{'Article number': 'PIK31G000-S11',\n",
       " 'Concerns': 'Dryness, Dullness, Uneven Texture, Oiliness, Uneven skin tone, Acne',\n",
       " 'Consistency': 'Liquid',\n",
       " 'Skin type': 'All skin types',\n",
       " 'Volume': '250 ml',\n",
       " 'Warnings': 'We recommend using SPF in the daytime, especially when using a product with glycolic acid.'}"
      ]
     },
     "execution_count": 39,
     "metadata": {},
     "output_type": "execute_result"
    }
   ],
   "source": [
    "highlights_dict"
   ]
  },
  {
   "cell_type": "code",
   "execution_count": 40,
   "metadata": {},
   "outputs": [],
   "source": [
    "def get_skin_type(soup):\n",
    "    product_details = soup.find('div', attrs = {'role':'tabpanel'})\n",
    "    tab_contents = product_details.findAll('div', attrs = {'class':'h-tabs__panel'})\n",
    "    highlights = tab_contents[0]\n",
    "    highlights_text = highlights.findAll('span', attrs = {'class':'body', 'as':'span'})\n",
    "    highlights_dict = {}\n",
    "    for i in range(0,len(highlights_text),2):\n",
    "        clear_text = highlights_text[i].text.split(':')[0]\n",
    "        highlights_dict[clear_text] = highlights_text[i+1].text\n",
    "        \n",
    "    return \"\" if 'Skin type' not in highlights_dict else highlights_dict['Skin type']"
   ]
  },
  {
   "cell_type": "code",
   "execution_count": 41,
   "metadata": {},
   "outputs": [
    {
     "data": {
      "text/plain": [
       "'All skin types'"
      ]
     },
     "execution_count": 41,
     "metadata": {},
     "output_type": "execute_result"
    }
   ],
   "source": [
    "get_skin_type(soup)"
   ]
  },
  {
   "cell_type": "code",
   "execution_count": 42,
   "metadata": {},
   "outputs": [],
   "source": [
    "page = 'https://en.zalando.de/pixi-glow-tonic-250ml-toner-tonic-pik31g000-s11.html'\n",
    "response2 = requests.get(page, headers=headers)\n",
    "html2= response2.content\n",
    "soup2 = BeautifulSoup(html2,'lxml')"
   ]
  },
  {
   "cell_type": "code",
   "execution_count": 43,
   "metadata": {},
   "outputs": [
    {
     "data": {
      "text/plain": [
       "'All skin types'"
      ]
     },
     "execution_count": 43,
     "metadata": {},
     "output_type": "execute_result"
    }
   ],
   "source": [
    "get_skin_type(new_soup)"
   ]
  },
  {
   "cell_type": "markdown",
   "metadata": {},
   "source": [
    "#### Ingredients"
   ]
  },
  {
   "cell_type": "code",
   "execution_count": 44,
   "metadata": {},
   "outputs": [],
   "source": [
    "ingredients = tab_contents[1]"
   ]
  },
  {
   "cell_type": "code",
   "execution_count": 45,
   "metadata": {},
   "outputs": [],
   "source": [
    "titles = ingredients.findAll('span', attrs = {'class':'h-text h-color-black body h-bold'})"
   ]
  },
  {
   "cell_type": "code",
   "execution_count": 46,
   "metadata": {},
   "outputs": [
    {
     "data": {
      "text/plain": [
       "'Ingredients:\\xa0'"
      ]
     },
     "execution_count": 46,
     "metadata": {},
     "output_type": "execute_result"
    }
   ],
   "source": [
    "titles[0].text"
   ]
  },
  {
   "cell_type": "code",
   "execution_count": 47,
   "metadata": {},
   "outputs": [],
   "source": [
    "ingredients_pos = -1 "
   ]
  },
  {
   "cell_type": "code",
   "execution_count": 48,
   "metadata": {},
   "outputs": [],
   "source": [
    "for i in range(0, len(titles)):\n",
    "    if 'Ingredients:' in titles[i].text:\n",
    "        ingredients_pos = i "
   ]
  },
  {
   "cell_type": "code",
   "execution_count": 49,
   "metadata": {},
   "outputs": [
    {
     "data": {
      "text/plain": [
       "0"
      ]
     },
     "execution_count": 49,
     "metadata": {},
     "output_type": "execute_result"
    }
   ],
   "source": [
    "ingredients_pos"
   ]
  },
  {
   "cell_type": "code",
   "execution_count": 50,
   "metadata": {},
   "outputs": [],
   "source": [
    "contents = ingredients.find('p', attrs = {'class':'h-text h-color-black body h-m-bottom-xs'})"
   ]
  },
  {
   "cell_type": "code",
   "execution_count": 51,
   "metadata": {},
   "outputs": [
    {
     "data": {
      "text/plain": [
       "<p as=\"p\" class=\"h-text h-color-black body h-m-bottom-xs\"><span as=\"span\" class=\"h-text h-color-black body h-bold\">Ingredients<!-- -->: </span><span as=\"span\" class=\"h-text h-color-black body\"><div class=\"h-container h-align-left\"><p as=\"p\" class=\"h-text h-color-black body\">Aqua, Aloe Barbadensis Leaf Juice, Hamamelis Virginiana (Witch Hazel) Leaf Extract, Aesculus Hippocastanum (Horse Chestnut) Seed Extract, Glycolic Acid, Ammonium Glycolate, Glycerin, Butylene Glycol, Hexylene Glycol (and) Fructose (and) Glucose (a...</p><button as=\"button\" class=\"h-action h-container--slide__link--black h-m-top-s -link underline\"><span class=\"h-text h-color-black body -text-only\"><h5 class=\"h-text h-color-black title-4\">Discover more</h5></span></button></div></span></p>"
      ]
     },
     "execution_count": 51,
     "metadata": {},
     "output_type": "execute_result"
    }
   ],
   "source": [
    "contents"
   ]
  },
  {
   "cell_type": "code",
   "execution_count": 52,
   "metadata": {},
   "outputs": [
    {
     "data": {
      "text/plain": [
       "'Aqua, Aloe Barbadensis Leaf Juice, Hamamelis Virginiana (Witch Hazel) Leaf Extract, Aesculus Hippocastanum (Horse Chestnut) Seed Extract, Glycolic Acid, Ammonium Glycolate, Glycerin, Butylene Glycol, Hexylene Glycol (and) Fructose (and) Glucose (a...'"
      ]
     },
     "execution_count": 52,
     "metadata": {},
     "output_type": "execute_result"
    }
   ],
   "source": [
    "contents.find('p', attrs = {'class':'h-text h-color-black body'}).text"
   ]
  },
  {
   "cell_type": "code",
   "execution_count": 54,
   "metadata": {},
   "outputs": [],
   "source": [
    "def get_ingredients(soup):    \n",
    "    product_details = soup.find('div', attrs = {'role':'tabpanel'})\n",
    "    tab_contents = product_details.findAll('div', attrs = {'class':'h-tabs__panel'})\n",
    "    ingredients = tab_contents[1]\n",
    "    titles = ingredients.findAll('span', attrs = {'class':'h-text h-color-black body h-bold'})\n",
    "    contents = ingredients.findAll('p', attrs = {'class':'h-text h-color-black body h-m-bottom-xs'})\n",
    "    ingredients_pos = -1\n",
    "    for i in range(0, len(titles)):\n",
    "        if 'Ingredients:' in titles[i].text:\n",
    "            ingredients_pos = i \n",
    "    return \"\" if ingredients_pos == -1 else contents[0].find('p', attrs = {'class':'h-text h-color-black body'}).text"
   ]
  },
  {
   "cell_type": "code",
   "execution_count": 55,
   "metadata": {},
   "outputs": [
    {
     "data": {
      "text/plain": [
       "'Aqua, Aloe Barbadensis Leaf Juice, Hamamelis Virginiana (Witch Hazel) Leaf Extract, Aesculus Hippocastanum (Horse Chestnut) Seed Extract, Glycolic Acid, Ammonium Glycolate, Glycerin, Butylene Glycol, Hexylene Glycol (and) Fructose (and) Glucose (a...'"
      ]
     },
     "execution_count": 55,
     "metadata": {},
     "output_type": "execute_result"
    }
   ],
   "source": [
    "get_ingredients(new_soup)"
   ]
  },
  {
   "cell_type": "code",
   "execution_count": 56,
   "metadata": {},
   "outputs": [
    {
     "data": {
      "text/plain": [
       "'Aqua, Aloe Barbadensis Leaf Juice, Hamamelis Virginiana (Witch Hazel) Leaf Extract, Aesculus Hippocastanum (Horse Chestnut) Seed Extract, Glycolic Acid, Ammonium Glycolate, Glycerin, Butylene Glycol, Hexylene Glycol (and) Fructose (and) Glucose (a...'"
      ]
     },
     "execution_count": 56,
     "metadata": {},
     "output_type": "execute_result"
    }
   ],
   "source": [
    "get_ingredients(soup2)"
   ]
  },
  {
   "cell_type": "markdown",
   "metadata": {},
   "source": [
    "#### Rating"
   ]
  },
  {
   "cell_type": "code",
   "execution_count": 57,
   "metadata": {},
   "outputs": [],
   "source": [
    "def get_average_rating(html_content):\n",
    "    search_token = 'averageStarRating'\n",
    "    offset = len(search_token) + 2\n",
    "    start_pos = html_content.find(search_token)\n",
    "    colon_pos = html_content.find(\":\", start_pos)\n",
    "    comma_pos = html_content.find(\",\", start_pos)\n",
    "    start_pos, colon_pos, comma_pos\n",
    "    rating = html_content[colon_pos+1: comma_pos]\n",
    "    return \"\" if rating=='null' else float(rating)"
   ]
  },
  {
   "cell_type": "code",
   "execution_count": 58,
   "metadata": {},
   "outputs": [
    {
     "name": "stdout",
     "output_type": "stream",
     "text": [
      "3.4285715\n",
      "4.375\n",
      "4.5789475\n"
     ]
    }
   ],
   "source": [
    "for l in links[:3]:\n",
    "    html_content = str(requests.get(l, headers=headers).content)\n",
    "    print(get_average_rating(html_content))\n",
    "    time.sleep(1)"
   ]
  },
  {
   "cell_type": "code",
   "execution_count": 59,
   "metadata": {},
   "outputs": [],
   "source": [
    "def get_product_data(product_page):\n",
    "    \"\"\"\n",
    "        returns dictionary data_row\n",
    "        \n",
    "        product_page: string\n",
    "            url for the product html page\n",
    "    \n",
    "    \"\"\"    \n",
    "    response = requests.get(product_page, headers=headers)\n",
    "    \n",
    "    if not response.ok:\n",
    "        return response.status_code\n",
    "    \n",
    "    html = response.content\n",
    "    soup = BeautifulSoup(html,'lxml')\n",
    "    html_content = str(response.content)\n",
    "    \n",
    "    product_brand = get_brand(soup)\n",
    "    product_name = get_name(soup)\n",
    "    product_price = get_price(soup)\n",
    "    \n",
    "    product_rating = get_average_rating(html_content)\n",
    "    ingredients = get_ingredients(soup)\n",
    "    skin_type = get_skin_type(soup)\n",
    "\n",
    "\n",
    "    data_row = {\"brand\":product_brand,\n",
    "                \"name\":product_name, \n",
    "                \"price\":product_price, \n",
    "                \"rating\":product_rating,\n",
    "                \"skin_type\":skin_type, \n",
    "                \"ingredients\":ingredients\n",
    "               }\n",
    "\n",
    "    return data_row"
   ]
  },
  {
   "cell_type": "code",
   "execution_count": 70,
   "metadata": {},
   "outputs": [],
   "source": [
    "data_row = get_product_data(new_product_page)"
   ]
  },
  {
   "cell_type": "code",
   "execution_count": 71,
   "metadata": {},
   "outputs": [],
   "source": [
    "df1 = df1.append(data_row, ignore_index=True)"
   ]
  },
  {
   "cell_type": "code",
   "execution_count": 72,
   "metadata": {},
   "outputs": [
    {
     "data": {
      "text/html": [
       "<div>\n",
       "<style scoped>\n",
       "    .dataframe tbody tr th:only-of-type {\n",
       "        vertical-align: middle;\n",
       "    }\n",
       "\n",
       "    .dataframe tbody tr th {\n",
       "        vertical-align: top;\n",
       "    }\n",
       "\n",
       "    .dataframe thead th {\n",
       "        text-align: right;\n",
       "    }\n",
       "</style>\n",
       "<table border=\"1\" class=\"dataframe\">\n",
       "  <thead>\n",
       "    <tr style=\"text-align: right;\">\n",
       "      <th></th>\n",
       "      <th>brand</th>\n",
       "      <th>name</th>\n",
       "      <th>price</th>\n",
       "      <th>rating</th>\n",
       "      <th>skin_type</th>\n",
       "      <th>ingredients</th>\n",
       "    </tr>\n",
       "  </thead>\n",
       "  <tbody>\n",
       "    <tr>\n",
       "      <th>0</th>\n",
       "      <td>Darphin</td>\n",
       "      <td>MELAPERFECT FOUNDATION NEUTRAL - Foundation</td>\n",
       "      <td>39.95</td>\n",
       "      <td>4</td>\n",
       "      <td></td>\n",
       "      <td>Water\\aqua\\eau, methyl, trimethicone, phenyl t...</td>\n",
       "    </tr>\n",
       "    <tr>\n",
       "      <th>1</th>\n",
       "      <td>Nyx Professional Makeup</td>\n",
       "      <td>HD PHOTOGENIC CONCEALER WAND - Concealer</td>\n",
       "      <td>6.95</td>\n",
       "      <td>4.14365</td>\n",
       "      <td></td>\n",
       "      <td>AQUA / WATER, TRIMETHYLSILOXYPHENYL DIMETHICON...</td>\n",
       "    </tr>\n",
       "    <tr>\n",
       "      <th>2</th>\n",
       "      <td>Nyx Professional Makeup</td>\n",
       "      <td>BARE WITH ME TINTED SKIN VEIL - Setting spray ...</td>\n",
       "      <td>9.95</td>\n",
       "      <td>4.56</td>\n",
       "      <td></td>\n",
       "      <td>Aqua/Water/Eau, Glycerin, Alcohol Denat., Aloe...</td>\n",
       "    </tr>\n",
       "    <tr>\n",
       "      <th>3</th>\n",
       "      <td>MAC</td>\n",
       "      <td>PREP + PRIME FIX + MATTIFYING MIST 100ML - Primer</td>\n",
       "      <td>22.50</td>\n",
       "      <td>4.32759</td>\n",
       "      <td></td>\n",
       "      <td>Water\\Aqua\\Eau , Alcohol Denat. , Silica , Sod...</td>\n",
       "    </tr>\n",
       "    <tr>\n",
       "      <th>4</th>\n",
       "      <td>MAC</td>\n",
       "      <td>STUDIO FIX FLUID SPF15 FOUNDATION - Foundation</td>\n",
       "      <td>33.95</td>\n",
       "      <td>4.48535</td>\n",
       "      <td></td>\n",
       "      <td>Octinoxate 2.50%, Titanium Dioxide 1.00%Water\\...</td>\n",
       "    </tr>\n",
       "    <tr>\n",
       "      <th>5</th>\n",
       "      <td>MAC</td>\n",
       "      <td>PREP + PRIME FIX +100ML - Primer</td>\n",
       "      <td>22.50</td>\n",
       "      <td>4.74413</td>\n",
       "      <td></td>\n",
       "      <td>Water\\Aqua\\Eau, Glycerin, Butylene Glycol, Cuc...</td>\n",
       "    </tr>\n",
       "    <tr>\n",
       "      <th>6</th>\n",
       "      <td>MAC</td>\n",
       "      <td>PRO LONGWEAR CONCEALER - Concealer</td>\n",
       "      <td>23.50</td>\n",
       "      <td>4.47087</td>\n",
       "      <td></td>\n",
       "      <td>Cyclopentasiloxane, Water\\Aqua\\Eau, Trimethyls...</td>\n",
       "    </tr>\n",
       "    <tr>\n",
       "      <th>7</th>\n",
       "      <td>MAC</td>\n",
       "      <td>MINERALIZE SKINFINISH - Highlighter</td>\n",
       "      <td>34.95</td>\n",
       "      <td>4.66187</td>\n",
       "      <td></td>\n",
       "      <td>Mica, Talc, Nylon-12, Dimethicone, Isopropyl P...</td>\n",
       "    </tr>\n",
       "    <tr>\n",
       "      <th>8</th>\n",
       "      <td>MAC</td>\n",
       "      <td>MINI PREP + PRIME FIX +LITTLE M.A.C 30ML - Set...</td>\n",
       "      <td>10.95</td>\n",
       "      <td>4.52717</td>\n",
       "      <td></td>\n",
       "      <td>Water\\Aqua\\Eau, Glycerin, Butylene Glycol, Cuc...</td>\n",
       "    </tr>\n",
       "    <tr>\n",
       "      <th>9</th>\n",
       "      <td>the Balm</td>\n",
       "      <td>LOU-MANIZER - Highlighter</td>\n",
       "      <td>22.95</td>\n",
       "      <td>4.66368</td>\n",
       "      <td>All skin types</td>\n",
       "      <td>MICA, ISOEICOSANE, POLYETHYLENE, BORON NITRIDE...</td>\n",
       "    </tr>\n",
       "    <tr>\n",
       "      <th>10</th>\n",
       "      <td>Nyx Professional Makeup</td>\n",
       "      <td>STICK - Contouring</td>\n",
       "      <td>11.95</td>\n",
       "      <td>4.25556</td>\n",
       "      <td></td>\n",
       "      <td>PARAFFINUM LIQUIDUM / MINERAL OIL, CETEARYL ET...</td>\n",
       "    </tr>\n",
       "    <tr>\n",
       "      <th>11</th>\n",
       "      <td>Nyx Professional Makeup</td>\n",
       "      <td>SETTING SPRAY - Setting spray &amp; powder</td>\n",
       "      <td>7.95</td>\n",
       "      <td>4.38182</td>\n",
       "      <td></td>\n",
       "      <td>AQUA / WATER, ALCOHOL DENAT., PROPYLENE GLYCOL...</td>\n",
       "    </tr>\n",
       "    <tr>\n",
       "      <th>12</th>\n",
       "      <td>Nyx Professional Makeup</td>\n",
       "      <td>HIGHLIGHT &amp; CONTOUR PRO PALETTE - Face palette</td>\n",
       "      <td>20.95</td>\n",
       "      <td>4.70423</td>\n",
       "      <td></td>\n",
       "      <td>TALC, POLYMETHYL METHACRYLATE, BORON NITRIDE, ...</td>\n",
       "    </tr>\n",
       "    <tr>\n",
       "      <th>13</th>\n",
       "      <td>Maybelline New York</td>\n",
       "      <td>INSTANT CONCEALER - Concealer</td>\n",
       "      <td>9.95</td>\n",
       "      <td>4.47791</td>\n",
       "      <td>All skin types</td>\n",
       "      <td>AQUA/WATER, CYCLOPENTASILOXANE, DIMETHICONE, I...</td>\n",
       "    </tr>\n",
       "    <tr>\n",
       "      <th>14</th>\n",
       "      <td>MAC</td>\n",
       "      <td>PREP + PRIME LIP PRIMER 1.7G - Primer</td>\n",
       "      <td>19.50</td>\n",
       "      <td>4.71795</td>\n",
       "      <td></td>\n",
       "      <td>Cyclopentasiloxane, Paraffin, Polybutene, Ozok...</td>\n",
       "    </tr>\n",
       "    <tr>\n",
       "      <th>15</th>\n",
       "      <td>Nyx Professional Makeup</td>\n",
       "      <td>MATTE BODY BRONZER - Bronzer</td>\n",
       "      <td>8.95</td>\n",
       "      <td>4.15504</td>\n",
       "      <td></td>\n",
       "      <td>TALC, MAGNESIUM STEARATE, DIMETHICONE, ISOPROP...</td>\n",
       "    </tr>\n",
       "    <tr>\n",
       "      <th>16</th>\n",
       "      <td>Nyx Professional Makeup</td>\n",
       "      <td>HYDRA TOUCH OIL PRIMER - Primer</td>\n",
       "      <td>13.95</td>\n",
       "      <td>4.45</td>\n",
       "      <td></td>\n",
       "      <td>PRUNUS AMYGDALUS DULCIS OIL / SWEET ALMOND OIL...</td>\n",
       "    </tr>\n",
       "    <tr>\n",
       "      <th>17</th>\n",
       "      <td>Nyx Professional Makeup</td>\n",
       "      <td>SWEET CHEEKS CREAMY POWDER BLUSH MATTE - Blusher</td>\n",
       "      <td>7.95</td>\n",
       "      <td>4.34483</td>\n",
       "      <td></td>\n",
       "      <td>TALC, NYLON-12, ETHYLHEXYL PALMITATE, TRIMETHY...</td>\n",
       "    </tr>\n",
       "    <tr>\n",
       "      <th>18</th>\n",
       "      <td>MAC</td>\n",
       "      <td>PREP + PRIME FIX +100ML - Primer</td>\n",
       "      <td>22.50</td>\n",
       "      <td>4.74413</td>\n",
       "      <td></td>\n",
       "      <td>Water\\Aqua\\Eau, Glycerin, Butylene Glycol, Cuc...</td>\n",
       "    </tr>\n",
       "    <tr>\n",
       "      <th>19</th>\n",
       "      <td>Nyx Professional Makeup</td>\n",
       "      <td>STUDIO PERFECT PRIMER - Primer</td>\n",
       "      <td>11.95</td>\n",
       "      <td>4.35714</td>\n",
       "      <td></td>\n",
       "      <td>CYCLOPENTASILOXANE • DIMETHICONE CROSSPOLYMER ...</td>\n",
       "    </tr>\n",
       "    <tr>\n",
       "      <th>20</th>\n",
       "      <td>Smashbox</td>\n",
       "      <td>THE ORIGINAL PHOTO FINISH SMOOTH &amp; BLUR PRIMER...</td>\n",
       "      <td>14.95</td>\n",
       "      <td>4.57143</td>\n",
       "      <td></td>\n",
       "      <td>Formel ohne Parabene, Sodium Lauryl Sulfate, P...</td>\n",
       "    </tr>\n",
       "    <tr>\n",
       "      <th>21</th>\n",
       "      <td>MAC</td>\n",
       "      <td>STUDIO FIX FLUID SPF15 FOUNDATION - Foundation</td>\n",
       "      <td>32.95</td>\n",
       "      <td>4.48535</td>\n",
       "      <td></td>\n",
       "      <td>Octinoxate 2.50%, Titanium Dioxide 1.00%Water\\...</td>\n",
       "    </tr>\n",
       "    <tr>\n",
       "      <th>22</th>\n",
       "      <td>Maybelline New York</td>\n",
       "      <td>INSTANT CONCEALER - Concealer</td>\n",
       "      <td>9.95</td>\n",
       "      <td>4.47791</td>\n",
       "      <td></td>\n",
       "      <td>AQUA / WATER, CYCLOPENTASILOXANE, DIMETHICONE,...</td>\n",
       "    </tr>\n",
       "    <tr>\n",
       "      <th>23</th>\n",
       "      <td>MAC</td>\n",
       "      <td>MINERALIZE SKINFINISH NATURAL - Powder</td>\n",
       "      <td>34.95</td>\n",
       "      <td>4.71818</td>\n",
       "      <td></td>\n",
       "      <td>Talc, Mica, Dimethicone, Isopropyl Palmitate, ...</td>\n",
       "    </tr>\n",
       "    <tr>\n",
       "      <th>24</th>\n",
       "      <td>Maybelline New York</td>\n",
       "      <td>MASTER FIX BAKING POWDER - Powder</td>\n",
       "      <td>7.95</td>\n",
       "      <td>4.08621</td>\n",
       "      <td></td>\n",
       "      <td>TALC  | SILICA  | DIMETHICONE  | [+/- MAY CONT...</td>\n",
       "    </tr>\n",
       "    <tr>\n",
       "      <th>25</th>\n",
       "      <td>Maybelline New York</td>\n",
       "      <td>FIT ME CONCEALER - Concealer</td>\n",
       "      <td>6.95</td>\n",
       "      <td>4.11719</td>\n",
       "      <td></td>\n",
       "      <td>D43567/4: AQUA / WATER, CYCLOPENTASILOXANE, HY...</td>\n",
       "    </tr>\n",
       "    <tr>\n",
       "      <th>26</th>\n",
       "      <td>Nyx Professional Makeup</td>\n",
       "      <td>PORE FILLER - Primer</td>\n",
       "      <td>12.95</td>\n",
       "      <td>4.20513</td>\n",
       "      <td></td>\n",
       "      <td>DIMETHICONE, CYCLOPENTASILOXANE, DIMETHICONE C...</td>\n",
       "    </tr>\n",
       "    <tr>\n",
       "      <th>27</th>\n",
       "      <td>L'Oréal Paris</td>\n",
       "      <td>SHAKE &amp; GLOW GESICHTSSPRAY - Setting spray &amp; p...</td>\n",
       "      <td>11.95</td>\n",
       "      <td>4.40426</td>\n",
       "      <td></td>\n",
       "      <td>AQUA / WATER • CAPRYLIC/CAPRIC TRIGLYCERIDE • ...</td>\n",
       "    </tr>\n",
       "    <tr>\n",
       "      <th>28</th>\n",
       "      <td>Nyx Professional Makeup</td>\n",
       "      <td>BARE WITH ME HYDRATING JELLY PRIMER - Primer</td>\n",
       "      <td>15.95</td>\n",
       "      <td>4.25</td>\n",
       "      <td></td>\n",
       "      <td>Water/Aqua/Eau, Glycerin, Butylene Glycol, Peg...</td>\n",
       "    </tr>\n",
       "    <tr>\n",
       "      <th>29</th>\n",
       "      <td>Maybelline New York</td>\n",
       "      <td>FIT ME CONCEALER - Concealer</td>\n",
       "      <td>6.95</td>\n",
       "      <td>4.11719</td>\n",
       "      <td></td>\n",
       "      <td>D43567/4: AQUA / WATER, CYCLOPENTASILOXANE, HY...</td>\n",
       "    </tr>\n",
       "    <tr>\n",
       "      <th>...</th>\n",
       "      <td>...</td>\n",
       "      <td>...</td>\n",
       "      <td>...</td>\n",
       "      <td>...</td>\n",
       "      <td>...</td>\n",
       "      <td>...</td>\n",
       "    </tr>\n",
       "    <tr>\n",
       "      <th>5000</th>\n",
       "      <td>St. Tropez</td>\n",
       "      <td>GRADUAL TAN LUMINOUS VEIL FACE 50ML - Self tan</td>\n",
       "      <td>25.95</td>\n",
       "      <td>2.5</td>\n",
       "      <td></td>\n",
       "      <td>Aqua (Water/Eau), Glycerin, C12-15 Alkyl Benzo...</td>\n",
       "    </tr>\n",
       "    <tr>\n",
       "      <th>5001</th>\n",
       "      <td>Institut Esthederm</td>\n",
       "      <td>INSTITUT ESTHEDERM ADAPTASUN SENSITIVE SKIN PR...</td>\n",
       "      <td>46.17</td>\n",
       "      <td></td>\n",
       "      <td>Sensitive skin</td>\n",
       "      <td>Aqua/Water/Eau*, Ethylhexyl Methoxycinnamate, ...</td>\n",
       "    </tr>\n",
       "    <tr>\n",
       "      <th>5002</th>\n",
       "      <td>Vita Liberata</td>\n",
       "      <td>PHENOMENAL TAN LOTION 150ML - Self tan</td>\n",
       "      <td>37.95</td>\n",
       "      <td>2.5</td>\n",
       "      <td>All skin types</td>\n",
       "      <td>Aloe Barbadensis (Aloe Vera) Leaf Water*, Dihy...</td>\n",
       "    </tr>\n",
       "    <tr>\n",
       "      <th>5003</th>\n",
       "      <td>Institut Esthederm</td>\n",
       "      <td>Sun protection</td>\n",
       "      <td>50.73</td>\n",
       "      <td></td>\n",
       "      <td>Normal skin</td>\n",
       "      <td>Aqua/Water/Eau*, Ethylhexyl Methoxycinnamate, ...</td>\n",
       "    </tr>\n",
       "    <tr>\n",
       "      <th>5004</th>\n",
       "      <td>Institut Esthederm</td>\n",
       "      <td>INSTITUT ESTHEDERM ADAPTASUN PROTECTIVE SILKY ...</td>\n",
       "      <td>44.46</td>\n",
       "      <td></td>\n",
       "      <td>Normal skin</td>\n",
       "      <td>Butan, Dibutyl, Adipate, Coco-Caprylate/Caprat...</td>\n",
       "    </tr>\n",
       "    <tr>\n",
       "      <th>5005</th>\n",
       "      <td>Institut Esthederm</td>\n",
       "      <td>INSTITUT ESTHEDERM ADAPTASUN PROTECTIVE TANNIN...</td>\n",
       "      <td>46.74</td>\n",
       "      <td></td>\n",
       "      <td>Normal skin</td>\n",
       "      <td>Aqua/water/eau*, Ethylhexyl Methoxycinnamate, ...</td>\n",
       "    </tr>\n",
       "    <tr>\n",
       "      <th>5006</th>\n",
       "      <td>Skin Stories</td>\n",
       "      <td>SKIN STORIES COLOR PROTECT SUN STICK - Sun pro...</td>\n",
       "      <td>14.95</td>\n",
       "      <td></td>\n",
       "      <td>All skin types</td>\n",
       "      <td>C12-15 Alkyl Benzoate, Homosalate, Cera Alba, ...</td>\n",
       "    </tr>\n",
       "    <tr>\n",
       "      <th>5007</th>\n",
       "      <td>Institut Esthederm</td>\n",
       "      <td>Self tan</td>\n",
       "      <td>63.84</td>\n",
       "      <td></td>\n",
       "      <td>All skin types</td>\n",
       "      <td>Aqua/Water/Eau*, Dicaprylyl Carbonate, Ethylex...</td>\n",
       "    </tr>\n",
       "    <tr>\n",
       "      <th>5008</th>\n",
       "      <td>Institut Esthederm</td>\n",
       "      <td>Sun protection</td>\n",
       "      <td>63.84</td>\n",
       "      <td></td>\n",
       "      <td></td>\n",
       "      <td>Aqua/Water/Eau*, Dicaprylyl Carbonate, Ethylex...</td>\n",
       "    </tr>\n",
       "    <tr>\n",
       "      <th>5009</th>\n",
       "      <td>ELEMIS</td>\n",
       "      <td>ELEMIS TAN ACCELERATOR - Self tan</td>\n",
       "      <td>30.78</td>\n",
       "      <td></td>\n",
       "      <td>Normal skin</td>\n",
       "      <td>Aqua/Water/Eau, Glyceryl Stearate, Propylene G...</td>\n",
       "    </tr>\n",
       "    <tr>\n",
       "      <th>5010</th>\n",
       "      <td>Vita Liberata</td>\n",
       "      <td>ORGANIC BOTANICAL TAN INFUSED CLOTHS 4 PACK - ...</td>\n",
       "      <td>9.95</td>\n",
       "      <td>5</td>\n",
       "      <td>All skin types</td>\n",
       "      <td>Aloe barbadensis (Aloe Vera) Leaf Water*, Dihy...</td>\n",
       "    </tr>\n",
       "    <tr>\n",
       "      <th>5011</th>\n",
       "      <td>Korres</td>\n",
       "      <td>REDGRAPE FACE SUNSCREEN SPF30 50ML - Sun prote...</td>\n",
       "      <td>28.95</td>\n",
       "      <td>5</td>\n",
       "      <td></td>\n",
       "      <td>Aqua/Water/Eau, Ethylhexyl Methoxycinnamate, D...</td>\n",
       "    </tr>\n",
       "    <tr>\n",
       "      <th>5012</th>\n",
       "      <td>St. Tropez</td>\n",
       "      <td>GRADUAL TAN LOTION 200ML - Self tan</td>\n",
       "      <td>20.95</td>\n",
       "      <td>4.58824</td>\n",
       "      <td></td>\n",
       "      <td>Aqua (Water/Eau), Isononyl Isononanoate, Dihyd...</td>\n",
       "    </tr>\n",
       "    <tr>\n",
       "      <th>5013</th>\n",
       "      <td>Clinique</td>\n",
       "      <td>SPF30 MINERAL SUNSCREEN FLUID FOR FACE 30ML - ...</td>\n",
       "      <td>24.50</td>\n",
       "      <td>4.2</td>\n",
       "      <td>Sensitive skin</td>\n",
       "      <td>Titanium Dioxide 3.2% , Zinc Oxide 2.0%Ingredi...</td>\n",
       "    </tr>\n",
       "    <tr>\n",
       "      <th>5014</th>\n",
       "      <td>Clinique</td>\n",
       "      <td>SPF30 ANTI-WRINKLE FACE CREAM 50ML - Sun prote...</td>\n",
       "      <td>24.50</td>\n",
       "      <td>3.88889</td>\n",
       "      <td></td>\n",
       "      <td>Water\\Aqua\\Eau, Ethylhexyl Methoxycinnamate, C...</td>\n",
       "    </tr>\n",
       "    <tr>\n",
       "      <th>5015</th>\n",
       "      <td>Clinique</td>\n",
       "      <td>FACE BRONZING GEL TINT 50ML - Self tan</td>\n",
       "      <td>23.95</td>\n",
       "      <td>4</td>\n",
       "      <td></td>\n",
       "      <td>Water\\Aqua\\Eau , Butylene Glycol , Tromethamin...</td>\n",
       "    </tr>\n",
       "    <tr>\n",
       "      <th>5016</th>\n",
       "      <td>Mimitika</td>\n",
       "      <td>SPF 30 SUNSCREEN BODY SPRAY 200ML - Sun protec...</td>\n",
       "      <td>19.95</td>\n",
       "      <td>3.8</td>\n",
       "      <td>All skin types</td>\n",
       "      <td>Aqua (Water) - ethylhexyl methoxycinnamate - c...</td>\n",
       "    </tr>\n",
       "    <tr>\n",
       "      <th>5017</th>\n",
       "      <td>Mimitika</td>\n",
       "      <td>SPF 50 SUNSCREEN BODY SPRAY 200ML - Sun protec...</td>\n",
       "      <td>19.95</td>\n",
       "      <td>4.28571</td>\n",
       "      <td>All skin types</td>\n",
       "      <td>Aqua (Water) – ethylhexyl methoxycinnamate – e...</td>\n",
       "    </tr>\n",
       "    <tr>\n",
       "      <th>5018</th>\n",
       "      <td>St. Tropez</td>\n",
       "      <td>SELF TAN DARK MOUSSE 200ML - Self tan</td>\n",
       "      <td>42.95</td>\n",
       "      <td>3.71429</td>\n",
       "      <td></td>\n",
       "      <td>Dimethyl Ether, Aqua (Water/Eau), Alcohol Dena...</td>\n",
       "    </tr>\n",
       "    <tr>\n",
       "      <th>5019</th>\n",
       "      <td>St. Tropez</td>\n",
       "      <td>SELF TAN PURITY WATER MOUSSE 200ML - Self tan</td>\n",
       "      <td>44.95</td>\n",
       "      <td>4.83333</td>\n",
       "      <td></td>\n",
       "      <td>Aqua (Water/Eau), PEG-40 Hydrogenated Castor O...</td>\n",
       "    </tr>\n",
       "    <tr>\n",
       "      <th>5020</th>\n",
       "      <td>St. Tropez</td>\n",
       "      <td>SELF TAN EXTRA DARK MOUSSE 200ML - Self tan</td>\n",
       "      <td>44.95</td>\n",
       "      <td>3.66667</td>\n",
       "      <td></td>\n",
       "      <td>Dimethyl Ether, Aqua (Water/Eau), Alcohol Dena...</td>\n",
       "    </tr>\n",
       "    <tr>\n",
       "      <th>5021</th>\n",
       "      <td>St. Tropez</td>\n",
       "      <td>SELF TAN EXPRESSS MIST 200ML - Self tan</td>\n",
       "      <td>33.95</td>\n",
       "      <td>5</td>\n",
       "      <td></td>\n",
       "      <td>Aqua (Water), Dihydroxyacetone, Pentylene Glyc...</td>\n",
       "    </tr>\n",
       "    <tr>\n",
       "      <th>5022</th>\n",
       "      <td>St. Tropez</td>\n",
       "      <td>TAN REMOVER MOUSSE 200ML - Self tan</td>\n",
       "      <td>18.95</td>\n",
       "      <td>2</td>\n",
       "      <td>All skin types</td>\n",
       "      <td>Aqua (Water/Eau), Sodium Bicarbonate, Citric A...</td>\n",
       "    </tr>\n",
       "    <tr>\n",
       "      <th>5023</th>\n",
       "      <td>Ouai</td>\n",
       "      <td>AFTER SUN BODY SOOTHER - Aftersun</td>\n",
       "      <td>27.95</td>\n",
       "      <td>5</td>\n",
       "      <td>All skin types</td>\n",
       "      <td>Butane, Aqua (Water, Eau), Alcohol Denat., Iso...</td>\n",
       "    </tr>\n",
       "    <tr>\n",
       "      <th>5024</th>\n",
       "      <td>Korres</td>\n",
       "      <td>WALNUT &amp; COCONUT FACE &amp; BODY OIL SPF10 150ML -...</td>\n",
       "      <td>19.95</td>\n",
       "      <td>3</td>\n",
       "      <td></td>\n",
       "      <td>C12-15 Alkyl Benzoate, Sesamum Indicum (Sesame...</td>\n",
       "    </tr>\n",
       "    <tr>\n",
       "      <th>5025</th>\n",
       "      <td>Vita Liberata</td>\n",
       "      <td>INVISI MOUSSE 200ML - Self tan</td>\n",
       "      <td>29.95</td>\n",
       "      <td>4.75</td>\n",
       "      <td>All skin types</td>\n",
       "      <td>Aloe Barbadensis Leaf Juice *, Dihydroxyaceton...</td>\n",
       "    </tr>\n",
       "    <tr>\n",
       "      <th>5026</th>\n",
       "      <td>Clinique</td>\n",
       "      <td>SPF30 VIRTU-OIL BODY MIST 144ML - Sun protection</td>\n",
       "      <td>28.95</td>\n",
       "      <td>5</td>\n",
       "      <td>All skin types</td>\n",
       "      <td>Avobenzone 3.0% , Homosalate 10.0% , Octisalat...</td>\n",
       "    </tr>\n",
       "    <tr>\n",
       "      <th>5027</th>\n",
       "      <td>St. Tropez</td>\n",
       "      <td>GRADUAL TAN SCULPT &amp; GLOW LOTION 200ML - Self tan</td>\n",
       "      <td>25.95</td>\n",
       "      <td>3.66667</td>\n",
       "      <td></td>\n",
       "      <td>Aqua (Water), Cyclopentasiloxane, Dimethicone,...</td>\n",
       "    </tr>\n",
       "    <tr>\n",
       "      <th>5028</th>\n",
       "      <td>St. Tropez</td>\n",
       "      <td>GRADUAL TAN LUMINOUS VEIL FACE 50ML - Self tan</td>\n",
       "      <td>25.95</td>\n",
       "      <td>2.5</td>\n",
       "      <td></td>\n",
       "      <td>Aqua (Water/Eau), Glycerin, C12-15 Alkyl Benzo...</td>\n",
       "    </tr>\n",
       "    <tr>\n",
       "      <th>5029</th>\n",
       "      <td>Pixi</td>\n",
       "      <td>GLOW TONIC 250ML - Toner</td>\n",
       "      <td>23.95</td>\n",
       "      <td>4.7438</td>\n",
       "      <td>All skin types</td>\n",
       "      <td>Aqua, Aloe Barbadensis Leaf Juice, Hamamelis V...</td>\n",
       "    </tr>\n",
       "  </tbody>\n",
       "</table>\n",
       "<p>5030 rows × 6 columns</p>\n",
       "</div>"
      ],
      "text/plain": [
       "                        brand  \\\n",
       "0                     Darphin   \n",
       "1     Nyx Professional Makeup   \n",
       "2     Nyx Professional Makeup   \n",
       "3                         MAC   \n",
       "4                         MAC   \n",
       "5                         MAC   \n",
       "6                         MAC   \n",
       "7                         MAC   \n",
       "8                         MAC   \n",
       "9                    the Balm   \n",
       "10    Nyx Professional Makeup   \n",
       "11    Nyx Professional Makeup   \n",
       "12    Nyx Professional Makeup   \n",
       "13        Maybelline New York   \n",
       "14                        MAC   \n",
       "15    Nyx Professional Makeup   \n",
       "16    Nyx Professional Makeup   \n",
       "17    Nyx Professional Makeup   \n",
       "18                        MAC   \n",
       "19    Nyx Professional Makeup   \n",
       "20                   Smashbox   \n",
       "21                        MAC   \n",
       "22        Maybelline New York   \n",
       "23                        MAC   \n",
       "24        Maybelline New York   \n",
       "25        Maybelline New York   \n",
       "26    Nyx Professional Makeup   \n",
       "27              L'Oréal Paris   \n",
       "28    Nyx Professional Makeup   \n",
       "29        Maybelline New York   \n",
       "...                       ...   \n",
       "5000               St. Tropez   \n",
       "5001       Institut Esthederm   \n",
       "5002            Vita Liberata   \n",
       "5003       Institut Esthederm   \n",
       "5004       Institut Esthederm   \n",
       "5005       Institut Esthederm   \n",
       "5006             Skin Stories   \n",
       "5007       Institut Esthederm   \n",
       "5008       Institut Esthederm   \n",
       "5009                   ELEMIS   \n",
       "5010            Vita Liberata   \n",
       "5011                   Korres   \n",
       "5012               St. Tropez   \n",
       "5013                 Clinique   \n",
       "5014                 Clinique   \n",
       "5015                 Clinique   \n",
       "5016                 Mimitika   \n",
       "5017                 Mimitika   \n",
       "5018               St. Tropez   \n",
       "5019               St. Tropez   \n",
       "5020               St. Tropez   \n",
       "5021               St. Tropez   \n",
       "5022               St. Tropez   \n",
       "5023                     Ouai   \n",
       "5024                   Korres   \n",
       "5025            Vita Liberata   \n",
       "5026                 Clinique   \n",
       "5027               St. Tropez   \n",
       "5028               St. Tropez   \n",
       "5029                     Pixi   \n",
       "\n",
       "                                                   name  price   rating  \\\n",
       "0           MELAPERFECT FOUNDATION NEUTRAL - Foundation  39.95        4   \n",
       "1              HD PHOTOGENIC CONCEALER WAND - Concealer   6.95  4.14365   \n",
       "2     BARE WITH ME TINTED SKIN VEIL - Setting spray ...   9.95     4.56   \n",
       "3     PREP + PRIME FIX + MATTIFYING MIST 100ML - Primer  22.50  4.32759   \n",
       "4        STUDIO FIX FLUID SPF15 FOUNDATION - Foundation  33.95  4.48535   \n",
       "5                      PREP + PRIME FIX +100ML - Primer  22.50  4.74413   \n",
       "6                    PRO LONGWEAR CONCEALER - Concealer  23.50  4.47087   \n",
       "7                   MINERALIZE SKINFINISH - Highlighter  34.95  4.66187   \n",
       "8     MINI PREP + PRIME FIX +LITTLE M.A.C 30ML - Set...  10.95  4.52717   \n",
       "9                             LOU-MANIZER - Highlighter  22.95  4.66368   \n",
       "10                                   STICK - Contouring  11.95  4.25556   \n",
       "11               SETTING SPRAY - Setting spray & powder   7.95  4.38182   \n",
       "12       HIGHLIGHT & CONTOUR PRO PALETTE - Face palette  20.95  4.70423   \n",
       "13                        INSTANT CONCEALER - Concealer   9.95  4.47791   \n",
       "14                PREP + PRIME LIP PRIMER 1.7G - Primer  19.50  4.71795   \n",
       "15                         MATTE BODY BRONZER - Bronzer   8.95  4.15504   \n",
       "16                      HYDRA TOUCH OIL PRIMER - Primer  13.95     4.45   \n",
       "17     SWEET CHEEKS CREAMY POWDER BLUSH MATTE - Blusher   7.95  4.34483   \n",
       "18                     PREP + PRIME FIX +100ML - Primer  22.50  4.74413   \n",
       "19                       STUDIO PERFECT PRIMER - Primer  11.95  4.35714   \n",
       "20    THE ORIGINAL PHOTO FINISH SMOOTH & BLUR PRIMER...  14.95  4.57143   \n",
       "21       STUDIO FIX FLUID SPF15 FOUNDATION - Foundation  32.95  4.48535   \n",
       "22                        INSTANT CONCEALER - Concealer   9.95  4.47791   \n",
       "23               MINERALIZE SKINFINISH NATURAL - Powder  34.95  4.71818   \n",
       "24                    MASTER FIX BAKING POWDER - Powder   7.95  4.08621   \n",
       "25                         FIT ME CONCEALER - Concealer   6.95  4.11719   \n",
       "26                                 PORE FILLER - Primer  12.95  4.20513   \n",
       "27    SHAKE & GLOW GESICHTSSPRAY - Setting spray & p...  11.95  4.40426   \n",
       "28         BARE WITH ME HYDRATING JELLY PRIMER - Primer  15.95     4.25   \n",
       "29                         FIT ME CONCEALER - Concealer   6.95  4.11719   \n",
       "...                                                 ...    ...      ...   \n",
       "5000     GRADUAL TAN LUMINOUS VEIL FACE 50ML - Self tan  25.95      2.5   \n",
       "5001  INSTITUT ESTHEDERM ADAPTASUN SENSITIVE SKIN PR...  46.17            \n",
       "5002             PHENOMENAL TAN LOTION 150ML - Self tan  37.95      2.5   \n",
       "5003                                     Sun protection  50.73            \n",
       "5004  INSTITUT ESTHEDERM ADAPTASUN PROTECTIVE SILKY ...  44.46            \n",
       "5005  INSTITUT ESTHEDERM ADAPTASUN PROTECTIVE TANNIN...  46.74            \n",
       "5006  SKIN STORIES COLOR PROTECT SUN STICK - Sun pro...  14.95            \n",
       "5007                                           Self tan  63.84            \n",
       "5008                                     Sun protection  63.84            \n",
       "5009                  ELEMIS TAN ACCELERATOR - Self tan  30.78            \n",
       "5010  ORGANIC BOTANICAL TAN INFUSED CLOTHS 4 PACK - ...   9.95        5   \n",
       "5011  REDGRAPE FACE SUNSCREEN SPF30 50ML - Sun prote...  28.95        5   \n",
       "5012                GRADUAL TAN LOTION 200ML - Self tan  20.95  4.58824   \n",
       "5013  SPF30 MINERAL SUNSCREEN FLUID FOR FACE 30ML - ...  24.50      4.2   \n",
       "5014  SPF30 ANTI-WRINKLE FACE CREAM 50ML - Sun prote...  24.50  3.88889   \n",
       "5015             FACE BRONZING GEL TINT 50ML - Self tan  23.95        4   \n",
       "5016  SPF 30 SUNSCREEN BODY SPRAY 200ML - Sun protec...  19.95      3.8   \n",
       "5017  SPF 50 SUNSCREEN BODY SPRAY 200ML - Sun protec...  19.95  4.28571   \n",
       "5018              SELF TAN DARK MOUSSE 200ML - Self tan  42.95  3.71429   \n",
       "5019      SELF TAN PURITY WATER MOUSSE 200ML - Self tan  44.95  4.83333   \n",
       "5020        SELF TAN EXTRA DARK MOUSSE 200ML - Self tan  44.95  3.66667   \n",
       "5021            SELF TAN EXPRESSS MIST 200ML - Self tan  33.95        5   \n",
       "5022                TAN REMOVER MOUSSE 200ML - Self tan  18.95        2   \n",
       "5023                  AFTER SUN BODY SOOTHER - Aftersun  27.95        5   \n",
       "5024  WALNUT & COCONUT FACE & BODY OIL SPF10 150ML -...  19.95        3   \n",
       "5025                     INVISI MOUSSE 200ML - Self tan  29.95     4.75   \n",
       "5026   SPF30 VIRTU-OIL BODY MIST 144ML - Sun protection  28.95        5   \n",
       "5027  GRADUAL TAN SCULPT & GLOW LOTION 200ML - Self tan  25.95  3.66667   \n",
       "5028     GRADUAL TAN LUMINOUS VEIL FACE 50ML - Self tan  25.95      2.5   \n",
       "5029                           GLOW TONIC 250ML - Toner  23.95   4.7438   \n",
       "\n",
       "           skin_type                                        ingredients  \n",
       "0                     Water\\aqua\\eau, methyl, trimethicone, phenyl t...  \n",
       "1                     AQUA / WATER, TRIMETHYLSILOXYPHENYL DIMETHICON...  \n",
       "2                     Aqua/Water/Eau, Glycerin, Alcohol Denat., Aloe...  \n",
       "3                     Water\\Aqua\\Eau , Alcohol Denat. , Silica , Sod...  \n",
       "4                     Octinoxate 2.50%, Titanium Dioxide 1.00%Water\\...  \n",
       "5                     Water\\Aqua\\Eau, Glycerin, Butylene Glycol, Cuc...  \n",
       "6                     Cyclopentasiloxane, Water\\Aqua\\Eau, Trimethyls...  \n",
       "7                     Mica, Talc, Nylon-12, Dimethicone, Isopropyl P...  \n",
       "8                     Water\\Aqua\\Eau, Glycerin, Butylene Glycol, Cuc...  \n",
       "9     All skin types  MICA, ISOEICOSANE, POLYETHYLENE, BORON NITRIDE...  \n",
       "10                    PARAFFINUM LIQUIDUM / MINERAL OIL, CETEARYL ET...  \n",
       "11                    AQUA / WATER, ALCOHOL DENAT., PROPYLENE GLYCOL...  \n",
       "12                    TALC, POLYMETHYL METHACRYLATE, BORON NITRIDE, ...  \n",
       "13    All skin types  AQUA/WATER, CYCLOPENTASILOXANE, DIMETHICONE, I...  \n",
       "14                    Cyclopentasiloxane, Paraffin, Polybutene, Ozok...  \n",
       "15                    TALC, MAGNESIUM STEARATE, DIMETHICONE, ISOPROP...  \n",
       "16                    PRUNUS AMYGDALUS DULCIS OIL / SWEET ALMOND OIL...  \n",
       "17                    TALC, NYLON-12, ETHYLHEXYL PALMITATE, TRIMETHY...  \n",
       "18                    Water\\Aqua\\Eau, Glycerin, Butylene Glycol, Cuc...  \n",
       "19                    CYCLOPENTASILOXANE • DIMETHICONE CROSSPOLYMER ...  \n",
       "20                    Formel ohne Parabene, Sodium Lauryl Sulfate, P...  \n",
       "21                    Octinoxate 2.50%, Titanium Dioxide 1.00%Water\\...  \n",
       "22                    AQUA / WATER, CYCLOPENTASILOXANE, DIMETHICONE,...  \n",
       "23                    Talc, Mica, Dimethicone, Isopropyl Palmitate, ...  \n",
       "24                    TALC  | SILICA  | DIMETHICONE  | [+/- MAY CONT...  \n",
       "25                    D43567/4: AQUA / WATER, CYCLOPENTASILOXANE, HY...  \n",
       "26                    DIMETHICONE, CYCLOPENTASILOXANE, DIMETHICONE C...  \n",
       "27                    AQUA / WATER • CAPRYLIC/CAPRIC TRIGLYCERIDE • ...  \n",
       "28                    Water/Aqua/Eau, Glycerin, Butylene Glycol, Peg...  \n",
       "29                    D43567/4: AQUA / WATER, CYCLOPENTASILOXANE, HY...  \n",
       "...              ...                                                ...  \n",
       "5000                  Aqua (Water/Eau), Glycerin, C12-15 Alkyl Benzo...  \n",
       "5001  Sensitive skin  Aqua/Water/Eau*, Ethylhexyl Methoxycinnamate, ...  \n",
       "5002  All skin types  Aloe Barbadensis (Aloe Vera) Leaf Water*, Dihy...  \n",
       "5003     Normal skin  Aqua/Water/Eau*, Ethylhexyl Methoxycinnamate, ...  \n",
       "5004     Normal skin  Butan, Dibutyl, Adipate, Coco-Caprylate/Caprat...  \n",
       "5005     Normal skin  Aqua/water/eau*, Ethylhexyl Methoxycinnamate, ...  \n",
       "5006  All skin types  C12-15 Alkyl Benzoate, Homosalate, Cera Alba, ...  \n",
       "5007  All skin types  Aqua/Water/Eau*, Dicaprylyl Carbonate, Ethylex...  \n",
       "5008                  Aqua/Water/Eau*, Dicaprylyl Carbonate, Ethylex...  \n",
       "5009     Normal skin  Aqua/Water/Eau, Glyceryl Stearate, Propylene G...  \n",
       "5010  All skin types  Aloe barbadensis (Aloe Vera) Leaf Water*, Dihy...  \n",
       "5011                  Aqua/Water/Eau, Ethylhexyl Methoxycinnamate, D...  \n",
       "5012                  Aqua (Water/Eau), Isononyl Isononanoate, Dihyd...  \n",
       "5013  Sensitive skin  Titanium Dioxide 3.2% , Zinc Oxide 2.0%Ingredi...  \n",
       "5014                  Water\\Aqua\\Eau, Ethylhexyl Methoxycinnamate, C...  \n",
       "5015                  Water\\Aqua\\Eau , Butylene Glycol , Tromethamin...  \n",
       "5016  All skin types  Aqua (Water) - ethylhexyl methoxycinnamate - c...  \n",
       "5017  All skin types  Aqua (Water) – ethylhexyl methoxycinnamate – e...  \n",
       "5018                  Dimethyl Ether, Aqua (Water/Eau), Alcohol Dena...  \n",
       "5019                  Aqua (Water/Eau), PEG-40 Hydrogenated Castor O...  \n",
       "5020                  Dimethyl Ether, Aqua (Water/Eau), Alcohol Dena...  \n",
       "5021                  Aqua (Water), Dihydroxyacetone, Pentylene Glyc...  \n",
       "5022  All skin types  Aqua (Water/Eau), Sodium Bicarbonate, Citric A...  \n",
       "5023  All skin types  Butane, Aqua (Water, Eau), Alcohol Denat., Iso...  \n",
       "5024                  C12-15 Alkyl Benzoate, Sesamum Indicum (Sesame...  \n",
       "5025  All skin types  Aloe Barbadensis Leaf Juice *, Dihydroxyaceton...  \n",
       "5026  All skin types  Avobenzone 3.0% , Homosalate 10.0% , Octisalat...  \n",
       "5027                  Aqua (Water), Cyclopentasiloxane, Dimethicone,...  \n",
       "5028                  Aqua (Water/Eau), Glycerin, C12-15 Alkyl Benzo...  \n",
       "5029  All skin types  Aqua, Aloe Barbadensis Leaf Juice, Hamamelis V...  \n",
       "\n",
       "[5030 rows x 6 columns]"
      ]
     },
     "execution_count": 72,
     "metadata": {},
     "output_type": "execute_result"
    }
   ],
   "source": [
    "df1"
   ]
  },
  {
   "cell_type": "code",
   "execution_count": 67,
   "metadata": {},
   "outputs": [],
   "source": [
    "# %%time\n",
    "# for product_link in links:\n",
    "#     data_row = get_product_data(product_link)\n",
    "#     df1 = df1.append(data_row, ignore_index=True)"
   ]
  },
  {
   "cell_type": "code",
   "execution_count": 68,
   "metadata": {},
   "outputs": [],
   "source": [
    "#df1"
   ]
  },
  {
   "cell_type": "code",
   "execution_count": 69,
   "metadata": {},
   "outputs": [
    {
     "name": "stdout",
     "output_type": "stream",
     "text": [
      "(320, 8)\n",
      "(352, 8)\n",
      "(384, 8)\n",
      "(416, 8)\n",
      "(448, 8)\n",
      "(480, 8)\n",
      "(512, 8)\n",
      "(544, 8)\n",
      "(576, 8)\n",
      "(608, 8)\n",
      "(640, 8)\n",
      "(672, 8)\n",
      "(704, 8)\n",
      "(736, 8)\n",
      "(768, 8)\n",
      "(800, 8)\n",
      "(832, 8)\n",
      "(864, 8)\n",
      "(896, 8)\n",
      "(928, 8)\n",
      "(960, 8)\n",
      "(992, 8)\n",
      "(1024, 8)\n",
      "(1056, 8)\n",
      "(1088, 8)\n",
      "(1120, 8)\n",
      "(1152, 8)\n",
      "(1184, 8)\n",
      "(1216, 8)\n",
      "(1248, 8)\n",
      "(1280, 8)\n",
      "(1312, 8)\n",
      "(1344, 8)\n",
      "(1376, 8)\n",
      "(1408, 8)\n",
      "(1440, 8)\n",
      "(1472, 8)\n",
      "(1504, 8)\n",
      "(1536, 8)\n",
      "(1568, 8)\n",
      "(1600, 8)\n",
      "(1632, 8)\n",
      "(1664, 8)\n",
      "(1696, 8)\n",
      "(1728, 8)\n",
      "(1760, 8)\n",
      "(1792, 8)\n",
      "(1824, 8)\n",
      "(1856, 8)\n",
      "(1888, 8)\n",
      "(2208, 8)\n",
      "(2240, 8)\n",
      "(2272, 8)\n",
      "(2304, 8)\n",
      "(2336, 8)\n",
      "(2368, 8)\n",
      "(2400, 8)\n",
      "(2432, 8)\n",
      "(2464, 8)\n",
      "(2496, 8)\n",
      "(2528, 8)\n",
      "(2560, 8)\n",
      "(2592, 8)\n",
      "(2595, 8)\n",
      "(2627, 8)\n",
      "(2635, 8)\n",
      "(2654, 8)\n",
      "(2670, 8)\n",
      "(2689, 8)\n",
      "(2708, 8)\n",
      "(2726, 8)\n",
      "(2744, 8)\n",
      "(2761, 8)\n",
      "(2780, 8)\n",
      "(2799, 8)\n",
      "(2818, 8)\n",
      "(2839, 8)\n",
      "(2859, 8)\n",
      "(2880, 8)\n",
      "(2906, 8)\n",
      "(2931, 8)\n",
      "(2957, 8)\n",
      "(2981, 8)\n",
      "(3008, 8)\n",
      "(3036, 8)\n",
      "(3065, 8)\n",
      "(3094, 8)\n",
      "(3123, 8)\n",
      "(3152, 8)\n",
      "(3184, 8)\n",
      "(3216, 8)\n",
      "(3248, 8)\n",
      "(3280, 8)\n",
      "(3312, 8)\n",
      "(3344, 8)\n",
      "(3376, 8)\n",
      "(3408, 8)\n",
      "(3440, 8)\n",
      "(3472, 8)\n",
      "(3504, 8)\n",
      "(3824, 8)\n",
      "(3856, 8)\n",
      "(3888, 8)\n",
      "(3920, 8)\n",
      "(3952, 8)\n",
      "(3984, 8)\n",
      "(4016, 8)\n",
      "(4048, 8)\n",
      "(4080, 8)\n",
      "(4112, 8)\n",
      "(4144, 8)\n",
      "(4176, 8)\n",
      "(4208, 8)\n",
      "(4240, 8)\n",
      "(4272, 8)\n",
      "(4304, 8)\n",
      "(4336, 8)\n",
      "(4368, 8)\n",
      "(4400, 8)\n",
      "(4432, 8)\n",
      "(4464, 8)\n",
      "(4496, 8)\n",
      "(4528, 8)\n",
      "(4560, 8)\n",
      "(4592, 8)\n",
      "(4624, 8)\n",
      "(4656, 8)\n",
      "(4688, 8)\n",
      "(4720, 8)\n",
      "(4752, 8)\n",
      "(4784, 8)\n",
      "(4816, 8)\n",
      "(4848, 8)\n",
      "(4880, 8)\n",
      "(4912, 8)\n",
      "(4944, 8)\n",
      "(4976, 8)\n",
      "(5008, 8)\n",
      "(5040, 8)\n",
      "(5072, 8)\n",
      "(5104, 8)\n",
      "(5136, 8)\n",
      "(5168, 8)\n",
      "(5200, 8)\n",
      "(5232, 8)\n",
      "(5264, 8)\n",
      "(5296, 8)\n",
      "(5328, 8)\n",
      "(5360, 8)\n",
      "(5392, 8)\n"
     ]
    }
   ],
   "source": [
    "df1 = pd.DataFrame(columns=['brand', 'name', 'price', 'rating','skin_type','ingredients'])\n",
    "categories = ['beauty-complexion', 'beauty-skincare-face','beauty-sun-protection']\n",
    "df2 = pd.DataFrame(columns=['category','url'])\n",
    "\n",
    "for category in categories:\n",
    "    for page_number in range(1, 60):\n",
    "        product_links = get_page_links(category, page_number) \n",
    "        for link in product_links:\n",
    "            data_row = {'category': category, 'url': link}\n",
    "            df2 = df2.append(data_row, ignore_index=True)\n",
    "            for i in range(5):\n",
    "                try:\n",
    "                    # пытаемся собрать немного даты\n",
    "                    data_row = get_product_data(link)           \n",
    "                    df1 = df1.append(data_row, ignore_index=True) \n",
    "                    time.sleep(0.5)\n",
    "                    break\n",
    "                except:\n",
    "                    continue\n",
    "\n",
    "        final_df = pd.concat([df2, df1], axis=1)\n",
    "        if page_number//10:\n",
    "            print(final_df.shape)\n",
    "        \n",
    "    final_df.to_csv('data/cosmetics_{}.csv'.format(category))\n",
    "            \n",
    "final_df.to_csv('data/cosmetics.csv')"
   ]
  }
 ],
 "metadata": {
  "kernelspec": {
   "display_name": "py35",
   "language": "python",
   "name": "py35"
  },
  "language_info": {
   "codemirror_mode": {
    "name": "ipython",
    "version": 3
   },
   "file_extension": ".py",
   "mimetype": "text/x-python",
   "name": "python",
   "nbconvert_exporter": "python",
   "pygments_lexer": "ipython3",
   "version": "3.6.4"
  }
 },
 "nbformat": 4,
 "nbformat_minor": 4
}
